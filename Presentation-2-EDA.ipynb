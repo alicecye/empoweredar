{
 "cells": [
  {
   "cell_type": "code",
   "execution_count": 63,
   "id": "ce8caac5",
   "metadata": {},
   "outputs": [],
   "source": [
    "import pandas as pd\n",
    "import numpy as np\n",
    "import seaborn as sns"
   ]
  },
  {
   "cell_type": "code",
   "execution_count": 3,
   "id": "57c96a33",
   "metadata": {},
   "outputs": [],
   "source": [
    "#load datasets\n",
    "am = pd.read_csv('artist_metadata_dataset.tsv', sep='\\t') #artist metadata\n",
    "ac = pd.read_csv('artist_catalog_dataset.tsv', sep='\\t') #artist catalog\n",
    "tt = pd.read_csv('top_tracks_per_artist_dataset.tsv', sep='\\t') #top tracks\n",
    "sa = pd.read_csv('similar_artists_dataset.tsv', sep='\\t') #similar artists"
   ]
  },
  {
   "cell_type": "code",
   "execution_count": 4,
   "id": "88875828",
   "metadata": {},
   "outputs": [
    {
     "name": "stdout",
     "output_type": "stream",
     "text": [
      "unique artists in artist metadata:  2597\n",
      "unique artists in catalog dataset:  2597\n",
      "unique artists in top tracks dataset:  2597\n",
      "unique artists in similar artists dataset: 2597\n"
     ]
    }
   ],
   "source": [
    "print('unique artists in artist metadata: ', am.artist_uri.nunique())\n",
    "print('unique artists in catalog dataset: ', ac.artist_uri.nunique())\n",
    "print('unique artists in top tracks dataset: ', tt.artist_uri.nunique())\n",
    "print('unique artists in similar artists dataset:', sa.artist_uri.nunique())"
   ]
  },
  {
   "cell_type": "code",
   "execution_count": 5,
   "id": "ffe9f345",
   "metadata": {},
   "outputs": [],
   "source": [
    "v50 = pd.read_csv('viral50_dataset_artist_metadata.csv')"
   ]
  },
  {
   "cell_type": "code",
   "execution_count": 6,
   "id": "fb03c06f",
   "metadata": {},
   "outputs": [
    {
     "name": "stdout",
     "output_type": "stream",
     "text": [
      "unique artists in viral 50 US dataset:  3583\n"
     ]
    }
   ],
   "source": [
    "print('unique artists in viral 50 US dataset: ',v50.artist_uri.nunique())"
   ]
  },
  {
   "cell_type": "code",
   "execution_count": 7,
   "id": "85b308c0",
   "metadata": {},
   "outputs": [
    {
     "data": {
      "text/html": [
       "<div>\n",
       "<style scoped>\n",
       "    .dataframe tbody tr th:only-of-type {\n",
       "        vertical-align: middle;\n",
       "    }\n",
       "\n",
       "    .dataframe tbody tr th {\n",
       "        vertical-align: top;\n",
       "    }\n",
       "\n",
       "    .dataframe thead th {\n",
       "        text-align: right;\n",
       "    }\n",
       "</style>\n",
       "<table border=\"1\" class=\"dataframe\">\n",
       "  <thead>\n",
       "    <tr style=\"text-align: right;\">\n",
       "      <th></th>\n",
       "      <th>title</th>\n",
       "      <th>rank</th>\n",
       "      <th>date</th>\n",
       "      <th>artist</th>\n",
       "      <th>url</th>\n",
       "      <th>region</th>\n",
       "      <th>chart</th>\n",
       "      <th>trend</th>\n",
       "      <th>streams</th>\n",
       "      <th>first_artist</th>\n",
       "      <th>artist_uri</th>\n",
       "      <th>artist_url</th>\n",
       "      <th>artist_name</th>\n",
       "      <th>artist_popularity</th>\n",
       "      <th>genres</th>\n",
       "      <th>followers</th>\n",
       "      <th>avg_related_artist_pop</th>\n",
       "    </tr>\n",
       "  </thead>\n",
       "  <tbody>\n",
       "    <tr>\n",
       "      <th>0</th>\n",
       "      <td>LMK</td>\n",
       "      <td>32</td>\n",
       "      <td>2017-08-09</td>\n",
       "      <td>Kelela</td>\n",
       "      <td>https://open.spotify.com/track/6XgtAeRYmbr4OfE...</td>\n",
       "      <td>United States</td>\n",
       "      <td>viral50</td>\n",
       "      <td>NEW_ENTRY</td>\n",
       "      <td>NaN</td>\n",
       "      <td>Kelela</td>\n",
       "      <td>spotify:artist:1U0sIzpRtDkvu1hXXzxh60</td>\n",
       "      <td>https://open.spotify.com/artist/1U0sIzpRtDkvu1...</td>\n",
       "      <td>Kelela</td>\n",
       "      <td>46</td>\n",
       "      <td>['afrofuturism', 'alternative r&amp;b', 'art pop',...</td>\n",
       "      <td>271963</td>\n",
       "      <td>49.1</td>\n",
       "    </tr>\n",
       "    <tr>\n",
       "      <th>1</th>\n",
       "      <td>Turn Up On the Weekend</td>\n",
       "      <td>1</td>\n",
       "      <td>2017-08-01</td>\n",
       "      <td>Branchez, Big Wet</td>\n",
       "      <td>https://open.spotify.com/track/2AEzMPR01sg1wsX...</td>\n",
       "      <td>United States</td>\n",
       "      <td>viral50</td>\n",
       "      <td>SAME_POSITION</td>\n",
       "      <td>NaN</td>\n",
       "      <td>Branchez</td>\n",
       "      <td>spotify:artist:4T5kpUiQUVJhuf9YT28qlf</td>\n",
       "      <td>https://open.spotify.com/artist/4T5kpUiQUVJhuf...</td>\n",
       "      <td>Branchez</td>\n",
       "      <td>46</td>\n",
       "      <td>['electronic trap']</td>\n",
       "      <td>15519</td>\n",
       "      <td>53.85</td>\n",
       "    </tr>\n",
       "    <tr>\n",
       "      <th>2</th>\n",
       "      <td>Would You Ever</td>\n",
       "      <td>2</td>\n",
       "      <td>2017-08-01</td>\n",
       "      <td>Skrillex, Poo Bear</td>\n",
       "      <td>https://open.spotify.com/track/57p8CBvPOxrvyCb...</td>\n",
       "      <td>United States</td>\n",
       "      <td>viral50</td>\n",
       "      <td>SAME_POSITION</td>\n",
       "      <td>NaN</td>\n",
       "      <td>Skrillex</td>\n",
       "      <td>spotify:artist:5he5w2lnU9x7JFhnwcekXX</td>\n",
       "      <td>https://open.spotify.com/artist/5he5w2lnU9x7JF...</td>\n",
       "      <td>Skrillex</td>\n",
       "      <td>74</td>\n",
       "      <td>['brostep', 'complextro', 'edm', 'electro']</td>\n",
       "      <td>8014229</td>\n",
       "      <td>52.3</td>\n",
       "    </tr>\n",
       "    <tr>\n",
       "      <th>3</th>\n",
       "      <td>Marmalade (feat. Lil Yachty)</td>\n",
       "      <td>3</td>\n",
       "      <td>2017-08-01</td>\n",
       "      <td>Macklemore</td>\n",
       "      <td>https://open.spotify.com/track/0RYXEibxMami3Qu...</td>\n",
       "      <td>United States</td>\n",
       "      <td>viral50</td>\n",
       "      <td>MOVE_UP</td>\n",
       "      <td>NaN</td>\n",
       "      <td>Macklemore</td>\n",
       "      <td>spotify:artist:3JhNCzhSMTxs9WLGJJxWOY</td>\n",
       "      <td>https://open.spotify.com/artist/3JhNCzhSMTxs9W...</td>\n",
       "      <td>Macklemore</td>\n",
       "      <td>75</td>\n",
       "      <td>['pop rap', 'seattle hip hop']</td>\n",
       "      <td>1873212</td>\n",
       "      <td>53.2</td>\n",
       "    </tr>\n",
       "    <tr>\n",
       "      <th>4</th>\n",
       "      <td>Boys</td>\n",
       "      <td>4</td>\n",
       "      <td>2017-08-01</td>\n",
       "      <td>Charli XCX</td>\n",
       "      <td>https://open.spotify.com/track/5o4yGlG0PfeVUa6...</td>\n",
       "      <td>United States</td>\n",
       "      <td>viral50</td>\n",
       "      <td>MOVE_UP</td>\n",
       "      <td>NaN</td>\n",
       "      <td>Charli XCX</td>\n",
       "      <td>spotify:artist:25uiPmTg16RbhZWAqwLBy5</td>\n",
       "      <td>https://open.spotify.com/artist/25uiPmTg16RbhZ...</td>\n",
       "      <td>Charli XCX</td>\n",
       "      <td>76</td>\n",
       "      <td>['art pop', 'candy pop', 'dance pop', 'electro...</td>\n",
       "      <td>2638291</td>\n",
       "      <td>55.65</td>\n",
       "    </tr>\n",
       "    <tr>\n",
       "      <th>...</th>\n",
       "      <td>...</td>\n",
       "      <td>...</td>\n",
       "      <td>...</td>\n",
       "      <td>...</td>\n",
       "      <td>...</td>\n",
       "      <td>...</td>\n",
       "      <td>...</td>\n",
       "      <td>...</td>\n",
       "      <td>...</td>\n",
       "      <td>...</td>\n",
       "      <td>...</td>\n",
       "      <td>...</td>\n",
       "      <td>...</td>\n",
       "      <td>...</td>\n",
       "      <td>...</td>\n",
       "      <td>...</td>\n",
       "      <td>...</td>\n",
       "    </tr>\n",
       "    <tr>\n",
       "      <th>90868</th>\n",
       "      <td>Bad Habits</td>\n",
       "      <td>46</td>\n",
       "      <td>2021-07-31</td>\n",
       "      <td>Ed Sheeran</td>\n",
       "      <td>https://open.spotify.com/track/6PQ88X9TkUIAUIZ...</td>\n",
       "      <td>United States</td>\n",
       "      <td>viral50</td>\n",
       "      <td>SAME_POSITION</td>\n",
       "      <td>NaN</td>\n",
       "      <td>Ed Sheeran</td>\n",
       "      <td>spotify:artist:6eUKZXaKkcviH0Ku9w2n3V</td>\n",
       "      <td>https://open.spotify.com/artist/6eUKZXaKkcviH0...</td>\n",
       "      <td>Ed Sheeran</td>\n",
       "      <td>90</td>\n",
       "      <td>['pop', 'uk pop']</td>\n",
       "      <td>98709819</td>\n",
       "      <td>74.7</td>\n",
       "    </tr>\n",
       "    <tr>\n",
       "      <th>90869</th>\n",
       "      <td>Not Around</td>\n",
       "      <td>47</td>\n",
       "      <td>2021-07-31</td>\n",
       "      <td>Nova</td>\n",
       "      <td>https://open.spotify.com/track/1Adhz5VVDZxhojO...</td>\n",
       "      <td>United States</td>\n",
       "      <td>viral50</td>\n",
       "      <td>SAME_POSITION</td>\n",
       "      <td>NaN</td>\n",
       "      <td>Nova</td>\n",
       "      <td>spotify:artist:3J2OSq7G34UlfnNB6YuZCF</td>\n",
       "      <td>https://open.spotify.com/artist/3J2OSq7G34Ulfn...</td>\n",
       "      <td>Nova</td>\n",
       "      <td>58</td>\n",
       "      <td>['hyperpop']</td>\n",
       "      <td>32182</td>\n",
       "      <td>45.0</td>\n",
       "    </tr>\n",
       "    <tr>\n",
       "      <th>90870</th>\n",
       "      <td>Buy Dirt</td>\n",
       "      <td>48</td>\n",
       "      <td>2021-07-31</td>\n",
       "      <td>Jordan Davis, Luke Bryan</td>\n",
       "      <td>https://open.spotify.com/track/69AIpwGNLxr4qS1...</td>\n",
       "      <td>United States</td>\n",
       "      <td>viral50</td>\n",
       "      <td>MOVE_UP</td>\n",
       "      <td>NaN</td>\n",
       "      <td>Jordan Davis</td>\n",
       "      <td>spotify:artist:77kULmXAQ6vWer7IIHdGzI</td>\n",
       "      <td>https://open.spotify.com/artist/77kULmXAQ6vWer...</td>\n",
       "      <td>Jordan Davis</td>\n",
       "      <td>69</td>\n",
       "      <td>['contemporary country']</td>\n",
       "      <td>648620</td>\n",
       "      <td>61.7</td>\n",
       "    </tr>\n",
       "    <tr>\n",
       "      <th>90871</th>\n",
       "      <td>Mónaco</td>\n",
       "      <td>49</td>\n",
       "      <td>2021-07-31</td>\n",
       "      <td>LAGOS, Danny Ocean</td>\n",
       "      <td>https://open.spotify.com/track/3HgvO4B5LLmdPOT...</td>\n",
       "      <td>United States</td>\n",
       "      <td>viral50</td>\n",
       "      <td>NEW_ENTRY</td>\n",
       "      <td>NaN</td>\n",
       "      <td>LAGOS</td>\n",
       "      <td>spotify:artist:7uQ1D2NNHs5cUL3CLKRbia</td>\n",
       "      <td>https://open.spotify.com/artist/7uQ1D2NNHs5cUL...</td>\n",
       "      <td>LAGOS</td>\n",
       "      <td>63</td>\n",
       "      <td>['pop venezolano']</td>\n",
       "      <td>45801</td>\n",
       "      <td>51.85</td>\n",
       "    </tr>\n",
       "    <tr>\n",
       "      <th>90872</th>\n",
       "      <td>Je te laisserai des mots</td>\n",
       "      <td>50</td>\n",
       "      <td>2021-07-31</td>\n",
       "      <td>Patrick Watson</td>\n",
       "      <td>https://open.spotify.com/track/0V5cvmTKsYmF5Fm...</td>\n",
       "      <td>United States</td>\n",
       "      <td>viral50</td>\n",
       "      <td>MOVE_DOWN</td>\n",
       "      <td>NaN</td>\n",
       "      <td>Patrick Watson</td>\n",
       "      <td>spotify:artist:7bPs6jf983f0bjRAt1yxDM</td>\n",
       "      <td>https://open.spotify.com/artist/7bPs6jf983f0bj...</td>\n",
       "      <td>Patrick Watson</td>\n",
       "      <td>68</td>\n",
       "      <td>[]</td>\n",
       "      <td>466307</td>\n",
       "      <td>45.7</td>\n",
       "    </tr>\n",
       "  </tbody>\n",
       "</table>\n",
       "<p>90873 rows × 17 columns</p>\n",
       "</div>"
      ],
      "text/plain": [
       "                              title  rank        date  \\\n",
       "0                               LMK    32  2017-08-09   \n",
       "1            Turn Up On the Weekend     1  2017-08-01   \n",
       "2                    Would You Ever     2  2017-08-01   \n",
       "3      Marmalade (feat. Lil Yachty)     3  2017-08-01   \n",
       "4                              Boys     4  2017-08-01   \n",
       "...                             ...   ...         ...   \n",
       "90868                    Bad Habits    46  2021-07-31   \n",
       "90869                    Not Around    47  2021-07-31   \n",
       "90870                      Buy Dirt    48  2021-07-31   \n",
       "90871                        Mónaco    49  2021-07-31   \n",
       "90872      Je te laisserai des mots    50  2021-07-31   \n",
       "\n",
       "                         artist  \\\n",
       "0                        Kelela   \n",
       "1             Branchez, Big Wet   \n",
       "2            Skrillex, Poo Bear   \n",
       "3                    Macklemore   \n",
       "4                    Charli XCX   \n",
       "...                         ...   \n",
       "90868                Ed Sheeran   \n",
       "90869                      Nova   \n",
       "90870  Jordan Davis, Luke Bryan   \n",
       "90871        LAGOS, Danny Ocean   \n",
       "90872            Patrick Watson   \n",
       "\n",
       "                                                     url         region  \\\n",
       "0      https://open.spotify.com/track/6XgtAeRYmbr4OfE...  United States   \n",
       "1      https://open.spotify.com/track/2AEzMPR01sg1wsX...  United States   \n",
       "2      https://open.spotify.com/track/57p8CBvPOxrvyCb...  United States   \n",
       "3      https://open.spotify.com/track/0RYXEibxMami3Qu...  United States   \n",
       "4      https://open.spotify.com/track/5o4yGlG0PfeVUa6...  United States   \n",
       "...                                                  ...            ...   \n",
       "90868  https://open.spotify.com/track/6PQ88X9TkUIAUIZ...  United States   \n",
       "90869  https://open.spotify.com/track/1Adhz5VVDZxhojO...  United States   \n",
       "90870  https://open.spotify.com/track/69AIpwGNLxr4qS1...  United States   \n",
       "90871  https://open.spotify.com/track/3HgvO4B5LLmdPOT...  United States   \n",
       "90872  https://open.spotify.com/track/0V5cvmTKsYmF5Fm...  United States   \n",
       "\n",
       "         chart          trend  streams    first_artist  \\\n",
       "0      viral50      NEW_ENTRY      NaN          Kelela   \n",
       "1      viral50  SAME_POSITION      NaN        Branchez   \n",
       "2      viral50  SAME_POSITION      NaN        Skrillex   \n",
       "3      viral50        MOVE_UP      NaN      Macklemore   \n",
       "4      viral50        MOVE_UP      NaN      Charli XCX   \n",
       "...        ...            ...      ...             ...   \n",
       "90868  viral50  SAME_POSITION      NaN      Ed Sheeran   \n",
       "90869  viral50  SAME_POSITION      NaN            Nova   \n",
       "90870  viral50        MOVE_UP      NaN    Jordan Davis   \n",
       "90871  viral50      NEW_ENTRY      NaN           LAGOS   \n",
       "90872  viral50      MOVE_DOWN      NaN  Patrick Watson   \n",
       "\n",
       "                                  artist_uri  \\\n",
       "0      spotify:artist:1U0sIzpRtDkvu1hXXzxh60   \n",
       "1      spotify:artist:4T5kpUiQUVJhuf9YT28qlf   \n",
       "2      spotify:artist:5he5w2lnU9x7JFhnwcekXX   \n",
       "3      spotify:artist:3JhNCzhSMTxs9WLGJJxWOY   \n",
       "4      spotify:artist:25uiPmTg16RbhZWAqwLBy5   \n",
       "...                                      ...   \n",
       "90868  spotify:artist:6eUKZXaKkcviH0Ku9w2n3V   \n",
       "90869  spotify:artist:3J2OSq7G34UlfnNB6YuZCF   \n",
       "90870  spotify:artist:77kULmXAQ6vWer7IIHdGzI   \n",
       "90871  spotify:artist:7uQ1D2NNHs5cUL3CLKRbia   \n",
       "90872  spotify:artist:7bPs6jf983f0bjRAt1yxDM   \n",
       "\n",
       "                                              artist_url     artist_name  \\\n",
       "0      https://open.spotify.com/artist/1U0sIzpRtDkvu1...          Kelela   \n",
       "1      https://open.spotify.com/artist/4T5kpUiQUVJhuf...        Branchez   \n",
       "2      https://open.spotify.com/artist/5he5w2lnU9x7JF...        Skrillex   \n",
       "3      https://open.spotify.com/artist/3JhNCzhSMTxs9W...      Macklemore   \n",
       "4      https://open.spotify.com/artist/25uiPmTg16RbhZ...      Charli XCX   \n",
       "...                                                  ...             ...   \n",
       "90868  https://open.spotify.com/artist/6eUKZXaKkcviH0...      Ed Sheeran   \n",
       "90869  https://open.spotify.com/artist/3J2OSq7G34Ulfn...            Nova   \n",
       "90870  https://open.spotify.com/artist/77kULmXAQ6vWer...    Jordan Davis   \n",
       "90871  https://open.spotify.com/artist/7uQ1D2NNHs5cUL...           LAGOS   \n",
       "90872  https://open.spotify.com/artist/7bPs6jf983f0bj...  Patrick Watson   \n",
       "\n",
       "       artist_popularity                                             genres  \\\n",
       "0                     46  ['afrofuturism', 'alternative r&b', 'art pop',...   \n",
       "1                     46                                ['electronic trap']   \n",
       "2                     74        ['brostep', 'complextro', 'edm', 'electro']   \n",
       "3                     75                     ['pop rap', 'seattle hip hop']   \n",
       "4                     76  ['art pop', 'candy pop', 'dance pop', 'electro...   \n",
       "...                  ...                                                ...   \n",
       "90868                 90                                  ['pop', 'uk pop']   \n",
       "90869                 58                                       ['hyperpop']   \n",
       "90870                 69                           ['contemporary country']   \n",
       "90871                 63                                 ['pop venezolano']   \n",
       "90872                 68                                                 []   \n",
       "\n",
       "       followers avg_related_artist_pop  \n",
       "0         271963                   49.1  \n",
       "1          15519                  53.85  \n",
       "2        8014229                   52.3  \n",
       "3        1873212                   53.2  \n",
       "4        2638291                  55.65  \n",
       "...          ...                    ...  \n",
       "90868   98709819                   74.7  \n",
       "90869      32182                   45.0  \n",
       "90870     648620                   61.7  \n",
       "90871      45801                  51.85  \n",
       "90872     466307                   45.7  \n",
       "\n",
       "[90873 rows x 17 columns]"
      ]
     },
     "execution_count": 7,
     "metadata": {},
     "output_type": "execute_result"
    }
   ],
   "source": [
    "v50"
   ]
  },
  {
   "cell_type": "code",
   "execution_count": 8,
   "id": "a9c73f09",
   "metadata": {},
   "outputs": [
    {
     "data": {
      "text/plain": [
       "count                                                 90873\n",
       "unique                                                 7974\n",
       "top       https://open.spotify.com/track/24Yi9hE78yPEbZ4...\n",
       "freq                                                    199\n",
       "Name: url, dtype: object"
      ]
     },
     "execution_count": 8,
     "metadata": {},
     "output_type": "execute_result"
    }
   ],
   "source": [
    "v50.url.describe()"
   ]
  },
  {
   "cell_type": "code",
   "execution_count": 9,
   "id": "d1031d53",
   "metadata": {},
   "outputs": [
    {
     "data": {
      "text/plain": [
       "count                                     90873\n",
       "unique                                     3583\n",
       "top       spotify:artist:3TVXtAsR1Inumwj472S9r4\n",
       "freq                                        558\n",
       "Name: artist_uri, dtype: object"
      ]
     },
     "execution_count": 9,
     "metadata": {},
     "output_type": "execute_result"
    }
   ],
   "source": [
    "v50.artist_uri.describe()"
   ]
  },
  {
   "cell_type": "code",
   "execution_count": 10,
   "id": "d51c3ae4",
   "metadata": {},
   "outputs": [
    {
     "data": {
      "text/plain": [
       "artist_uri\n",
       "spotify:artist:3TVXtAsR1Inumwj472S9r4    63\n",
       "spotify:artist:4xRYI6VqpkE3UwrDrAZL8L    34\n",
       "spotify:artist:5a2EaR3hamoenG9rDuVn8j    31\n",
       "spotify:artist:1HwM5zlC5qNWhJtM00yXzG    29\n",
       "spotify:artist:6eUKZXaKkcviH0Ku9w2n3V    28\n",
       "                                         ..\n",
       "spotify:artist:38CvLGTsjtoloDgv3OKQp8     1\n",
       "spotify:artist:38H4NMFqlcJ9rcFltYS2oK     1\n",
       "spotify:artist:38LdIuxB548zgHoEY2AN7a     1\n",
       "spotify:artist:38b0HYhJsCesXvtdCbRCRS     1\n",
       "spotify:artist:7zkwepHPyac6tCYl0fL0co     1\n",
       "Name: url, Length: 3583, dtype: int64"
      ]
     },
     "execution_count": 10,
     "metadata": {},
     "output_type": "execute_result"
    }
   ],
   "source": [
    "v50.groupby('artist_uri').url.nunique().sort_values(ascending=False)"
   ]
  },
  {
   "cell_type": "code",
   "execution_count": 11,
   "id": "f659adc4",
   "metadata": {},
   "outputs": [],
   "source": [
    "tracks_per_artist = v50.groupby('artist_uri').url.nunique().sort_values(ascending=False).to_frame().reset_index()"
   ]
  },
  {
   "cell_type": "code",
   "execution_count": 12,
   "id": "831a73dc",
   "metadata": {},
   "outputs": [],
   "source": [
    "tracks_per_artist = tracks_per_artist.rename(columns={'url':'num_songs'})"
   ]
  },
  {
   "cell_type": "code",
   "execution_count": 13,
   "id": "7a3838c7",
   "metadata": {},
   "outputs": [
    {
     "data": {
      "text/html": [
       "<div>\n",
       "<style scoped>\n",
       "    .dataframe tbody tr th:only-of-type {\n",
       "        vertical-align: middle;\n",
       "    }\n",
       "\n",
       "    .dataframe tbody tr th {\n",
       "        vertical-align: top;\n",
       "    }\n",
       "\n",
       "    .dataframe thead th {\n",
       "        text-align: right;\n",
       "    }\n",
       "</style>\n",
       "<table border=\"1\" class=\"dataframe\">\n",
       "  <thead>\n",
       "    <tr style=\"text-align: right;\">\n",
       "      <th></th>\n",
       "      <th>artist_uri</th>\n",
       "      <th>num_songs</th>\n",
       "    </tr>\n",
       "  </thead>\n",
       "  <tbody>\n",
       "    <tr>\n",
       "      <th>0</th>\n",
       "      <td>spotify:artist:3TVXtAsR1Inumwj472S9r4</td>\n",
       "      <td>63</td>\n",
       "    </tr>\n",
       "    <tr>\n",
       "      <th>1</th>\n",
       "      <td>spotify:artist:4xRYI6VqpkE3UwrDrAZL8L</td>\n",
       "      <td>34</td>\n",
       "    </tr>\n",
       "    <tr>\n",
       "      <th>2</th>\n",
       "      <td>spotify:artist:5a2EaR3hamoenG9rDuVn8j</td>\n",
       "      <td>31</td>\n",
       "    </tr>\n",
       "    <tr>\n",
       "      <th>3</th>\n",
       "      <td>spotify:artist:1HwM5zlC5qNWhJtM00yXzG</td>\n",
       "      <td>29</td>\n",
       "    </tr>\n",
       "    <tr>\n",
       "      <th>4</th>\n",
       "      <td>spotify:artist:6eUKZXaKkcviH0Ku9w2n3V</td>\n",
       "      <td>28</td>\n",
       "    </tr>\n",
       "    <tr>\n",
       "      <th>...</th>\n",
       "      <td>...</td>\n",
       "      <td>...</td>\n",
       "    </tr>\n",
       "    <tr>\n",
       "      <th>3578</th>\n",
       "      <td>spotify:artist:38CvLGTsjtoloDgv3OKQp8</td>\n",
       "      <td>1</td>\n",
       "    </tr>\n",
       "    <tr>\n",
       "      <th>3579</th>\n",
       "      <td>spotify:artist:38H4NMFqlcJ9rcFltYS2oK</td>\n",
       "      <td>1</td>\n",
       "    </tr>\n",
       "    <tr>\n",
       "      <th>3580</th>\n",
       "      <td>spotify:artist:38LdIuxB548zgHoEY2AN7a</td>\n",
       "      <td>1</td>\n",
       "    </tr>\n",
       "    <tr>\n",
       "      <th>3581</th>\n",
       "      <td>spotify:artist:38b0HYhJsCesXvtdCbRCRS</td>\n",
       "      <td>1</td>\n",
       "    </tr>\n",
       "    <tr>\n",
       "      <th>3582</th>\n",
       "      <td>spotify:artist:7zkwepHPyac6tCYl0fL0co</td>\n",
       "      <td>1</td>\n",
       "    </tr>\n",
       "  </tbody>\n",
       "</table>\n",
       "<p>3583 rows × 2 columns</p>\n",
       "</div>"
      ],
      "text/plain": [
       "                                 artist_uri  num_songs\n",
       "0     spotify:artist:3TVXtAsR1Inumwj472S9r4         63\n",
       "1     spotify:artist:4xRYI6VqpkE3UwrDrAZL8L         34\n",
       "2     spotify:artist:5a2EaR3hamoenG9rDuVn8j         31\n",
       "3     spotify:artist:1HwM5zlC5qNWhJtM00yXzG         29\n",
       "4     spotify:artist:6eUKZXaKkcviH0Ku9w2n3V         28\n",
       "...                                     ...        ...\n",
       "3578  spotify:artist:38CvLGTsjtoloDgv3OKQp8          1\n",
       "3579  spotify:artist:38H4NMFqlcJ9rcFltYS2oK          1\n",
       "3580  spotify:artist:38LdIuxB548zgHoEY2AN7a          1\n",
       "3581  spotify:artist:38b0HYhJsCesXvtdCbRCRS          1\n",
       "3582  spotify:artist:7zkwepHPyac6tCYl0fL0co          1\n",
       "\n",
       "[3583 rows x 2 columns]"
      ]
     },
     "execution_count": 13,
     "metadata": {},
     "output_type": "execute_result"
    }
   ],
   "source": [
    "tracks_per_artist"
   ]
  },
  {
   "cell_type": "code",
   "execution_count": 14,
   "id": "01aaaa4e",
   "metadata": {},
   "outputs": [
    {
     "name": "stdout",
     "output_type": "stream",
     "text": [
      "number of artists with one song:  2300\n",
      "number of artists with multiple songs:  1283\n",
      "\n",
      "number of artists with more than 2 songs:  728\n",
      "\n",
      "number of artists with more than 3 songs:  483\n"
     ]
    }
   ],
   "source": [
    "print('number of artists with one song: ', tracks_per_artist[tracks_per_artist.num_songs < 2].shape[0])\n",
    "print('number of artists with multiple songs: ', tracks_per_artist[tracks_per_artist.num_songs >= 2].shape[0])\n",
    "print('')\n",
    "print('number of artists with more than 2 songs: ', tracks_per_artist[tracks_per_artist.num_songs > 2].shape[0])\n",
    "print('')\n",
    "print('number of artists with more than 3 songs: ', tracks_per_artist[tracks_per_artist.num_songs > 3].shape[0])"
   ]
  },
  {
   "cell_type": "code",
   "execution_count": 15,
   "id": "ab16f82a",
   "metadata": {},
   "outputs": [
    {
     "data": {
      "text/plain": [
       "Text(0.5, 1.0, 'Tracks per Artist on Viral 50')"
      ]
     },
     "execution_count": 15,
     "metadata": {},
     "output_type": "execute_result"
    },
    {
     "data": {
      "image/png": "[encoded data removed]",
      "text/plain": [
       "<Figure size 432x288 with 1 Axes>"
      ]
     },
     "metadata": {
      "needs_background": "light"
     },
     "output_type": "display_data"
    }
   ],
   "source": [
    "tracks_per_artist.num_songs.hist(bins=20).set_title('Tracks per Artist on Viral 50')"
   ]
  },
  {
   "cell_type": "code",
   "execution_count": 16,
   "id": "005a56e5",
   "metadata": {},
   "outputs": [
    {
     "data": {
      "text/plain": [
       "<AxesSubplot:>"
      ]
     },
     "execution_count": 16,
     "metadata": {},
     "output_type": "execute_result"
    },
    {
     "data": {
      "image/png": "[encoded data removed]",
      "text/plain": [
       "<Figure size 432x288 with 1 Axes>"
      ]
     },
     "metadata": {
      "needs_background": "light"
     },
     "output_type": "display_data"
    }
   ],
   "source": [
    "tracks_per_artist[tracks_per_artist.num_songs > 2].num_songs.hist(bins=30)"
   ]
  },
  {
   "cell_type": "code",
   "execution_count": 17,
   "id": "bbdbdc5d",
   "metadata": {},
   "outputs": [
    {
     "data": {
      "text/plain": [
       "Text(0.5, 1.0, 'Songs Per Artist on Viral 50')"
      ]
     },
     "execution_count": 17,
     "metadata": {},
     "output_type": "execute_result"
    },
    {
     "data": {
      "image/png": "[encoded data removed]",
      "text/plain": [
       "<Figure size 432x288 with 1 Axes>"
      ]
     },
     "metadata": {
      "needs_background": "light"
     },
     "output_type": "display_data"
    }
   ],
   "source": [
    "tracks_per_artist.groupby('num_songs').artist_uri.nunique().sort_values(ascending=False).plot(kind='bar').set_title('Songs Per Artist on Viral 50')"
   ]
  },
  {
   "cell_type": "code",
   "execution_count": 18,
   "id": "898b78a3",
   "metadata": {},
   "outputs": [],
   "source": [
    "one_hit = tracks_per_artist[tracks_per_artist.num_songs < 2].artist_uri.unique()\n",
    "multiple_hits = tracks_per_artist[tracks_per_artist.num_songs >= 2].artist_uri.unique()"
   ]
  },
  {
   "cell_type": "code",
   "execution_count": 19,
   "id": "cc95adbb",
   "metadata": {},
   "outputs": [
    {
     "data": {
      "text/plain": [
       "1283"
      ]
     },
     "execution_count": 19,
     "metadata": {},
     "output_type": "execute_result"
    }
   ],
   "source": [
    "len(multiple_hits)"
   ]
  },
  {
   "cell_type": "code",
   "execution_count": 20,
   "id": "be63f1f1",
   "metadata": {},
   "outputs": [
    {
     "data": {
      "text/plain": [
       "2300"
      ]
     },
     "execution_count": 20,
     "metadata": {},
     "output_type": "execute_result"
    }
   ],
   "source": [
    "len(one_hit)"
   ]
  },
  {
   "cell_type": "code",
   "execution_count": 21,
   "id": "e3ddcaa5",
   "metadata": {},
   "outputs": [],
   "source": [
    "avg_rank = v50.groupby('artist_uri')['rank'].mean().sort_values(ascending=False).to_frame().reset_index()"
   ]
  },
  {
   "cell_type": "code",
   "execution_count": 22,
   "id": "f64863c0",
   "metadata": {},
   "outputs": [
    {
     "data": {
      "text/html": [
       "<div>\n",
       "<style scoped>\n",
       "    .dataframe tbody tr th:only-of-type {\n",
       "        vertical-align: middle;\n",
       "    }\n",
       "\n",
       "    .dataframe tbody tr th {\n",
       "        vertical-align: top;\n",
       "    }\n",
       "\n",
       "    .dataframe thead th {\n",
       "        text-align: right;\n",
       "    }\n",
       "</style>\n",
       "<table border=\"1\" class=\"dataframe\">\n",
       "  <thead>\n",
       "    <tr style=\"text-align: right;\">\n",
       "      <th></th>\n",
       "      <th>artist_uri</th>\n",
       "      <th>rank</th>\n",
       "    </tr>\n",
       "  </thead>\n",
       "  <tbody>\n",
       "    <tr>\n",
       "      <th>0</th>\n",
       "      <td>spotify:artist:3uihH9rY2n7IgCkO0Rjbe1</td>\n",
       "      <td>51.0</td>\n",
       "    </tr>\n",
       "    <tr>\n",
       "      <th>1</th>\n",
       "      <td>spotify:artist:1WcUEKDht7lhgklZZJrzNg</td>\n",
       "      <td>50.0</td>\n",
       "    </tr>\n",
       "    <tr>\n",
       "      <th>2</th>\n",
       "      <td>spotify:artist:6piIAIurGAryW5h1rqQC16</td>\n",
       "      <td>50.0</td>\n",
       "    </tr>\n",
       "    <tr>\n",
       "      <th>3</th>\n",
       "      <td>spotify:artist:7ayksoJ16I0E4Riftzvfaz</td>\n",
       "      <td>50.0</td>\n",
       "    </tr>\n",
       "    <tr>\n",
       "      <th>4</th>\n",
       "      <td>spotify:artist:0CjWKoS55T7DOt0HJuwF1H</td>\n",
       "      <td>50.0</td>\n",
       "    </tr>\n",
       "    <tr>\n",
       "      <th>...</th>\n",
       "      <td>...</td>\n",
       "      <td>...</td>\n",
       "    </tr>\n",
       "    <tr>\n",
       "      <th>3578</th>\n",
       "      <td>spotify:artist:2ONRBeygB7ZsCaIeYUkMr5</td>\n",
       "      <td>1.0</td>\n",
       "    </tr>\n",
       "    <tr>\n",
       "      <th>3579</th>\n",
       "      <td>spotify:artist:5aywMK7SPZ9nj7dvqBEqsg</td>\n",
       "      <td>1.0</td>\n",
       "    </tr>\n",
       "    <tr>\n",
       "      <th>3580</th>\n",
       "      <td>spotify:artist:6RunIqBz4EYqvcj4liofa0</td>\n",
       "      <td>1.0</td>\n",
       "    </tr>\n",
       "    <tr>\n",
       "      <th>3581</th>\n",
       "      <td>spotify:artist:0oAK0DvKNnuXm1TQdhDEOv</td>\n",
       "      <td>1.0</td>\n",
       "    </tr>\n",
       "    <tr>\n",
       "      <th>3582</th>\n",
       "      <td>spotify:artist:3myHWxWhjz6bIhwVb1Tdne</td>\n",
       "      <td>1.0</td>\n",
       "    </tr>\n",
       "  </tbody>\n",
       "</table>\n",
       "<p>3583 rows × 2 columns</p>\n",
       "</div>"
      ],
      "text/plain": [
       "                                 artist_uri  rank\n",
       "0     spotify:artist:3uihH9rY2n7IgCkO0Rjbe1  51.0\n",
       "1     spotify:artist:1WcUEKDht7lhgklZZJrzNg  50.0\n",
       "2     spotify:artist:6piIAIurGAryW5h1rqQC16  50.0\n",
       "3     spotify:artist:7ayksoJ16I0E4Riftzvfaz  50.0\n",
       "4     spotify:artist:0CjWKoS55T7DOt0HJuwF1H  50.0\n",
       "...                                     ...   ...\n",
       "3578  spotify:artist:2ONRBeygB7ZsCaIeYUkMr5   1.0\n",
       "3579  spotify:artist:5aywMK7SPZ9nj7dvqBEqsg   1.0\n",
       "3580  spotify:artist:6RunIqBz4EYqvcj4liofa0   1.0\n",
       "3581  spotify:artist:0oAK0DvKNnuXm1TQdhDEOv   1.0\n",
       "3582  spotify:artist:3myHWxWhjz6bIhwVb1Tdne   1.0\n",
       "\n",
       "[3583 rows x 2 columns]"
      ]
     },
     "execution_count": 22,
     "metadata": {},
     "output_type": "execute_result"
    }
   ],
   "source": [
    "avg_rank"
   ]
  },
  {
   "cell_type": "code",
   "execution_count": 23,
   "id": "d4b4b8e3",
   "metadata": {},
   "outputs": [
    {
     "data": {
      "text/html": [
       "<div>\n",
       "<style scoped>\n",
       "    .dataframe tbody tr th:only-of-type {\n",
       "        vertical-align: middle;\n",
       "    }\n",
       "\n",
       "    .dataframe tbody tr th {\n",
       "        vertical-align: top;\n",
       "    }\n",
       "\n",
       "    .dataframe thead th {\n",
       "        text-align: right;\n",
       "    }\n",
       "</style>\n",
       "<table border=\"1\" class=\"dataframe\">\n",
       "  <thead>\n",
       "    <tr style=\"text-align: right;\">\n",
       "      <th></th>\n",
       "      <th>title</th>\n",
       "      <th>rank</th>\n",
       "      <th>date</th>\n",
       "      <th>artist</th>\n",
       "      <th>url</th>\n",
       "      <th>region</th>\n",
       "      <th>chart</th>\n",
       "      <th>trend</th>\n",
       "      <th>streams</th>\n",
       "      <th>first_artist</th>\n",
       "      <th>artist_uri</th>\n",
       "      <th>artist_url</th>\n",
       "      <th>artist_name</th>\n",
       "      <th>artist_popularity</th>\n",
       "      <th>genres</th>\n",
       "      <th>followers</th>\n",
       "      <th>avg_related_artist_pop</th>\n",
       "    </tr>\n",
       "  </thead>\n",
       "  <tbody>\n",
       "    <tr>\n",
       "      <th>46293</th>\n",
       "      <td>Get the Gat</td>\n",
       "      <td>1</td>\n",
       "      <td>2020-01-19</td>\n",
       "      <td>Legendary DJs, Lil Elt</td>\n",
       "      <td>https://open.spotify.com/track/7C7zVcNsvUGXnJc...</td>\n",
       "      <td>United States</td>\n",
       "      <td>viral50</td>\n",
       "      <td>NEW_ENTRY</td>\n",
       "      <td>NaN</td>\n",
       "      <td>Legendary DJs</td>\n",
       "      <td>spotify:artist:2ONRBeygB7ZsCaIeYUkMr5</td>\n",
       "      <td>https://open.spotify.com/artist/2ONRBeygB7ZsCa...</td>\n",
       "      <td>Legendary DJs</td>\n",
       "      <td>13</td>\n",
       "      <td>[]</td>\n",
       "      <td>1188</td>\n",
       "      <td>8.4</td>\n",
       "    </tr>\n",
       "  </tbody>\n",
       "</table>\n",
       "</div>"
      ],
      "text/plain": [
       "             title  rank        date                  artist  \\\n",
       "46293  Get the Gat     1  2020-01-19  Legendary DJs, Lil Elt   \n",
       "\n",
       "                                                     url         region  \\\n",
       "46293  https://open.spotify.com/track/7C7zVcNsvUGXnJc...  United States   \n",
       "\n",
       "         chart      trend  streams   first_artist  \\\n",
       "46293  viral50  NEW_ENTRY      NaN  Legendary DJs   \n",
       "\n",
       "                                  artist_uri  \\\n",
       "46293  spotify:artist:2ONRBeygB7ZsCaIeYUkMr5   \n",
       "\n",
       "                                              artist_url    artist_name  \\\n",
       "46293  https://open.spotify.com/artist/2ONRBeygB7ZsCa...  Legendary DJs   \n",
       "\n",
       "       artist_popularity genres  followers avg_related_artist_pop  \n",
       "46293                 13     []       1188                    8.4  "
      ]
     },
     "execution_count": 23,
     "metadata": {},
     "output_type": "execute_result"
    }
   ],
   "source": [
    "v50[v50.artist_uri == 'spotify:artist:2ONRBeygB7ZsCaIeYUkMr5']"
   ]
  },
  {
   "cell_type": "code",
   "execution_count": 24,
   "id": "6ba98190",
   "metadata": {},
   "outputs": [
    {
     "data": {
      "text/plain": [
       "Text(0.5, 1.0, 'Distribution of Average Track Rank per Artist')"
      ]
     },
     "execution_count": 24,
     "metadata": {},
     "output_type": "execute_result"
    },
    {
     "data": {
      "image/png": "[encoded data removed]",
      "text/plain": [
       "<Figure size 432x288 with 1 Axes>"
      ]
     },
     "metadata": {
      "needs_background": "light"
     },
     "output_type": "display_data"
    }
   ],
   "source": [
    "avg_rank['rank'].hist(bins=20).set_title('Distribution of Average Track Rank per Artist')"
   ]
  },
  {
   "cell_type": "code",
   "execution_count": 25,
   "id": "0e9e457d",
   "metadata": {},
   "outputs": [
    {
     "name": "stdout",
     "output_type": "stream",
     "text": [
      "2597\n",
      "2597\n",
      "2597\n",
      "2597\n"
     ]
    }
   ],
   "source": [
    "#unique artists in each dashboard dataset:\n",
    "am_unique = set(am.artist_uri.unique())\n",
    "tt_unique = set(tt.artist_uri.unique())\n",
    "ac_unique = set(ac.artist_uri.unique())\n",
    "sa_unique = set(sa.artist_uri.unique())\n",
    "\n",
    "print(len(am_unique))\n",
    "print(len(tt_unique))\n",
    "print(len(ac_unique))\n",
    "print(len(sa_unique))"
   ]
  },
  {
   "cell_type": "code",
   "execution_count": 26,
   "id": "7983593e",
   "metadata": {},
   "outputs": [
    {
     "data": {
      "text/plain": [
       "set"
      ]
     },
     "execution_count": 26,
     "metadata": {},
     "output_type": "execute_result"
    }
   ],
   "source": [
    "type(sa_unique)"
   ]
  },
  {
   "cell_type": "code",
   "execution_count": 27,
   "id": "09db353b",
   "metadata": {},
   "outputs": [],
   "source": [
    "sub1 = list(tt_unique.intersection(ac_unique))"
   ]
  },
  {
   "cell_type": "code",
   "execution_count": 28,
   "id": "de8f6b87",
   "metadata": {},
   "outputs": [
    {
     "data": {
      "text/plain": [
       "2597"
      ]
     },
     "execution_count": 28,
     "metadata": {},
     "output_type": "execute_result"
    }
   ],
   "source": [
    "len(sub1)"
   ]
  },
  {
   "cell_type": "code",
   "execution_count": 29,
   "id": "800db99e",
   "metadata": {},
   "outputs": [
    {
     "data": {
      "text/plain": [
       "2597"
      ]
     },
     "execution_count": 29,
     "metadata": {},
     "output_type": "execute_result"
    }
   ],
   "source": [
    "sub2 = list(set(sub1).intersection(sa_unique))\n",
    "len(sub2)"
   ]
  },
  {
   "cell_type": "code",
   "execution_count": 30,
   "id": "cdf22f9f",
   "metadata": {},
   "outputs": [
    {
     "data": {
      "text/plain": [
       "2597"
      ]
     },
     "execution_count": 30,
     "metadata": {},
     "output_type": "execute_result"
    }
   ],
   "source": [
    "sub3 = list(set(sub2).intersection(tt_unique))\n",
    "len(sub3)"
   ]
  },
  {
   "cell_type": "markdown",
   "id": "8b4b22ee",
   "metadata": {},
   "source": [
    "Subset V50 dataset to artists we have full data on"
   ]
  },
  {
   "cell_type": "code",
   "execution_count": 31,
   "id": "2d425186",
   "metadata": {},
   "outputs": [],
   "source": [
    "v50sub = v50[v50.artist_uri.isin(sub3)]"
   ]
  },
  {
   "cell_type": "code",
   "execution_count": 32,
   "id": "e680966c",
   "metadata": {},
   "outputs": [
    {
     "data": {
      "text/plain": [
       "2597"
      ]
     },
     "execution_count": 32,
     "metadata": {},
     "output_type": "execute_result"
    }
   ],
   "source": [
    "v50sub.artist_uri.nunique()"
   ]
  },
  {
   "cell_type": "code",
   "execution_count": 33,
   "id": "9444de5c",
   "metadata": {},
   "outputs": [
    {
     "data": {
      "text/plain": [
       "artist_uri\n",
       "spotify:artist:3TVXtAsR1Inumwj472S9r4    63\n",
       "spotify:artist:4xRYI6VqpkE3UwrDrAZL8L    34\n",
       "spotify:artist:5a2EaR3hamoenG9rDuVn8j    31\n",
       "spotify:artist:1HwM5zlC5qNWhJtM00yXzG    29\n",
       "spotify:artist:6eUKZXaKkcviH0Ku9w2n3V    28\n",
       "                                         ..\n",
       "spotify:artist:4aKWmkWAKviFlyvHYPTNQY     1\n",
       "spotify:artist:4aGSoPUP1v4qh7RfBlvgbR     1\n",
       "spotify:artist:4a7rhiINaHPdfrRCZgBeQ5     1\n",
       "spotify:artist:4ZtqSJYEh407LR6NM5hNcS     1\n",
       "spotify:artist:5P46zciG5gm8IALoKTLYGb     1\n",
       "Name: url, Length: 2597, dtype: int64"
      ]
     },
     "execution_count": 33,
     "metadata": {},
     "output_type": "execute_result"
    }
   ],
   "source": [
    "v50sub.groupby('artist_uri').url.nunique().sort_values(ascending=False)"
   ]
  },
  {
   "cell_type": "code",
   "execution_count": 34,
   "id": "2b9ece2e",
   "metadata": {},
   "outputs": [],
   "source": [
    "tracks_per_artist_sub = v50sub.groupby('artist_uri').url.nunique().sort_values(ascending=False).to_frame().reset_index()\n",
    "tracks_per_artist_sub = tracks_per_artist_sub.rename(columns={'url':'num_songs'})"
   ]
  },
  {
   "cell_type": "code",
   "execution_count": 35,
   "id": "d832346e",
   "metadata": {},
   "outputs": [
    {
     "data": {
      "text/plain": [
       "Text(0.5, 1.0, 'Songs Per Artist on Viral 50')"
      ]
     },
     "execution_count": 35,
     "metadata": {},
     "output_type": "execute_result"
    },
    {
     "data": {
      "image/png": "[encoded data removed]",
      "text/plain": [
       "<Figure size 432x288 with 1 Axes>"
      ]
     },
     "metadata": {
      "needs_background": "light"
     },
     "output_type": "display_data"
    }
   ],
   "source": [
    "tracks_per_artist_sub.groupby('num_songs').artist_uri.nunique().sort_values(ascending=False).plot(kind='bar').set_title('Songs Per Artist on Viral 50')"
   ]
  },
  {
   "cell_type": "code",
   "execution_count": 36,
   "id": "e2c02c21",
   "metadata": {},
   "outputs": [
    {
     "name": "stdout",
     "output_type": "stream",
     "text": [
      "number of artists with one song:  1484\n",
      "number of artists with multiple songs:  1113\n",
      "\n",
      "number of artists with more than 2 songs:  682\n",
      "\n",
      "number of artists with more than 3 songs:  461\n"
     ]
    }
   ],
   "source": [
    "print('number of artists with one song: ', tracks_per_artist_sub[tracks_per_artist_sub.num_songs < 2].shape[0])\n",
    "print('number of artists with multiple songs: ', tracks_per_artist_sub[tracks_per_artist_sub.num_songs >= 2].shape[0])\n",
    "print('')\n",
    "print('number of artists with more than 2 songs: ', tracks_per_artist_sub[tracks_per_artist_sub.num_songs > 2].shape[0])\n",
    "print('')\n",
    "print('number of artists with more than 3 songs: ', tracks_per_artist_sub[tracks_per_artist_sub.num_songs > 3].shape[0])"
   ]
  },
  {
   "cell_type": "code",
   "execution_count": 37,
   "id": "4dfeeda6",
   "metadata": {},
   "outputs": [],
   "source": [
    "#load datasets\n",
    "am = pd.read_csv('artist_metadata_dataset.tsv', sep='\\t') #artist metadata\n",
    "ac = pd.read_csv('artist_catalog_dataset.tsv', sep='\\t') #artist catalog\n",
    "tt = pd.read_csv('top_tracks_per_artist_dataset.tsv', sep='\\t') #top tracks\n",
    "sa = pd.read_csv('similar_artists_dataset.tsv', sep='\\t') #similar artists"
   ]
  },
  {
   "cell_type": "code",
   "execution_count": 38,
   "id": "32d69f6e",
   "metadata": {},
   "outputs": [],
   "source": [
    "new_ac = ac[ac.artist_uri.isin(sub3)]\n",
    "new_am = am[am.artist_uri.isin(sub3)]\n",
    "new_tt = tt[tt.artist_uri.isin(sub3)]\n",
    "new_sa = sa[sa.artist_uri.isin(sub3)]"
   ]
  },
  {
   "cell_type": "code",
   "execution_count": 39,
   "id": "5ad98234",
   "metadata": {},
   "outputs": [
    {
     "name": "stdout",
     "output_type": "stream",
     "text": [
      "2597\n",
      "2597\n",
      "2597\n",
      "2597\n"
     ]
    }
   ],
   "source": [
    "print(new_ac.artist_uri.nunique())\n",
    "print(new_am.artist_uri.nunique())\n",
    "print(new_tt.artist_uri.nunique())\n",
    "print(new_sa.artist_uri.nunique())"
   ]
  },
  {
   "cell_type": "code",
   "execution_count": 40,
   "id": "fadd92cf",
   "metadata": {},
   "outputs": [],
   "source": [
    "new_am.to_csv('artist_metadata_dataset.tsv', sep='\\t', index=False)\n",
    "new_ac.to_csv('artist_catalog_dataset.tsv', sep='\\t', index=False)\n",
    "new_tt.to_csv('top_tracks_per_artist_dataset.tsv', sep='\\t', index=False)\n",
    "new_sa.to_csv('similar_artists_dataset.tsv', sep='\\t', index=False)"
   ]
  },
  {
   "cell_type": "code",
   "execution_count": 41,
   "id": "e2957837",
   "metadata": {},
   "outputs": [
    {
     "data": {
      "text/plain": [
       "986"
      ]
     },
     "execution_count": 41,
     "metadata": {},
     "output_type": "execute_result"
    }
   ],
   "source": [
    "3583-2597"
   ]
  },
  {
   "cell_type": "code",
   "execution_count": 42,
   "id": "337919c2",
   "metadata": {},
   "outputs": [
    {
     "data": {
      "text/plain": [
       "816"
      ]
     },
     "execution_count": 42,
     "metadata": {},
     "output_type": "execute_result"
    }
   ],
   "source": [
    "2300-1484"
   ]
  },
  {
   "cell_type": "code",
   "execution_count": 43,
   "id": "a1d084f5",
   "metadata": {},
   "outputs": [
    {
     "data": {
      "text/plain": [
       "0.8275862068965517"
      ]
     },
     "execution_count": 43,
     "metadata": {},
     "output_type": "execute_result"
    }
   ],
   "source": [
    "816/986"
   ]
  },
  {
   "cell_type": "code",
   "execution_count": 134,
   "id": "498d2066",
   "metadata": {},
   "outputs": [
    {
     "data": {
      "text/html": [
       "<div>\n",
       "<style scoped>\n",
       "    .dataframe tbody tr th:only-of-type {\n",
       "        vertical-align: middle;\n",
       "    }\n",
       "\n",
       "    .dataframe tbody tr th {\n",
       "        vertical-align: top;\n",
       "    }\n",
       "\n",
       "    .dataframe thead th {\n",
       "        text-align: right;\n",
       "    }\n",
       "</style>\n",
       "<table border=\"1\" class=\"dataframe\">\n",
       "  <thead>\n",
       "    <tr style=\"text-align: right;\">\n",
       "      <th></th>\n",
       "      <th>title</th>\n",
       "      <th>rank</th>\n",
       "      <th>date</th>\n",
       "      <th>artist</th>\n",
       "      <th>url</th>\n",
       "      <th>region</th>\n",
       "      <th>chart</th>\n",
       "      <th>trend</th>\n",
       "      <th>streams</th>\n",
       "      <th>first_artist</th>\n",
       "      <th>artist_uri</th>\n",
       "      <th>artist_url</th>\n",
       "      <th>artist_name</th>\n",
       "      <th>artist_popularity</th>\n",
       "      <th>genres</th>\n",
       "      <th>followers</th>\n",
       "      <th>avg_related_artist_pop</th>\n",
       "    </tr>\n",
       "  </thead>\n",
       "  <tbody>\n",
       "    <tr>\n",
       "      <th>0</th>\n",
       "      <td>LMK</td>\n",
       "      <td>32</td>\n",
       "      <td>2017-08-09</td>\n",
       "      <td>Kelela</td>\n",
       "      <td>https://open.spotify.com/track/6XgtAeRYmbr4OfE...</td>\n",
       "      <td>United States</td>\n",
       "      <td>viral50</td>\n",
       "      <td>NEW_ENTRY</td>\n",
       "      <td>NaN</td>\n",
       "      <td>Kelela</td>\n",
       "      <td>spotify:artist:1U0sIzpRtDkvu1hXXzxh60</td>\n",
       "      <td>https://open.spotify.com/artist/1U0sIzpRtDkvu1...</td>\n",
       "      <td>Kelela</td>\n",
       "      <td>46</td>\n",
       "      <td>['afrofuturism', 'alternative r&amp;b', 'art pop',...</td>\n",
       "      <td>271963</td>\n",
       "      <td>49.1</td>\n",
       "    </tr>\n",
       "    <tr>\n",
       "      <th>1</th>\n",
       "      <td>Turn Up On the Weekend</td>\n",
       "      <td>1</td>\n",
       "      <td>2017-08-01</td>\n",
       "      <td>Branchez, Big Wet</td>\n",
       "      <td>https://open.spotify.com/track/2AEzMPR01sg1wsX...</td>\n",
       "      <td>United States</td>\n",
       "      <td>viral50</td>\n",
       "      <td>SAME_POSITION</td>\n",
       "      <td>NaN</td>\n",
       "      <td>Branchez</td>\n",
       "      <td>spotify:artist:4T5kpUiQUVJhuf9YT28qlf</td>\n",
       "      <td>https://open.spotify.com/artist/4T5kpUiQUVJhuf...</td>\n",
       "      <td>Branchez</td>\n",
       "      <td>46</td>\n",
       "      <td>['electronic trap']</td>\n",
       "      <td>15519</td>\n",
       "      <td>53.85</td>\n",
       "    </tr>\n",
       "    <tr>\n",
       "      <th>2</th>\n",
       "      <td>Would You Ever</td>\n",
       "      <td>2</td>\n",
       "      <td>2017-08-01</td>\n",
       "      <td>Skrillex, Poo Bear</td>\n",
       "      <td>https://open.spotify.com/track/57p8CBvPOxrvyCb...</td>\n",
       "      <td>United States</td>\n",
       "      <td>viral50</td>\n",
       "      <td>SAME_POSITION</td>\n",
       "      <td>NaN</td>\n",
       "      <td>Skrillex</td>\n",
       "      <td>spotify:artist:5he5w2lnU9x7JFhnwcekXX</td>\n",
       "      <td>https://open.spotify.com/artist/5he5w2lnU9x7JF...</td>\n",
       "      <td>Skrillex</td>\n",
       "      <td>74</td>\n",
       "      <td>['brostep', 'complextro', 'edm', 'electro']</td>\n",
       "      <td>8014229</td>\n",
       "      <td>52.3</td>\n",
       "    </tr>\n",
       "    <tr>\n",
       "      <th>3</th>\n",
       "      <td>Marmalade (feat. Lil Yachty)</td>\n",
       "      <td>3</td>\n",
       "      <td>2017-08-01</td>\n",
       "      <td>Macklemore</td>\n",
       "      <td>https://open.spotify.com/track/0RYXEibxMami3Qu...</td>\n",
       "      <td>United States</td>\n",
       "      <td>viral50</td>\n",
       "      <td>MOVE_UP</td>\n",
       "      <td>NaN</td>\n",
       "      <td>Macklemore</td>\n",
       "      <td>spotify:artist:3JhNCzhSMTxs9WLGJJxWOY</td>\n",
       "      <td>https://open.spotify.com/artist/3JhNCzhSMTxs9W...</td>\n",
       "      <td>Macklemore</td>\n",
       "      <td>75</td>\n",
       "      <td>['pop rap', 'seattle hip hop']</td>\n",
       "      <td>1873212</td>\n",
       "      <td>53.2</td>\n",
       "    </tr>\n",
       "    <tr>\n",
       "      <th>4</th>\n",
       "      <td>Boys</td>\n",
       "      <td>4</td>\n",
       "      <td>2017-08-01</td>\n",
       "      <td>Charli XCX</td>\n",
       "      <td>https://open.spotify.com/track/5o4yGlG0PfeVUa6...</td>\n",
       "      <td>United States</td>\n",
       "      <td>viral50</td>\n",
       "      <td>MOVE_UP</td>\n",
       "      <td>NaN</td>\n",
       "      <td>Charli XCX</td>\n",
       "      <td>spotify:artist:25uiPmTg16RbhZWAqwLBy5</td>\n",
       "      <td>https://open.spotify.com/artist/25uiPmTg16RbhZ...</td>\n",
       "      <td>Charli XCX</td>\n",
       "      <td>76</td>\n",
       "      <td>['art pop', 'candy pop', 'dance pop', 'electro...</td>\n",
       "      <td>2638291</td>\n",
       "      <td>55.65</td>\n",
       "    </tr>\n",
       "    <tr>\n",
       "      <th>...</th>\n",
       "      <td>...</td>\n",
       "      <td>...</td>\n",
       "      <td>...</td>\n",
       "      <td>...</td>\n",
       "      <td>...</td>\n",
       "      <td>...</td>\n",
       "      <td>...</td>\n",
       "      <td>...</td>\n",
       "      <td>...</td>\n",
       "      <td>...</td>\n",
       "      <td>...</td>\n",
       "      <td>...</td>\n",
       "      <td>...</td>\n",
       "      <td>...</td>\n",
       "      <td>...</td>\n",
       "      <td>...</td>\n",
       "      <td>...</td>\n",
       "    </tr>\n",
       "    <tr>\n",
       "      <th>90868</th>\n",
       "      <td>Bad Habits</td>\n",
       "      <td>46</td>\n",
       "      <td>2021-07-31</td>\n",
       "      <td>Ed Sheeran</td>\n",
       "      <td>https://open.spotify.com/track/6PQ88X9TkUIAUIZ...</td>\n",
       "      <td>United States</td>\n",
       "      <td>viral50</td>\n",
       "      <td>SAME_POSITION</td>\n",
       "      <td>NaN</td>\n",
       "      <td>Ed Sheeran</td>\n",
       "      <td>spotify:artist:6eUKZXaKkcviH0Ku9w2n3V</td>\n",
       "      <td>https://open.spotify.com/artist/6eUKZXaKkcviH0...</td>\n",
       "      <td>Ed Sheeran</td>\n",
       "      <td>90</td>\n",
       "      <td>['pop', 'uk pop']</td>\n",
       "      <td>98709819</td>\n",
       "      <td>74.7</td>\n",
       "    </tr>\n",
       "    <tr>\n",
       "      <th>90869</th>\n",
       "      <td>Not Around</td>\n",
       "      <td>47</td>\n",
       "      <td>2021-07-31</td>\n",
       "      <td>Nova</td>\n",
       "      <td>https://open.spotify.com/track/1Adhz5VVDZxhojO...</td>\n",
       "      <td>United States</td>\n",
       "      <td>viral50</td>\n",
       "      <td>SAME_POSITION</td>\n",
       "      <td>NaN</td>\n",
       "      <td>Nova</td>\n",
       "      <td>spotify:artist:3J2OSq7G34UlfnNB6YuZCF</td>\n",
       "      <td>https://open.spotify.com/artist/3J2OSq7G34Ulfn...</td>\n",
       "      <td>Nova</td>\n",
       "      <td>58</td>\n",
       "      <td>['hyperpop']</td>\n",
       "      <td>32182</td>\n",
       "      <td>45.0</td>\n",
       "    </tr>\n",
       "    <tr>\n",
       "      <th>90870</th>\n",
       "      <td>Buy Dirt</td>\n",
       "      <td>48</td>\n",
       "      <td>2021-07-31</td>\n",
       "      <td>Jordan Davis, Luke Bryan</td>\n",
       "      <td>https://open.spotify.com/track/69AIpwGNLxr4qS1...</td>\n",
       "      <td>United States</td>\n",
       "      <td>viral50</td>\n",
       "      <td>MOVE_UP</td>\n",
       "      <td>NaN</td>\n",
       "      <td>Jordan Davis</td>\n",
       "      <td>spotify:artist:77kULmXAQ6vWer7IIHdGzI</td>\n",
       "      <td>https://open.spotify.com/artist/77kULmXAQ6vWer...</td>\n",
       "      <td>Jordan Davis</td>\n",
       "      <td>69</td>\n",
       "      <td>['contemporary country']</td>\n",
       "      <td>648620</td>\n",
       "      <td>61.7</td>\n",
       "    </tr>\n",
       "    <tr>\n",
       "      <th>90871</th>\n",
       "      <td>Mónaco</td>\n",
       "      <td>49</td>\n",
       "      <td>2021-07-31</td>\n",
       "      <td>LAGOS, Danny Ocean</td>\n",
       "      <td>https://open.spotify.com/track/3HgvO4B5LLmdPOT...</td>\n",
       "      <td>United States</td>\n",
       "      <td>viral50</td>\n",
       "      <td>NEW_ENTRY</td>\n",
       "      <td>NaN</td>\n",
       "      <td>LAGOS</td>\n",
       "      <td>spotify:artist:7uQ1D2NNHs5cUL3CLKRbia</td>\n",
       "      <td>https://open.spotify.com/artist/7uQ1D2NNHs5cUL...</td>\n",
       "      <td>LAGOS</td>\n",
       "      <td>63</td>\n",
       "      <td>['pop venezolano']</td>\n",
       "      <td>45801</td>\n",
       "      <td>51.85</td>\n",
       "    </tr>\n",
       "    <tr>\n",
       "      <th>90872</th>\n",
       "      <td>Je te laisserai des mots</td>\n",
       "      <td>50</td>\n",
       "      <td>2021-07-31</td>\n",
       "      <td>Patrick Watson</td>\n",
       "      <td>https://open.spotify.com/track/0V5cvmTKsYmF5Fm...</td>\n",
       "      <td>United States</td>\n",
       "      <td>viral50</td>\n",
       "      <td>MOVE_DOWN</td>\n",
       "      <td>NaN</td>\n",
       "      <td>Patrick Watson</td>\n",
       "      <td>spotify:artist:7bPs6jf983f0bjRAt1yxDM</td>\n",
       "      <td>https://open.spotify.com/artist/7bPs6jf983f0bj...</td>\n",
       "      <td>Patrick Watson</td>\n",
       "      <td>68</td>\n",
       "      <td>[]</td>\n",
       "      <td>466307</td>\n",
       "      <td>45.7</td>\n",
       "    </tr>\n",
       "  </tbody>\n",
       "</table>\n",
       "<p>90873 rows × 17 columns</p>\n",
       "</div>"
      ],
      "text/plain": [
       "                              title  rank        date  \\\n",
       "0                               LMK    32  2017-08-09   \n",
       "1            Turn Up On the Weekend     1  2017-08-01   \n",
       "2                    Would You Ever     2  2017-08-01   \n",
       "3      Marmalade (feat. Lil Yachty)     3  2017-08-01   \n",
       "4                              Boys     4  2017-08-01   \n",
       "...                             ...   ...         ...   \n",
       "90868                    Bad Habits    46  2021-07-31   \n",
       "90869                    Not Around    47  2021-07-31   \n",
       "90870                      Buy Dirt    48  2021-07-31   \n",
       "90871                        Mónaco    49  2021-07-31   \n",
       "90872      Je te laisserai des mots    50  2021-07-31   \n",
       "\n",
       "                         artist  \\\n",
       "0                        Kelela   \n",
       "1             Branchez, Big Wet   \n",
       "2            Skrillex, Poo Bear   \n",
       "3                    Macklemore   \n",
       "4                    Charli XCX   \n",
       "...                         ...   \n",
       "90868                Ed Sheeran   \n",
       "90869                      Nova   \n",
       "90870  Jordan Davis, Luke Bryan   \n",
       "90871        LAGOS, Danny Ocean   \n",
       "90872            Patrick Watson   \n",
       "\n",
       "                                                     url         region  \\\n",
       "0      https://open.spotify.com/track/6XgtAeRYmbr4OfE...  United States   \n",
       "1      https://open.spotify.com/track/2AEzMPR01sg1wsX...  United States   \n",
       "2      https://open.spotify.com/track/57p8CBvPOxrvyCb...  United States   \n",
       "3      https://open.spotify.com/track/0RYXEibxMami3Qu...  United States   \n",
       "4      https://open.spotify.com/track/5o4yGlG0PfeVUa6...  United States   \n",
       "...                                                  ...            ...   \n",
       "90868  https://open.spotify.com/track/6PQ88X9TkUIAUIZ...  United States   \n",
       "90869  https://open.spotify.com/track/1Adhz5VVDZxhojO...  United States   \n",
       "90870  https://open.spotify.com/track/69AIpwGNLxr4qS1...  United States   \n",
       "90871  https://open.spotify.com/track/3HgvO4B5LLmdPOT...  United States   \n",
       "90872  https://open.spotify.com/track/0V5cvmTKsYmF5Fm...  United States   \n",
       "\n",
       "         chart          trend  streams    first_artist  \\\n",
       "0      viral50      NEW_ENTRY      NaN          Kelela   \n",
       "1      viral50  SAME_POSITION      NaN        Branchez   \n",
       "2      viral50  SAME_POSITION      NaN        Skrillex   \n",
       "3      viral50        MOVE_UP      NaN      Macklemore   \n",
       "4      viral50        MOVE_UP      NaN      Charli XCX   \n",
       "...        ...            ...      ...             ...   \n",
       "90868  viral50  SAME_POSITION      NaN      Ed Sheeran   \n",
       "90869  viral50  SAME_POSITION      NaN            Nova   \n",
       "90870  viral50        MOVE_UP      NaN    Jordan Davis   \n",
       "90871  viral50      NEW_ENTRY      NaN           LAGOS   \n",
       "90872  viral50      MOVE_DOWN      NaN  Patrick Watson   \n",
       "\n",
       "                                  artist_uri  \\\n",
       "0      spotify:artist:1U0sIzpRtDkvu1hXXzxh60   \n",
       "1      spotify:artist:4T5kpUiQUVJhuf9YT28qlf   \n",
       "2      spotify:artist:5he5w2lnU9x7JFhnwcekXX   \n",
       "3      spotify:artist:3JhNCzhSMTxs9WLGJJxWOY   \n",
       "4      spotify:artist:25uiPmTg16RbhZWAqwLBy5   \n",
       "...                                      ...   \n",
       "90868  spotify:artist:6eUKZXaKkcviH0Ku9w2n3V   \n",
       "90869  spotify:artist:3J2OSq7G34UlfnNB6YuZCF   \n",
       "90870  spotify:artist:77kULmXAQ6vWer7IIHdGzI   \n",
       "90871  spotify:artist:7uQ1D2NNHs5cUL3CLKRbia   \n",
       "90872  spotify:artist:7bPs6jf983f0bjRAt1yxDM   \n",
       "\n",
       "                                              artist_url     artist_name  \\\n",
       "0      https://open.spotify.com/artist/1U0sIzpRtDkvu1...          Kelela   \n",
       "1      https://open.spotify.com/artist/4T5kpUiQUVJhuf...        Branchez   \n",
       "2      https://open.spotify.com/artist/5he5w2lnU9x7JF...        Skrillex   \n",
       "3      https://open.spotify.com/artist/3JhNCzhSMTxs9W...      Macklemore   \n",
       "4      https://open.spotify.com/artist/25uiPmTg16RbhZ...      Charli XCX   \n",
       "...                                                  ...             ...   \n",
       "90868  https://open.spotify.com/artist/6eUKZXaKkcviH0...      Ed Sheeran   \n",
       "90869  https://open.spotify.com/artist/3J2OSq7G34Ulfn...            Nova   \n",
       "90870  https://open.spotify.com/artist/77kULmXAQ6vWer...    Jordan Davis   \n",
       "90871  https://open.spotify.com/artist/7uQ1D2NNHs5cUL...           LAGOS   \n",
       "90872  https://open.spotify.com/artist/7bPs6jf983f0bj...  Patrick Watson   \n",
       "\n",
       "       artist_popularity                                             genres  \\\n",
       "0                     46  ['afrofuturism', 'alternative r&b', 'art pop',...   \n",
       "1                     46                                ['electronic trap']   \n",
       "2                     74        ['brostep', 'complextro', 'edm', 'electro']   \n",
       "3                     75                     ['pop rap', 'seattle hip hop']   \n",
       "4                     76  ['art pop', 'candy pop', 'dance pop', 'electro...   \n",
       "...                  ...                                                ...   \n",
       "90868                 90                                  ['pop', 'uk pop']   \n",
       "90869                 58                                       ['hyperpop']   \n",
       "90870                 69                           ['contemporary country']   \n",
       "90871                 63                                 ['pop venezolano']   \n",
       "90872                 68                                                 []   \n",
       "\n",
       "       followers avg_related_artist_pop  \n",
       "0         271963                   49.1  \n",
       "1          15519                  53.85  \n",
       "2        8014229                   52.3  \n",
       "3        1873212                   53.2  \n",
       "4        2638291                  55.65  \n",
       "...          ...                    ...  \n",
       "90868   98709819                   74.7  \n",
       "90869      32182                   45.0  \n",
       "90870     648620                   61.7  \n",
       "90871      45801                  51.85  \n",
       "90872     466307                   45.7  \n",
       "\n",
       "[90873 rows x 17 columns]"
      ]
     },
     "execution_count": 134,
     "metadata": {},
     "output_type": "execute_result"
    }
   ],
   "source": [
    "v50"
   ]
  },
  {
   "cell_type": "code",
   "execution_count": 44,
   "id": "1ee6c481",
   "metadata": {},
   "outputs": [
    {
     "data": {
      "text/plain": [
       "Text(0.5, 1.0, 'Distribution of Artist Popularity in Viral 50')"
      ]
     },
     "execution_count": 44,
     "metadata": {},
     "output_type": "execute_result"
    },
    {
     "data": {
      "image/png": "[encoded data removed]",
      "text/plain": [
       "<Figure size 432x288 with 1 Axes>"
      ]
     },
     "metadata": {
      "needs_background": "light"
     },
     "output_type": "display_data"
    }
   ],
   "source": [
    "v50.groupby('artist_name').artist_popularity.max().sort_values(ascending=False).hist(bins=30).set_title('Distribution of Artist Popularity in Viral 50')"
   ]
  },
  {
   "cell_type": "code",
   "execution_count": 45,
   "id": "8e76a738",
   "metadata": {},
   "outputs": [
    {
     "data": {
      "text/plain": [
       "Text(0.5, 1.0, 'Distribution of Artist Popularity in Viral 50')"
      ]
     },
     "execution_count": 45,
     "metadata": {},
     "output_type": "execute_result"
    },
    {
     "data": {
      "image/png": "[encoded data removed]",
      "text/plain": [
       "<Figure size 432x288 with 1 Axes>"
      ]
     },
     "metadata": {
      "needs_background": "light"
     },
     "output_type": "display_data"
    }
   ],
   "source": [
    "v50.groupby('artist_uri').artist_popularity.max().sort_values(ascending=False).hist(bins=30).set_title('Distribution of Artist Popularity in Viral 50')"
   ]
  },
  {
   "cell_type": "code",
   "execution_count": 50,
   "id": "8463b42f",
   "metadata": {},
   "outputs": [],
   "source": [
    "pop = v50.groupby('artist_uri').artist_popularity.max().sort_values(ascending=False).to_frame().reset_index()"
   ]
  },
  {
   "cell_type": "code",
   "execution_count": 55,
   "id": "3fb6c70f",
   "metadata": {},
   "outputs": [
    {
     "data": {
      "text/plain": [
       "0.054981858777560705"
      ]
     },
     "execution_count": 55,
     "metadata": {},
     "output_type": "execute_result"
    }
   ],
   "source": [
    "pop[pop.artist_popularity < 10].shape[0]/pop.shape[0]"
   ]
  },
  {
   "cell_type": "code",
   "execution_count": 56,
   "id": "a3ad52a6",
   "metadata": {},
   "outputs": [],
   "source": [
    "followers = v50.groupby('artist_uri').followers.max().sort_values(ascending=False).to_frame().reset_index()"
   ]
  },
  {
   "cell_type": "code",
   "execution_count": 61,
   "id": "afe602d0",
   "metadata": {},
   "outputs": [
    {
     "data": {
      "text/html": [
       "<div>\n",
       "<style scoped>\n",
       "    .dataframe tbody tr th:only-of-type {\n",
       "        vertical-align: middle;\n",
       "    }\n",
       "\n",
       "    .dataframe tbody tr th {\n",
       "        vertical-align: top;\n",
       "    }\n",
       "\n",
       "    .dataframe thead th {\n",
       "        text-align: right;\n",
       "    }\n",
       "</style>\n",
       "<table border=\"1\" class=\"dataframe\">\n",
       "  <thead>\n",
       "    <tr style=\"text-align: right;\">\n",
       "      <th></th>\n",
       "      <th>artist_uri</th>\n",
       "      <th>followers</th>\n",
       "    </tr>\n",
       "  </thead>\n",
       "  <tbody>\n",
       "    <tr>\n",
       "      <th>0</th>\n",
       "      <td>spotify:artist:6eUKZXaKkcviH0Ku9w2n3V</td>\n",
       "      <td>98709819</td>\n",
       "    </tr>\n",
       "    <tr>\n",
       "      <th>1</th>\n",
       "      <td>spotify:artist:66CXWjxzNUsdJxJ2JdwvnR</td>\n",
       "      <td>80591528</td>\n",
       "    </tr>\n",
       "    <tr>\n",
       "      <th>2</th>\n",
       "      <td>spotify:artist:3TVXtAsR1Inumwj472S9r4</td>\n",
       "      <td>64338524</td>\n",
       "    </tr>\n",
       "    <tr>\n",
       "      <th>3</th>\n",
       "      <td>spotify:artist:6qqNVTkY8uBg9cP3Jd7DAH</td>\n",
       "      <td>64246955</td>\n",
       "    </tr>\n",
       "    <tr>\n",
       "      <th>4</th>\n",
       "      <td>spotify:artist:1uNFoZAHBGtllmzznpCI3s</td>\n",
       "      <td>62122551</td>\n",
       "    </tr>\n",
       "    <tr>\n",
       "      <th>...</th>\n",
       "      <td>...</td>\n",
       "      <td>...</td>\n",
       "    </tr>\n",
       "    <tr>\n",
       "      <th>3578</th>\n",
       "      <td>spotify:artist:6srUISKFp57KyZLOZiaRPe</td>\n",
       "      <td>24</td>\n",
       "    </tr>\n",
       "    <tr>\n",
       "      <th>3579</th>\n",
       "      <td>spotify:artist:3XREtyb6LdN2fSlLeLwgI2</td>\n",
       "      <td>23</td>\n",
       "    </tr>\n",
       "    <tr>\n",
       "      <th>3580</th>\n",
       "      <td>spotify:artist:1vxySIicfWN668pColKA57</td>\n",
       "      <td>16</td>\n",
       "    </tr>\n",
       "    <tr>\n",
       "      <th>3581</th>\n",
       "      <td>spotify:artist:2jXc0eeSJn0v5SkgCTX642</td>\n",
       "      <td>13</td>\n",
       "    </tr>\n",
       "    <tr>\n",
       "      <th>3582</th>\n",
       "      <td>spotify:artist:1PhksK0xoqsuJnFxP1gyEX</td>\n",
       "      <td>10</td>\n",
       "    </tr>\n",
       "  </tbody>\n",
       "</table>\n",
       "<p>3583 rows × 2 columns</p>\n",
       "</div>"
      ],
      "text/plain": [
       "                                 artist_uri  followers\n",
       "0     spotify:artist:6eUKZXaKkcviH0Ku9w2n3V   98709819\n",
       "1     spotify:artist:66CXWjxzNUsdJxJ2JdwvnR   80591528\n",
       "2     spotify:artist:3TVXtAsR1Inumwj472S9r4   64338524\n",
       "3     spotify:artist:6qqNVTkY8uBg9cP3Jd7DAH   64246955\n",
       "4     spotify:artist:1uNFoZAHBGtllmzznpCI3s   62122551\n",
       "...                                     ...        ...\n",
       "3578  spotify:artist:6srUISKFp57KyZLOZiaRPe         24\n",
       "3579  spotify:artist:3XREtyb6LdN2fSlLeLwgI2         23\n",
       "3580  spotify:artist:1vxySIicfWN668pColKA57         16\n",
       "3581  spotify:artist:2jXc0eeSJn0v5SkgCTX642         13\n",
       "3582  spotify:artist:1PhksK0xoqsuJnFxP1gyEX         10\n",
       "\n",
       "[3583 rows x 2 columns]"
      ]
     },
     "execution_count": 61,
     "metadata": {},
     "output_type": "execute_result"
    }
   ],
   "source": [
    "followers"
   ]
  },
  {
   "cell_type": "code",
   "execution_count": 62,
   "id": "f823548b",
   "metadata": {},
   "outputs": [
    {
     "data": {
      "text/html": [
       "<div>\n",
       "<style scoped>\n",
       "    .dataframe tbody tr th:only-of-type {\n",
       "        vertical-align: middle;\n",
       "    }\n",
       "\n",
       "    .dataframe tbody tr th {\n",
       "        vertical-align: top;\n",
       "    }\n",
       "\n",
       "    .dataframe thead th {\n",
       "        text-align: right;\n",
       "    }\n",
       "</style>\n",
       "<table border=\"1\" class=\"dataframe\">\n",
       "  <thead>\n",
       "    <tr style=\"text-align: right;\">\n",
       "      <th></th>\n",
       "      <th>artist_uri</th>\n",
       "      <th>artist_popularity</th>\n",
       "      <th>followers</th>\n",
       "    </tr>\n",
       "  </thead>\n",
       "  <tbody>\n",
       "    <tr>\n",
       "      <th>0</th>\n",
       "      <td>spotify:artist:4q3ewBCX7sLwd24euuV69X</td>\n",
       "      <td>100</td>\n",
       "      <td>50148432</td>\n",
       "    </tr>\n",
       "    <tr>\n",
       "      <th>1</th>\n",
       "      <td>spotify:artist:6KImCVD70vtIoJWnq6nGn3</td>\n",
       "      <td>94</td>\n",
       "      <td>21515988</td>\n",
       "    </tr>\n",
       "    <tr>\n",
       "      <th>2</th>\n",
       "      <td>spotify:artist:3TVXtAsR1Inumwj472S9r4</td>\n",
       "      <td>94</td>\n",
       "      <td>64338524</td>\n",
       "    </tr>\n",
       "    <tr>\n",
       "      <th>3</th>\n",
       "      <td>spotify:artist:06HL4z0CvFAxyc27GXpf02</td>\n",
       "      <td>92</td>\n",
       "      <td>54489898</td>\n",
       "    </tr>\n",
       "    <tr>\n",
       "      <th>4</th>\n",
       "      <td>spotify:artist:3Nrfpe0tUJi4K4DXYWgMUX</td>\n",
       "      <td>92</td>\n",
       "      <td>51128891</td>\n",
       "    </tr>\n",
       "    <tr>\n",
       "      <th>...</th>\n",
       "      <td>...</td>\n",
       "      <td>...</td>\n",
       "      <td>...</td>\n",
       "    </tr>\n",
       "    <tr>\n",
       "      <th>3578</th>\n",
       "      <td>spotify:artist:0EYtRAnAXxVITPKoEDf2OB</td>\n",
       "      <td>0</td>\n",
       "      <td>816</td>\n",
       "    </tr>\n",
       "    <tr>\n",
       "      <th>3579</th>\n",
       "      <td>spotify:artist:5qmehcPw8PAaLzOnjvlLoW</td>\n",
       "      <td>0</td>\n",
       "      <td>217</td>\n",
       "    </tr>\n",
       "    <tr>\n",
       "      <th>3580</th>\n",
       "      <td>spotify:artist:5nlnJcIMLd6HI8VwLqksmr</td>\n",
       "      <td>0</td>\n",
       "      <td>1609</td>\n",
       "    </tr>\n",
       "    <tr>\n",
       "      <th>3581</th>\n",
       "      <td>spotify:artist:7bwZSqJDfF7XjXBoi2C5CF</td>\n",
       "      <td>0</td>\n",
       "      <td>179</td>\n",
       "    </tr>\n",
       "    <tr>\n",
       "      <th>3582</th>\n",
       "      <td>spotify:artist:1HEh6j3024GpYqau93qg6h</td>\n",
       "      <td>0</td>\n",
       "      <td>209</td>\n",
       "    </tr>\n",
       "  </tbody>\n",
       "</table>\n",
       "<p>3583 rows × 3 columns</p>\n",
       "</div>"
      ],
      "text/plain": [
       "                                 artist_uri  artist_popularity  followers\n",
       "0     spotify:artist:4q3ewBCX7sLwd24euuV69X                100   50148432\n",
       "1     spotify:artist:6KImCVD70vtIoJWnq6nGn3                 94   21515988\n",
       "2     spotify:artist:3TVXtAsR1Inumwj472S9r4                 94   64338524\n",
       "3     spotify:artist:06HL4z0CvFAxyc27GXpf02                 92   54489898\n",
       "4     spotify:artist:3Nrfpe0tUJi4K4DXYWgMUX                 92   51128891\n",
       "...                                     ...                ...        ...\n",
       "3578  spotify:artist:0EYtRAnAXxVITPKoEDf2OB                  0        816\n",
       "3579  spotify:artist:5qmehcPw8PAaLzOnjvlLoW                  0        217\n",
       "3580  spotify:artist:5nlnJcIMLd6HI8VwLqksmr                  0       1609\n",
       "3581  spotify:artist:7bwZSqJDfF7XjXBoi2C5CF                  0        179\n",
       "3582  spotify:artist:1HEh6j3024GpYqau93qg6h                  0        209\n",
       "\n",
       "[3583 rows x 3 columns]"
      ]
     },
     "execution_count": 62,
     "metadata": {},
     "output_type": "execute_result"
    }
   ],
   "source": [
    "#popularity and followers joined: \n",
    "full = pop.merge(followers, how='left', on='artist_uri')\n",
    "\n",
    "full"
   ]
  },
  {
   "cell_type": "code",
   "execution_count": 65,
   "id": "650d33f5",
   "metadata": {},
   "outputs": [],
   "source": [
    "full = full.merge(tracks_per_artist, how='left', on='artist_uri')"
   ]
  },
  {
   "cell_type": "code",
   "execution_count": 66,
   "id": "d372ccba",
   "metadata": {},
   "outputs": [
    {
     "data": {
      "text/html": [
       "<div>\n",
       "<style scoped>\n",
       "    .dataframe tbody tr th:only-of-type {\n",
       "        vertical-align: middle;\n",
       "    }\n",
       "\n",
       "    .dataframe tbody tr th {\n",
       "        vertical-align: top;\n",
       "    }\n",
       "\n",
       "    .dataframe thead th {\n",
       "        text-align: right;\n",
       "    }\n",
       "</style>\n",
       "<table border=\"1\" class=\"dataframe\">\n",
       "  <thead>\n",
       "    <tr style=\"text-align: right;\">\n",
       "      <th></th>\n",
       "      <th>artist_uri</th>\n",
       "      <th>artist_popularity</th>\n",
       "      <th>followers</th>\n",
       "      <th>num_songs</th>\n",
       "    </tr>\n",
       "  </thead>\n",
       "  <tbody>\n",
       "    <tr>\n",
       "      <th>0</th>\n",
       "      <td>spotify:artist:4q3ewBCX7sLwd24euuV69X</td>\n",
       "      <td>100</td>\n",
       "      <td>50148432</td>\n",
       "      <td>19</td>\n",
       "    </tr>\n",
       "    <tr>\n",
       "      <th>1</th>\n",
       "      <td>spotify:artist:6KImCVD70vtIoJWnq6nGn3</td>\n",
       "      <td>94</td>\n",
       "      <td>21515988</td>\n",
       "      <td>18</td>\n",
       "    </tr>\n",
       "    <tr>\n",
       "      <th>2</th>\n",
       "      <td>spotify:artist:3TVXtAsR1Inumwj472S9r4</td>\n",
       "      <td>94</td>\n",
       "      <td>64338524</td>\n",
       "      <td>63</td>\n",
       "    </tr>\n",
       "    <tr>\n",
       "      <th>3</th>\n",
       "      <td>spotify:artist:06HL4z0CvFAxyc27GXpf02</td>\n",
       "      <td>92</td>\n",
       "      <td>54489898</td>\n",
       "      <td>22</td>\n",
       "    </tr>\n",
       "    <tr>\n",
       "      <th>4</th>\n",
       "      <td>spotify:artist:3Nrfpe0tUJi4K4DXYWgMUX</td>\n",
       "      <td>92</td>\n",
       "      <td>51128891</td>\n",
       "      <td>13</td>\n",
       "    </tr>\n",
       "    <tr>\n",
       "      <th>...</th>\n",
       "      <td>...</td>\n",
       "      <td>...</td>\n",
       "      <td>...</td>\n",
       "      <td>...</td>\n",
       "    </tr>\n",
       "    <tr>\n",
       "      <th>3578</th>\n",
       "      <td>spotify:artist:0EYtRAnAXxVITPKoEDf2OB</td>\n",
       "      <td>0</td>\n",
       "      <td>816</td>\n",
       "      <td>1</td>\n",
       "    </tr>\n",
       "    <tr>\n",
       "      <th>3579</th>\n",
       "      <td>spotify:artist:5qmehcPw8PAaLzOnjvlLoW</td>\n",
       "      <td>0</td>\n",
       "      <td>217</td>\n",
       "      <td>1</td>\n",
       "    </tr>\n",
       "    <tr>\n",
       "      <th>3580</th>\n",
       "      <td>spotify:artist:5nlnJcIMLd6HI8VwLqksmr</td>\n",
       "      <td>0</td>\n",
       "      <td>1609</td>\n",
       "      <td>1</td>\n",
       "    </tr>\n",
       "    <tr>\n",
       "      <th>3581</th>\n",
       "      <td>spotify:artist:7bwZSqJDfF7XjXBoi2C5CF</td>\n",
       "      <td>0</td>\n",
       "      <td>179</td>\n",
       "      <td>1</td>\n",
       "    </tr>\n",
       "    <tr>\n",
       "      <th>3582</th>\n",
       "      <td>spotify:artist:1HEh6j3024GpYqau93qg6h</td>\n",
       "      <td>0</td>\n",
       "      <td>209</td>\n",
       "      <td>1</td>\n",
       "    </tr>\n",
       "  </tbody>\n",
       "</table>\n",
       "<p>3583 rows × 4 columns</p>\n",
       "</div>"
      ],
      "text/plain": [
       "                                 artist_uri  artist_popularity  followers  \\\n",
       "0     spotify:artist:4q3ewBCX7sLwd24euuV69X                100   50148432   \n",
       "1     spotify:artist:6KImCVD70vtIoJWnq6nGn3                 94   21515988   \n",
       "2     spotify:artist:3TVXtAsR1Inumwj472S9r4                 94   64338524   \n",
       "3     spotify:artist:06HL4z0CvFAxyc27GXpf02                 92   54489898   \n",
       "4     spotify:artist:3Nrfpe0tUJi4K4DXYWgMUX                 92   51128891   \n",
       "...                                     ...                ...        ...   \n",
       "3578  spotify:artist:0EYtRAnAXxVITPKoEDf2OB                  0        816   \n",
       "3579  spotify:artist:5qmehcPw8PAaLzOnjvlLoW                  0        217   \n",
       "3580  spotify:artist:5nlnJcIMLd6HI8VwLqksmr                  0       1609   \n",
       "3581  spotify:artist:7bwZSqJDfF7XjXBoi2C5CF                  0        179   \n",
       "3582  spotify:artist:1HEh6j3024GpYqau93qg6h                  0        209   \n",
       "\n",
       "      num_songs  \n",
       "0            19  \n",
       "1            18  \n",
       "2            63  \n",
       "3            22  \n",
       "4            13  \n",
       "...         ...  \n",
       "3578          1  \n",
       "3579          1  \n",
       "3580          1  \n",
       "3581          1  \n",
       "3582          1  \n",
       "\n",
       "[3583 rows x 4 columns]"
      ]
     },
     "execution_count": 66,
     "metadata": {},
     "output_type": "execute_result"
    }
   ],
   "source": [
    "full"
   ]
  },
  {
   "cell_type": "code",
   "execution_count": 90,
   "id": "bc6f6f3f",
   "metadata": {},
   "outputs": [
    {
     "data": {
      "image/png": "[encoded data removed]",
      "text/plain": [
       "<Figure size 432x288 with 1 Axes>"
      ]
     },
     "metadata": {
      "needs_background": "light"
     },
     "output_type": "display_data"
    }
   ],
   "source": [
    "p = sns.scatterplot(data=full, x='artist_popularity', y='followers', hue='num_songs', palette='BuGn',\n",
    "               size='num_songs',sizes=(20,200)).set(title='Trends in Popularity, Followers, and Tracks', \n",
    "                                                   ylabel='Followers (10Ms)', xlabel='Artist Popularity', ylim=(0,70000000))\n"
   ]
  },
  {
   "cell_type": "code",
   "execution_count": 140,
   "id": "cebe17a1",
   "metadata": {},
   "outputs": [
    {
     "data": {
      "text/plain": [
       "3578"
      ]
     },
     "execution_count": 140,
     "metadata": {},
     "output_type": "execute_result"
    }
   ],
   "source": [
    "v50.artist_name.nunique()"
   ]
  },
  {
   "cell_type": "code",
   "execution_count": 147,
   "id": "64f4b3af",
   "metadata": {},
   "outputs": [
    {
     "data": {
      "text/plain": [
       "Text(0.5, 1.0, 'Distribution of Artist Followers in Viral 50')"
      ]
     },
     "execution_count": 147,
     "metadata": {},
     "output_type": "execute_result"
    },
    {
     "data": {
      "image/png": "[encoded data removed]",
      "text/plain": [
       "<Figure size 432x288 with 1 Axes>"
      ]
     },
     "metadata": {
      "needs_background": "light"
     },
     "output_type": "display_data"
    }
   ],
   "source": [
    "v50.groupby('artist_name').followers.max().sort_values(ascending=False).hist(bins=30).set_title('Distribution of Artist Followers in Viral 50')"
   ]
  },
  {
   "cell_type": "code",
   "execution_count": null,
   "id": "78cfcdf0",
   "metadata": {},
   "outputs": [],
   "source": []
  }
 ],
 "metadata": {
  "kernelspec": {
   "display_name": "Python 3",
   "language": "python",
   "name": "python3"
  },
  "language_info": {
   "codemirror_mode": {
    "name": "ipython",
    "version": 3
   },
   "file_extension": ".py",
   "mimetype": "text/x-python",
   "name": "python",
   "nbconvert_exporter": "python",
   "pygments_lexer": "ipython3",
   "version": "3.8.8"
  }
 },
 "nbformat": 4,
 "nbformat_minor": 5
}

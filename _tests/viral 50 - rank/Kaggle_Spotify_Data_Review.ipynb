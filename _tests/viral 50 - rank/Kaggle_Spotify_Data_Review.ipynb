{
  "cells": [
    {
      "cell_type": "markdown",
      "metadata": {
        "id": "Q1k_CVj5Dn7I"
      },
      "source": [
        "## MIDS - Spotify Base Data Review"
      ]
    },
    {
      "cell_type": "code",
      "source": [
        "## to mount GoogleDrive\n",
        "from google.colab import drive\n",
        "import os \n",
        "drive.mount('/content/drive')\n",
        "os.chdir('/content/drive/MyDrive/to_mount')"
      ],
      "metadata": {
        "colab": {
          "base_uri": "https://localhost:8080/"
        },
        "id": "cfshJY2zi48w",
        "outputId": "7dc28657-8a19-40f9-b6d9-c7c10e01ca33"
      },
      "execution_count": 1,
      "outputs": [
        {
          "output_type": "stream",
          "name": "stdout",
          "text": [
            "Mounted at /content/drive\n"
          ]
        }
      ]
    },
    {
      "cell_type": "code",
      "execution_count": 2,
      "metadata": {
        "id": "1PbO5mRYDn7K"
      },
      "outputs": [],
      "source": [
        "# base modules\n",
        "import pandas as pd\n",
        "import matplotlib.pyplot as plt\n",
        "import numpy as np\n",
        "import sklearn.model_selection\n",
        "import sklearn.metrics\n",
        "\n",
        "# non-base no import\n",
        "from pathlib import Path\n",
        "from bs4 import BeautifulSoup\n",
        "#from lyricsgenius import Genius\n",
        "import requests\n",
        "import seaborn as sns\n",
        "import json\n",
        "import xgboost as xgb\n",
        "import re"
      ]
    },
    {
      "cell_type": "code",
      "source": [
        "#!pip install spotipy\n",
        "#!pip install pymusixmatch"
      ],
      "metadata": {
        "id": "N7Ln36-pKp--"
      },
      "execution_count": 3,
      "outputs": []
    },
    {
      "cell_type": "code",
      "source": [
        "# import packages\n",
        "import spotipy\n",
        "from spotipy.oauth2 import SpotifyClientCredentials\n",
        "from musixmatch import Musixmatch\n",
        "from nltk.sentiment import SentimentIntensityAnalyzer\n",
        "import nltk"
      ],
      "metadata": {
        "id": "2J_lT7AtybIP"
      },
      "execution_count": 4,
      "outputs": []
    },
    {
      "cell_type": "code",
      "source": [
        "nltk.download([\"names\",\"stopwords\",\"state_union\",\"twitter_samples\",\"movie_reviews\", \"averaged_perceptron_tagger\",\"vader_lexicon\",\"punkt\"])"
      ],
      "metadata": {
        "colab": {
          "base_uri": "https://localhost:8080/"
        },
        "id": "eE_8OV3eX175",
        "outputId": "d23836ac-093b-470a-d8c4-77e77ca6a4b0"
      },
      "execution_count": 5,
      "outputs": [
        {
          "output_type": "stream",
          "name": "stderr",
          "text": [
            "[nltk_data] Downloading package names to /root/nltk_data...\n",
            "[nltk_data]   Unzipping corpora/names.zip.\n",
            "[nltk_data] Downloading package stopwords to /root/nltk_data...\n",
            "[nltk_data]   Unzipping corpora/stopwords.zip.\n",
            "[nltk_data] Downloading package state_union to /root/nltk_data...\n",
            "[nltk_data]   Unzipping corpora/state_union.zip.\n",
            "[nltk_data] Downloading package twitter_samples to /root/nltk_data...\n",
            "[nltk_data]   Unzipping corpora/twitter_samples.zip.\n",
            "[nltk_data] Downloading package movie_reviews to /root/nltk_data...\n",
            "[nltk_data]   Unzipping corpora/movie_reviews.zip.\n",
            "[nltk_data] Downloading package averaged_perceptron_tagger to\n",
            "[nltk_data]     /root/nltk_data...\n",
            "[nltk_data]   Unzipping taggers/averaged_perceptron_tagger.zip.\n",
            "[nltk_data] Downloading package vader_lexicon to /root/nltk_data...\n",
            "[nltk_data] Downloading package punkt to /root/nltk_data...\n",
            "[nltk_data]   Unzipping tokenizers/punkt.zip.\n"
          ]
        },
        {
          "output_type": "execute_result",
          "data": {
            "text/plain": [
              "True"
            ]
          },
          "metadata": {},
          "execution_count": 5
        }
      ]
    },
    {
      "cell_type": "code",
      "source": [
        "#Spotify creds\n",
        "cid = Path('_keys/cid.txt').read_text()\n",
        "secret = Path('_keys/secret.txt').read_text()\n",
        "\n",
        "#Genius creds\n",
        "# genius_cid = Path('_keys/genius_cid.txt').read_text()\n",
        "# genius_secret = Path('_keys/genius_secret.txt').read_text()\n",
        "\n",
        "#Musixmatch creds\n",
        "musix_cid = Path('_keys/musix_id.txt').read_text()"
      ],
      "metadata": {
        "id": "iHRT9kCuEdmc"
      },
      "execution_count": 6,
      "outputs": []
    },
    {
      "cell_type": "code",
      "source": [
        "client_credentials_manager = SpotifyClientCredentials(client_id=cid, client_secret=secret)\n",
        "sp = spotipy.Spotify(client_credentials_manager=client_credentials_manager)\n",
        "\n",
        "# genius = Genius(genius_cid)"
      ],
      "metadata": {
        "id": "geY7HaBUEOev"
      },
      "execution_count": 7,
      "outputs": []
    },
    {
      "cell_type": "code",
      "execution_count": 8,
      "metadata": {
        "id": "r2UqxQZpDn7N"
      },
      "outputs": [],
      "source": [
        "data = pd.read_csv('_data/charts.csv')"
      ]
    },
    {
      "cell_type": "code",
      "source": [
        "data.head()"
      ],
      "metadata": {
        "colab": {
          "base_uri": "https://localhost:8080/",
          "height": 327
        },
        "id": "smoXWE2OmXgw",
        "outputId": "a878e754-3d11-4c1e-a54c-98f5682e0754"
      },
      "execution_count": 9,
      "outputs": [
        {
          "output_type": "execute_result",
          "data": {
            "text/plain": [
              "                         title  rank        date  \\\n",
              "0      Chantaje (feat. Maluma)     1  2017-01-01   \n",
              "1  Vente Pa' Ca (feat. Maluma)     2  2017-01-01   \n",
              "2   Reggaetón Lento (Bailemos)     3  2017-01-01   \n",
              "3                       Safari     4  2017-01-01   \n",
              "4                  Shaky Shaky     5  2017-01-01   \n",
              "\n",
              "                                  artist  \\\n",
              "0                                Shakira   \n",
              "1                           Ricky Martin   \n",
              "2                                   CNCO   \n",
              "3  J Balvin, Pharrell Williams, BIA, Sky   \n",
              "4                           Daddy Yankee   \n",
              "\n",
              "                                                 url     region   chart  \\\n",
              "0  https://open.spotify.com/track/6mICuAdrwEjh6Y6...  Argentina  top200   \n",
              "1  https://open.spotify.com/track/7DM4BPaS7uofFul...  Argentina  top200   \n",
              "2  https://open.spotify.com/track/3AEZUABDXNtecAO...  Argentina  top200   \n",
              "3  https://open.spotify.com/track/6rQSrBHf7HlZjtc...  Argentina  top200   \n",
              "4  https://open.spotify.com/track/58IL315gMSTD37D...  Argentina  top200   \n",
              "\n",
              "           trend   streams  \n",
              "0  SAME_POSITION  253019.0  \n",
              "1        MOVE_UP  223988.0  \n",
              "2      MOVE_DOWN  210943.0  \n",
              "3  SAME_POSITION  173865.0  \n",
              "4        MOVE_UP  153956.0  "
            ],
            "text/html": [
              "\n",
              "  <div id=\"df-48e29b0c-7054-47ba-bae5-5c67f09473e4\">\n",
              "    <div class=\"colab-df-container\">\n",
              "      <div>\n",
              "<style scoped>\n",
              "    .dataframe tbody tr th:only-of-type {\n",
              "        vertical-align: middle;\n",
              "    }\n",
              "\n",
              "    .dataframe tbody tr th {\n",
              "        vertical-align: top;\n",
              "    }\n",
              "\n",
              "    .dataframe thead th {\n",
              "        text-align: right;\n",
              "    }\n",
              "</style>\n",
              "<table border=\"1\" class=\"dataframe\">\n",
              "  <thead>\n",
              "    <tr style=\"text-align: right;\">\n",
              "      <th></th>\n",
              "      <th>title</th>\n",
              "      <th>rank</th>\n",
              "      <th>date</th>\n",
              "      <th>artist</th>\n",
              "      <th>url</th>\n",
              "      <th>region</th>\n",
              "      <th>chart</th>\n",
              "      <th>trend</th>\n",
              "      <th>streams</th>\n",
              "    </tr>\n",
              "  </thead>\n",
              "  <tbody>\n",
              "    <tr>\n",
              "      <th>0</th>\n",
              "      <td>Chantaje (feat. Maluma)</td>\n",
              "      <td>1</td>\n",
              "      <td>2017-01-01</td>\n",
              "      <td>Shakira</td>\n",
              "      <td>https://open.spotify.com/track/6mICuAdrwEjh6Y6...</td>\n",
              "      <td>Argentina</td>\n",
              "      <td>top200</td>\n",
              "      <td>SAME_POSITION</td>\n",
              "      <td>253019.0</td>\n",
              "    </tr>\n",
              "    <tr>\n",
              "      <th>1</th>\n",
              "      <td>Vente Pa' Ca (feat. Maluma)</td>\n",
              "      <td>2</td>\n",
              "      <td>2017-01-01</td>\n",
              "      <td>Ricky Martin</td>\n",
              "      <td>https://open.spotify.com/track/7DM4BPaS7uofFul...</td>\n",
              "      <td>Argentina</td>\n",
              "      <td>top200</td>\n",
              "      <td>MOVE_UP</td>\n",
              "      <td>223988.0</td>\n",
              "    </tr>\n",
              "    <tr>\n",
              "      <th>2</th>\n",
              "      <td>Reggaetón Lento (Bailemos)</td>\n",
              "      <td>3</td>\n",
              "      <td>2017-01-01</td>\n",
              "      <td>CNCO</td>\n",
              "      <td>https://open.spotify.com/track/3AEZUABDXNtecAO...</td>\n",
              "      <td>Argentina</td>\n",
              "      <td>top200</td>\n",
              "      <td>MOVE_DOWN</td>\n",
              "      <td>210943.0</td>\n",
              "    </tr>\n",
              "    <tr>\n",
              "      <th>3</th>\n",
              "      <td>Safari</td>\n",
              "      <td>4</td>\n",
              "      <td>2017-01-01</td>\n",
              "      <td>J Balvin, Pharrell Williams, BIA, Sky</td>\n",
              "      <td>https://open.spotify.com/track/6rQSrBHf7HlZjtc...</td>\n",
              "      <td>Argentina</td>\n",
              "      <td>top200</td>\n",
              "      <td>SAME_POSITION</td>\n",
              "      <td>173865.0</td>\n",
              "    </tr>\n",
              "    <tr>\n",
              "      <th>4</th>\n",
              "      <td>Shaky Shaky</td>\n",
              "      <td>5</td>\n",
              "      <td>2017-01-01</td>\n",
              "      <td>Daddy Yankee</td>\n",
              "      <td>https://open.spotify.com/track/58IL315gMSTD37D...</td>\n",
              "      <td>Argentina</td>\n",
              "      <td>top200</td>\n",
              "      <td>MOVE_UP</td>\n",
              "      <td>153956.0</td>\n",
              "    </tr>\n",
              "  </tbody>\n",
              "</table>\n",
              "</div>\n",
              "      <button class=\"colab-df-convert\" onclick=\"convertToInteractive('df-48e29b0c-7054-47ba-bae5-5c67f09473e4')\"\n",
              "              title=\"Convert this dataframe to an interactive table.\"\n",
              "              style=\"display:none;\">\n",
              "        \n",
              "  <svg xmlns=\"http://www.w3.org/2000/svg\" height=\"24px\"viewBox=\"0 0 24 24\"\n",
              "       width=\"24px\">\n",
              "    <path d=\"M0 0h24v24H0V0z\" fill=\"none\"/>\n",
              "    <path d=\"M18.56 5.44l.94 2.06.94-2.06 2.06-.94-2.06-.94-.94-2.06-.94 2.06-2.06.94zm-11 1L8.5 8.5l.94-2.06 2.06-.94-2.06-.94L8.5 2.5l-.94 2.06-2.06.94zm10 10l.94 2.06.94-2.06 2.06-.94-2.06-.94-.94-2.06-.94 2.06-2.06.94z\"/><path d=\"M17.41 7.96l-1.37-1.37c-.4-.4-.92-.59-1.43-.59-.52 0-1.04.2-1.43.59L10.3 9.45l-7.72 7.72c-.78.78-.78 2.05 0 2.83L4 21.41c.39.39.9.59 1.41.59.51 0 1.02-.2 1.41-.59l7.78-7.78 2.81-2.81c.8-.78.8-2.07 0-2.86zM5.41 20L4 18.59l7.72-7.72 1.47 1.35L5.41 20z\"/>\n",
              "  </svg>\n",
              "      </button>\n",
              "      \n",
              "  <style>\n",
              "    .colab-df-container {\n",
              "      display:flex;\n",
              "      flex-wrap:wrap;\n",
              "      gap: 12px;\n",
              "    }\n",
              "\n",
              "    .colab-df-convert {\n",
              "      background-color: #E8F0FE;\n",
              "      border: none;\n",
              "      border-radius: 50%;\n",
              "      cursor: pointer;\n",
              "      display: none;\n",
              "      fill: #1967D2;\n",
              "      height: 32px;\n",
              "      padding: 0 0 0 0;\n",
              "      width: 32px;\n",
              "    }\n",
              "\n",
              "    .colab-df-convert:hover {\n",
              "      background-color: #E2EBFA;\n",
              "      box-shadow: 0px 1px 2px rgba(60, 64, 67, 0.3), 0px 1px 3px 1px rgba(60, 64, 67, 0.15);\n",
              "      fill: #174EA6;\n",
              "    }\n",
              "\n",
              "    [theme=dark] .colab-df-convert {\n",
              "      background-color: #3B4455;\n",
              "      fill: #D2E3FC;\n",
              "    }\n",
              "\n",
              "    [theme=dark] .colab-df-convert:hover {\n",
              "      background-color: #434B5C;\n",
              "      box-shadow: 0px 1px 3px 1px rgba(0, 0, 0, 0.15);\n",
              "      filter: drop-shadow(0px 1px 2px rgba(0, 0, 0, 0.3));\n",
              "      fill: #FFFFFF;\n",
              "    }\n",
              "  </style>\n",
              "\n",
              "      <script>\n",
              "        const buttonEl =\n",
              "          document.querySelector('#df-48e29b0c-7054-47ba-bae5-5c67f09473e4 button.colab-df-convert');\n",
              "        buttonEl.style.display =\n",
              "          google.colab.kernel.accessAllowed ? 'block' : 'none';\n",
              "\n",
              "        async function convertToInteractive(key) {\n",
              "          const element = document.querySelector('#df-48e29b0c-7054-47ba-bae5-5c67f09473e4');\n",
              "          const dataTable =\n",
              "            await google.colab.kernel.invokeFunction('convertToInteractive',\n",
              "                                                     [key], {});\n",
              "          if (!dataTable) return;\n",
              "\n",
              "          const docLinkHtml = 'Like what you see? Visit the ' +\n",
              "            '<a target=\"_blank\" href=https://colab.research.google.com/notebooks/data_table.ipynb>data table notebook</a>'\n",
              "            + ' to learn more about interactive tables.';\n",
              "          element.innerHTML = '';\n",
              "          dataTable['output_type'] = 'display_data';\n",
              "          await google.colab.output.renderOutput(dataTable, element);\n",
              "          const docLink = document.createElement('div');\n",
              "          docLink.innerHTML = docLinkHtml;\n",
              "          element.appendChild(docLink);\n",
              "        }\n",
              "      </script>\n",
              "    </div>\n",
              "  </div>\n",
              "  "
            ]
          },
          "metadata": {},
          "execution_count": 9
        }
      ]
    },
    {
      "cell_type": "code",
      "execution_count": 10,
      "metadata": {
        "colab": {
          "base_uri": "https://localhost:8080/"
        },
        "id": "m5KEMzuXDn7O",
        "outputId": "ce175d00-ee7c-4a05-d2d5-ad3d398cd88d"
      },
      "outputs": [
        {
          "output_type": "stream",
          "name": "stdout",
          "text": [
            "top200     20321904\n",
            "viral50     5851610\n",
            "Name: chart, dtype: int64\n",
            "Argentina        455308\n",
            "United States    455057\n",
            "Austria          454593\n",
            "Brazil           454439\n",
            "Australia        453103\n",
            "                  ...  \n",
            "Ukraine          127544\n",
            "Russia           126837\n",
            "Luxembourg        98053\n",
            "Andorra           79592\n",
            "South Korea       76276\n",
            "Name: region, Length: 70, dtype: int64\n"
          ]
        }
      ],
      "source": [
        "print(data['chart'].value_counts())\n",
        "print(data['region'].value_counts())\n",
        "\n",
        "## suggest narrowing scope to just viral50 in US"
      ]
    },
    {
      "cell_type": "code",
      "execution_count": 11,
      "metadata": {
        "id": "tf52-6GADn7P"
      },
      "outputs": [],
      "source": [
        "use_songs = data.loc[(data.chart == 'viral50') & \n",
        "                     (data.region == 'United States')]"
      ]
    },
    {
      "cell_type": "code",
      "source": [
        "print(\"number of unique songs: \", len(use_songs.url.unique()))\n",
        "print(\"number of unique artists: \", len(use_songs.artist.unique()))"
      ],
      "metadata": {
        "colab": {
          "base_uri": "https://localhost:8080/"
        },
        "id": "sYvyIgnpm31K",
        "outputId": "797177fd-edd4-4dad-bc4e-c705b7444409"
      },
      "execution_count": null,
      "outputs": [
        {
          "output_type": "stream",
          "name": "stdout",
          "text": [
            "number of unique songs:  7974\n",
            "number of unique artists:  4380\n"
          ]
        }
      ]
    },
    {
      "cell_type": "code",
      "source": [
        "unique_url = use_songs['url'].unique()"
      ],
      "metadata": {
        "id": "Cv-5DAjFNgWE"
      },
      "execution_count": null,
      "outputs": []
    },
    {
      "cell_type": "code",
      "execution_count": null,
      "metadata": {
        "id": "glaNqFQ_Dn7P"
      },
      "outputs": [],
      "source": [
        "## get spotify data popularity\n",
        "def popularity(df):\n",
        "    empty = []\n",
        "    for i in df:\n",
        "      #print(i)\n",
        "      series_track = pd.Series(sp.track(i))\n",
        "      empty.append(series_track)\n",
        "    df2 = pd.DataFrame(empty)\n",
        "    return df2\n",
        "\n",
        "spotify_pull = popularity(unique_url)"
      ]
    },
    {
      "cell_type": "code",
      "execution_count": 16,
      "metadata": {
        "id": "UeidMkdeDn7P",
        "colab": {
          "base_uri": "https://localhost:8080/",
          "height": 528
        },
        "outputId": "4979e182-4131-4406-a41e-90c724167ab9"
      },
      "outputs": [
        {
          "output_type": "execute_result",
          "data": {
            "text/plain": [
              "   Unnamed: 0                                              album  \\\n",
              "0           0  {'album_type': 'single', 'artists': [{'externa...   \n",
              "1           1  {'album_type': 'single', 'artists': [{'externa...   \n",
              "2           2  {'album_type': 'single', 'artists': [{'externa...   \n",
              "3           3  {'album_type': 'single', 'artists': [{'externa...   \n",
              "4           4  {'album_type': 'single', 'artists': [{'externa...   \n",
              "\n",
              "                                             artists  \\\n",
              "0  [{'external_urls': {'spotify': 'https://open.s...   \n",
              "1  [{'external_urls': {'spotify': 'https://open.s...   \n",
              "2  [{'external_urls': {'spotify': 'https://open.s...   \n",
              "3  [{'external_urls': {'spotify': 'https://open.s...   \n",
              "4  [{'external_urls': {'spotify': 'https://open.s...   \n",
              "\n",
              "                                   available_markets  disc_number  \\\n",
              "0  ['AD', 'AE', 'AG', 'AL', 'AM', 'AO', 'AR', 'AT...            1   \n",
              "1  ['AD', 'AE', 'AG', 'AM', 'AO', 'AR', 'AT', 'AU...            1   \n",
              "2  ['AD', 'AE', 'AG', 'AL', 'AM', 'AO', 'AR', 'AT...            1   \n",
              "3                                                 []            1   \n",
              "4  ['AD', 'AE', 'AG', 'AL', 'AM', 'AO', 'AR', 'AT...            1   \n",
              "\n",
              "   duration_ms  explicit              external_ids  \\\n",
              "0       218319     False  {'isrc': 'GBBPW1700118'}   \n",
              "1       199741      True  {'isrc': 'TCADD1721892'}   \n",
              "2       234285     False  {'isrc': 'USAT21702382'}   \n",
              "3       261614      True  {'isrc': 'QZ8TY1700008'}   \n",
              "4       162585     False  {'isrc': 'GBAHS1700564'}   \n",
              "\n",
              "                                       external_urls  \\\n",
              "0  {'spotify': 'https://open.spotify.com/track/6X...   \n",
              "1  {'spotify': 'https://open.spotify.com/track/2A...   \n",
              "2  {'spotify': 'https://open.spotify.com/track/57...   \n",
              "3  {'spotify': 'https://open.spotify.com/track/0R...   \n",
              "4  {'spotify': 'https://open.spotify.com/track/5o...   \n",
              "\n",
              "                                                href                      id  \\\n",
              "0  https://api.spotify.com/v1/tracks/6XgtAeRYmbr4...  6XgtAeRYmbr4OfEUP3q0D3   \n",
              "1  https://api.spotify.com/v1/tracks/2AEzMPR01sg1...  2AEzMPR01sg1wsXurYrgDx   \n",
              "2  https://api.spotify.com/v1/tracks/57p8CBvPOxrv...  57p8CBvPOxrvyCbn6ttl5r   \n",
              "3  https://api.spotify.com/v1/tracks/0RYXEibxMami...  0RYXEibxMami3QuT8kn4Iz   \n",
              "4  https://api.spotify.com/v1/tracks/5o4yGlG0PfeV...  5o4yGlG0PfeVUa6ClIyOxq   \n",
              "\n",
              "   is_local                          name  popularity  \\\n",
              "0     False                           LMK          23   \n",
              "1     False        Turn Up On the Weekend          38   \n",
              "2     False                Would You Ever          61   \n",
              "3     False  Marmalade (feat. Lil Yachty)           0   \n",
              "4     False                          Boys          62   \n",
              "\n",
              "                                         preview_url  track_number   type  \\\n",
              "0  https://p.scdn.co/mp3-preview/f45c9bfa1065769d...             1  track   \n",
              "1  https://p.scdn.co/mp3-preview/c21e5b0857dfd30e...             1  track   \n",
              "2  https://p.scdn.co/mp3-preview/31ee7b84a59f1062...             1  track   \n",
              "3                                                NaN             1  track   \n",
              "4  https://p.scdn.co/mp3-preview/7de075b189146e50...             1  track   \n",
              "\n",
              "                                    uri  \n",
              "0  spotify:track:6XgtAeRYmbr4OfEUP3q0D3  \n",
              "1  spotify:track:2AEzMPR01sg1wsXurYrgDx  \n",
              "2  spotify:track:57p8CBvPOxrvyCbn6ttl5r  \n",
              "3  spotify:track:0RYXEibxMami3QuT8kn4Iz  \n",
              "4  spotify:track:5o4yGlG0PfeVUa6ClIyOxq  "
            ],
            "text/html": [
              "\n",
              "  <div id=\"df-d9069b1e-e945-4d44-bbb6-15f71ff3ea98\">\n",
              "    <div class=\"colab-df-container\">\n",
              "      <div>\n",
              "<style scoped>\n",
              "    .dataframe tbody tr th:only-of-type {\n",
              "        vertical-align: middle;\n",
              "    }\n",
              "\n",
              "    .dataframe tbody tr th {\n",
              "        vertical-align: top;\n",
              "    }\n",
              "\n",
              "    .dataframe thead th {\n",
              "        text-align: right;\n",
              "    }\n",
              "</style>\n",
              "<table border=\"1\" class=\"dataframe\">\n",
              "  <thead>\n",
              "    <tr style=\"text-align: right;\">\n",
              "      <th></th>\n",
              "      <th>Unnamed: 0</th>\n",
              "      <th>album</th>\n",
              "      <th>artists</th>\n",
              "      <th>available_markets</th>\n",
              "      <th>disc_number</th>\n",
              "      <th>duration_ms</th>\n",
              "      <th>explicit</th>\n",
              "      <th>external_ids</th>\n",
              "      <th>external_urls</th>\n",
              "      <th>href</th>\n",
              "      <th>id</th>\n",
              "      <th>is_local</th>\n",
              "      <th>name</th>\n",
              "      <th>popularity</th>\n",
              "      <th>preview_url</th>\n",
              "      <th>track_number</th>\n",
              "      <th>type</th>\n",
              "      <th>uri</th>\n",
              "    </tr>\n",
              "  </thead>\n",
              "  <tbody>\n",
              "    <tr>\n",
              "      <th>0</th>\n",
              "      <td>0</td>\n",
              "      <td>{'album_type': 'single', 'artists': [{'externa...</td>\n",
              "      <td>[{'external_urls': {'spotify': 'https://open.s...</td>\n",
              "      <td>['AD', 'AE', 'AG', 'AL', 'AM', 'AO', 'AR', 'AT...</td>\n",
              "      <td>1</td>\n",
              "      <td>218319</td>\n",
              "      <td>False</td>\n",
              "      <td>{'isrc': 'GBBPW1700118'}</td>\n",
              "      <td>{'spotify': 'https://open.spotify.com/track/6X...</td>\n",
              "      <td>https://api.spotify.com/v1/tracks/6XgtAeRYmbr4...</td>\n",
              "      <td>6XgtAeRYmbr4OfEUP3q0D3</td>\n",
              "      <td>False</td>\n",
              "      <td>LMK</td>\n",
              "      <td>23</td>\n",
              "      <td>https://p.scdn.co/mp3-preview/f45c9bfa1065769d...</td>\n",
              "      <td>1</td>\n",
              "      <td>track</td>\n",
              "      <td>spotify:track:6XgtAeRYmbr4OfEUP3q0D3</td>\n",
              "    </tr>\n",
              "    <tr>\n",
              "      <th>1</th>\n",
              "      <td>1</td>\n",
              "      <td>{'album_type': 'single', 'artists': [{'externa...</td>\n",
              "      <td>[{'external_urls': {'spotify': 'https://open.s...</td>\n",
              "      <td>['AD', 'AE', 'AG', 'AM', 'AO', 'AR', 'AT', 'AU...</td>\n",
              "      <td>1</td>\n",
              "      <td>199741</td>\n",
              "      <td>True</td>\n",
              "      <td>{'isrc': 'TCADD1721892'}</td>\n",
              "      <td>{'spotify': 'https://open.spotify.com/track/2A...</td>\n",
              "      <td>https://api.spotify.com/v1/tracks/2AEzMPR01sg1...</td>\n",
              "      <td>2AEzMPR01sg1wsXurYrgDx</td>\n",
              "      <td>False</td>\n",
              "      <td>Turn Up On the Weekend</td>\n",
              "      <td>38</td>\n",
              "      <td>https://p.scdn.co/mp3-preview/c21e5b0857dfd30e...</td>\n",
              "      <td>1</td>\n",
              "      <td>track</td>\n",
              "      <td>spotify:track:2AEzMPR01sg1wsXurYrgDx</td>\n",
              "    </tr>\n",
              "    <tr>\n",
              "      <th>2</th>\n",
              "      <td>2</td>\n",
              "      <td>{'album_type': 'single', 'artists': [{'externa...</td>\n",
              "      <td>[{'external_urls': {'spotify': 'https://open.s...</td>\n",
              "      <td>['AD', 'AE', 'AG', 'AL', 'AM', 'AO', 'AR', 'AT...</td>\n",
              "      <td>1</td>\n",
              "      <td>234285</td>\n",
              "      <td>False</td>\n",
              "      <td>{'isrc': 'USAT21702382'}</td>\n",
              "      <td>{'spotify': 'https://open.spotify.com/track/57...</td>\n",
              "      <td>https://api.spotify.com/v1/tracks/57p8CBvPOxrv...</td>\n",
              "      <td>57p8CBvPOxrvyCbn6ttl5r</td>\n",
              "      <td>False</td>\n",
              "      <td>Would You Ever</td>\n",
              "      <td>61</td>\n",
              "      <td>https://p.scdn.co/mp3-preview/31ee7b84a59f1062...</td>\n",
              "      <td>1</td>\n",
              "      <td>track</td>\n",
              "      <td>spotify:track:57p8CBvPOxrvyCbn6ttl5r</td>\n",
              "    </tr>\n",
              "    <tr>\n",
              "      <th>3</th>\n",
              "      <td>3</td>\n",
              "      <td>{'album_type': 'single', 'artists': [{'externa...</td>\n",
              "      <td>[{'external_urls': {'spotify': 'https://open.s...</td>\n",
              "      <td>[]</td>\n",
              "      <td>1</td>\n",
              "      <td>261614</td>\n",
              "      <td>True</td>\n",
              "      <td>{'isrc': 'QZ8TY1700008'}</td>\n",
              "      <td>{'spotify': 'https://open.spotify.com/track/0R...</td>\n",
              "      <td>https://api.spotify.com/v1/tracks/0RYXEibxMami...</td>\n",
              "      <td>0RYXEibxMami3QuT8kn4Iz</td>\n",
              "      <td>False</td>\n",
              "      <td>Marmalade (feat. Lil Yachty)</td>\n",
              "      <td>0</td>\n",
              "      <td>NaN</td>\n",
              "      <td>1</td>\n",
              "      <td>track</td>\n",
              "      <td>spotify:track:0RYXEibxMami3QuT8kn4Iz</td>\n",
              "    </tr>\n",
              "    <tr>\n",
              "      <th>4</th>\n",
              "      <td>4</td>\n",
              "      <td>{'album_type': 'single', 'artists': [{'externa...</td>\n",
              "      <td>[{'external_urls': {'spotify': 'https://open.s...</td>\n",
              "      <td>['AD', 'AE', 'AG', 'AL', 'AM', 'AO', 'AR', 'AT...</td>\n",
              "      <td>1</td>\n",
              "      <td>162585</td>\n",
              "      <td>False</td>\n",
              "      <td>{'isrc': 'GBAHS1700564'}</td>\n",
              "      <td>{'spotify': 'https://open.spotify.com/track/5o...</td>\n",
              "      <td>https://api.spotify.com/v1/tracks/5o4yGlG0PfeV...</td>\n",
              "      <td>5o4yGlG0PfeVUa6ClIyOxq</td>\n",
              "      <td>False</td>\n",
              "      <td>Boys</td>\n",
              "      <td>62</td>\n",
              "      <td>https://p.scdn.co/mp3-preview/7de075b189146e50...</td>\n",
              "      <td>1</td>\n",
              "      <td>track</td>\n",
              "      <td>spotify:track:5o4yGlG0PfeVUa6ClIyOxq</td>\n",
              "    </tr>\n",
              "  </tbody>\n",
              "</table>\n",
              "</div>\n",
              "      <button class=\"colab-df-convert\" onclick=\"convertToInteractive('df-d9069b1e-e945-4d44-bbb6-15f71ff3ea98')\"\n",
              "              title=\"Convert this dataframe to an interactive table.\"\n",
              "              style=\"display:none;\">\n",
              "        \n",
              "  <svg xmlns=\"http://www.w3.org/2000/svg\" height=\"24px\"viewBox=\"0 0 24 24\"\n",
              "       width=\"24px\">\n",
              "    <path d=\"M0 0h24v24H0V0z\" fill=\"none\"/>\n",
              "    <path d=\"M18.56 5.44l.94 2.06.94-2.06 2.06-.94-2.06-.94-.94-2.06-.94 2.06-2.06.94zm-11 1L8.5 8.5l.94-2.06 2.06-.94-2.06-.94L8.5 2.5l-.94 2.06-2.06.94zm10 10l.94 2.06.94-2.06 2.06-.94-2.06-.94-.94-2.06-.94 2.06-2.06.94z\"/><path d=\"M17.41 7.96l-1.37-1.37c-.4-.4-.92-.59-1.43-.59-.52 0-1.04.2-1.43.59L10.3 9.45l-7.72 7.72c-.78.78-.78 2.05 0 2.83L4 21.41c.39.39.9.59 1.41.59.51 0 1.02-.2 1.41-.59l7.78-7.78 2.81-2.81c.8-.78.8-2.07 0-2.86zM5.41 20L4 18.59l7.72-7.72 1.47 1.35L5.41 20z\"/>\n",
              "  </svg>\n",
              "      </button>\n",
              "      \n",
              "  <style>\n",
              "    .colab-df-container {\n",
              "      display:flex;\n",
              "      flex-wrap:wrap;\n",
              "      gap: 12px;\n",
              "    }\n",
              "\n",
              "    .colab-df-convert {\n",
              "      background-color: #E8F0FE;\n",
              "      border: none;\n",
              "      border-radius: 50%;\n",
              "      cursor: pointer;\n",
              "      display: none;\n",
              "      fill: #1967D2;\n",
              "      height: 32px;\n",
              "      padding: 0 0 0 0;\n",
              "      width: 32px;\n",
              "    }\n",
              "\n",
              "    .colab-df-convert:hover {\n",
              "      background-color: #E2EBFA;\n",
              "      box-shadow: 0px 1px 2px rgba(60, 64, 67, 0.3), 0px 1px 3px 1px rgba(60, 64, 67, 0.15);\n",
              "      fill: #174EA6;\n",
              "    }\n",
              "\n",
              "    [theme=dark] .colab-df-convert {\n",
              "      background-color: #3B4455;\n",
              "      fill: #D2E3FC;\n",
              "    }\n",
              "\n",
              "    [theme=dark] .colab-df-convert:hover {\n",
              "      background-color: #434B5C;\n",
              "      box-shadow: 0px 1px 3px 1px rgba(0, 0, 0, 0.15);\n",
              "      filter: drop-shadow(0px 1px 2px rgba(0, 0, 0, 0.3));\n",
              "      fill: #FFFFFF;\n",
              "    }\n",
              "  </style>\n",
              "\n",
              "      <script>\n",
              "        const buttonEl =\n",
              "          document.querySelector('#df-d9069b1e-e945-4d44-bbb6-15f71ff3ea98 button.colab-df-convert');\n",
              "        buttonEl.style.display =\n",
              "          google.colab.kernel.accessAllowed ? 'block' : 'none';\n",
              "\n",
              "        async function convertToInteractive(key) {\n",
              "          const element = document.querySelector('#df-d9069b1e-e945-4d44-bbb6-15f71ff3ea98');\n",
              "          const dataTable =\n",
              "            await google.colab.kernel.invokeFunction('convertToInteractive',\n",
              "                                                     [key], {});\n",
              "          if (!dataTable) return;\n",
              "\n",
              "          const docLinkHtml = 'Like what you see? Visit the ' +\n",
              "            '<a target=\"_blank\" href=https://colab.research.google.com/notebooks/data_table.ipynb>data table notebook</a>'\n",
              "            + ' to learn more about interactive tables.';\n",
              "          element.innerHTML = '';\n",
              "          dataTable['output_type'] = 'display_data';\n",
              "          await google.colab.output.renderOutput(dataTable, element);\n",
              "          const docLink = document.createElement('div');\n",
              "          docLink.innerHTML = docLinkHtml;\n",
              "          element.appendChild(docLink);\n",
              "        }\n",
              "      </script>\n",
              "    </div>\n",
              "  </div>\n",
              "  "
            ]
          },
          "metadata": {},
          "execution_count": 16
        }
      ],
      "source": [
        "spotify_pull.head()"
      ]
    },
    {
      "cell_type": "code",
      "source": [
        "spotify_pull.to_csv('viral50_use.csv')"
      ],
      "metadata": {
        "id": "szp83vtxotc4"
      },
      "execution_count": null,
      "outputs": []
    },
    {
      "cell_type": "code",
      "source": [
        "spotify_pull = pd.read_csv('viral50_use.csv')"
      ],
      "metadata": {
        "id": "GBDMuSI9tKSG"
      },
      "execution_count": 12,
      "outputs": []
    },
    {
      "cell_type": "code",
      "source": [
        "# parse url from JSON response\n",
        "def parse_url(df):\n",
        "  empty = []\n",
        "  for i in df['external_urls']:\n",
        "    line_artists = []\n",
        "    try:\n",
        "      artist_lists = json.loads(i.replace(\"\\'\", \"\\\"\"))\n",
        "    except:\n",
        "      artists_lists = []\n",
        "    line_artists.append(artist_lists['spotify'])\n",
        "    empty.append(line_artists)\n",
        "  return empty\n",
        "\n",
        "\n",
        "spotify_pull['full_url'] = parse_url(spotify_pull)\n",
        "spotify_pull['url'] = spotify_pull.apply(lambda row: row.full_url[0], axis=1)"
      ],
      "metadata": {
        "id": "pAF2dbYw_6Js"
      },
      "execution_count": 23,
      "outputs": []
    },
    {
      "cell_type": "code",
      "source": [
        "spotify_pull.head()"
      ],
      "metadata": {
        "colab": {
          "base_uri": "https://localhost:8080/",
          "height": 528
        },
        "id": "ogtx61rFAgXx",
        "outputId": "3a9ae110-6a2c-4bd9-b355-7699c49badda"
      },
      "execution_count": 24,
      "outputs": [
        {
          "output_type": "execute_result",
          "data": {
            "text/plain": [
              "   Unnamed: 0                                              album  \\\n",
              "0           0  {'album_type': 'single', 'artists': [{'externa...   \n",
              "1           1  {'album_type': 'single', 'artists': [{'externa...   \n",
              "2           2  {'album_type': 'single', 'artists': [{'externa...   \n",
              "3           3  {'album_type': 'single', 'artists': [{'externa...   \n",
              "4           4  {'album_type': 'single', 'artists': [{'externa...   \n",
              "\n",
              "                                             artists  \\\n",
              "0  [{'external_urls': {'spotify': 'https://open.s...   \n",
              "1  [{'external_urls': {'spotify': 'https://open.s...   \n",
              "2  [{'external_urls': {'spotify': 'https://open.s...   \n",
              "3  [{'external_urls': {'spotify': 'https://open.s...   \n",
              "4  [{'external_urls': {'spotify': 'https://open.s...   \n",
              "\n",
              "                                   available_markets  disc_number  \\\n",
              "0  ['AD', 'AE', 'AG', 'AL', 'AM', 'AO', 'AR', 'AT...            1   \n",
              "1  ['AD', 'AE', 'AG', 'AM', 'AO', 'AR', 'AT', 'AU...            1   \n",
              "2  ['AD', 'AE', 'AG', 'AL', 'AM', 'AO', 'AR', 'AT...            1   \n",
              "3                                                 []            1   \n",
              "4  ['AD', 'AE', 'AG', 'AL', 'AM', 'AO', 'AR', 'AT...            1   \n",
              "\n",
              "   duration_ms  explicit              external_ids  \\\n",
              "0       218319     False  {'isrc': 'GBBPW1700118'}   \n",
              "1       199741      True  {'isrc': 'TCADD1721892'}   \n",
              "2       234285     False  {'isrc': 'USAT21702382'}   \n",
              "3       261614      True  {'isrc': 'QZ8TY1700008'}   \n",
              "4       162585     False  {'isrc': 'GBAHS1700564'}   \n",
              "\n",
              "                                       external_urls  \\\n",
              "0  {'spotify': 'https://open.spotify.com/track/6X...   \n",
              "1  {'spotify': 'https://open.spotify.com/track/2A...   \n",
              "2  {'spotify': 'https://open.spotify.com/track/57...   \n",
              "3  {'spotify': 'https://open.spotify.com/track/0R...   \n",
              "4  {'spotify': 'https://open.spotify.com/track/5o...   \n",
              "\n",
              "                                                href                      id  \\\n",
              "0  https://api.spotify.com/v1/tracks/6XgtAeRYmbr4...  6XgtAeRYmbr4OfEUP3q0D3   \n",
              "1  https://api.spotify.com/v1/tracks/2AEzMPR01sg1...  2AEzMPR01sg1wsXurYrgDx   \n",
              "2  https://api.spotify.com/v1/tracks/57p8CBvPOxrv...  57p8CBvPOxrvyCbn6ttl5r   \n",
              "3  https://api.spotify.com/v1/tracks/0RYXEibxMami...  0RYXEibxMami3QuT8kn4Iz   \n",
              "4  https://api.spotify.com/v1/tracks/5o4yGlG0PfeV...  5o4yGlG0PfeVUa6ClIyOxq   \n",
              "\n",
              "   is_local                          name  popularity  \\\n",
              "0     False                           LMK          23   \n",
              "1     False        Turn Up On the Weekend          38   \n",
              "2     False                Would You Ever          61   \n",
              "3     False  Marmalade (feat. Lil Yachty)           0   \n",
              "4     False                          Boys          62   \n",
              "\n",
              "                                         preview_url  track_number   type  \\\n",
              "0  https://p.scdn.co/mp3-preview/f45c9bfa1065769d...             1  track   \n",
              "1  https://p.scdn.co/mp3-preview/c21e5b0857dfd30e...             1  track   \n",
              "2  https://p.scdn.co/mp3-preview/31ee7b84a59f1062...             1  track   \n",
              "3                                                NaN             1  track   \n",
              "4  https://p.scdn.co/mp3-preview/7de075b189146e50...             1  track   \n",
              "\n",
              "                                    uri  \\\n",
              "0  spotify:track:6XgtAeRYmbr4OfEUP3q0D3   \n",
              "1  spotify:track:2AEzMPR01sg1wsXurYrgDx   \n",
              "2  spotify:track:57p8CBvPOxrvyCbn6ttl5r   \n",
              "3  spotify:track:0RYXEibxMami3QuT8kn4Iz   \n",
              "4  spotify:track:5o4yGlG0PfeVUa6ClIyOxq   \n",
              "\n",
              "                                                 url  \\\n",
              "0  https://open.spotify.com/track/6XgtAeRYmbr4OfE...   \n",
              "1  https://open.spotify.com/track/2AEzMPR01sg1wsX...   \n",
              "2  https://open.spotify.com/track/57p8CBvPOxrvyCb...   \n",
              "3  https://open.spotify.com/track/0RYXEibxMami3Qu...   \n",
              "4  https://open.spotify.com/track/5o4yGlG0PfeVUa6...   \n",
              "\n",
              "                                            full_url  \n",
              "0  [https://open.spotify.com/track/6XgtAeRYmbr4Of...  \n",
              "1  [https://open.spotify.com/track/2AEzMPR01sg1ws...  \n",
              "2  [https://open.spotify.com/track/57p8CBvPOxrvyC...  \n",
              "3  [https://open.spotify.com/track/0RYXEibxMami3Q...  \n",
              "4  [https://open.spotify.com/track/5o4yGlG0PfeVUa...  "
            ],
            "text/html": [
              "\n",
              "  <div id=\"df-93097888-90e0-4e06-92dc-cc15620e5734\">\n",
              "    <div class=\"colab-df-container\">\n",
              "      <div>\n",
              "<style scoped>\n",
              "    .dataframe tbody tr th:only-of-type {\n",
              "        vertical-align: middle;\n",
              "    }\n",
              "\n",
              "    .dataframe tbody tr th {\n",
              "        vertical-align: top;\n",
              "    }\n",
              "\n",
              "    .dataframe thead th {\n",
              "        text-align: right;\n",
              "    }\n",
              "</style>\n",
              "<table border=\"1\" class=\"dataframe\">\n",
              "  <thead>\n",
              "    <tr style=\"text-align: right;\">\n",
              "      <th></th>\n",
              "      <th>Unnamed: 0</th>\n",
              "      <th>album</th>\n",
              "      <th>artists</th>\n",
              "      <th>available_markets</th>\n",
              "      <th>disc_number</th>\n",
              "      <th>duration_ms</th>\n",
              "      <th>explicit</th>\n",
              "      <th>external_ids</th>\n",
              "      <th>external_urls</th>\n",
              "      <th>href</th>\n",
              "      <th>id</th>\n",
              "      <th>is_local</th>\n",
              "      <th>name</th>\n",
              "      <th>popularity</th>\n",
              "      <th>preview_url</th>\n",
              "      <th>track_number</th>\n",
              "      <th>type</th>\n",
              "      <th>uri</th>\n",
              "      <th>url</th>\n",
              "      <th>full_url</th>\n",
              "    </tr>\n",
              "  </thead>\n",
              "  <tbody>\n",
              "    <tr>\n",
              "      <th>0</th>\n",
              "      <td>0</td>\n",
              "      <td>{'album_type': 'single', 'artists': [{'externa...</td>\n",
              "      <td>[{'external_urls': {'spotify': 'https://open.s...</td>\n",
              "      <td>['AD', 'AE', 'AG', 'AL', 'AM', 'AO', 'AR', 'AT...</td>\n",
              "      <td>1</td>\n",
              "      <td>218319</td>\n",
              "      <td>False</td>\n",
              "      <td>{'isrc': 'GBBPW1700118'}</td>\n",
              "      <td>{'spotify': 'https://open.spotify.com/track/6X...</td>\n",
              "      <td>https://api.spotify.com/v1/tracks/6XgtAeRYmbr4...</td>\n",
              "      <td>6XgtAeRYmbr4OfEUP3q0D3</td>\n",
              "      <td>False</td>\n",
              "      <td>LMK</td>\n",
              "      <td>23</td>\n",
              "      <td>https://p.scdn.co/mp3-preview/f45c9bfa1065769d...</td>\n",
              "      <td>1</td>\n",
              "      <td>track</td>\n",
              "      <td>spotify:track:6XgtAeRYmbr4OfEUP3q0D3</td>\n",
              "      <td>https://open.spotify.com/track/6XgtAeRYmbr4OfE...</td>\n",
              "      <td>[https://open.spotify.com/track/6XgtAeRYmbr4Of...</td>\n",
              "    </tr>\n",
              "    <tr>\n",
              "      <th>1</th>\n",
              "      <td>1</td>\n",
              "      <td>{'album_type': 'single', 'artists': [{'externa...</td>\n",
              "      <td>[{'external_urls': {'spotify': 'https://open.s...</td>\n",
              "      <td>['AD', 'AE', 'AG', 'AM', 'AO', 'AR', 'AT', 'AU...</td>\n",
              "      <td>1</td>\n",
              "      <td>199741</td>\n",
              "      <td>True</td>\n",
              "      <td>{'isrc': 'TCADD1721892'}</td>\n",
              "      <td>{'spotify': 'https://open.spotify.com/track/2A...</td>\n",
              "      <td>https://api.spotify.com/v1/tracks/2AEzMPR01sg1...</td>\n",
              "      <td>2AEzMPR01sg1wsXurYrgDx</td>\n",
              "      <td>False</td>\n",
              "      <td>Turn Up On the Weekend</td>\n",
              "      <td>38</td>\n",
              "      <td>https://p.scdn.co/mp3-preview/c21e5b0857dfd30e...</td>\n",
              "      <td>1</td>\n",
              "      <td>track</td>\n",
              "      <td>spotify:track:2AEzMPR01sg1wsXurYrgDx</td>\n",
              "      <td>https://open.spotify.com/track/2AEzMPR01sg1wsX...</td>\n",
              "      <td>[https://open.spotify.com/track/2AEzMPR01sg1ws...</td>\n",
              "    </tr>\n",
              "    <tr>\n",
              "      <th>2</th>\n",
              "      <td>2</td>\n",
              "      <td>{'album_type': 'single', 'artists': [{'externa...</td>\n",
              "      <td>[{'external_urls': {'spotify': 'https://open.s...</td>\n",
              "      <td>['AD', 'AE', 'AG', 'AL', 'AM', 'AO', 'AR', 'AT...</td>\n",
              "      <td>1</td>\n",
              "      <td>234285</td>\n",
              "      <td>False</td>\n",
              "      <td>{'isrc': 'USAT21702382'}</td>\n",
              "      <td>{'spotify': 'https://open.spotify.com/track/57...</td>\n",
              "      <td>https://api.spotify.com/v1/tracks/57p8CBvPOxrv...</td>\n",
              "      <td>57p8CBvPOxrvyCbn6ttl5r</td>\n",
              "      <td>False</td>\n",
              "      <td>Would You Ever</td>\n",
              "      <td>61</td>\n",
              "      <td>https://p.scdn.co/mp3-preview/31ee7b84a59f1062...</td>\n",
              "      <td>1</td>\n",
              "      <td>track</td>\n",
              "      <td>spotify:track:57p8CBvPOxrvyCbn6ttl5r</td>\n",
              "      <td>https://open.spotify.com/track/57p8CBvPOxrvyCb...</td>\n",
              "      <td>[https://open.spotify.com/track/57p8CBvPOxrvyC...</td>\n",
              "    </tr>\n",
              "    <tr>\n",
              "      <th>3</th>\n",
              "      <td>3</td>\n",
              "      <td>{'album_type': 'single', 'artists': [{'externa...</td>\n",
              "      <td>[{'external_urls': {'spotify': 'https://open.s...</td>\n",
              "      <td>[]</td>\n",
              "      <td>1</td>\n",
              "      <td>261614</td>\n",
              "      <td>True</td>\n",
              "      <td>{'isrc': 'QZ8TY1700008'}</td>\n",
              "      <td>{'spotify': 'https://open.spotify.com/track/0R...</td>\n",
              "      <td>https://api.spotify.com/v1/tracks/0RYXEibxMami...</td>\n",
              "      <td>0RYXEibxMami3QuT8kn4Iz</td>\n",
              "      <td>False</td>\n",
              "      <td>Marmalade (feat. Lil Yachty)</td>\n",
              "      <td>0</td>\n",
              "      <td>NaN</td>\n",
              "      <td>1</td>\n",
              "      <td>track</td>\n",
              "      <td>spotify:track:0RYXEibxMami3QuT8kn4Iz</td>\n",
              "      <td>https://open.spotify.com/track/0RYXEibxMami3Qu...</td>\n",
              "      <td>[https://open.spotify.com/track/0RYXEibxMami3Q...</td>\n",
              "    </tr>\n",
              "    <tr>\n",
              "      <th>4</th>\n",
              "      <td>4</td>\n",
              "      <td>{'album_type': 'single', 'artists': [{'externa...</td>\n",
              "      <td>[{'external_urls': {'spotify': 'https://open.s...</td>\n",
              "      <td>['AD', 'AE', 'AG', 'AL', 'AM', 'AO', 'AR', 'AT...</td>\n",
              "      <td>1</td>\n",
              "      <td>162585</td>\n",
              "      <td>False</td>\n",
              "      <td>{'isrc': 'GBAHS1700564'}</td>\n",
              "      <td>{'spotify': 'https://open.spotify.com/track/5o...</td>\n",
              "      <td>https://api.spotify.com/v1/tracks/5o4yGlG0PfeV...</td>\n",
              "      <td>5o4yGlG0PfeVUa6ClIyOxq</td>\n",
              "      <td>False</td>\n",
              "      <td>Boys</td>\n",
              "      <td>62</td>\n",
              "      <td>https://p.scdn.co/mp3-preview/7de075b189146e50...</td>\n",
              "      <td>1</td>\n",
              "      <td>track</td>\n",
              "      <td>spotify:track:5o4yGlG0PfeVUa6ClIyOxq</td>\n",
              "      <td>https://open.spotify.com/track/5o4yGlG0PfeVUa6...</td>\n",
              "      <td>[https://open.spotify.com/track/5o4yGlG0PfeVUa...</td>\n",
              "    </tr>\n",
              "  </tbody>\n",
              "</table>\n",
              "</div>\n",
              "      <button class=\"colab-df-convert\" onclick=\"convertToInteractive('df-93097888-90e0-4e06-92dc-cc15620e5734')\"\n",
              "              title=\"Convert this dataframe to an interactive table.\"\n",
              "              style=\"display:none;\">\n",
              "        \n",
              "  <svg xmlns=\"http://www.w3.org/2000/svg\" height=\"24px\"viewBox=\"0 0 24 24\"\n",
              "       width=\"24px\">\n",
              "    <path d=\"M0 0h24v24H0V0z\" fill=\"none\"/>\n",
              "    <path d=\"M18.56 5.44l.94 2.06.94-2.06 2.06-.94-2.06-.94-.94-2.06-.94 2.06-2.06.94zm-11 1L8.5 8.5l.94-2.06 2.06-.94-2.06-.94L8.5 2.5l-.94 2.06-2.06.94zm10 10l.94 2.06.94-2.06 2.06-.94-2.06-.94-.94-2.06-.94 2.06-2.06.94z\"/><path d=\"M17.41 7.96l-1.37-1.37c-.4-.4-.92-.59-1.43-.59-.52 0-1.04.2-1.43.59L10.3 9.45l-7.72 7.72c-.78.78-.78 2.05 0 2.83L4 21.41c.39.39.9.59 1.41.59.51 0 1.02-.2 1.41-.59l7.78-7.78 2.81-2.81c.8-.78.8-2.07 0-2.86zM5.41 20L4 18.59l7.72-7.72 1.47 1.35L5.41 20z\"/>\n",
              "  </svg>\n",
              "      </button>\n",
              "      \n",
              "  <style>\n",
              "    .colab-df-container {\n",
              "      display:flex;\n",
              "      flex-wrap:wrap;\n",
              "      gap: 12px;\n",
              "    }\n",
              "\n",
              "    .colab-df-convert {\n",
              "      background-color: #E8F0FE;\n",
              "      border: none;\n",
              "      border-radius: 50%;\n",
              "      cursor: pointer;\n",
              "      display: none;\n",
              "      fill: #1967D2;\n",
              "      height: 32px;\n",
              "      padding: 0 0 0 0;\n",
              "      width: 32px;\n",
              "    }\n",
              "\n",
              "    .colab-df-convert:hover {\n",
              "      background-color: #E2EBFA;\n",
              "      box-shadow: 0px 1px 2px rgba(60, 64, 67, 0.3), 0px 1px 3px 1px rgba(60, 64, 67, 0.15);\n",
              "      fill: #174EA6;\n",
              "    }\n",
              "\n",
              "    [theme=dark] .colab-df-convert {\n",
              "      background-color: #3B4455;\n",
              "      fill: #D2E3FC;\n",
              "    }\n",
              "\n",
              "    [theme=dark] .colab-df-convert:hover {\n",
              "      background-color: #434B5C;\n",
              "      box-shadow: 0px 1px 3px 1px rgba(0, 0, 0, 0.15);\n",
              "      filter: drop-shadow(0px 1px 2px rgba(0, 0, 0, 0.3));\n",
              "      fill: #FFFFFF;\n",
              "    }\n",
              "  </style>\n",
              "\n",
              "      <script>\n",
              "        const buttonEl =\n",
              "          document.querySelector('#df-93097888-90e0-4e06-92dc-cc15620e5734 button.colab-df-convert');\n",
              "        buttonEl.style.display =\n",
              "          google.colab.kernel.accessAllowed ? 'block' : 'none';\n",
              "\n",
              "        async function convertToInteractive(key) {\n",
              "          const element = document.querySelector('#df-93097888-90e0-4e06-92dc-cc15620e5734');\n",
              "          const dataTable =\n",
              "            await google.colab.kernel.invokeFunction('convertToInteractive',\n",
              "                                                     [key], {});\n",
              "          if (!dataTable) return;\n",
              "\n",
              "          const docLinkHtml = 'Like what you see? Visit the ' +\n",
              "            '<a target=\"_blank\" href=https://colab.research.google.com/notebooks/data_table.ipynb>data table notebook</a>'\n",
              "            + ' to learn more about interactive tables.';\n",
              "          element.innerHTML = '';\n",
              "          dataTable['output_type'] = 'display_data';\n",
              "          await google.colab.output.renderOutput(dataTable, element);\n",
              "          const docLink = document.createElement('div');\n",
              "          docLink.innerHTML = docLinkHtml;\n",
              "          element.appendChild(docLink);\n",
              "        }\n",
              "      </script>\n",
              "    </div>\n",
              "  </div>\n",
              "  "
            ]
          },
          "metadata": {},
          "execution_count": 24
        }
      ]
    },
    {
      "cell_type": "code",
      "source": [
        "max_position = use_songs.groupby('url').agg({'rank': 'min'})\n",
        "max_position.reset_index()\n",
        "\n",
        "spotify_pull_join = pd.merge(spotify_pull.reset_index(),\n",
        "                            max_position.reset_index(),\n",
        "                            how='left', \n",
        "                            on = 'url')"
      ],
      "metadata": {
        "id": "3eM1TT1P_UXW"
      },
      "execution_count": 31,
      "outputs": []
    },
    {
      "cell_type": "markdown",
      "source": [
        "Plot distribution of popularity score."
      ],
      "metadata": {
        "id": "C3StKy8Y4L5j"
      }
    },
    {
      "cell_type": "code",
      "source": [
        "sns.histplot(data = spotify_pull_join\n",
        "            ,x = 'rank'\n",
        "            ).set(title='Total Popularity Distribution')"
      ],
      "metadata": {
        "colab": {
          "base_uri": "https://localhost:8080/",
          "height": 310
        },
        "id": "QTvVuwnquE1i",
        "outputId": "2a30eaab-1912-43cd-d44b-e12405bf3bec"
      },
      "execution_count": 33,
      "outputs": [
        {
          "output_type": "execute_result",
          "data": {
            "text/plain": [
              "[Text(0.5, 1.0, 'Total Popularity Distribution')]"
            ]
          },
          "metadata": {},
          "execution_count": 33
        },
        {
          "output_type": "display_data",
          "data": {
            "text/plain": [
              "<Figure size 432x288 with 1 Axes>"
            ],
            "image/png": "[encoded data removed]"
          },
          "metadata": {
            "needs_background": "light"
          }
        }
      ]
    },
    {
      "cell_type": "code",
      "source": [
        "# parse artist names from JSON response\n",
        "def parse_artist(df):\n",
        "  empty = []\n",
        "  for i in df['artists']:\n",
        "    line_artists = []\n",
        "    try:\n",
        "      artist_lists = json.loads(i.replace(\"\\'\", \"\\\"\"))\n",
        "    except:\n",
        "      #print(i)\n",
        "      artists_lists = []\n",
        "    for j in artist_lists:\n",
        "      line_artists.append(j['name'])\n",
        "    empty.append(line_artists)\n",
        "  return empty\n",
        "\n",
        "\n",
        "spotify_pull_join['artist_names'] = parse_artist(spotify_pull_join)\n",
        "spotify_pull_join['first_artist'] = spotify_pull_join.apply(lambda row: row.artist_names[0], axis=1)"
      ],
      "metadata": {
        "id": "rGQiHvLt3mBa"
      },
      "execution_count": 35,
      "outputs": []
    },
    {
      "cell_type": "code",
      "source": [
        "out = pd.DataFrame(spotify_pull_join.first_artist.value_counts())\n",
        "out.head(10)"
      ],
      "metadata": {
        "colab": {
          "base_uri": "https://localhost:8080/",
          "height": 352
        },
        "id": "5sepedCE2rNu",
        "outputId": "71398121-2dc7-4812-906c-fb8643a593ac"
      },
      "execution_count": 36,
      "outputs": [
        {
          "output_type": "execute_result",
          "data": {
            "text/plain": [
              "                 first_artist\n",
              "Drake                      63\n",
              "Logic                      34\n",
              "Prince                     32\n",
              "DMX                        29\n",
              "Ed Sheeran                 28\n",
              "Juice WRLD                 26\n",
              "Post Malone                25\n",
              "Billie Eilish              25\n",
              "Chris Stapleton            23\n",
              "Mac Miller                 23"
            ],
            "text/html": [
              "\n",
              "  <div id=\"df-ef509707-6fe7-418f-a1fd-45bf180722aa\">\n",
              "    <div class=\"colab-df-container\">\n",
              "      <div>\n",
              "<style scoped>\n",
              "    .dataframe tbody tr th:only-of-type {\n",
              "        vertical-align: middle;\n",
              "    }\n",
              "\n",
              "    .dataframe tbody tr th {\n",
              "        vertical-align: top;\n",
              "    }\n",
              "\n",
              "    .dataframe thead th {\n",
              "        text-align: right;\n",
              "    }\n",
              "</style>\n",
              "<table border=\"1\" class=\"dataframe\">\n",
              "  <thead>\n",
              "    <tr style=\"text-align: right;\">\n",
              "      <th></th>\n",
              "      <th>first_artist</th>\n",
              "    </tr>\n",
              "  </thead>\n",
              "  <tbody>\n",
              "    <tr>\n",
              "      <th>Drake</th>\n",
              "      <td>63</td>\n",
              "    </tr>\n",
              "    <tr>\n",
              "      <th>Logic</th>\n",
              "      <td>34</td>\n",
              "    </tr>\n",
              "    <tr>\n",
              "      <th>Prince</th>\n",
              "      <td>32</td>\n",
              "    </tr>\n",
              "    <tr>\n",
              "      <th>DMX</th>\n",
              "      <td>29</td>\n",
              "    </tr>\n",
              "    <tr>\n",
              "      <th>Ed Sheeran</th>\n",
              "      <td>28</td>\n",
              "    </tr>\n",
              "    <tr>\n",
              "      <th>Juice WRLD</th>\n",
              "      <td>26</td>\n",
              "    </tr>\n",
              "    <tr>\n",
              "      <th>Post Malone</th>\n",
              "      <td>25</td>\n",
              "    </tr>\n",
              "    <tr>\n",
              "      <th>Billie Eilish</th>\n",
              "      <td>25</td>\n",
              "    </tr>\n",
              "    <tr>\n",
              "      <th>Chris Stapleton</th>\n",
              "      <td>23</td>\n",
              "    </tr>\n",
              "    <tr>\n",
              "      <th>Mac Miller</th>\n",
              "      <td>23</td>\n",
              "    </tr>\n",
              "  </tbody>\n",
              "</table>\n",
              "</div>\n",
              "      <button class=\"colab-df-convert\" onclick=\"convertToInteractive('df-ef509707-6fe7-418f-a1fd-45bf180722aa')\"\n",
              "              title=\"Convert this dataframe to an interactive table.\"\n",
              "              style=\"display:none;\">\n",
              "        \n",
              "  <svg xmlns=\"http://www.w3.org/2000/svg\" height=\"24px\"viewBox=\"0 0 24 24\"\n",
              "       width=\"24px\">\n",
              "    <path d=\"M0 0h24v24H0V0z\" fill=\"none\"/>\n",
              "    <path d=\"M18.56 5.44l.94 2.06.94-2.06 2.06-.94-2.06-.94-.94-2.06-.94 2.06-2.06.94zm-11 1L8.5 8.5l.94-2.06 2.06-.94-2.06-.94L8.5 2.5l-.94 2.06-2.06.94zm10 10l.94 2.06.94-2.06 2.06-.94-2.06-.94-.94-2.06-.94 2.06-2.06.94z\"/><path d=\"M17.41 7.96l-1.37-1.37c-.4-.4-.92-.59-1.43-.59-.52 0-1.04.2-1.43.59L10.3 9.45l-7.72 7.72c-.78.78-.78 2.05 0 2.83L4 21.41c.39.39.9.59 1.41.59.51 0 1.02-.2 1.41-.59l7.78-7.78 2.81-2.81c.8-.78.8-2.07 0-2.86zM5.41 20L4 18.59l7.72-7.72 1.47 1.35L5.41 20z\"/>\n",
              "  </svg>\n",
              "      </button>\n",
              "      \n",
              "  <style>\n",
              "    .colab-df-container {\n",
              "      display:flex;\n",
              "      flex-wrap:wrap;\n",
              "      gap: 12px;\n",
              "    }\n",
              "\n",
              "    .colab-df-convert {\n",
              "      background-color: #E8F0FE;\n",
              "      border: none;\n",
              "      border-radius: 50%;\n",
              "      cursor: pointer;\n",
              "      display: none;\n",
              "      fill: #1967D2;\n",
              "      height: 32px;\n",
              "      padding: 0 0 0 0;\n",
              "      width: 32px;\n",
              "    }\n",
              "\n",
              "    .colab-df-convert:hover {\n",
              "      background-color: #E2EBFA;\n",
              "      box-shadow: 0px 1px 2px rgba(60, 64, 67, 0.3), 0px 1px 3px 1px rgba(60, 64, 67, 0.15);\n",
              "      fill: #174EA6;\n",
              "    }\n",
              "\n",
              "    [theme=dark] .colab-df-convert {\n",
              "      background-color: #3B4455;\n",
              "      fill: #D2E3FC;\n",
              "    }\n",
              "\n",
              "    [theme=dark] .colab-df-convert:hover {\n",
              "      background-color: #434B5C;\n",
              "      box-shadow: 0px 1px 3px 1px rgba(0, 0, 0, 0.15);\n",
              "      filter: drop-shadow(0px 1px 2px rgba(0, 0, 0, 0.3));\n",
              "      fill: #FFFFFF;\n",
              "    }\n",
              "  </style>\n",
              "\n",
              "      <script>\n",
              "        const buttonEl =\n",
              "          document.querySelector('#df-ef509707-6fe7-418f-a1fd-45bf180722aa button.colab-df-convert');\n",
              "        buttonEl.style.display =\n",
              "          google.colab.kernel.accessAllowed ? 'block' : 'none';\n",
              "\n",
              "        async function convertToInteractive(key) {\n",
              "          const element = document.querySelector('#df-ef509707-6fe7-418f-a1fd-45bf180722aa');\n",
              "          const dataTable =\n",
              "            await google.colab.kernel.invokeFunction('convertToInteractive',\n",
              "                                                     [key], {});\n",
              "          if (!dataTable) return;\n",
              "\n",
              "          const docLinkHtml = 'Like what you see? Visit the ' +\n",
              "            '<a target=\"_blank\" href=https://colab.research.google.com/notebooks/data_table.ipynb>data table notebook</a>'\n",
              "            + ' to learn more about interactive tables.';\n",
              "          element.innerHTML = '';\n",
              "          dataTable['output_type'] = 'display_data';\n",
              "          await google.colab.output.renderOutput(dataTable, element);\n",
              "          const docLink = document.createElement('div');\n",
              "          docLink.innerHTML = docLinkHtml;\n",
              "          element.appendChild(docLink);\n",
              "        }\n",
              "      </script>\n",
              "    </div>\n",
              "  </div>\n",
              "  "
            ]
          },
          "metadata": {},
          "execution_count": 36
        }
      ]
    },
    {
      "cell_type": "code",
      "source": [
        "sns.histplot(data = out.loc[out['first_artist'] < 40]\n",
        "            ,x = 'first_artist'\n",
        "            ).set(title='Arist Song Count')"
      ],
      "metadata": {
        "colab": {
          "base_uri": "https://localhost:8080/",
          "height": 311
        },
        "id": "m5vywzZS5yNY",
        "outputId": "9cd7a5e9-c25b-45a1-c409-a2551cfac464"
      },
      "execution_count": 37,
      "outputs": [
        {
          "output_type": "execute_result",
          "data": {
            "text/plain": [
              "[Text(0.5, 1.0, 'Arist Song Count')]"
            ]
          },
          "metadata": {},
          "execution_count": 37
        },
        {
          "output_type": "display_data",
          "data": {
            "text/plain": [
              "<Figure size 432x288 with 1 Axes>"
            ],
            "image/png": "[encoded data removed]"
          },
          "metadata": {
            "needs_background": "light"
          }
        }
      ]
    },
    {
      "cell_type": "code",
      "source": [
        "use_cols = ['href', 'rank', 'name', 'first_artist']\n",
        "electro_short_join = spotify_pull_join[use_cols]"
      ],
      "metadata": {
        "id": "YgWUh9YwuxZg"
      },
      "execution_count": 38,
      "outputs": []
    },
    {
      "cell_type": "code",
      "source": [
        "electro_short_join.head()"
      ],
      "metadata": {
        "colab": {
          "base_uri": "https://localhost:8080/",
          "height": 201
        },
        "id": "pvSrXA50QT2A",
        "outputId": "4ced0d32-ccce-4146-a41b-bf63ecfb7b48"
      },
      "execution_count": 39,
      "outputs": [
        {
          "output_type": "execute_result",
          "data": {
            "text/plain": [
              "                                                href  rank  \\\n",
              "0  https://api.spotify.com/v1/tracks/6XgtAeRYmbr4...    32   \n",
              "1  https://api.spotify.com/v1/tracks/2AEzMPR01sg1...     1   \n",
              "2  https://api.spotify.com/v1/tracks/57p8CBvPOxrv...     2   \n",
              "3  https://api.spotify.com/v1/tracks/0RYXEibxMami...     3   \n",
              "4  https://api.spotify.com/v1/tracks/5o4yGlG0PfeV...     4   \n",
              "\n",
              "                           name first_artist  \n",
              "0                           LMK       Kelela  \n",
              "1        Turn Up On the Weekend     Branchez  \n",
              "2                Would You Ever     Skrillex  \n",
              "3  Marmalade (feat. Lil Yachty)   Macklemore  \n",
              "4                          Boys   Charli XCX  "
            ],
            "text/html": [
              "\n",
              "  <div id=\"df-778d37b5-4a41-4b7b-941f-5397b9b6f3dc\">\n",
              "    <div class=\"colab-df-container\">\n",
              "      <div>\n",
              "<style scoped>\n",
              "    .dataframe tbody tr th:only-of-type {\n",
              "        vertical-align: middle;\n",
              "    }\n",
              "\n",
              "    .dataframe tbody tr th {\n",
              "        vertical-align: top;\n",
              "    }\n",
              "\n",
              "    .dataframe thead th {\n",
              "        text-align: right;\n",
              "    }\n",
              "</style>\n",
              "<table border=\"1\" class=\"dataframe\">\n",
              "  <thead>\n",
              "    <tr style=\"text-align: right;\">\n",
              "      <th></th>\n",
              "      <th>href</th>\n",
              "      <th>rank</th>\n",
              "      <th>name</th>\n",
              "      <th>first_artist</th>\n",
              "    </tr>\n",
              "  </thead>\n",
              "  <tbody>\n",
              "    <tr>\n",
              "      <th>0</th>\n",
              "      <td>https://api.spotify.com/v1/tracks/6XgtAeRYmbr4...</td>\n",
              "      <td>32</td>\n",
              "      <td>LMK</td>\n",
              "      <td>Kelela</td>\n",
              "    </tr>\n",
              "    <tr>\n",
              "      <th>1</th>\n",
              "      <td>https://api.spotify.com/v1/tracks/2AEzMPR01sg1...</td>\n",
              "      <td>1</td>\n",
              "      <td>Turn Up On the Weekend</td>\n",
              "      <td>Branchez</td>\n",
              "    </tr>\n",
              "    <tr>\n",
              "      <th>2</th>\n",
              "      <td>https://api.spotify.com/v1/tracks/57p8CBvPOxrv...</td>\n",
              "      <td>2</td>\n",
              "      <td>Would You Ever</td>\n",
              "      <td>Skrillex</td>\n",
              "    </tr>\n",
              "    <tr>\n",
              "      <th>3</th>\n",
              "      <td>https://api.spotify.com/v1/tracks/0RYXEibxMami...</td>\n",
              "      <td>3</td>\n",
              "      <td>Marmalade (feat. Lil Yachty)</td>\n",
              "      <td>Macklemore</td>\n",
              "    </tr>\n",
              "    <tr>\n",
              "      <th>4</th>\n",
              "      <td>https://api.spotify.com/v1/tracks/5o4yGlG0PfeV...</td>\n",
              "      <td>4</td>\n",
              "      <td>Boys</td>\n",
              "      <td>Charli XCX</td>\n",
              "    </tr>\n",
              "  </tbody>\n",
              "</table>\n",
              "</div>\n",
              "      <button class=\"colab-df-convert\" onclick=\"convertToInteractive('df-778d37b5-4a41-4b7b-941f-5397b9b6f3dc')\"\n",
              "              title=\"Convert this dataframe to an interactive table.\"\n",
              "              style=\"display:none;\">\n",
              "        \n",
              "  <svg xmlns=\"http://www.w3.org/2000/svg\" height=\"24px\"viewBox=\"0 0 24 24\"\n",
              "       width=\"24px\">\n",
              "    <path d=\"M0 0h24v24H0V0z\" fill=\"none\"/>\n",
              "    <path d=\"M18.56 5.44l.94 2.06.94-2.06 2.06-.94-2.06-.94-.94-2.06-.94 2.06-2.06.94zm-11 1L8.5 8.5l.94-2.06 2.06-.94-2.06-.94L8.5 2.5l-.94 2.06-2.06.94zm10 10l.94 2.06.94-2.06 2.06-.94-2.06-.94-.94-2.06-.94 2.06-2.06.94z\"/><path d=\"M17.41 7.96l-1.37-1.37c-.4-.4-.92-.59-1.43-.59-.52 0-1.04.2-1.43.59L10.3 9.45l-7.72 7.72c-.78.78-.78 2.05 0 2.83L4 21.41c.39.39.9.59 1.41.59.51 0 1.02-.2 1.41-.59l7.78-7.78 2.81-2.81c.8-.78.8-2.07 0-2.86zM5.41 20L4 18.59l7.72-7.72 1.47 1.35L5.41 20z\"/>\n",
              "  </svg>\n",
              "      </button>\n",
              "      \n",
              "  <style>\n",
              "    .colab-df-container {\n",
              "      display:flex;\n",
              "      flex-wrap:wrap;\n",
              "      gap: 12px;\n",
              "    }\n",
              "\n",
              "    .colab-df-convert {\n",
              "      background-color: #E8F0FE;\n",
              "      border: none;\n",
              "      border-radius: 50%;\n",
              "      cursor: pointer;\n",
              "      display: none;\n",
              "      fill: #1967D2;\n",
              "      height: 32px;\n",
              "      padding: 0 0 0 0;\n",
              "      width: 32px;\n",
              "    }\n",
              "\n",
              "    .colab-df-convert:hover {\n",
              "      background-color: #E2EBFA;\n",
              "      box-shadow: 0px 1px 2px rgba(60, 64, 67, 0.3), 0px 1px 3px 1px rgba(60, 64, 67, 0.15);\n",
              "      fill: #174EA6;\n",
              "    }\n",
              "\n",
              "    [theme=dark] .colab-df-convert {\n",
              "      background-color: #3B4455;\n",
              "      fill: #D2E3FC;\n",
              "    }\n",
              "\n",
              "    [theme=dark] .colab-df-convert:hover {\n",
              "      background-color: #434B5C;\n",
              "      box-shadow: 0px 1px 3px 1px rgba(0, 0, 0, 0.15);\n",
              "      filter: drop-shadow(0px 1px 2px rgba(0, 0, 0, 0.3));\n",
              "      fill: #FFFFFF;\n",
              "    }\n",
              "  </style>\n",
              "\n",
              "      <script>\n",
              "        const buttonEl =\n",
              "          document.querySelector('#df-778d37b5-4a41-4b7b-941f-5397b9b6f3dc button.colab-df-convert');\n",
              "        buttonEl.style.display =\n",
              "          google.colab.kernel.accessAllowed ? 'block' : 'none';\n",
              "\n",
              "        async function convertToInteractive(key) {\n",
              "          const element = document.querySelector('#df-778d37b5-4a41-4b7b-941f-5397b9b6f3dc');\n",
              "          const dataTable =\n",
              "            await google.colab.kernel.invokeFunction('convertToInteractive',\n",
              "                                                     [key], {});\n",
              "          if (!dataTable) return;\n",
              "\n",
              "          const docLinkHtml = 'Like what you see? Visit the ' +\n",
              "            '<a target=\"_blank\" href=https://colab.research.google.com/notebooks/data_table.ipynb>data table notebook</a>'\n",
              "            + ' to learn more about interactive tables.';\n",
              "          element.innerHTML = '';\n",
              "          dataTable['output_type'] = 'display_data';\n",
              "          await google.colab.output.renderOutput(dataTable, element);\n",
              "          const docLink = document.createElement('div');\n",
              "          docLink.innerHTML = docLinkHtml;\n",
              "          element.appendChild(docLink);\n",
              "        }\n",
              "      </script>\n",
              "    </div>\n",
              "  </div>\n",
              "  "
            ]
          },
          "metadata": {},
          "execution_count": 39
        }
      ]
    },
    {
      "cell_type": "code",
      "source": [
        "## Create dictionary to track model results\n",
        "results = {}\n",
        "\n",
        "def add_results(y_pred, model_name):\n",
        "    ## Add results of test data to tracker, with user input to ensure data is overwritten on purpose\n",
        "    if model_name in results.keys():\n",
        "        userIn = input(\"Model already in dictionary. Add? \").lower()\n",
        "        if userIn == 'yes':\n",
        "            results[model_name] = round(sklearn.metrics.mean_squared_error(y_test, y_pred), 2)**.5\n",
        "        else:\n",
        "            pass\n",
        "    else:\n",
        "        results[model_name] = round(sklearn.metrics.mean_squared_error(y_test, y_pred), 2)**.5\n",
        "    print(results)"
      ],
      "metadata": {
        "id": "YlRZResVRNxQ"
      },
      "execution_count": 66,
      "outputs": []
    },
    {
      "cell_type": "markdown",
      "source": [
        "## pull from MusixMatch"
      ],
      "metadata": {
        "id": "j2HWLS8xUWGc"
      }
    },
    {
      "cell_type": "code",
      "source": [
        "musixmatch = Musixmatch(musix_cid)\n",
        "\n",
        "def parse_lyrics(df):\n",
        "  empty = []\n",
        "  for row, artist in df.first_artist.iteritems():\n",
        "    song_title = df['name'].loc[row]\n",
        "    lyrics_return = ''\n",
        "    #print(song_title)\n",
        "    #print(artist)\n",
        "    try:\n",
        "      track_return = musixmatch.matcher_track_get(song_title, artist)\n",
        "      if track_return['message']['body']['track']['has_lyrics'] == 1:\n",
        "        lyrics_return = musixmatch.track_lyrics_get(track_return['message']['body']['track']['track_id'])['message']['body']['lyrics']['lyrics_body']\n",
        "    except:\n",
        "      lyrics_return = ''\n",
        "    empty.append(lyrics_return)\n",
        "  return empty\n",
        "\n",
        "full_lyrics = parse_lyrics(electro_short_join)"
      ],
      "metadata": {
        "id": "i199XxmFXHff"
      },
      "execution_count": 41,
      "outputs": []
    },
    {
      "cell_type": "code",
      "source": [
        "electro_short_join['lyrics'] = full_lyrics"
      ],
      "metadata": {
        "id": "9pIuUkeYFzWU",
        "colab": {
          "base_uri": "https://localhost:8080/"
        },
        "outputId": "5432135c-dd7d-40d2-d7ad-a37a4de06bbe"
      },
      "execution_count": 42,
      "outputs": [
        {
          "output_type": "stream",
          "name": "stderr",
          "text": [
            "/usr/local/lib/python3.7/dist-packages/ipykernel_launcher.py:1: SettingWithCopyWarning: \n",
            "A value is trying to be set on a copy of a slice from a DataFrame.\n",
            "Try using .loc[row_indexer,col_indexer] = value instead\n",
            "\n",
            "See the caveats in the documentation: https://pandas.pydata.org/pandas-docs/stable/user_guide/indexing.html#returning-a-view-versus-a-copy\n",
            "  \"\"\"Entry point for launching an IPython kernel.\n"
          ]
        }
      ]
    },
    {
      "cell_type": "code",
      "source": [
        "## clean lyrics\n",
        "electro_short_join['lyrics_clean'] = electro_short_join['lyrics'].str.replace('******* This Lyrics is NOT for Commercial use *******\\n(1409622602394)', '',regex=False).str.replace('\\n', ' ', regex=False)\n",
        "electro_short_join['char_len'] = electro_short_join['lyrics_clean'].str.len()"
      ],
      "metadata": {
        "colab": {
          "base_uri": "https://localhost:8080/"
        },
        "id": "fMNPbv9YOQXL",
        "outputId": "920cadf0-ed80-4172-8cde-3948f4deac60"
      },
      "execution_count": 43,
      "outputs": [
        {
          "output_type": "stream",
          "name": "stderr",
          "text": [
            "/usr/local/lib/python3.7/dist-packages/ipykernel_launcher.py:2: SettingWithCopyWarning: \n",
            "A value is trying to be set on a copy of a slice from a DataFrame.\n",
            "Try using .loc[row_indexer,col_indexer] = value instead\n",
            "\n",
            "See the caveats in the documentation: https://pandas.pydata.org/pandas-docs/stable/user_guide/indexing.html#returning-a-view-versus-a-copy\n",
            "  \n",
            "/usr/local/lib/python3.7/dist-packages/ipykernel_launcher.py:3: SettingWithCopyWarning: \n",
            "A value is trying to be set on a copy of a slice from a DataFrame.\n",
            "Try using .loc[row_indexer,col_indexer] = value instead\n",
            "\n",
            "See the caveats in the documentation: https://pandas.pydata.org/pandas-docs/stable/user_guide/indexing.html#returning-a-view-versus-a-copy\n",
            "  This is separate from the ipykernel package so we can avoid doing imports until\n"
          ]
        }
      ]
    },
    {
      "cell_type": "code",
      "source": [
        "electro_short_join.to_csv('rank_viral_w_lyrics.csv')"
      ],
      "metadata": {
        "id": "IcR4u3wRO-BE"
      },
      "execution_count": 44,
      "outputs": []
    },
    {
      "cell_type": "code",
      "source": [
        "electro_short_join = pd.read_csv('rank_viral_w_lyrics.csv')"
      ],
      "metadata": {
        "id": "nN2ugQqQcqPj"
      },
      "execution_count": 45,
      "outputs": []
    },
    {
      "cell_type": "code",
      "source": [
        "# prep sentiment analysis\n",
        "sia = SentimentIntensityAnalyzer()"
      ],
      "metadata": {
        "id": "6MmaqMucTfIr"
      },
      "execution_count": 46,
      "outputs": []
    },
    {
      "cell_type": "code",
      "source": [
        "def get_sentiment(df):\n",
        "  empty = []\n",
        "\n",
        "  for lyrics in df.lyrics_clean:\n",
        "\n",
        "    if pd.isna(lyrics):\n",
        "      lyrics = ''\n",
        "\n",
        "    #print(lyrics)\n",
        "    output = sia.polarity_scores(lyrics)\n",
        "    empty.append(output)\n",
        "    \n",
        "  return empty\n",
        "\n",
        "sentiment_scores = pd.DataFrame(get_sentiment(electro_short_join))\n",
        "final_sentiment = pd.concat([electro_short_join.reset_index(), sentiment_scores.reset_index()], axis=1)"
      ],
      "metadata": {
        "id": "X-TlX9y3Tli_"
      },
      "execution_count": 47,
      "outputs": []
    },
    {
      "cell_type": "code",
      "source": [
        "## bring in GloVe\n",
        "from gensim.scripts.glove2word2vec import glove2word2vec\n",
        "from gensim.models import KeyedVectors\n",
        "\n",
        "glove_filename = 'glove.6B.50d.txt'\n",
        "\n",
        "word2vec_output_file = glove_filename+'.word2vec'\n",
        "glove2word2vec('glove.6B.50d.txt', word2vec_output_file)\n",
        "\n",
        "# load the Stanford GloVe model\n",
        "word2vec_output_file = glove_filename+'.word2vec'\n",
        "model = KeyedVectors.load_word2vec_format(word2vec_output_file, binary=False)"
      ],
      "metadata": {
        "id": "5ZkqFHnbfBpg"
      },
      "execution_count": 48,
      "outputs": []
    },
    {
      "cell_type": "code",
      "source": [
        "v = model.get_vector('king')\n",
        "D = v.shape[0]\n",
        "\n",
        "X = np.zeros((len(final_sentiment.lyrics_clean), D))\n",
        "n = 0\n",
        "emptycount = 0\n",
        "\n",
        "for sentence in final_sentiment.lyrics_clean:\n",
        "  \n",
        "  if pd.isna(sentence):\n",
        "    sentence = ''\n",
        "  \n",
        "  tokens = sentence.split()\n",
        "  vecs = []\n",
        "  m = 0\n",
        "  \n",
        "  for word in tokens:\n",
        "    \n",
        "    try:\n",
        "      # throws KeyError if word not found\n",
        "      vec = model.get_vector(word)\n",
        "      vecs = np.append(vecs, vec)\n",
        "      m += 1\n",
        "    except KeyError:\n",
        "      pass\n",
        "    \n",
        "  if len(vecs) > 0:\n",
        "    vecs = np.array(vecs)\n",
        "    X[n] = vecs.mean(axis=0)\n",
        "  else:\n",
        "    emptycount += 1  \n",
        "  n += 1\n",
        "\n",
        "print(emptycount)\n",
        "print(n)"
      ],
      "metadata": {
        "colab": {
          "base_uri": "https://localhost:8080/"
        },
        "id": "hSXWheREf81h",
        "outputId": "3aa0cb69-fa04-4daf-fe3e-b3e6666cd2d6"
      },
      "execution_count": 49,
      "outputs": [
        {
          "output_type": "stream",
          "name": "stdout",
          "text": [
            "1061\n",
            "7974\n"
          ]
        }
      ]
    },
    {
      "cell_type": "code",
      "source": [
        "df_GloVe = pd.DataFrame(X)\n",
        "df_GloVe.columns = ['GloVe' + str(x) for x in range(50)]\n",
        "\n",
        "final_sentiment2 = pd.concat([final_sentiment.reset_index(), df_GloVe.reset_index()], axis=1)\n",
        "final_sentiment2['target'] = np.where(final_sentiment2['rank'] <= 10, 1, 0)"
      ],
      "metadata": {
        "id": "6gdDDb23iClH"
      },
      "execution_count": 67,
      "outputs": []
    },
    {
      "cell_type": "code",
      "source": [
        "agg_cols = {'neg':'mean',\n",
        "            'neu':'mean',\n",
        "            'pos':'mean',\n",
        "            'compound':'mean',\n",
        "            'GloVe0': 'mean',\n",
        "            'GloVe1': 'mean',\n",
        "            'GloVe2': 'mean',\n",
        "            'GloVe3': 'mean',\n",
        "            'GloVe4': 'mean',\n",
        "            'GloVe5': 'mean',\n",
        "            'GloVe6': 'mean',\n",
        "            'GloVe7': 'mean',\n",
        "            'GloVe8': 'mean',\n",
        "            'GloVe9': 'mean',\n",
        "            'GloVe10': 'mean',\n",
        "            'GloVe11': 'mean',\n",
        "            'GloVe12': 'mean',\n",
        "            'GloVe13': 'mean',\n",
        "            'GloVe14': 'mean',\n",
        "            'GloVe15': 'mean',\n",
        "            'GloVe16': 'mean',\n",
        "            'GloVe17': 'mean',\n",
        "            'GloVe18': 'mean',\n",
        "            'GloVe19': 'mean',\n",
        "            'GloVe20': 'mean',\n",
        "            'GloVe21': 'mean',\n",
        "            'GloVe22': 'mean',\n",
        "            'GloVe23': 'mean',\n",
        "            'GloVe24': 'mean',\n",
        "            'GloVe25': 'mean',\n",
        "            'GloVe26': 'mean',\n",
        "            'GloVe27': 'mean',\n",
        "            'GloVe28': 'mean',\n",
        "            'GloVe29': 'mean',\n",
        "            'GloVe30': 'mean',\n",
        "            'GloVe31': 'mean',\n",
        "            'GloVe32': 'mean',\n",
        "            'GloVe33': 'mean',\n",
        "            'GloVe34': 'mean',\n",
        "            'GloVe35': 'mean',\n",
        "            'GloVe36': 'mean',\n",
        "            'GloVe37': 'mean',\n",
        "            'GloVe38': 'mean',\n",
        "            'GloVe39': 'mean',\n",
        "            'GloVe40': 'mean',\n",
        "            'GloVe41': 'mean',\n",
        "            'GloVe42': 'mean',\n",
        "            'GloVe43': 'mean',\n",
        "            'GloVe44': 'mean',\n",
        "            'GloVe45': 'mean',\n",
        "            'GloVe46': 'mean',\n",
        "            'GloVe47': 'mean',\n",
        "            'GloVe48': 'mean',\n",
        "            'GloVe49': 'mean',\n",
        "            'target': 'mean'}\n",
        "\n",
        "electro_agg_metrics = final_sentiment2.groupby('first_artist').agg(agg_cols)"
      ],
      "metadata": {
        "id": "-UtfbOjqUXbC"
      },
      "execution_count": 68,
      "outputs": []
    },
    {
      "cell_type": "code",
      "source": [
        "X_train, X_test, y_train, y_test = sklearn.model_selection.train_test_split(electro_agg_metrics.drop('target', axis = 1), \n",
        "                                                                            electro_agg_metrics.target,\n",
        "                                                    random_state = 1111,\n",
        "                                                    test_size = 0.3)"
      ],
      "metadata": {
        "id": "rQ63b4p1Ve4c"
      },
      "execution_count": 69,
      "outputs": []
    },
    {
      "cell_type": "code",
      "source": [
        "XGB_MVP = xgb.XGBRegressor(objective='reg:squarederror',\n",
        "                                seed=100).fit(X_train, y_train)\n",
        "add_results(XGB_MVP.predict(X_test), \"XGB_Base_lyrics\")"
      ],
      "metadata": {
        "colab": {
          "base_uri": "https://localhost:8080/"
        },
        "id": "QAA4GC2rVn8y",
        "outputId": "0f0b01e2-4298-4be0-c0b3-873f62ac78a5"
      },
      "execution_count": 70,
      "outputs": [
        {
          "output_type": "stream",
          "name": "stdout",
          "text": [
            "{'XGB_Base_lyrics': 0.4}\n"
          ]
        }
      ]
    },
    {
      "cell_type": "code",
      "source": [
        "## Run GridSearchCV on max_depth, min_child_weight, n_estimators, and subsample\n",
        "\n",
        "param_test = {\n",
        " 'max_depth':range(2,5,1),\n",
        " 'min_child_weight':range(3,10,2),\n",
        " 'subsample':[i/100.0 for i in range(70,90,5)],\n",
        " 'n_estimator':range(150,300,50)\n",
        "}\n",
        "\n",
        "gsearch1 = sklearn.model_selection.GridSearchCV(estimator=xgb.XGBRegressor(objective='reg:squarederror', eta=0.025,\n",
        "                                                                           seed=100),param_grid=param_test, \n",
        "                                                                           cv=4)\n",
        "gsearch1.fit(X_train, y_train)\n",
        "gsearch1.best_estimator_"
      ],
      "metadata": {
        "colab": {
          "base_uri": "https://localhost:8080/"
        },
        "id": "JrhkIuqMVqBQ",
        "outputId": "802702c7-a827-4d2e-9667-602a177df57c"
      },
      "execution_count": 71,
      "outputs": [
        {
          "output_type": "execute_result",
          "data": {
            "text/plain": [
              "XGBRegressor(eta=0.025, max_depth=2, min_child_weight=7, n_estimator=150,\n",
              "             objective='reg:squarederror', seed=100, subsample=0.8)"
            ]
          },
          "metadata": {},
          "execution_count": 71
        }
      ]
    },
    {
      "cell_type": "code",
      "source": [
        "## Select final number of estimators\n",
        "params = {'eta':0.025, 'seed':100, \n",
        "         'max_depth':2, 'min_child_weight':7, 'subsample':0.8, 'objective':'reg:squarederror'}\n",
        "\n",
        "## Run CV to determine the number of round\n",
        "CVRun = xgb.cv(\n",
        "            params=params,\n",
        "            dtrain=xgb.DMatrix(X_train, label=y_train),\n",
        "            num_boost_round=500,\n",
        "            nfold=4,\n",
        "            metrics='rmse',\n",
        "            seed=100)\n",
        "\n",
        "CVRun.drop(['train-rmse-std', 'test-rmse-std'], axis=1, inplace=True)\n",
        "CVRun.plot(figsize = (10,5), grid = True)"
      ],
      "metadata": {
        "colab": {
          "base_uri": "https://localhost:8080/",
          "height": 336
        },
        "id": "MG8GfsD3Vs1H",
        "outputId": "e9379f6f-287f-4178-9f07-2181fad78879"
      },
      "execution_count": 72,
      "outputs": [
        {
          "output_type": "execute_result",
          "data": {
            "text/plain": [
              "<matplotlib.axes._subplots.AxesSubplot at 0x7f94ba62fc10>"
            ]
          },
          "metadata": {},
          "execution_count": 72
        },
        {
          "output_type": "display_data",
          "data": {
            "text/plain": [
              "<Figure size 720x360 with 1 Axes>"
            ],
            "image/png": "[encoded data removed]"
          },
          "metadata": {
            "needs_background": "light"
          }
        }
      ]
    },
    {
      "cell_type": "code",
      "source": [
        "## Selected 300 as the number of rounds to avoid over fitting\n",
        "\n",
        "XGB_hyperparam = xgb.train(params, xgb.DMatrix(X_train, label=y_train), 100)\n",
        "add_results(XGB_hyperparam.predict(xgb.DMatrix(X_test)), \"XGB_Hyperparam_lyrics\")"
      ],
      "metadata": {
        "colab": {
          "base_uri": "https://localhost:8080/"
        },
        "id": "LbV6WU63Vxzg",
        "outputId": "4d42e0bf-9ff4-4a13-b04e-528f0090ea4b"
      },
      "execution_count": 73,
      "outputs": [
        {
          "output_type": "stream",
          "name": "stdout",
          "text": [
            "{'XGB_Base_lyrics': 0.4, 'XGB_Hyperparam_lyrics': 0.4}\n"
          ]
        }
      ]
    },
    {
      "cell_type": "code",
      "source": [
        "plt.figure(figsize=(10,10))\n",
        "plt.scatter(y_test, XGB_hyperparam.predict(xgb.DMatrix(X_test)), c='crimson')\n",
        "plt.yscale('log')\n",
        "plt.xscale('log')\n",
        "\n",
        "p1 = max(max(XGB_hyperparam.predict(xgb.DMatrix(X_test))), max(y_test))\n",
        "p2 = min(min(XGB_hyperparam.predict(xgb.DMatrix(X_test))), min(y_test))\n",
        "plt.plot([p1, p2], [p1, p2], 'b-')\n",
        "plt.xlabel('True Values', fontsize=15)\n",
        "plt.ylabel('Predictions', fontsize=15)\n",
        "plt.axis('equal')\n",
        "plt.show()"
      ],
      "metadata": {
        "colab": {
          "base_uri": "https://localhost:8080/",
          "height": 612
        },
        "id": "sLbVgPpWVzcp",
        "outputId": "550622f9-0809-471c-e8b1-5636ebe76bcf"
      },
      "execution_count": 74,
      "outputs": [
        {
          "output_type": "display_data",
          "data": {
            "text/plain": [
              "<Figure size 720x720 with 1 Axes>"
            ],
            "image/png": "[encoded data removed]"
          },
          "metadata": {
            "needs_background": "light"
          }
        }
      ]
    },
    {
      "cell_type": "code",
      "source": [
        "non_zero = electro_agg_metrics.loc[electro_agg_metrics.GloVe46 != 0]\n",
        "\n",
        "X_train, X_test, y_train, y_test = sklearn.model_selection.train_test_split(non_zero.drop('target', axis = 1), \n",
        "                                                                            non_zero.target,\n",
        "                                                    random_state = 1111,\n",
        "                                                    test_size = 0.3)"
      ],
      "metadata": {
        "id": "lnXdzgWwlwrW"
      },
      "execution_count": 75,
      "outputs": []
    },
    {
      "cell_type": "code",
      "source": [
        "XGB_MVP = xgb.XGBRegressor(objective='reg:squarederror',\n",
        "                                seed=100).fit(X_train, y_train)\n",
        "add_results(XGB_MVP.predict(X_test), \"XGB_Base_lyrics_nonZero\")"
      ],
      "metadata": {
        "colab": {
          "base_uri": "https://localhost:8080/"
        },
        "id": "ayrarUNmwopU",
        "outputId": "fb33234e-b812-458d-b2e7-3020cb7f6298"
      },
      "execution_count": 76,
      "outputs": [
        {
          "output_type": "stream",
          "name": "stdout",
          "text": [
            "{'XGB_Base_lyrics': 0.4, 'XGB_Hyperparam_lyrics': 0.4, 'XGB_Base_lyrics_nonZero': 0.3872983346207417}\n"
          ]
        }
      ]
    },
    {
      "cell_type": "code",
      "source": [
        "## Selected 300 as the number of rounds to avoid over fitting\n",
        "\n",
        "XGB_hyperparam = xgb.train(params, xgb.DMatrix(X_train, label=y_train), 100)\n",
        "add_results(XGB_hyperparam.predict(xgb.DMatrix(X_test)), \"XGB_Hyperparam_lyrics_nonZero\")"
      ],
      "metadata": {
        "colab": {
          "base_uri": "https://localhost:8080/"
        },
        "id": "z0TJj_Erwrvc",
        "outputId": "c3d7fd40-3f75-4a0f-cb39-2c163478f046"
      },
      "execution_count": 77,
      "outputs": [
        {
          "output_type": "stream",
          "name": "stdout",
          "text": [
            "{'XGB_Base_lyrics': 0.4, 'XGB_Hyperparam_lyrics': 0.4, 'XGB_Base_lyrics_nonZero': 0.3872983346207417, 'XGB_Hyperparam_lyrics_nonZero': 0.3872983346207417}\n"
          ]
        }
      ]
    },
    {
      "cell_type": "code",
      "source": [
        "plt.figure(figsize=(10,10))\n",
        "plt.scatter(y_test, XGB_hyperparam.predict(xgb.DMatrix(X_test)), c='crimson')\n",
        "plt.yscale('log')\n",
        "plt.xscale('log')\n",
        "\n",
        "p1 = max(max(XGB_hyperparam.predict(xgb.DMatrix(X_test))), max(y_test))\n",
        "p2 = min(min(XGB_hyperparam.predict(xgb.DMatrix(X_test))), min(y_test))\n",
        "plt.plot([p1, p2], [p1, p2], 'b-')\n",
        "plt.xlabel('True Values', fontsize=15)\n",
        "plt.ylabel('Predictions', fontsize=15)\n",
        "plt.axis('equal')\n",
        "plt.show()"
      ],
      "metadata": {
        "id": "yzt2T09pwvKb",
        "outputId": "651c2149-8f85-4f1a-8bf4-5695b6feb367",
        "colab": {
          "base_uri": "https://localhost:8080/",
          "height": 612
        }
      },
      "execution_count": 78,
      "outputs": [
        {
          "output_type": "display_data",
          "data": {
            "text/plain": [
              "<Figure size 720x720 with 1 Axes>"
            ],
            "image/png": "[encoded data removed]"
          },
          "metadata": {
            "needs_background": "light"
          }
        }
      ]
    },
    {
      "cell_type": "code",
      "source": [
        ""
      ],
      "metadata": {
        "id": "PtY0tzsNw0Jc"
      },
      "execution_count": null,
      "outputs": []
    }
  ],
  "metadata": {
    "kernelspec": {
      "display_name": "Python 3",
      "language": "python",
      "name": "python3"
    },
    "language_info": {
      "codemirror_mode": {
        "name": "ipython",
        "version": 3
      },
      "file_extension": ".py",
      "mimetype": "text/x-python",
      "name": "python",
      "nbconvert_exporter": "python",
      "pygments_lexer": "ipython3",
      "version": "3.7.6"
    },
    "colab": {
      "name": "Kaggle Spotify Data Review.ipynb",
      "provenance": [],
      "collapsed_sections": []
    }
  },
  "nbformat": 4,
  "nbformat_minor": 0
}
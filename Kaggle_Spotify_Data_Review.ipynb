{
  "cells": [
    {
      "cell_type": "markdown",
      "metadata": {
        "id": "Q1k_CVj5Dn7I"
      },
      "source": [
        "## MIDS - Spotify Base Data Review"
      ]
    },
    {
      "cell_type": "code",
      "execution_count": 3,
      "metadata": {
        "id": "1PbO5mRYDn7K"
      },
      "outputs": [],
      "source": [
        "# base modules\n",
        "import pandas as pd\n",
        "import matplotlib.pyplot as plt\n",
        "import numpy as np\n",
        "import sklearn.model_selection\n",
        "import sklearn.metrics\n",
        "\n",
        "# custom modules\n",
        "import spotipy\n",
        "from spotipy.oauth2 import SpotifyClientCredentials\n",
        "from pathlib import Path\n",
        "from bs4 import BeautifulSoup\n",
        "from musixmatch import Musixmatch\n",
        "#from lyricsgenius import Genius\n",
        "import requests\n",
        "import seaborn as sns\n",
        "import json\n",
        "import xgboost as xgb\n",
        "import os\n",
        "import re"
      ]
    },
    {
      "cell_type": "code",
      "source": [
        "musixmatch = Musixmatch(musix_cid)\n",
        "musixmatch.matcher_track_get('Sauce', 'Max Chapman')"
      ],
      "metadata": {
        "colab": {
          "base_uri": "https://localhost:8080/"
        },
        "id": "QfPBaeW7NJq_",
        "outputId": "05bf4553-d2b1-40bf-9051-37939fca348a"
      },
      "execution_count": 24,
      "outputs": [
        {
          "output_type": "execute_result",
          "data": {
            "text/plain": [
              "{'message': {'body': {'track': {'album_id': 35540922,\n",
              "    'album_name': 'Fantasy - Single',\n",
              "    'artist_id': 41860734,\n",
              "    'artist_name': 'Max Chapman feat. Late Replies',\n",
              "    'commontrack_id': 103046917,\n",
              "    'explicit': 0,\n",
              "    'has_lyrics': 0,\n",
              "    'has_richsync': 0,\n",
              "    'has_subtitles': 0,\n",
              "    'instrumental': 0,\n",
              "    'num_favourite': 0,\n",
              "    'primary_genres': {'music_genre_list': []},\n",
              "    'restricted': 0,\n",
              "    'track_edit_url': 'https://www.musixmatch.com/lyrics/Max-Chapman-Late-Replies-26/Sauce/edit?utm_source=application&utm_campaign=api&utm_medium=UC+Berkeley%3A1409622602394',\n",
              "    'track_id': 187785107,\n",
              "    'track_name': 'Sauce',\n",
              "    'track_name_translation_list': [],\n",
              "    'track_rating': 1,\n",
              "    'track_share_url': 'https://www.musixmatch.com/lyrics/Max-Chapman-Late-Replies-26/Sauce?utm_source=application&utm_campaign=api&utm_medium=UC+Berkeley%3A1409622602394',\n",
              "    'updated_time': '2019-11-15T08:49:07Z'}},\n",
              "  'header': {'cached': 0,\n",
              "   'confidence': 950,\n",
              "   'execute_time': 0.067404985427856,\n",
              "   'mode': 'search',\n",
              "   'status_code': 200}}}"
            ]
          },
          "metadata": {},
          "execution_count": 24
        }
      ]
    },
    {
      "cell_type": "code",
      "source": [
        "musixmatch.track_lyrics_get(103046917)"
      ],
      "metadata": {
        "colab": {
          "base_uri": "https://localhost:8080/"
        },
        "id": "9JDksd44QgjJ",
        "outputId": "ba0f3054-702e-477d-c522-aea88c1716f3"
      },
      "execution_count": 25,
      "outputs": [
        {
          "output_type": "execute_result",
          "data": {
            "text/plain": [
              "{'message': {'body': {'lyrics': {'explicit': 0,\n",
              "    'lyrics_body': 'Tuhanku ampunkanlah\\nSegala dosaku\\nTuhanku maafkanlah\\nKejahilan hambaMu\\nKu sering melanggar larangan Mu\\nDalam sedar ataupun tidak\\nKu sering meninggalkan suruhanMu\\nWalau sedar aku milikMu\\n\\nTuhanku ampunkan lahsegalala dosaku\\nTuhanku maafkan lah kejahilan hamba Mu\\nBilakah diri ini kan kembali\\nKepada nikmat sebenar\\n...\\n\\n******* This Lyrics is NOT for Commercial use *******\\n(1409622602394)',\n",
              "    'lyrics_copyright': 'Lyrics powered by www.musixmatch.com. This Lyrics is NOT for Commercial use and only 30% of the lyrics are returned.',\n",
              "    'lyrics_id': 15488683,\n",
              "    'pixel_tracking_url': 'https://tracking.musixmatch.com/t1.0/m_img/e_1/sn_0/l_15488683/su_0/rs_0/tr_3vUCABseAPr93O9adBucoOPyjeaNSY2cx2nYk_z3Cq-sRugPmh_Ujnh4rqGMnq1-2jb51Via5UkecYa9_odOwS_oG-Wwv1gqLePCXuN1TQt_n8xx_fM8Idj1atrfXcl7emTAs7k2pxv1lSe_JBW6pSJymvZOGAZQ0wrhLucTkpwO3DRW-8ro11LZStaC2N7HcKXeAoJTZmExEl7KqGoqxGRBrJFjYdrORKct7Dcj8LiVaY2qQ58eAv9qK9sAHDaEYbncaJYgzJT59l0PflJJRVgLO4-9HHY2KBOI7Se26bsFCYi0o4mOrLELmiGsmW_AZ4FWNVjxY3TDKxJf4_4Qz6ggEI7CrKrRHB7Sj8-jFoZr31zGyXyhfVTKBBTZIfl3RZAHzS9g-Iln6iPujPD9lGRWElw7HUncM_nHI40uuhrMfehZNoWEkBsXFYYCA97hSXOaNGHFqiEkLlGQuuISU5ImdIL5cuZ_HUyytxEmMtN_ff4HCxXv9DgJ2Q/',\n",
              "    'script_tracking_url': 'https://tracking.musixmatch.com/t1.0/m_js/e_1/sn_0/l_15488683/su_0/rs_0/tr_3vUCANi4b6nju_93PmoPpo9jQqhhysN1Sa4uqlYED5kdCqckXPId0DOTKSBBXqTZOcYCMAnCzNGqRAVtC0PB3uEFGRX6obFbJXrR4EdPzJXmzn12RRUopBOhfOdxPWAoOqm-qw3b81xqPcgJePq30ZDR7POD5fHoJx97zjBajpskeM-b6S8xNA4DGPY9w1_rq8xS2XNzsV5lgWzHSOjk8TRGLf6lZlmflg0Q5Ui3V7Ocq5TEBLJOiDBTnsF0JLDpzCScNEV-ciEQkB6SxFXha9HHs6FJ2G4UohAaK7OApfGgMwtLQtnyiZnL6N7o-lzE9JDROBHpaAbE1kGqiqYix9OY0Tkj6xHPFe5CgZXreyovWeCrySY4PCOmxPDLa3x-BbDjfrjQ6YHZa9bEhvTsIMeqWiWrAXzCNqReVoXWeZZ0s6294dq3Z6dk9FOtieQlqN19ZB45LZpZsRJUrQ6DYxgpD2Vd9wjKB-_Kc88kzQdk0fQUUGKlF_Z9VA/',\n",
              "    'updated_time': '2017-07-22T03:55:36Z'}},\n",
              "  'header': {'execute_time': 0.01753306388855, 'status_code': 200}}}"
            ]
          },
          "metadata": {},
          "execution_count": 25
        }
      ]
    },
    {
      "cell_type": "code",
      "source": [
        "#Spotify creds\n",
        "cid = Path('_keys/cid.txt').read_text()\n",
        "secret = Path('_keys/secret.txt').read_text()\n",
        "\n",
        "#Genius creds\n",
        "genius_cid = Path('_keys/genius_cid.txt').read_text()\n",
        "genius_secret = Path('_keys/genius_secret.txt').read_text()\n",
        "\n",
        "#Musixmatch creds\n",
        "musix_cid = Path('_keys/musix_id.txt').read_text()"
      ],
      "metadata": {
        "id": "iHRT9kCuEdmc"
      },
      "execution_count": 15,
      "outputs": []
    },
    {
      "cell_type": "code",
      "source": [
        "client_credentials_manager = SpotifyClientCredentials(client_id=cid, client_secret=secret)\n",
        "sp = spotipy.Spotify(client_credentials_manager = client_credentials_manager)\n",
        "\n",
        "#genius = Genius(genius_cid)"
      ],
      "metadata": {
        "id": "geY7HaBUEOev"
      },
      "execution_count": 16,
      "outputs": []
    },
    {
      "cell_type": "code",
      "execution_count": 17,
      "metadata": {
        "colab": {
          "base_uri": "https://localhost:8080/"
        },
        "id": "r2UqxQZpDn7N",
        "outputId": "5d757cff-e472-4778-92e4-d955ab251229"
      },
      "outputs": [
        {
          "output_type": "stream",
          "name": "stderr",
          "text": [
            "/usr/local/lib/python3.7/dist-packages/IPython/core/interactiveshell.py:2882: DtypeWarning: Columns (19) have mixed types.Specify dtype option on import or set low_memory=False.\n",
            "  exec(code_obj, self.user_global_ns, self.user_ns)\n"
          ]
        }
      ],
      "source": [
        "genres = pd.read_csv('_data/genres_v2.csv')\n",
        "playlist = pd.read_csv('_data/playlists.csv')"
      ]
    },
    {
      "cell_type": "code",
      "execution_count": null,
      "metadata": {
        "colab": {
          "base_uri": "https://localhost:8080/"
        },
        "id": "m5KEMzuXDn7O",
        "outputId": "36e34c47-d3e2-4791-aa39-71b71cf9288a"
      },
      "outputs": [
        {
          "output_type": "execute_result",
          "data": {
            "text/plain": [
              "Underground Rap    5875\n",
              "Dark Trap          4578\n",
              "Hiphop             3028\n",
              "trance             2999\n",
              "trap               2987\n",
              "techhouse          2975\n",
              "dnb                2966\n",
              "psytrance          2961\n",
              "techno             2956\n",
              "hardstyle          2936\n",
              "RnB                2099\n",
              "Trap Metal         1956\n",
              "Rap                1848\n",
              "Emo                1680\n",
              "Pop                 461\n",
              "Name: genre, dtype: int64"
            ]
          },
          "metadata": {},
          "execution_count": 7
        }
      ],
      "source": [
        "genres['genre'].value_counts()"
      ]
    },
    {
      "cell_type": "code",
      "execution_count": null,
      "metadata": {
        "id": "tf52-6GADn7P"
      },
      "outputs": [],
      "source": [
        "## subset to just electro-related count\n",
        "use_genres = ['trance', 'techhouse', 'dnb', 'techno']\n",
        "\n",
        "electro_songs = genres[genres.genre.isin(use_genres)]"
      ]
    },
    {
      "cell_type": "code",
      "execution_count": null,
      "metadata": {
        "id": "glaNqFQ_Dn7P",
        "colab": {
          "base_uri": "https://localhost:8080/",
          "height": 512
        },
        "outputId": "5bf7a09a-918f-4282-d91a-8b6a003bf341"
      },
      "outputs": [
        {
          "output_type": "error",
          "ename": "ReadTimeout",
          "evalue": "ignored",
          "traceback": [
            "\u001b[0;31m---------------------------------------------------------------------------\u001b[0m",
            "\u001b[0;31mtimeout\u001b[0m                                   Traceback (most recent call last)",
            "\u001b[0;32m/usr/local/lib/python3.7/dist-packages/urllib3/connectionpool.py\u001b[0m in \u001b[0;36m_make_request\u001b[0;34m(self, conn, method, url, timeout, chunked, **httplib_request_kw)\u001b[0m\n\u001b[1;32m    448\u001b[0m                     \u001b[0;31m# Otherwise it looks like a bug in the code.\u001b[0m\u001b[0;34m\u001b[0m\u001b[0;34m\u001b[0m\u001b[0;34m\u001b[0m\u001b[0m\n\u001b[0;32m--> 449\u001b[0;31m                     \u001b[0msix\u001b[0m\u001b[0;34m.\u001b[0m\u001b[0mraise_from\u001b[0m\u001b[0;34m(\u001b[0m\u001b[0me\u001b[0m\u001b[0;34m,\u001b[0m \u001b[0;32mNone\u001b[0m\u001b[0;34m)\u001b[0m\u001b[0;34m\u001b[0m\u001b[0;34m\u001b[0m\u001b[0m\n\u001b[0m\u001b[1;32m    450\u001b[0m         \u001b[0;32mexcept\u001b[0m \u001b[0;34m(\u001b[0m\u001b[0mSocketTimeout\u001b[0m\u001b[0;34m,\u001b[0m \u001b[0mBaseSSLError\u001b[0m\u001b[0;34m,\u001b[0m \u001b[0mSocketError\u001b[0m\u001b[0;34m)\u001b[0m \u001b[0;32mas\u001b[0m \u001b[0me\u001b[0m\u001b[0;34m:\u001b[0m\u001b[0;34m\u001b[0m\u001b[0;34m\u001b[0m\u001b[0m\n",
            "\u001b[0;32m/usr/local/lib/python3.7/dist-packages/urllib3/packages/six.py\u001b[0m in \u001b[0;36mraise_from\u001b[0;34m(value, from_value)\u001b[0m\n",
            "\u001b[0;32m/usr/local/lib/python3.7/dist-packages/urllib3/connectionpool.py\u001b[0m in \u001b[0;36m_make_request\u001b[0;34m(self, conn, method, url, timeout, chunked, **httplib_request_kw)\u001b[0m\n\u001b[1;32m    443\u001b[0m                 \u001b[0;32mtry\u001b[0m\u001b[0;34m:\u001b[0m\u001b[0;34m\u001b[0m\u001b[0;34m\u001b[0m\u001b[0m\n\u001b[0;32m--> 444\u001b[0;31m                     \u001b[0mhttplib_response\u001b[0m \u001b[0;34m=\u001b[0m \u001b[0mconn\u001b[0m\u001b[0;34m.\u001b[0m\u001b[0mgetresponse\u001b[0m\u001b[0;34m(\u001b[0m\u001b[0;34m)\u001b[0m\u001b[0;34m\u001b[0m\u001b[0;34m\u001b[0m\u001b[0m\n\u001b[0m\u001b[1;32m    445\u001b[0m                 \u001b[0;32mexcept\u001b[0m \u001b[0mBaseException\u001b[0m \u001b[0;32mas\u001b[0m \u001b[0me\u001b[0m\u001b[0;34m:\u001b[0m\u001b[0;34m\u001b[0m\u001b[0;34m\u001b[0m\u001b[0m\n",
            "\u001b[0;32m/usr/lib/python3.7/http/client.py\u001b[0m in \u001b[0;36mgetresponse\u001b[0;34m(self)\u001b[0m\n\u001b[1;32m   1372\u001b[0m             \u001b[0;32mtry\u001b[0m\u001b[0;34m:\u001b[0m\u001b[0;34m\u001b[0m\u001b[0;34m\u001b[0m\u001b[0m\n\u001b[0;32m-> 1373\u001b[0;31m                 \u001b[0mresponse\u001b[0m\u001b[0;34m.\u001b[0m\u001b[0mbegin\u001b[0m\u001b[0;34m(\u001b[0m\u001b[0;34m)\u001b[0m\u001b[0;34m\u001b[0m\u001b[0;34m\u001b[0m\u001b[0m\n\u001b[0m\u001b[1;32m   1374\u001b[0m             \u001b[0;32mexcept\u001b[0m \u001b[0mConnectionError\u001b[0m\u001b[0;34m:\u001b[0m\u001b[0;34m\u001b[0m\u001b[0;34m\u001b[0m\u001b[0m\n",
            "\u001b[0;32m/usr/lib/python3.7/http/client.py\u001b[0m in \u001b[0;36mbegin\u001b[0;34m(self)\u001b[0m\n\u001b[1;32m    318\u001b[0m         \u001b[0;32mwhile\u001b[0m \u001b[0;32mTrue\u001b[0m\u001b[0;34m:\u001b[0m\u001b[0;34m\u001b[0m\u001b[0;34m\u001b[0m\u001b[0m\n\u001b[0;32m--> 319\u001b[0;31m             \u001b[0mversion\u001b[0m\u001b[0;34m,\u001b[0m \u001b[0mstatus\u001b[0m\u001b[0;34m,\u001b[0m \u001b[0mreason\u001b[0m \u001b[0;34m=\u001b[0m \u001b[0mself\u001b[0m\u001b[0;34m.\u001b[0m\u001b[0m_read_status\u001b[0m\u001b[0;34m(\u001b[0m\u001b[0;34m)\u001b[0m\u001b[0;34m\u001b[0m\u001b[0;34m\u001b[0m\u001b[0m\n\u001b[0m\u001b[1;32m    320\u001b[0m             \u001b[0;32mif\u001b[0m \u001b[0mstatus\u001b[0m \u001b[0;34m!=\u001b[0m \u001b[0mCONTINUE\u001b[0m\u001b[0;34m:\u001b[0m\u001b[0;34m\u001b[0m\u001b[0;34m\u001b[0m\u001b[0m\n",
            "\u001b[0;32m/usr/lib/python3.7/http/client.py\u001b[0m in \u001b[0;36m_read_status\u001b[0;34m(self)\u001b[0m\n\u001b[1;32m    279\u001b[0m     \u001b[0;32mdef\u001b[0m \u001b[0m_read_status\u001b[0m\u001b[0;34m(\u001b[0m\u001b[0mself\u001b[0m\u001b[0;34m)\u001b[0m\u001b[0;34m:\u001b[0m\u001b[0;34m\u001b[0m\u001b[0;34m\u001b[0m\u001b[0m\n\u001b[0;32m--> 280\u001b[0;31m         \u001b[0mline\u001b[0m \u001b[0;34m=\u001b[0m \u001b[0mstr\u001b[0m\u001b[0;34m(\u001b[0m\u001b[0mself\u001b[0m\u001b[0;34m.\u001b[0m\u001b[0mfp\u001b[0m\u001b[0;34m.\u001b[0m\u001b[0mreadline\u001b[0m\u001b[0;34m(\u001b[0m\u001b[0m_MAXLINE\u001b[0m \u001b[0;34m+\u001b[0m \u001b[0;36m1\u001b[0m\u001b[0;34m)\u001b[0m\u001b[0;34m,\u001b[0m \u001b[0;34m\"iso-8859-1\"\u001b[0m\u001b[0;34m)\u001b[0m\u001b[0;34m\u001b[0m\u001b[0;34m\u001b[0m\u001b[0m\n\u001b[0m\u001b[1;32m    281\u001b[0m         \u001b[0;32mif\u001b[0m \u001b[0mlen\u001b[0m\u001b[0;34m(\u001b[0m\u001b[0mline\u001b[0m\u001b[0;34m)\u001b[0m \u001b[0;34m>\u001b[0m \u001b[0m_MAXLINE\u001b[0m\u001b[0;34m:\u001b[0m\u001b[0;34m\u001b[0m\u001b[0;34m\u001b[0m\u001b[0m\n",
            "\u001b[0;32m/usr/lib/python3.7/socket.py\u001b[0m in \u001b[0;36mreadinto\u001b[0;34m(self, b)\u001b[0m\n\u001b[1;32m    588\u001b[0m             \u001b[0;32mtry\u001b[0m\u001b[0;34m:\u001b[0m\u001b[0;34m\u001b[0m\u001b[0;34m\u001b[0m\u001b[0m\n\u001b[0;32m--> 589\u001b[0;31m                 \u001b[0;32mreturn\u001b[0m \u001b[0mself\u001b[0m\u001b[0;34m.\u001b[0m\u001b[0m_sock\u001b[0m\u001b[0;34m.\u001b[0m\u001b[0mrecv_into\u001b[0m\u001b[0;34m(\u001b[0m\u001b[0mb\u001b[0m\u001b[0;34m)\u001b[0m\u001b[0;34m\u001b[0m\u001b[0;34m\u001b[0m\u001b[0m\n\u001b[0m\u001b[1;32m    590\u001b[0m             \u001b[0;32mexcept\u001b[0m \u001b[0mtimeout\u001b[0m\u001b[0;34m:\u001b[0m\u001b[0;34m\u001b[0m\u001b[0;34m\u001b[0m\u001b[0m\n",
            "\u001b[0;32m/usr/lib/python3.7/ssl.py\u001b[0m in \u001b[0;36mrecv_into\u001b[0;34m(self, buffer, nbytes, flags)\u001b[0m\n\u001b[1;32m   1070\u001b[0m                   self.__class__)\n\u001b[0;32m-> 1071\u001b[0;31m             \u001b[0;32mreturn\u001b[0m \u001b[0mself\u001b[0m\u001b[0;34m.\u001b[0m\u001b[0mread\u001b[0m\u001b[0;34m(\u001b[0m\u001b[0mnbytes\u001b[0m\u001b[0;34m,\u001b[0m \u001b[0mbuffer\u001b[0m\u001b[0;34m)\u001b[0m\u001b[0;34m\u001b[0m\u001b[0;34m\u001b[0m\u001b[0m\n\u001b[0m\u001b[1;32m   1072\u001b[0m         \u001b[0;32melse\u001b[0m\u001b[0;34m:\u001b[0m\u001b[0;34m\u001b[0m\u001b[0;34m\u001b[0m\u001b[0m\n",
            "\u001b[0;32m/usr/lib/python3.7/ssl.py\u001b[0m in \u001b[0;36mread\u001b[0;34m(self, len, buffer)\u001b[0m\n\u001b[1;32m    928\u001b[0m             \u001b[0;32mif\u001b[0m \u001b[0mbuffer\u001b[0m \u001b[0;32mis\u001b[0m \u001b[0;32mnot\u001b[0m \u001b[0;32mNone\u001b[0m\u001b[0;34m:\u001b[0m\u001b[0;34m\u001b[0m\u001b[0;34m\u001b[0m\u001b[0m\n\u001b[0;32m--> 929\u001b[0;31m                 \u001b[0;32mreturn\u001b[0m \u001b[0mself\u001b[0m\u001b[0;34m.\u001b[0m\u001b[0m_sslobj\u001b[0m\u001b[0;34m.\u001b[0m\u001b[0mread\u001b[0m\u001b[0;34m(\u001b[0m\u001b[0mlen\u001b[0m\u001b[0;34m,\u001b[0m \u001b[0mbuffer\u001b[0m\u001b[0;34m)\u001b[0m\u001b[0;34m\u001b[0m\u001b[0;34m\u001b[0m\u001b[0m\n\u001b[0m\u001b[1;32m    930\u001b[0m             \u001b[0;32melse\u001b[0m\u001b[0;34m:\u001b[0m\u001b[0;34m\u001b[0m\u001b[0;34m\u001b[0m\u001b[0m\n",
            "\u001b[0;31mtimeout\u001b[0m: The read operation timed out",
            "\nDuring handling of the above exception, another exception occurred:\n",
            "\u001b[0;31mReadTimeoutError\u001b[0m                          Traceback (most recent call last)",
            "\u001b[0;32m/usr/local/lib/python3.7/dist-packages/requests/adapters.py\u001b[0m in \u001b[0;36msend\u001b[0;34m(self, request, stream, timeout, verify, cert, proxies)\u001b[0m\n\u001b[1;32m    449\u001b[0m                     \u001b[0mretries\u001b[0m\u001b[0;34m=\u001b[0m\u001b[0mself\u001b[0m\u001b[0;34m.\u001b[0m\u001b[0mmax_retries\u001b[0m\u001b[0;34m,\u001b[0m\u001b[0;34m\u001b[0m\u001b[0;34m\u001b[0m\u001b[0m\n\u001b[0;32m--> 450\u001b[0;31m                     \u001b[0mtimeout\u001b[0m\u001b[0;34m=\u001b[0m\u001b[0mtimeout\u001b[0m\u001b[0;34m\u001b[0m\u001b[0;34m\u001b[0m\u001b[0m\n\u001b[0m\u001b[1;32m    451\u001b[0m                 )\n",
            "\u001b[0;32m/usr/local/lib/python3.7/dist-packages/urllib3/connectionpool.py\u001b[0m in \u001b[0;36murlopen\u001b[0;34m(self, method, url, body, headers, retries, redirect, assert_same_host, timeout, pool_timeout, release_conn, chunked, body_pos, **response_kw)\u001b[0m\n\u001b[1;32m    785\u001b[0m             retries = retries.increment(\n\u001b[0;32m--> 786\u001b[0;31m                 \u001b[0mmethod\u001b[0m\u001b[0;34m,\u001b[0m \u001b[0murl\u001b[0m\u001b[0;34m,\u001b[0m \u001b[0merror\u001b[0m\u001b[0;34m=\u001b[0m\u001b[0me\u001b[0m\u001b[0;34m,\u001b[0m \u001b[0m_pool\u001b[0m\u001b[0;34m=\u001b[0m\u001b[0mself\u001b[0m\u001b[0;34m,\u001b[0m \u001b[0m_stacktrace\u001b[0m\u001b[0;34m=\u001b[0m\u001b[0msys\u001b[0m\u001b[0;34m.\u001b[0m\u001b[0mexc_info\u001b[0m\u001b[0;34m(\u001b[0m\u001b[0;34m)\u001b[0m\u001b[0;34m[\u001b[0m\u001b[0;36m2\u001b[0m\u001b[0;34m]\u001b[0m\u001b[0;34m\u001b[0m\u001b[0;34m\u001b[0m\u001b[0m\n\u001b[0m\u001b[1;32m    787\u001b[0m             )\n",
            "\u001b[0;32m/usr/local/lib/python3.7/dist-packages/urllib3/util/retry.py\u001b[0m in \u001b[0;36mincrement\u001b[0;34m(self, method, url, response, error, _pool, _stacktrace)\u001b[0m\n\u001b[1;32m    549\u001b[0m             \u001b[0;32mif\u001b[0m \u001b[0mread\u001b[0m \u001b[0;32mis\u001b[0m \u001b[0;32mFalse\u001b[0m \u001b[0;32mor\u001b[0m \u001b[0;32mnot\u001b[0m \u001b[0mself\u001b[0m\u001b[0;34m.\u001b[0m\u001b[0m_is_method_retryable\u001b[0m\u001b[0;34m(\u001b[0m\u001b[0mmethod\u001b[0m\u001b[0;34m)\u001b[0m\u001b[0;34m:\u001b[0m\u001b[0;34m\u001b[0m\u001b[0;34m\u001b[0m\u001b[0m\n\u001b[0;32m--> 550\u001b[0;31m                 \u001b[0;32mraise\u001b[0m \u001b[0msix\u001b[0m\u001b[0;34m.\u001b[0m\u001b[0mreraise\u001b[0m\u001b[0;34m(\u001b[0m\u001b[0mtype\u001b[0m\u001b[0;34m(\u001b[0m\u001b[0merror\u001b[0m\u001b[0;34m)\u001b[0m\u001b[0;34m,\u001b[0m \u001b[0merror\u001b[0m\u001b[0;34m,\u001b[0m \u001b[0m_stacktrace\u001b[0m\u001b[0;34m)\u001b[0m\u001b[0;34m\u001b[0m\u001b[0;34m\u001b[0m\u001b[0m\n\u001b[0m\u001b[1;32m    551\u001b[0m             \u001b[0;32melif\u001b[0m \u001b[0mread\u001b[0m \u001b[0;32mis\u001b[0m \u001b[0;32mnot\u001b[0m \u001b[0;32mNone\u001b[0m\u001b[0;34m:\u001b[0m\u001b[0;34m\u001b[0m\u001b[0;34m\u001b[0m\u001b[0m\n",
            "\u001b[0;32m/usr/local/lib/python3.7/dist-packages/urllib3/packages/six.py\u001b[0m in \u001b[0;36mreraise\u001b[0;34m(tp, value, tb)\u001b[0m\n\u001b[1;32m    769\u001b[0m                 \u001b[0;32mraise\u001b[0m \u001b[0mvalue\u001b[0m\u001b[0;34m.\u001b[0m\u001b[0mwith_traceback\u001b[0m\u001b[0;34m(\u001b[0m\u001b[0mtb\u001b[0m\u001b[0;34m)\u001b[0m\u001b[0;34m\u001b[0m\u001b[0;34m\u001b[0m\u001b[0m\n\u001b[0;32m--> 770\u001b[0;31m             \u001b[0;32mraise\u001b[0m \u001b[0mvalue\u001b[0m\u001b[0;34m\u001b[0m\u001b[0;34m\u001b[0m\u001b[0m\n\u001b[0m\u001b[1;32m    771\u001b[0m         \u001b[0;32mfinally\u001b[0m\u001b[0;34m:\u001b[0m\u001b[0;34m\u001b[0m\u001b[0;34m\u001b[0m\u001b[0m\n",
            "\u001b[0;32m/usr/local/lib/python3.7/dist-packages/urllib3/connectionpool.py\u001b[0m in \u001b[0;36murlopen\u001b[0;34m(self, method, url, body, headers, retries, redirect, assert_same_host, timeout, pool_timeout, release_conn, chunked, body_pos, **response_kw)\u001b[0m\n\u001b[1;32m    709\u001b[0m                 \u001b[0mheaders\u001b[0m\u001b[0;34m=\u001b[0m\u001b[0mheaders\u001b[0m\u001b[0;34m,\u001b[0m\u001b[0;34m\u001b[0m\u001b[0;34m\u001b[0m\u001b[0m\n\u001b[0;32m--> 710\u001b[0;31m                 \u001b[0mchunked\u001b[0m\u001b[0;34m=\u001b[0m\u001b[0mchunked\u001b[0m\u001b[0;34m,\u001b[0m\u001b[0;34m\u001b[0m\u001b[0;34m\u001b[0m\u001b[0m\n\u001b[0m\u001b[1;32m    711\u001b[0m             )\n",
            "\u001b[0;32m/usr/local/lib/python3.7/dist-packages/urllib3/connectionpool.py\u001b[0m in \u001b[0;36m_make_request\u001b[0;34m(self, conn, method, url, timeout, chunked, **httplib_request_kw)\u001b[0m\n\u001b[1;32m    450\u001b[0m         \u001b[0;32mexcept\u001b[0m \u001b[0;34m(\u001b[0m\u001b[0mSocketTimeout\u001b[0m\u001b[0;34m,\u001b[0m \u001b[0mBaseSSLError\u001b[0m\u001b[0;34m,\u001b[0m \u001b[0mSocketError\u001b[0m\u001b[0;34m)\u001b[0m \u001b[0;32mas\u001b[0m \u001b[0me\u001b[0m\u001b[0;34m:\u001b[0m\u001b[0;34m\u001b[0m\u001b[0;34m\u001b[0m\u001b[0m\n\u001b[0;32m--> 451\u001b[0;31m             \u001b[0mself\u001b[0m\u001b[0;34m.\u001b[0m\u001b[0m_raise_timeout\u001b[0m\u001b[0;34m(\u001b[0m\u001b[0merr\u001b[0m\u001b[0;34m=\u001b[0m\u001b[0me\u001b[0m\u001b[0;34m,\u001b[0m \u001b[0murl\u001b[0m\u001b[0;34m=\u001b[0m\u001b[0murl\u001b[0m\u001b[0;34m,\u001b[0m \u001b[0mtimeout_value\u001b[0m\u001b[0;34m=\u001b[0m\u001b[0mread_timeout\u001b[0m\u001b[0;34m)\u001b[0m\u001b[0;34m\u001b[0m\u001b[0;34m\u001b[0m\u001b[0m\n\u001b[0m\u001b[1;32m    452\u001b[0m             \u001b[0;32mraise\u001b[0m\u001b[0;34m\u001b[0m\u001b[0;34m\u001b[0m\u001b[0m\n",
            "\u001b[0;32m/usr/local/lib/python3.7/dist-packages/urllib3/connectionpool.py\u001b[0m in \u001b[0;36m_raise_timeout\u001b[0;34m(self, err, url, timeout_value)\u001b[0m\n\u001b[1;32m    340\u001b[0m             raise ReadTimeoutError(\n\u001b[0;32m--> 341\u001b[0;31m                 \u001b[0mself\u001b[0m\u001b[0;34m,\u001b[0m \u001b[0murl\u001b[0m\u001b[0;34m,\u001b[0m \u001b[0;34m\"Read timed out. (read timeout=%s)\"\u001b[0m \u001b[0;34m%\u001b[0m \u001b[0mtimeout_value\u001b[0m\u001b[0;34m\u001b[0m\u001b[0;34m\u001b[0m\u001b[0m\n\u001b[0m\u001b[1;32m    342\u001b[0m             )\n",
            "\u001b[0;31mReadTimeoutError\u001b[0m: HTTPSConnectionPool(host='api.spotify.com', port=443): Read timed out. (read timeout=5)",
            "\nDuring handling of the above exception, another exception occurred:\n",
            "\u001b[0;31mReadTimeout\u001b[0m                               Traceback (most recent call last)",
            "\u001b[0;32m<ipython-input-9-864c511a3274>\u001b[0m in \u001b[0;36m<module>\u001b[0;34m()\u001b[0m\n\u001b[1;32m      8\u001b[0m     \u001b[0;32mreturn\u001b[0m \u001b[0mdf2\u001b[0m\u001b[0;34m\u001b[0m\u001b[0;34m\u001b[0m\u001b[0m\n\u001b[1;32m      9\u001b[0m \u001b[0;34m\u001b[0m\u001b[0m\n\u001b[0;32m---> 10\u001b[0;31m \u001b[0melectro_popularity\u001b[0m \u001b[0;34m=\u001b[0m \u001b[0mpopularity\u001b[0m\u001b[0;34m(\u001b[0m\u001b[0melectro_songs\u001b[0m\u001b[0;34m)\u001b[0m\u001b[0;34m\u001b[0m\u001b[0;34m\u001b[0m\u001b[0m\n\u001b[0m",
            "\u001b[0;32m<ipython-input-9-864c511a3274>\u001b[0m in \u001b[0;36mpopularity\u001b[0;34m(df)\u001b[0m\n\u001b[1;32m      3\u001b[0m     \u001b[0mempty\u001b[0m \u001b[0;34m=\u001b[0m \u001b[0;34m[\u001b[0m\u001b[0;34m]\u001b[0m\u001b[0;34m\u001b[0m\u001b[0;34m\u001b[0m\u001b[0m\n\u001b[1;32m      4\u001b[0m     \u001b[0;32mfor\u001b[0m \u001b[0mi\u001b[0m \u001b[0;32min\u001b[0m \u001b[0mdf\u001b[0m\u001b[0;34m[\u001b[0m\u001b[0;34m'uri'\u001b[0m\u001b[0;34m]\u001b[0m\u001b[0;34m:\u001b[0m\u001b[0;34m\u001b[0m\u001b[0;34m\u001b[0m\u001b[0m\n\u001b[0;32m----> 5\u001b[0;31m             \u001b[0mseries_track\u001b[0m \u001b[0;34m=\u001b[0m \u001b[0mpd\u001b[0m\u001b[0;34m.\u001b[0m\u001b[0mSeries\u001b[0m\u001b[0;34m(\u001b[0m\u001b[0msp\u001b[0m\u001b[0;34m.\u001b[0m\u001b[0mtrack\u001b[0m\u001b[0;34m(\u001b[0m\u001b[0mi\u001b[0m\u001b[0;34m)\u001b[0m\u001b[0;34m)\u001b[0m\u001b[0;34m\u001b[0m\u001b[0;34m\u001b[0m\u001b[0m\n\u001b[0m\u001b[1;32m      6\u001b[0m             \u001b[0mempty\u001b[0m\u001b[0;34m.\u001b[0m\u001b[0mappend\u001b[0m\u001b[0;34m(\u001b[0m\u001b[0mseries_track\u001b[0m\u001b[0;34m)\u001b[0m\u001b[0;34m\u001b[0m\u001b[0;34m\u001b[0m\u001b[0m\n\u001b[1;32m      7\u001b[0m     \u001b[0mdf2\u001b[0m \u001b[0;34m=\u001b[0m \u001b[0mpd\u001b[0m\u001b[0;34m.\u001b[0m\u001b[0mDataFrame\u001b[0m\u001b[0;34m(\u001b[0m\u001b[0mempty\u001b[0m\u001b[0;34m)\u001b[0m\u001b[0;34m\u001b[0m\u001b[0;34m\u001b[0m\u001b[0m\n",
            "\u001b[0;32m/usr/local/lib/python3.7/dist-packages/spotipy/client.py\u001b[0m in \u001b[0;36mtrack\u001b[0;34m(self, track_id, market)\u001b[0m\n\u001b[1;32m    343\u001b[0m \u001b[0;34m\u001b[0m\u001b[0m\n\u001b[1;32m    344\u001b[0m         \u001b[0mtrid\u001b[0m \u001b[0;34m=\u001b[0m \u001b[0mself\u001b[0m\u001b[0;34m.\u001b[0m\u001b[0m_get_id\u001b[0m\u001b[0;34m(\u001b[0m\u001b[0;34m\"track\"\u001b[0m\u001b[0;34m,\u001b[0m \u001b[0mtrack_id\u001b[0m\u001b[0;34m)\u001b[0m\u001b[0;34m\u001b[0m\u001b[0;34m\u001b[0m\u001b[0m\n\u001b[0;32m--> 345\u001b[0;31m         \u001b[0;32mreturn\u001b[0m \u001b[0mself\u001b[0m\u001b[0;34m.\u001b[0m\u001b[0m_get\u001b[0m\u001b[0;34m(\u001b[0m\u001b[0;34m\"tracks/\"\u001b[0m \u001b[0;34m+\u001b[0m \u001b[0mtrid\u001b[0m\u001b[0;34m,\u001b[0m \u001b[0mmarket\u001b[0m\u001b[0;34m=\u001b[0m\u001b[0mmarket\u001b[0m\u001b[0;34m)\u001b[0m\u001b[0;34m\u001b[0m\u001b[0;34m\u001b[0m\u001b[0m\n\u001b[0m\u001b[1;32m    346\u001b[0m \u001b[0;34m\u001b[0m\u001b[0m\n\u001b[1;32m    347\u001b[0m     \u001b[0;32mdef\u001b[0m \u001b[0mtracks\u001b[0m\u001b[0;34m(\u001b[0m\u001b[0mself\u001b[0m\u001b[0;34m,\u001b[0m \u001b[0mtracks\u001b[0m\u001b[0;34m,\u001b[0m \u001b[0mmarket\u001b[0m\u001b[0;34m=\u001b[0m\u001b[0;32mNone\u001b[0m\u001b[0;34m)\u001b[0m\u001b[0;34m:\u001b[0m\u001b[0;34m\u001b[0m\u001b[0;34m\u001b[0m\u001b[0m\n",
            "\u001b[0;32m/usr/local/lib/python3.7/dist-packages/spotipy/client.py\u001b[0m in \u001b[0;36m_get\u001b[0;34m(self, url, args, payload, **kwargs)\u001b[0m\n\u001b[1;32m    295\u001b[0m             \u001b[0mkwargs\u001b[0m\u001b[0;34m.\u001b[0m\u001b[0mupdate\u001b[0m\u001b[0;34m(\u001b[0m\u001b[0margs\u001b[0m\u001b[0;34m)\u001b[0m\u001b[0;34m\u001b[0m\u001b[0;34m\u001b[0m\u001b[0m\n\u001b[1;32m    296\u001b[0m \u001b[0;34m\u001b[0m\u001b[0m\n\u001b[0;32m--> 297\u001b[0;31m         \u001b[0;32mreturn\u001b[0m \u001b[0mself\u001b[0m\u001b[0;34m.\u001b[0m\u001b[0m_internal_call\u001b[0m\u001b[0;34m(\u001b[0m\u001b[0;34m\"GET\"\u001b[0m\u001b[0;34m,\u001b[0m \u001b[0murl\u001b[0m\u001b[0;34m,\u001b[0m \u001b[0mpayload\u001b[0m\u001b[0;34m,\u001b[0m \u001b[0mkwargs\u001b[0m\u001b[0;34m)\u001b[0m\u001b[0;34m\u001b[0m\u001b[0;34m\u001b[0m\u001b[0m\n\u001b[0m\u001b[1;32m    298\u001b[0m \u001b[0;34m\u001b[0m\u001b[0m\n\u001b[1;32m    299\u001b[0m     \u001b[0;32mdef\u001b[0m \u001b[0m_post\u001b[0m\u001b[0;34m(\u001b[0m\u001b[0mself\u001b[0m\u001b[0;34m,\u001b[0m \u001b[0murl\u001b[0m\u001b[0;34m,\u001b[0m \u001b[0margs\u001b[0m\u001b[0;34m=\u001b[0m\u001b[0;32mNone\u001b[0m\u001b[0;34m,\u001b[0m \u001b[0mpayload\u001b[0m\u001b[0;34m=\u001b[0m\u001b[0;32mNone\u001b[0m\u001b[0;34m,\u001b[0m \u001b[0;34m**\u001b[0m\u001b[0mkwargs\u001b[0m\u001b[0;34m)\u001b[0m\u001b[0;34m:\u001b[0m\u001b[0;34m\u001b[0m\u001b[0;34m\u001b[0m\u001b[0m\n",
            "\u001b[0;32m/usr/local/lib/python3.7/dist-packages/spotipy/client.py\u001b[0m in \u001b[0;36m_internal_call\u001b[0;34m(self, method, url, payload, params)\u001b[0m\n\u001b[1;32m    240\u001b[0m             response = self._session.request(\n\u001b[1;32m    241\u001b[0m                 \u001b[0mmethod\u001b[0m\u001b[0;34m,\u001b[0m \u001b[0murl\u001b[0m\u001b[0;34m,\u001b[0m \u001b[0mheaders\u001b[0m\u001b[0;34m=\u001b[0m\u001b[0mheaders\u001b[0m\u001b[0;34m,\u001b[0m \u001b[0mproxies\u001b[0m\u001b[0;34m=\u001b[0m\u001b[0mself\u001b[0m\u001b[0;34m.\u001b[0m\u001b[0mproxies\u001b[0m\u001b[0;34m,\u001b[0m\u001b[0;34m\u001b[0m\u001b[0;34m\u001b[0m\u001b[0m\n\u001b[0;32m--> 242\u001b[0;31m                 \u001b[0mtimeout\u001b[0m\u001b[0;34m=\u001b[0m\u001b[0mself\u001b[0m\u001b[0;34m.\u001b[0m\u001b[0mrequests_timeout\u001b[0m\u001b[0;34m,\u001b[0m \u001b[0;34m**\u001b[0m\u001b[0margs\u001b[0m\u001b[0;34m\u001b[0m\u001b[0;34m\u001b[0m\u001b[0m\n\u001b[0m\u001b[1;32m    243\u001b[0m             )\n\u001b[1;32m    244\u001b[0m \u001b[0;34m\u001b[0m\u001b[0m\n",
            "\u001b[0;32m/usr/local/lib/python3.7/dist-packages/requests/sessions.py\u001b[0m in \u001b[0;36mrequest\u001b[0;34m(self, method, url, params, data, headers, cookies, files, auth, timeout, allow_redirects, proxies, hooks, stream, verify, cert, json)\u001b[0m\n\u001b[1;32m    527\u001b[0m         }\n\u001b[1;32m    528\u001b[0m         \u001b[0msend_kwargs\u001b[0m\u001b[0;34m.\u001b[0m\u001b[0mupdate\u001b[0m\u001b[0;34m(\u001b[0m\u001b[0msettings\u001b[0m\u001b[0;34m)\u001b[0m\u001b[0;34m\u001b[0m\u001b[0;34m\u001b[0m\u001b[0m\n\u001b[0;32m--> 529\u001b[0;31m         \u001b[0mresp\u001b[0m \u001b[0;34m=\u001b[0m \u001b[0mself\u001b[0m\u001b[0;34m.\u001b[0m\u001b[0msend\u001b[0m\u001b[0;34m(\u001b[0m\u001b[0mprep\u001b[0m\u001b[0;34m,\u001b[0m \u001b[0;34m**\u001b[0m\u001b[0msend_kwargs\u001b[0m\u001b[0;34m)\u001b[0m\u001b[0;34m\u001b[0m\u001b[0;34m\u001b[0m\u001b[0m\n\u001b[0m\u001b[1;32m    530\u001b[0m \u001b[0;34m\u001b[0m\u001b[0m\n\u001b[1;32m    531\u001b[0m         \u001b[0;32mreturn\u001b[0m \u001b[0mresp\u001b[0m\u001b[0;34m\u001b[0m\u001b[0;34m\u001b[0m\u001b[0m\n",
            "\u001b[0;32m/usr/local/lib/python3.7/dist-packages/requests/sessions.py\u001b[0m in \u001b[0;36msend\u001b[0;34m(self, request, **kwargs)\u001b[0m\n\u001b[1;32m    643\u001b[0m \u001b[0;34m\u001b[0m\u001b[0m\n\u001b[1;32m    644\u001b[0m         \u001b[0;31m# Send the request\u001b[0m\u001b[0;34m\u001b[0m\u001b[0;34m\u001b[0m\u001b[0;34m\u001b[0m\u001b[0m\n\u001b[0;32m--> 645\u001b[0;31m         \u001b[0mr\u001b[0m \u001b[0;34m=\u001b[0m \u001b[0madapter\u001b[0m\u001b[0;34m.\u001b[0m\u001b[0msend\u001b[0m\u001b[0;34m(\u001b[0m\u001b[0mrequest\u001b[0m\u001b[0;34m,\u001b[0m \u001b[0;34m**\u001b[0m\u001b[0mkwargs\u001b[0m\u001b[0;34m)\u001b[0m\u001b[0;34m\u001b[0m\u001b[0;34m\u001b[0m\u001b[0m\n\u001b[0m\u001b[1;32m    646\u001b[0m \u001b[0;34m\u001b[0m\u001b[0m\n\u001b[1;32m    647\u001b[0m         \u001b[0;31m# Total elapsed time of the request (approximately)\u001b[0m\u001b[0;34m\u001b[0m\u001b[0;34m\u001b[0m\u001b[0;34m\u001b[0m\u001b[0m\n",
            "\u001b[0;32m/usr/local/lib/python3.7/dist-packages/requests/adapters.py\u001b[0m in \u001b[0;36msend\u001b[0;34m(self, request, stream, timeout, verify, cert, proxies)\u001b[0m\n\u001b[1;32m    530\u001b[0m                 \u001b[0;32mraise\u001b[0m \u001b[0mSSLError\u001b[0m\u001b[0;34m(\u001b[0m\u001b[0me\u001b[0m\u001b[0;34m,\u001b[0m \u001b[0mrequest\u001b[0m\u001b[0;34m=\u001b[0m\u001b[0mrequest\u001b[0m\u001b[0;34m)\u001b[0m\u001b[0;34m\u001b[0m\u001b[0;34m\u001b[0m\u001b[0m\n\u001b[1;32m    531\u001b[0m             \u001b[0;32melif\u001b[0m \u001b[0misinstance\u001b[0m\u001b[0;34m(\u001b[0m\u001b[0me\u001b[0m\u001b[0;34m,\u001b[0m \u001b[0mReadTimeoutError\u001b[0m\u001b[0;34m)\u001b[0m\u001b[0;34m:\u001b[0m\u001b[0;34m\u001b[0m\u001b[0;34m\u001b[0m\u001b[0m\n\u001b[0;32m--> 532\u001b[0;31m                 \u001b[0;32mraise\u001b[0m \u001b[0mReadTimeout\u001b[0m\u001b[0;34m(\u001b[0m\u001b[0me\u001b[0m\u001b[0;34m,\u001b[0m \u001b[0mrequest\u001b[0m\u001b[0;34m=\u001b[0m\u001b[0mrequest\u001b[0m\u001b[0;34m)\u001b[0m\u001b[0;34m\u001b[0m\u001b[0;34m\u001b[0m\u001b[0m\n\u001b[0m\u001b[1;32m    533\u001b[0m             \u001b[0;32melif\u001b[0m \u001b[0misinstance\u001b[0m\u001b[0;34m(\u001b[0m\u001b[0me\u001b[0m\u001b[0;34m,\u001b[0m \u001b[0m_InvalidHeader\u001b[0m\u001b[0;34m)\u001b[0m\u001b[0;34m:\u001b[0m\u001b[0;34m\u001b[0m\u001b[0;34m\u001b[0m\u001b[0m\n\u001b[1;32m    534\u001b[0m                 \u001b[0;32mraise\u001b[0m \u001b[0mInvalidHeader\u001b[0m\u001b[0;34m(\u001b[0m\u001b[0me\u001b[0m\u001b[0;34m,\u001b[0m \u001b[0mrequest\u001b[0m\u001b[0;34m=\u001b[0m\u001b[0mrequest\u001b[0m\u001b[0;34m)\u001b[0m\u001b[0;34m\u001b[0m\u001b[0;34m\u001b[0m\u001b[0m\n",
            "\u001b[0;31mReadTimeout\u001b[0m: HTTPSConnectionPool(host='api.spotify.com', port=443): Read timed out. (read timeout=5)"
          ]
        }
      ],
      "source": [
        "## get song popularity\n",
        "def popularity(df):\n",
        "    empty = []\n",
        "    for i in df['uri']:\n",
        "            series_track = pd.Series(sp.track(i))\n",
        "            empty.append(series_track)\n",
        "    df2 = pd.DataFrame(empty)\n",
        "    return df2\n",
        "\n",
        "electro_popularity = popularity(electro_songs)"
      ]
    },
    {
      "cell_type": "code",
      "execution_count": null,
      "metadata": {
        "id": "UeidMkdeDn7P",
        "colab": {
          "base_uri": "https://localhost:8080/",
          "height": 158
        },
        "outputId": "447625e4-ed02-48b5-9ff8-4cfaee976d33"
      },
      "outputs": [
        {
          "output_type": "error",
          "ename": "NameError",
          "evalue": "ignored",
          "traceback": [
            "\u001b[0;31m---------------------------------------------------------------------------\u001b[0m",
            "\u001b[0;31mNameError\u001b[0m                                 Traceback (most recent call last)",
            "\u001b[0;32m<ipython-input-2-f447a1f9fa3e>\u001b[0m in \u001b[0;36m<module>\u001b[0;34m()\u001b[0m\n\u001b[0;32m----> 1\u001b[0;31m \u001b[0melectro_popularity\u001b[0m\u001b[0;34m\u001b[0m\u001b[0;34m\u001b[0m\u001b[0m\n\u001b[0m",
            "\u001b[0;31mNameError\u001b[0m: name 'electro_popularity' is not defined"
          ]
        }
      ],
      "source": [
        "electro_popularity"
      ]
    },
    {
      "cell_type": "code",
      "source": [
        "electro_popularity.to_csv('elctro_pull.csv')"
      ],
      "metadata": {
        "id": "szp83vtxotc4"
      },
      "execution_count": null,
      "outputs": []
    },
    {
      "cell_type": "code",
      "source": [
        "electro_popularity = pd.read_csv('elctro_pull.csv')"
      ],
      "metadata": {
        "id": "GBDMuSI9tKSG"
      },
      "execution_count": 18,
      "outputs": []
    },
    {
      "cell_type": "markdown",
      "source": [
        "Plot distribution of popularity score."
      ],
      "metadata": {
        "id": "C3StKy8Y4L5j"
      }
    },
    {
      "cell_type": "code",
      "source": [
        "sns.histplot(data = electro_popularity\n",
        "            ,x = 'popularity'\n",
        "            ).set(title='Total Popularity Distribution')"
      ],
      "metadata": {
        "colab": {
          "base_uri": "https://localhost:8080/",
          "height": 310
        },
        "id": "QTvVuwnquE1i",
        "outputId": "3f26bc4f-1857-4e60-d15a-ba5861fc3d86"
      },
      "execution_count": null,
      "outputs": [
        {
          "output_type": "execute_result",
          "data": {
            "text/plain": [
              "[Text(0.5, 1.0, 'Total Popularity Distribution')]"
            ]
          },
          "metadata": {},
          "execution_count": 11
        },
        {
          "output_type": "display_data",
          "data": {
            "text/plain": [
              "<Figure size 432x288 with 1 Axes>"
            ],
            "image/png": "[encoded data removed]"
          },
          "metadata": {
            "needs_background": "light"
          }
        }
      ]
    },
    {
      "cell_type": "code",
      "source": [
        "sns.histplot(data = electro_popularity.loc[electro_popularity['popularity'] > 0]\n",
        "            ,x = 'popularity'\n",
        "            ).set(title='Non-0 Popularity Distribution')"
      ],
      "metadata": {
        "colab": {
          "base_uri": "https://localhost:8080/",
          "height": 310
        },
        "id": "vpiu3Ceo3hAg",
        "outputId": "0e5eea60-041a-430f-898b-d01765ef7924"
      },
      "execution_count": null,
      "outputs": [
        {
          "output_type": "execute_result",
          "data": {
            "text/plain": [
              "[Text(0.5, 1.0, 'Non-0 Popularity Distribution')]"
            ]
          },
          "metadata": {},
          "execution_count": 12
        },
        {
          "output_type": "display_data",
          "data": {
            "text/plain": [
              "<Figure size 432x288 with 1 Axes>"
            ],
            "image/png": "[encoded data removed]"
          },
          "metadata": {
            "needs_background": "light"
          }
        }
      ]
    },
    {
      "cell_type": "code",
      "source": [
        "## remove any songs with no popularity - assuming these are too small to be considered\n",
        "electro_short = electro_popularity.loc[electro_popularity['popularity'] > 0]"
      ],
      "metadata": {
        "id": "GOD6sthV689g"
      },
      "execution_count": 19,
      "outputs": []
    },
    {
      "cell_type": "code",
      "source": [
        "# parse artist names from JSON response\n",
        "def parse_artist(df):\n",
        "  empty = []\n",
        "  for i in df['artists']:\n",
        "    line_artists = []\n",
        "    try:\n",
        "      artist_lists = json.loads(i.replace(\"\\'\", \"\\\"\"))\n",
        "    except:\n",
        "      #print(i)\n",
        "      artists_lists = []\n",
        "    for j in artist_lists:\n",
        "      line_artists.append(j['name'])\n",
        "    empty.append(line_artists)\n",
        "  return empty\n",
        "\n",
        "\n",
        "electro_short['artist_names'] = parse_artist(electro_short)\n",
        "electro_short['first_artist'] = electro_short.apply(lambda row: row.artist_names[0], axis=1)"
      ],
      "metadata": {
        "colab": {
          "base_uri": "https://localhost:8080/"
        },
        "id": "rGQiHvLt3mBa",
        "outputId": "c056822f-4d07-4140-9248-30bdafc6c7c7"
      },
      "execution_count": 20,
      "outputs": [
        {
          "output_type": "stream",
          "name": "stderr",
          "text": [
            "/usr/local/lib/python3.7/dist-packages/ipykernel_launcher.py:17: SettingWithCopyWarning: \n",
            "A value is trying to be set on a copy of a slice from a DataFrame.\n",
            "Try using .loc[row_indexer,col_indexer] = value instead\n",
            "\n",
            "See the caveats in the documentation: https://pandas.pydata.org/pandas-docs/stable/user_guide/indexing.html#returning-a-view-versus-a-copy\n",
            "/usr/local/lib/python3.7/dist-packages/ipykernel_launcher.py:18: SettingWithCopyWarning: \n",
            "A value is trying to be set on a copy of a slice from a DataFrame.\n",
            "Try using .loc[row_indexer,col_indexer] = value instead\n",
            "\n",
            "See the caveats in the documentation: https://pandas.pydata.org/pandas-docs/stable/user_guide/indexing.html#returning-a-view-versus-a-copy\n"
          ]
        }
      ]
    },
    {
      "cell_type": "code",
      "source": [
        "out = pd.DataFrame(electro_short.first_artist.value_counts())\n",
        "out"
      ],
      "metadata": {
        "colab": {
          "base_uri": "https://localhost:8080/",
          "height": 411
        },
        "id": "5sepedCE2rNu",
        "outputId": "6803af06-3206-43e9-8c23-931d405ba903"
      },
      "execution_count": 21,
      "outputs": [
        {
          "output_type": "execute_result",
          "data": {
            "text/plain": [
              "                  first_artist\n",
              "Armin van Buuren            84\n",
              "Aly & Fila                  73\n",
              "Above & Beyond              50\n",
              "Walker & Royce              41\n",
              "Cloonee                     40\n",
              "...                        ...\n",
              "Gareth Wild                  1\n",
              "Sinfol                       1\n",
              "Underworld                   1\n",
              "Maelstrom                    1\n",
              "Sinic                        1\n",
              "\n",
              "[2737 rows x 1 columns]"
            ],
            "text/html": [
              "\n",
              "  <div id=\"df-32e1867e-f053-40e8-bc3f-b9bff95690e2\">\n",
              "    <div class=\"colab-df-container\">\n",
              "      <div>\n",
              "<style scoped>\n",
              "    .dataframe tbody tr th:only-of-type {\n",
              "        vertical-align: middle;\n",
              "    }\n",
              "\n",
              "    .dataframe tbody tr th {\n",
              "        vertical-align: top;\n",
              "    }\n",
              "\n",
              "    .dataframe thead th {\n",
              "        text-align: right;\n",
              "    }\n",
              "</style>\n",
              "<table border=\"1\" class=\"dataframe\">\n",
              "  <thead>\n",
              "    <tr style=\"text-align: right;\">\n",
              "      <th></th>\n",
              "      <th>first_artist</th>\n",
              "    </tr>\n",
              "  </thead>\n",
              "  <tbody>\n",
              "    <tr>\n",
              "      <th>Armin van Buuren</th>\n",
              "      <td>84</td>\n",
              "    </tr>\n",
              "    <tr>\n",
              "      <th>Aly &amp; Fila</th>\n",
              "      <td>73</td>\n",
              "    </tr>\n",
              "    <tr>\n",
              "      <th>Above &amp; Beyond</th>\n",
              "      <td>50</td>\n",
              "    </tr>\n",
              "    <tr>\n",
              "      <th>Walker &amp; Royce</th>\n",
              "      <td>41</td>\n",
              "    </tr>\n",
              "    <tr>\n",
              "      <th>Cloonee</th>\n",
              "      <td>40</td>\n",
              "    </tr>\n",
              "    <tr>\n",
              "      <th>...</th>\n",
              "      <td>...</td>\n",
              "    </tr>\n",
              "    <tr>\n",
              "      <th>Gareth Wild</th>\n",
              "      <td>1</td>\n",
              "    </tr>\n",
              "    <tr>\n",
              "      <th>Sinfol</th>\n",
              "      <td>1</td>\n",
              "    </tr>\n",
              "    <tr>\n",
              "      <th>Underworld</th>\n",
              "      <td>1</td>\n",
              "    </tr>\n",
              "    <tr>\n",
              "      <th>Maelstrom</th>\n",
              "      <td>1</td>\n",
              "    </tr>\n",
              "    <tr>\n",
              "      <th>Sinic</th>\n",
              "      <td>1</td>\n",
              "    </tr>\n",
              "  </tbody>\n",
              "</table>\n",
              "<p>2737 rows × 1 columns</p>\n",
              "</div>\n",
              "      <button class=\"colab-df-convert\" onclick=\"convertToInteractive('df-32e1867e-f053-40e8-bc3f-b9bff95690e2')\"\n",
              "              title=\"Convert this dataframe to an interactive table.\"\n",
              "              style=\"display:none;\">\n",
              "        \n",
              "  <svg xmlns=\"http://www.w3.org/2000/svg\" height=\"24px\"viewBox=\"0 0 24 24\"\n",
              "       width=\"24px\">\n",
              "    <path d=\"M0 0h24v24H0V0z\" fill=\"none\"/>\n",
              "    <path d=\"M18.56 5.44l.94 2.06.94-2.06 2.06-.94-2.06-.94-.94-2.06-.94 2.06-2.06.94zm-11 1L8.5 8.5l.94-2.06 2.06-.94-2.06-.94L8.5 2.5l-.94 2.06-2.06.94zm10 10l.94 2.06.94-2.06 2.06-.94-2.06-.94-.94-2.06-.94 2.06-2.06.94z\"/><path d=\"M17.41 7.96l-1.37-1.37c-.4-.4-.92-.59-1.43-.59-.52 0-1.04.2-1.43.59L10.3 9.45l-7.72 7.72c-.78.78-.78 2.05 0 2.83L4 21.41c.39.39.9.59 1.41.59.51 0 1.02-.2 1.41-.59l7.78-7.78 2.81-2.81c.8-.78.8-2.07 0-2.86zM5.41 20L4 18.59l7.72-7.72 1.47 1.35L5.41 20z\"/>\n",
              "  </svg>\n",
              "      </button>\n",
              "      \n",
              "  <style>\n",
              "    .colab-df-container {\n",
              "      display:flex;\n",
              "      flex-wrap:wrap;\n",
              "      gap: 12px;\n",
              "    }\n",
              "\n",
              "    .colab-df-convert {\n",
              "      background-color: #E8F0FE;\n",
              "      border: none;\n",
              "      border-radius: 50%;\n",
              "      cursor: pointer;\n",
              "      display: none;\n",
              "      fill: #1967D2;\n",
              "      height: 32px;\n",
              "      padding: 0 0 0 0;\n",
              "      width: 32px;\n",
              "    }\n",
              "\n",
              "    .colab-df-convert:hover {\n",
              "      background-color: #E2EBFA;\n",
              "      box-shadow: 0px 1px 2px rgba(60, 64, 67, 0.3), 0px 1px 3px 1px rgba(60, 64, 67, 0.15);\n",
              "      fill: #174EA6;\n",
              "    }\n",
              "\n",
              "    [theme=dark] .colab-df-convert {\n",
              "      background-color: #3B4455;\n",
              "      fill: #D2E3FC;\n",
              "    }\n",
              "\n",
              "    [theme=dark] .colab-df-convert:hover {\n",
              "      background-color: #434B5C;\n",
              "      box-shadow: 0px 1px 3px 1px rgba(0, 0, 0, 0.15);\n",
              "      filter: drop-shadow(0px 1px 2px rgba(0, 0, 0, 0.3));\n",
              "      fill: #FFFFFF;\n",
              "    }\n",
              "  </style>\n",
              "\n",
              "      <script>\n",
              "        const buttonEl =\n",
              "          document.querySelector('#df-32e1867e-f053-40e8-bc3f-b9bff95690e2 button.colab-df-convert');\n",
              "        buttonEl.style.display =\n",
              "          google.colab.kernel.accessAllowed ? 'block' : 'none';\n",
              "\n",
              "        async function convertToInteractive(key) {\n",
              "          const element = document.querySelector('#df-32e1867e-f053-40e8-bc3f-b9bff95690e2');\n",
              "          const dataTable =\n",
              "            await google.colab.kernel.invokeFunction('convertToInteractive',\n",
              "                                                     [key], {});\n",
              "          if (!dataTable) return;\n",
              "\n",
              "          const docLinkHtml = 'Like what you see? Visit the ' +\n",
              "            '<a target=\"_blank\" href=https://colab.research.google.com/notebooks/data_table.ipynb>data table notebook</a>'\n",
              "            + ' to learn more about interactive tables.';\n",
              "          element.innerHTML = '';\n",
              "          dataTable['output_type'] = 'display_data';\n",
              "          await google.colab.output.renderOutput(dataTable, element);\n",
              "          const docLink = document.createElement('div');\n",
              "          docLink.innerHTML = docLinkHtml;\n",
              "          element.appendChild(docLink);\n",
              "        }\n",
              "      </script>\n",
              "    </div>\n",
              "  </div>\n",
              "  "
            ]
          },
          "metadata": {},
          "execution_count": 21
        }
      ]
    },
    {
      "cell_type": "code",
      "source": [
        "sns.histplot(data = out.loc[out['first_artist'] < 40]\n",
        "            ,x = 'first_artist'\n",
        "            ).set(title='Arist Song Count')"
      ],
      "metadata": {
        "colab": {
          "base_uri": "https://localhost:8080/",
          "height": 311
        },
        "id": "m5vywzZS5yNY",
        "outputId": "98a07f5e-49d3-47da-d456-056d06c72de9"
      },
      "execution_count": null,
      "outputs": [
        {
          "output_type": "execute_result",
          "data": {
            "text/plain": [
              "[Text(0.5, 1.0, 'Arist Song Count')]"
            ]
          },
          "metadata": {},
          "execution_count": 118
        },
        {
          "output_type": "display_data",
          "data": {
            "text/plain": [
              "<Figure size 432x288 with 1 Axes>"
            ],
            "image/png": "[encoded data removed]"
          },
          "metadata": {
            "needs_background": "light"
          }
        }
      ]
    },
    {
      "cell_type": "code",
      "source": [
        "use_cols = ['href', 'popularity', 'name', 'first_artist']\n",
        "electro_short_join = electro_short[use_cols]"
      ],
      "metadata": {
        "id": "YgWUh9YwuxZg"
      },
      "execution_count": 22,
      "outputs": []
    },
    {
      "cell_type": "code",
      "source": [
        "electro_short_join"
      ],
      "metadata": {
        "colab": {
          "base_uri": "https://localhost:8080/",
          "height": 411
        },
        "id": "pvSrXA50QT2A",
        "outputId": "ac16d1cb-586b-4bac-bc16-29eed477f600"
      },
      "execution_count": 23,
      "outputs": [
        {
          "output_type": "execute_result",
          "data": {
            "text/plain": [
              "                                                    href  popularity  \\\n",
              "0      https://api.spotify.com/v1/tracks/5LzAV6KfjN8V...          30   \n",
              "1      https://api.spotify.com/v1/tracks/6nxvhvk9etkP...          24   \n",
              "2      https://api.spotify.com/v1/tracks/3TsCb6ueD678...          22   \n",
              "3      https://api.spotify.com/v1/tracks/6Y0Fy2buEis7...           2   \n",
              "4      https://api.spotify.com/v1/tracks/4EJI2XGViSQp...          50   \n",
              "...                                                  ...         ...   \n",
              "11889  https://api.spotify.com/v1/tracks/7glEDEzVhstE...           3   \n",
              "11890  https://api.spotify.com/v1/tracks/2m9oMX34OOMK...          35   \n",
              "11891  https://api.spotify.com/v1/tracks/3aezqOl72dNj...           2   \n",
              "11894  https://api.spotify.com/v1/tracks/1C7gZX83AIi5...           8   \n",
              "11895  https://api.spotify.com/v1/tracks/0Y2TsmyMI2qt...          31   \n",
              "\n",
              "                                name          first_artist  \n",
              "0                              Sauce           Max Chapman  \n",
              "1                       Music Please                Detlef  \n",
              "2      Ooh Tune - Danny Howard Remix          Shadow Child  \n",
              "3                Dust (feat. Badbox)               Robin M  \n",
              "4                        Pretty Baby               Redondo  \n",
              "...                              ...                   ...  \n",
              "11889                           Gold               Ownglow  \n",
              "11890                         Demons             T & Sugah  \n",
              "11891            Bitter Professional                 Sinic  \n",
              "11894                Don't Hold Back  Bachelors of Science  \n",
              "11895         Drowning - Keeno Remix                 KREAM  \n",
              "\n",
              "[8336 rows x 4 columns]"
            ],
            "text/html": [
              "\n",
              "  <div id=\"df-4cb15371-dd58-4000-90b1-abe37cba63c2\">\n",
              "    <div class=\"colab-df-container\">\n",
              "      <div>\n",
              "<style scoped>\n",
              "    .dataframe tbody tr th:only-of-type {\n",
              "        vertical-align: middle;\n",
              "    }\n",
              "\n",
              "    .dataframe tbody tr th {\n",
              "        vertical-align: top;\n",
              "    }\n",
              "\n",
              "    .dataframe thead th {\n",
              "        text-align: right;\n",
              "    }\n",
              "</style>\n",
              "<table border=\"1\" class=\"dataframe\">\n",
              "  <thead>\n",
              "    <tr style=\"text-align: right;\">\n",
              "      <th></th>\n",
              "      <th>href</th>\n",
              "      <th>popularity</th>\n",
              "      <th>name</th>\n",
              "      <th>first_artist</th>\n",
              "    </tr>\n",
              "  </thead>\n",
              "  <tbody>\n",
              "    <tr>\n",
              "      <th>0</th>\n",
              "      <td>https://api.spotify.com/v1/tracks/5LzAV6KfjN8V...</td>\n",
              "      <td>30</td>\n",
              "      <td>Sauce</td>\n",
              "      <td>Max Chapman</td>\n",
              "    </tr>\n",
              "    <tr>\n",
              "      <th>1</th>\n",
              "      <td>https://api.spotify.com/v1/tracks/6nxvhvk9etkP...</td>\n",
              "      <td>24</td>\n",
              "      <td>Music Please</td>\n",
              "      <td>Detlef</td>\n",
              "    </tr>\n",
              "    <tr>\n",
              "      <th>2</th>\n",
              "      <td>https://api.spotify.com/v1/tracks/3TsCb6ueD678...</td>\n",
              "      <td>22</td>\n",
              "      <td>Ooh Tune - Danny Howard Remix</td>\n",
              "      <td>Shadow Child</td>\n",
              "    </tr>\n",
              "    <tr>\n",
              "      <th>3</th>\n",
              "      <td>https://api.spotify.com/v1/tracks/6Y0Fy2buEis7...</td>\n",
              "      <td>2</td>\n",
              "      <td>Dust (feat. Badbox)</td>\n",
              "      <td>Robin M</td>\n",
              "    </tr>\n",
              "    <tr>\n",
              "      <th>4</th>\n",
              "      <td>https://api.spotify.com/v1/tracks/4EJI2XGViSQp...</td>\n",
              "      <td>50</td>\n",
              "      <td>Pretty Baby</td>\n",
              "      <td>Redondo</td>\n",
              "    </tr>\n",
              "    <tr>\n",
              "      <th>...</th>\n",
              "      <td>...</td>\n",
              "      <td>...</td>\n",
              "      <td>...</td>\n",
              "      <td>...</td>\n",
              "    </tr>\n",
              "    <tr>\n",
              "      <th>11889</th>\n",
              "      <td>https://api.spotify.com/v1/tracks/7glEDEzVhstE...</td>\n",
              "      <td>3</td>\n",
              "      <td>Gold</td>\n",
              "      <td>Ownglow</td>\n",
              "    </tr>\n",
              "    <tr>\n",
              "      <th>11890</th>\n",
              "      <td>https://api.spotify.com/v1/tracks/2m9oMX34OOMK...</td>\n",
              "      <td>35</td>\n",
              "      <td>Demons</td>\n",
              "      <td>T &amp; Sugah</td>\n",
              "    </tr>\n",
              "    <tr>\n",
              "      <th>11891</th>\n",
              "      <td>https://api.spotify.com/v1/tracks/3aezqOl72dNj...</td>\n",
              "      <td>2</td>\n",
              "      <td>Bitter Professional</td>\n",
              "      <td>Sinic</td>\n",
              "    </tr>\n",
              "    <tr>\n",
              "      <th>11894</th>\n",
              "      <td>https://api.spotify.com/v1/tracks/1C7gZX83AIi5...</td>\n",
              "      <td>8</td>\n",
              "      <td>Don't Hold Back</td>\n",
              "      <td>Bachelors of Science</td>\n",
              "    </tr>\n",
              "    <tr>\n",
              "      <th>11895</th>\n",
              "      <td>https://api.spotify.com/v1/tracks/0Y2TsmyMI2qt...</td>\n",
              "      <td>31</td>\n",
              "      <td>Drowning - Keeno Remix</td>\n",
              "      <td>KREAM</td>\n",
              "    </tr>\n",
              "  </tbody>\n",
              "</table>\n",
              "<p>8336 rows × 4 columns</p>\n",
              "</div>\n",
              "      <button class=\"colab-df-convert\" onclick=\"convertToInteractive('df-4cb15371-dd58-4000-90b1-abe37cba63c2')\"\n",
              "              title=\"Convert this dataframe to an interactive table.\"\n",
              "              style=\"display:none;\">\n",
              "        \n",
              "  <svg xmlns=\"http://www.w3.org/2000/svg\" height=\"24px\"viewBox=\"0 0 24 24\"\n",
              "       width=\"24px\">\n",
              "    <path d=\"M0 0h24v24H0V0z\" fill=\"none\"/>\n",
              "    <path d=\"M18.56 5.44l.94 2.06.94-2.06 2.06-.94-2.06-.94-.94-2.06-.94 2.06-2.06.94zm-11 1L8.5 8.5l.94-2.06 2.06-.94-2.06-.94L8.5 2.5l-.94 2.06-2.06.94zm10 10l.94 2.06.94-2.06 2.06-.94-2.06-.94-.94-2.06-.94 2.06-2.06.94z\"/><path d=\"M17.41 7.96l-1.37-1.37c-.4-.4-.92-.59-1.43-.59-.52 0-1.04.2-1.43.59L10.3 9.45l-7.72 7.72c-.78.78-.78 2.05 0 2.83L4 21.41c.39.39.9.59 1.41.59.51 0 1.02-.2 1.41-.59l7.78-7.78 2.81-2.81c.8-.78.8-2.07 0-2.86zM5.41 20L4 18.59l7.72-7.72 1.47 1.35L5.41 20z\"/>\n",
              "  </svg>\n",
              "      </button>\n",
              "      \n",
              "  <style>\n",
              "    .colab-df-container {\n",
              "      display:flex;\n",
              "      flex-wrap:wrap;\n",
              "      gap: 12px;\n",
              "    }\n",
              "\n",
              "    .colab-df-convert {\n",
              "      background-color: #E8F0FE;\n",
              "      border: none;\n",
              "      border-radius: 50%;\n",
              "      cursor: pointer;\n",
              "      display: none;\n",
              "      fill: #1967D2;\n",
              "      height: 32px;\n",
              "      padding: 0 0 0 0;\n",
              "      width: 32px;\n",
              "    }\n",
              "\n",
              "    .colab-df-convert:hover {\n",
              "      background-color: #E2EBFA;\n",
              "      box-shadow: 0px 1px 2px rgba(60, 64, 67, 0.3), 0px 1px 3px 1px rgba(60, 64, 67, 0.15);\n",
              "      fill: #174EA6;\n",
              "    }\n",
              "\n",
              "    [theme=dark] .colab-df-convert {\n",
              "      background-color: #3B4455;\n",
              "      fill: #D2E3FC;\n",
              "    }\n",
              "\n",
              "    [theme=dark] .colab-df-convert:hover {\n",
              "      background-color: #434B5C;\n",
              "      box-shadow: 0px 1px 3px 1px rgba(0, 0, 0, 0.15);\n",
              "      filter: drop-shadow(0px 1px 2px rgba(0, 0, 0, 0.3));\n",
              "      fill: #FFFFFF;\n",
              "    }\n",
              "  </style>\n",
              "\n",
              "      <script>\n",
              "        const buttonEl =\n",
              "          document.querySelector('#df-4cb15371-dd58-4000-90b1-abe37cba63c2 button.colab-df-convert');\n",
              "        buttonEl.style.display =\n",
              "          google.colab.kernel.accessAllowed ? 'block' : 'none';\n",
              "\n",
              "        async function convertToInteractive(key) {\n",
              "          const element = document.querySelector('#df-4cb15371-dd58-4000-90b1-abe37cba63c2');\n",
              "          const dataTable =\n",
              "            await google.colab.kernel.invokeFunction('convertToInteractive',\n",
              "                                                     [key], {});\n",
              "          if (!dataTable) return;\n",
              "\n",
              "          const docLinkHtml = 'Like what you see? Visit the ' +\n",
              "            '<a target=\"_blank\" href=https://colab.research.google.com/notebooks/data_table.ipynb>data table notebook</a>'\n",
              "            + ' to learn more about interactive tables.';\n",
              "          element.innerHTML = '';\n",
              "          dataTable['output_type'] = 'display_data';\n",
              "          await google.colab.output.renderOutput(dataTable, element);\n",
              "          const docLink = document.createElement('div');\n",
              "          docLink.innerHTML = docLinkHtml;\n",
              "          element.appendChild(docLink);\n",
              "        }\n",
              "      </script>\n",
              "    </div>\n",
              "  </div>\n",
              "  "
            ]
          },
          "metadata": {},
          "execution_count": 23
        }
      ]
    },
    {
      "cell_type": "code",
      "source": [
        "genres_joined = pd.merge(genres.drop('genre', axis=1).drop_duplicates(), \n",
        "                         electro_short_join.drop_duplicates(),\n",
        "                         left_on='track_href', right_on='href', how='left')\n",
        "genres_joined_electro = genres_joined.loc[~pd.isna(genres_joined.first_artist)]"
      ],
      "metadata": {
        "id": "msHFJGIeMagY"
      },
      "execution_count": 12,
      "outputs": []
    },
    {
      "cell_type": "code",
      "source": [
        "genres_joined_electro.columns"
      ],
      "metadata": {
        "colab": {
          "base_uri": "https://localhost:8080/"
        },
        "id": "ry5e5daoNTKW",
        "outputId": "bc6f0e7c-30de-4d48-d0ca-f1f4e9b13ef1"
      },
      "execution_count": 13,
      "outputs": [
        {
          "output_type": "execute_result",
          "data": {
            "text/plain": [
              "Index(['danceability', 'energy', 'key', 'loudness', 'mode', 'speechiness',\n",
              "       'acousticness', 'instrumentalness', 'liveness', 'valence', 'tempo',\n",
              "       'type', 'id', 'uri', 'track_href', 'analysis_url', 'duration_ms',\n",
              "       'time_signature', 'song_name', 'Unnamed: 0', 'title', 'href',\n",
              "       'popularity', 'name', 'first_artist'],\n",
              "      dtype='object')"
            ]
          },
          "metadata": {},
          "execution_count": 13
        }
      ]
    },
    {
      "cell_type": "code",
      "source": [
        "agg_cols = {'danceability':'mean',\n",
        "            'energy':'mean',\n",
        "            'key': 'mean',\n",
        "            'loudness':'mean',\n",
        "            #'mode':'mean',\n",
        "            'speechiness':'mean',\n",
        "            'acousticness':'mean',\n",
        "            'instrumentalness':'mean',\n",
        "            'liveness': 'mean',\n",
        "            'valence':'mean',\n",
        "            'tempo':'mean',\n",
        "            'popularity': 'mean'}\n",
        "\n",
        "electro_agg_metrics = genres_joined_electro.groupby('first_artist').agg(agg_cols)"
      ],
      "metadata": {
        "id": "uRLCFoDaNWI9"
      },
      "execution_count": 14,
      "outputs": []
    },
    {
      "cell_type": "code",
      "source": [
        "electro_agg_metrics"
      ],
      "metadata": {
        "colab": {
          "base_uri": "https://localhost:8080/",
          "height": 442
        },
        "id": "ALC7PX0RQ430",
        "outputId": "a77680d6-8006-44f5-8aaf-e4b6d949f761"
      },
      "execution_count": 15,
      "outputs": [
        {
          "output_type": "execute_result",
          "data": {
            "text/plain": [
              "              danceability    energy        key  loudness  speechiness  \\\n",
              "first_artist                                                             \n",
              "1991              0.451444  0.878556   4.944444  -3.23400     0.046628   \n",
              "1st in Line       0.194000  0.999000  10.000000  -4.74900     0.097300   \n",
              "2000 And One      0.787750  0.850500   4.750000  -8.60525     0.045800   \n",
              "2pole             0.740000  0.812375   5.000000  -7.91075     0.088175   \n",
              "4 Strings         0.485550  0.869150   5.050000  -7.64460     0.066450   \n",
              "...                    ...       ...        ...       ...          ...   \n",
              "tEho & Tran       0.762000  0.444000   4.000000 -13.91500     0.049700   \n",
              "tranzLift         0.509000  0.926750   6.000000  -7.62425     0.071125   \n",
              "twoloud           0.735000  0.853000   0.000000  -6.34200     0.074800   \n",
              "wAFF              0.759000  0.817500   7.000000  -7.77750     0.066900   \n",
              "Ø [Phase]         0.521000  0.927000   0.000000  -8.72900     0.034000   \n",
              "\n",
              "              acousticness  instrumentalness  liveness   valence       tempo  \\\n",
              "first_artist                                                                   \n",
              "1991              0.012991          0.340653  0.235772  0.351944  174.024111   \n",
              "1st in Line       0.000621          0.915000  0.344000  0.257000  137.979000   \n",
              "2000 And One      0.000097          0.862500  0.209750  0.066175  129.759250   \n",
              "2pole             0.013872          0.808125  0.111025  0.111687  130.130750   \n",
              "4 Strings         0.004663          0.317804  0.273420  0.098530  135.702300   \n",
              "...                    ...               ...       ...       ...         ...   \n",
              "tEho & Tran       0.013200          0.877000  0.059000  0.366000  121.994000   \n",
              "tranzLift         0.000491          0.882000  0.340000  0.186750  138.497250   \n",
              "twoloud           0.000719          0.393000  0.158000  0.489000  124.976000   \n",
              "wAFF              0.002495          0.443150  0.079300  0.278500  125.493500   \n",
              "Ø [Phase]         0.000020          0.933000  0.133000  0.317000  132.994000   \n",
              "\n",
              "              popularity  \n",
              "first_artist              \n",
              "1991           32.333333  \n",
              "1st in Line    13.000000  \n",
              "2000 And One    8.250000  \n",
              "2pole          13.125000  \n",
              "4 Strings       8.650000  \n",
              "...                  ...  \n",
              "tEho & Tran     2.000000  \n",
              "tranzLift       4.750000  \n",
              "twoloud         6.000000  \n",
              "wAFF           12.000000  \n",
              "Ø [Phase]       7.000000  \n",
              "\n",
              "[2737 rows x 11 columns]"
            ],
            "text/html": [
              "\n",
              "  <div id=\"df-898b0fa7-3e24-420e-b767-bff9a8c32052\">\n",
              "    <div class=\"colab-df-container\">\n",
              "      <div>\n",
              "<style scoped>\n",
              "    .dataframe tbody tr th:only-of-type {\n",
              "        vertical-align: middle;\n",
              "    }\n",
              "\n",
              "    .dataframe tbody tr th {\n",
              "        vertical-align: top;\n",
              "    }\n",
              "\n",
              "    .dataframe thead th {\n",
              "        text-align: right;\n",
              "    }\n",
              "</style>\n",
              "<table border=\"1\" class=\"dataframe\">\n",
              "  <thead>\n",
              "    <tr style=\"text-align: right;\">\n",
              "      <th></th>\n",
              "      <th>danceability</th>\n",
              "      <th>energy</th>\n",
              "      <th>key</th>\n",
              "      <th>loudness</th>\n",
              "      <th>speechiness</th>\n",
              "      <th>acousticness</th>\n",
              "      <th>instrumentalness</th>\n",
              "      <th>liveness</th>\n",
              "      <th>valence</th>\n",
              "      <th>tempo</th>\n",
              "      <th>popularity</th>\n",
              "    </tr>\n",
              "    <tr>\n",
              "      <th>first_artist</th>\n",
              "      <th></th>\n",
              "      <th></th>\n",
              "      <th></th>\n",
              "      <th></th>\n",
              "      <th></th>\n",
              "      <th></th>\n",
              "      <th></th>\n",
              "      <th></th>\n",
              "      <th></th>\n",
              "      <th></th>\n",
              "      <th></th>\n",
              "    </tr>\n",
              "  </thead>\n",
              "  <tbody>\n",
              "    <tr>\n",
              "      <th>1991</th>\n",
              "      <td>0.451444</td>\n",
              "      <td>0.878556</td>\n",
              "      <td>4.944444</td>\n",
              "      <td>-3.23400</td>\n",
              "      <td>0.046628</td>\n",
              "      <td>0.012991</td>\n",
              "      <td>0.340653</td>\n",
              "      <td>0.235772</td>\n",
              "      <td>0.351944</td>\n",
              "      <td>174.024111</td>\n",
              "      <td>32.333333</td>\n",
              "    </tr>\n",
              "    <tr>\n",
              "      <th>1st in Line</th>\n",
              "      <td>0.194000</td>\n",
              "      <td>0.999000</td>\n",
              "      <td>10.000000</td>\n",
              "      <td>-4.74900</td>\n",
              "      <td>0.097300</td>\n",
              "      <td>0.000621</td>\n",
              "      <td>0.915000</td>\n",
              "      <td>0.344000</td>\n",
              "      <td>0.257000</td>\n",
              "      <td>137.979000</td>\n",
              "      <td>13.000000</td>\n",
              "    </tr>\n",
              "    <tr>\n",
              "      <th>2000 And One</th>\n",
              "      <td>0.787750</td>\n",
              "      <td>0.850500</td>\n",
              "      <td>4.750000</td>\n",
              "      <td>-8.60525</td>\n",
              "      <td>0.045800</td>\n",
              "      <td>0.000097</td>\n",
              "      <td>0.862500</td>\n",
              "      <td>0.209750</td>\n",
              "      <td>0.066175</td>\n",
              "      <td>129.759250</td>\n",
              "      <td>8.250000</td>\n",
              "    </tr>\n",
              "    <tr>\n",
              "      <th>2pole</th>\n",
              "      <td>0.740000</td>\n",
              "      <td>0.812375</td>\n",
              "      <td>5.000000</td>\n",
              "      <td>-7.91075</td>\n",
              "      <td>0.088175</td>\n",
              "      <td>0.013872</td>\n",
              "      <td>0.808125</td>\n",
              "      <td>0.111025</td>\n",
              "      <td>0.111687</td>\n",
              "      <td>130.130750</td>\n",
              "      <td>13.125000</td>\n",
              "    </tr>\n",
              "    <tr>\n",
              "      <th>4 Strings</th>\n",
              "      <td>0.485550</td>\n",
              "      <td>0.869150</td>\n",
              "      <td>5.050000</td>\n",
              "      <td>-7.64460</td>\n",
              "      <td>0.066450</td>\n",
              "      <td>0.004663</td>\n",
              "      <td>0.317804</td>\n",
              "      <td>0.273420</td>\n",
              "      <td>0.098530</td>\n",
              "      <td>135.702300</td>\n",
              "      <td>8.650000</td>\n",
              "    </tr>\n",
              "    <tr>\n",
              "      <th>...</th>\n",
              "      <td>...</td>\n",
              "      <td>...</td>\n",
              "      <td>...</td>\n",
              "      <td>...</td>\n",
              "      <td>...</td>\n",
              "      <td>...</td>\n",
              "      <td>...</td>\n",
              "      <td>...</td>\n",
              "      <td>...</td>\n",
              "      <td>...</td>\n",
              "      <td>...</td>\n",
              "    </tr>\n",
              "    <tr>\n",
              "      <th>tEho &amp; Tran</th>\n",
              "      <td>0.762000</td>\n",
              "      <td>0.444000</td>\n",
              "      <td>4.000000</td>\n",
              "      <td>-13.91500</td>\n",
              "      <td>0.049700</td>\n",
              "      <td>0.013200</td>\n",
              "      <td>0.877000</td>\n",
              "      <td>0.059000</td>\n",
              "      <td>0.366000</td>\n",
              "      <td>121.994000</td>\n",
              "      <td>2.000000</td>\n",
              "    </tr>\n",
              "    <tr>\n",
              "      <th>tranzLift</th>\n",
              "      <td>0.509000</td>\n",
              "      <td>0.926750</td>\n",
              "      <td>6.000000</td>\n",
              "      <td>-7.62425</td>\n",
              "      <td>0.071125</td>\n",
              "      <td>0.000491</td>\n",
              "      <td>0.882000</td>\n",
              "      <td>0.340000</td>\n",
              "      <td>0.186750</td>\n",
              "      <td>138.497250</td>\n",
              "      <td>4.750000</td>\n",
              "    </tr>\n",
              "    <tr>\n",
              "      <th>twoloud</th>\n",
              "      <td>0.735000</td>\n",
              "      <td>0.853000</td>\n",
              "      <td>0.000000</td>\n",
              "      <td>-6.34200</td>\n",
              "      <td>0.074800</td>\n",
              "      <td>0.000719</td>\n",
              "      <td>0.393000</td>\n",
              "      <td>0.158000</td>\n",
              "      <td>0.489000</td>\n",
              "      <td>124.976000</td>\n",
              "      <td>6.000000</td>\n",
              "    </tr>\n",
              "    <tr>\n",
              "      <th>wAFF</th>\n",
              "      <td>0.759000</td>\n",
              "      <td>0.817500</td>\n",
              "      <td>7.000000</td>\n",
              "      <td>-7.77750</td>\n",
              "      <td>0.066900</td>\n",
              "      <td>0.002495</td>\n",
              "      <td>0.443150</td>\n",
              "      <td>0.079300</td>\n",
              "      <td>0.278500</td>\n",
              "      <td>125.493500</td>\n",
              "      <td>12.000000</td>\n",
              "    </tr>\n",
              "    <tr>\n",
              "      <th>Ø [Phase]</th>\n",
              "      <td>0.521000</td>\n",
              "      <td>0.927000</td>\n",
              "      <td>0.000000</td>\n",
              "      <td>-8.72900</td>\n",
              "      <td>0.034000</td>\n",
              "      <td>0.000020</td>\n",
              "      <td>0.933000</td>\n",
              "      <td>0.133000</td>\n",
              "      <td>0.317000</td>\n",
              "      <td>132.994000</td>\n",
              "      <td>7.000000</td>\n",
              "    </tr>\n",
              "  </tbody>\n",
              "</table>\n",
              "<p>2737 rows × 11 columns</p>\n",
              "</div>\n",
              "      <button class=\"colab-df-convert\" onclick=\"convertToInteractive('df-898b0fa7-3e24-420e-b767-bff9a8c32052')\"\n",
              "              title=\"Convert this dataframe to an interactive table.\"\n",
              "              style=\"display:none;\">\n",
              "        \n",
              "  <svg xmlns=\"http://www.w3.org/2000/svg\" height=\"24px\"viewBox=\"0 0 24 24\"\n",
              "       width=\"24px\">\n",
              "    <path d=\"M0 0h24v24H0V0z\" fill=\"none\"/>\n",
              "    <path d=\"M18.56 5.44l.94 2.06.94-2.06 2.06-.94-2.06-.94-.94-2.06-.94 2.06-2.06.94zm-11 1L8.5 8.5l.94-2.06 2.06-.94-2.06-.94L8.5 2.5l-.94 2.06-2.06.94zm10 10l.94 2.06.94-2.06 2.06-.94-2.06-.94-.94-2.06-.94 2.06-2.06.94z\"/><path d=\"M17.41 7.96l-1.37-1.37c-.4-.4-.92-.59-1.43-.59-.52 0-1.04.2-1.43.59L10.3 9.45l-7.72 7.72c-.78.78-.78 2.05 0 2.83L4 21.41c.39.39.9.59 1.41.59.51 0 1.02-.2 1.41-.59l7.78-7.78 2.81-2.81c.8-.78.8-2.07 0-2.86zM5.41 20L4 18.59l7.72-7.72 1.47 1.35L5.41 20z\"/>\n",
              "  </svg>\n",
              "      </button>\n",
              "      \n",
              "  <style>\n",
              "    .colab-df-container {\n",
              "      display:flex;\n",
              "      flex-wrap:wrap;\n",
              "      gap: 12px;\n",
              "    }\n",
              "\n",
              "    .colab-df-convert {\n",
              "      background-color: #E8F0FE;\n",
              "      border: none;\n",
              "      border-radius: 50%;\n",
              "      cursor: pointer;\n",
              "      display: none;\n",
              "      fill: #1967D2;\n",
              "      height: 32px;\n",
              "      padding: 0 0 0 0;\n",
              "      width: 32px;\n",
              "    }\n",
              "\n",
              "    .colab-df-convert:hover {\n",
              "      background-color: #E2EBFA;\n",
              "      box-shadow: 0px 1px 2px rgba(60, 64, 67, 0.3), 0px 1px 3px 1px rgba(60, 64, 67, 0.15);\n",
              "      fill: #174EA6;\n",
              "    }\n",
              "\n",
              "    [theme=dark] .colab-df-convert {\n",
              "      background-color: #3B4455;\n",
              "      fill: #D2E3FC;\n",
              "    }\n",
              "\n",
              "    [theme=dark] .colab-df-convert:hover {\n",
              "      background-color: #434B5C;\n",
              "      box-shadow: 0px 1px 3px 1px rgba(0, 0, 0, 0.15);\n",
              "      filter: drop-shadow(0px 1px 2px rgba(0, 0, 0, 0.3));\n",
              "      fill: #FFFFFF;\n",
              "    }\n",
              "  </style>\n",
              "\n",
              "      <script>\n",
              "        const buttonEl =\n",
              "          document.querySelector('#df-898b0fa7-3e24-420e-b767-bff9a8c32052 button.colab-df-convert');\n",
              "        buttonEl.style.display =\n",
              "          google.colab.kernel.accessAllowed ? 'block' : 'none';\n",
              "\n",
              "        async function convertToInteractive(key) {\n",
              "          const element = document.querySelector('#df-898b0fa7-3e24-420e-b767-bff9a8c32052');\n",
              "          const dataTable =\n",
              "            await google.colab.kernel.invokeFunction('convertToInteractive',\n",
              "                                                     [key], {});\n",
              "          if (!dataTable) return;\n",
              "\n",
              "          const docLinkHtml = 'Like what you see? Visit the ' +\n",
              "            '<a target=\"_blank\" href=https://colab.research.google.com/notebooks/data_table.ipynb>data table notebook</a>'\n",
              "            + ' to learn more about interactive tables.';\n",
              "          element.innerHTML = '';\n",
              "          dataTable['output_type'] = 'display_data';\n",
              "          await google.colab.output.renderOutput(dataTable, element);\n",
              "          const docLink = document.createElement('div');\n",
              "          docLink.innerHTML = docLinkHtml;\n",
              "          element.appendChild(docLink);\n",
              "        }\n",
              "      </script>\n",
              "    </div>\n",
              "  </div>\n",
              "  "
            ]
          },
          "metadata": {},
          "execution_count": 15
        }
      ]
    },
    {
      "cell_type": "code",
      "source": [
        "corr = electro_agg_metrics.corr()\n",
        "\n",
        "fig, ax = plt.subplots(figsize = (12,8))\n",
        "\n",
        "sns.heatmap(corr, mask = np.triu(np.ones_like(corr, dtype = bool)), cmap = 'Blues', annot = True, \n",
        "           linewidths = .2)\n",
        "\n",
        "plt.title('Heatmap of Modeling Features', fontsize = 15)\n",
        "plt.show()"
      ],
      "metadata": {
        "colab": {
          "base_uri": "https://localhost:8080/",
          "height": 577
        },
        "id": "DtZTL8EPPrLG",
        "outputId": "2584b5cf-6bfe-48e3-d89d-0ec5c5ad55e8"
      },
      "execution_count": 16,
      "outputs": [
        {
          "output_type": "display_data",
          "data": {
            "text/plain": [
              "<Figure size 864x576 with 2 Axes>"
            ],
            "image/png": "[encoded data removed]"
          },
          "metadata": {
            "needs_background": "light"
          }
        }
      ]
    },
    {
      "cell_type": "code",
      "source": [
        "X_train, X_test, y_train, y_test = sklearn.model_selection.train_test_split(electro_agg_metrics.drop('popularity', axis = 1), \n",
        "                                                                            electro_agg_metrics.popularity,\n",
        "                                                    random_state = 1111,\n",
        "                                                    test_size = 0.3)"
      ],
      "metadata": {
        "id": "vFZ1ha-ZQUit"
      },
      "execution_count": null,
      "outputs": []
    },
    {
      "cell_type": "code",
      "source": [
        "## Create dictionary to track model results\n",
        "results = {}\n",
        "\n",
        "def add_results(y_pred, model_name):\n",
        "    ## Add results of test data to tracker, with user input to ensure data is overwritten on purpose\n",
        "    if model_name in results.keys():\n",
        "        userIn = input(\"Model already in dictionary. Add? \").lower()\n",
        "        if userIn == 'yes':\n",
        "            results[model_name] = round(sklearn.metrics.mean_squared_error(y_test, y_pred), 2)**.5\n",
        "        else:\n",
        "            pass\n",
        "    else:\n",
        "        results[model_name] = round(sklearn.metrics.mean_squared_error(y_test, y_pred), 2)**.5\n",
        "    print(results)"
      ],
      "metadata": {
        "id": "YlRZResVRNxQ"
      },
      "execution_count": null,
      "outputs": []
    },
    {
      "cell_type": "code",
      "source": [
        "XGB_MVP = xgb.XGBRegressor(objective='reg:squarederror',\n",
        "                                seed=100).fit(X_train, y_train)\n",
        "add_results(XGB_MVP.predict(X_test), \"XGB_Base\")"
      ],
      "metadata": {
        "colab": {
          "base_uri": "https://localhost:8080/"
        },
        "id": "U8oD3LNTR1tV",
        "outputId": "42a859e6-63d8-4049-f2d7-9010313395f2"
      },
      "execution_count": null,
      "outputs": [
        {
          "output_type": "stream",
          "name": "stdout",
          "text": [
            "{'XGB_Base': 11.956169955299229}\n"
          ]
        }
      ]
    },
    {
      "cell_type": "markdown",
      "source": [
        "## pull from MusixMatch"
      ],
      "metadata": {
        "id": "j2HWLS8xUWGc"
      }
    },
    {
      "cell_type": "code",
      "source": [
        "genres_joined_electro.head()"
      ],
      "metadata": {
        "colab": {
          "base_uri": "https://localhost:8080/",
          "height": 457
        },
        "id": "SDyAUGZmU31d",
        "outputId": "c5657188-db17-414a-ec2d-7b7403b6627b"
      },
      "execution_count": null,
      "outputs": [
        {
          "output_type": "execute_result",
          "data": {
            "text/plain": [
              "       danceability  energy  key  loudness  mode  speechiness  acousticness  \\\n",
              "3319          0.413   0.924    9    -3.767     0       0.0418       0.00364   \n",
              "3335          0.537   0.906    8    -1.167     0       0.0651       0.13300   \n",
              "16006         0.630   0.928    9    -2.787     0       0.0331       0.19900   \n",
              "16060         0.572   0.802    5    -5.286     0       0.0412       0.01250   \n",
              "16063         0.520   0.789    0    -7.717     1       0.0433       0.00491   \n",
              "\n",
              "       instrumentalness  liveness  valence  ...  \\\n",
              "3319           0.784000    0.1080   0.0708  ...   \n",
              "3335           0.018700    0.3190   0.5040  ...   \n",
              "16006          0.124000    0.1480   0.4650  ...   \n",
              "16060          0.000101    0.1350   0.5550  ...   \n",
              "16063          0.000013    0.0816   0.4160  ...   \n",
              "\n",
              "                                            analysis_url duration_ms  \\\n",
              "3319   https://api.spotify.com/v1/audio-analysis/3cqW...      261401   \n",
              "3335   https://api.spotify.com/v1/audio-analysis/507U...      215172   \n",
              "16006  https://api.spotify.com/v1/audio-analysis/0azC...      222160   \n",
              "16060  https://api.spotify.com/v1/audio-analysis/3oeB...      193103   \n",
              "16063  https://api.spotify.com/v1/audio-analysis/697M...      216347   \n",
              "\n",
              "      time_signature                                  song_name Unnamed: 0  \\\n",
              "3319               4                             Never Be Alone        NaN   \n",
              "3335               4                    Desire (with Dimension)        NaN   \n",
              "16006              4  This Is What You Came For (feat. Rihanna)        NaN   \n",
              "16060              4                             Out of My Head        NaN   \n",
              "16063              4                                 I Miss You        NaN   \n",
              "\n",
              "      title                                               href  popularity  \\\n",
              "3319    NaN  https://api.spotify.com/v1/tracks/3cqWZkSohwFW...        28.0   \n",
              "3335    NaN  https://api.spotify.com/v1/tracks/507UUx311ghf...        62.0   \n",
              "16006   NaN  https://api.spotify.com/v1/tracks/0azC730Exh71...        79.0   \n",
              "16060   NaN  https://api.spotify.com/v1/tracks/3oeBaOmuWeNP...        39.0   \n",
              "16063   NaN  https://api.spotify.com/v1/tracks/697MjF1454XK...        24.0   \n",
              "\n",
              "                                            name   first_artist  \n",
              "3319                              Never Be Alone      T & Sugah  \n",
              "3335                     Desire (with Dimension)      Sub Focus  \n",
              "16006  This Is What You Came For (feat. Rihanna)  Calvin Harris  \n",
              "16060                             Out of My Head        Prefekt  \n",
              "16063                                 I Miss You    Jeff Slaugh  \n",
              "\n",
              "[5 rows x 25 columns]"
            ],
            "text/html": [
              "\n",
              "  <div id=\"df-3422362f-4c6b-4b46-8fb4-23cc25f4f4c5\">\n",
              "    <div class=\"colab-df-container\">\n",
              "      <div>\n",
              "<style scoped>\n",
              "    .dataframe tbody tr th:only-of-type {\n",
              "        vertical-align: middle;\n",
              "    }\n",
              "\n",
              "    .dataframe tbody tr th {\n",
              "        vertical-align: top;\n",
              "    }\n",
              "\n",
              "    .dataframe thead th {\n",
              "        text-align: right;\n",
              "    }\n",
              "</style>\n",
              "<table border=\"1\" class=\"dataframe\">\n",
              "  <thead>\n",
              "    <tr style=\"text-align: right;\">\n",
              "      <th></th>\n",
              "      <th>danceability</th>\n",
              "      <th>energy</th>\n",
              "      <th>key</th>\n",
              "      <th>loudness</th>\n",
              "      <th>mode</th>\n",
              "      <th>speechiness</th>\n",
              "      <th>acousticness</th>\n",
              "      <th>instrumentalness</th>\n",
              "      <th>liveness</th>\n",
              "      <th>valence</th>\n",
              "      <th>...</th>\n",
              "      <th>analysis_url</th>\n",
              "      <th>duration_ms</th>\n",
              "      <th>time_signature</th>\n",
              "      <th>song_name</th>\n",
              "      <th>Unnamed: 0</th>\n",
              "      <th>title</th>\n",
              "      <th>href</th>\n",
              "      <th>popularity</th>\n",
              "      <th>name</th>\n",
              "      <th>first_artist</th>\n",
              "    </tr>\n",
              "  </thead>\n",
              "  <tbody>\n",
              "    <tr>\n",
              "      <th>3319</th>\n",
              "      <td>0.413</td>\n",
              "      <td>0.924</td>\n",
              "      <td>9</td>\n",
              "      <td>-3.767</td>\n",
              "      <td>0</td>\n",
              "      <td>0.0418</td>\n",
              "      <td>0.00364</td>\n",
              "      <td>0.784000</td>\n",
              "      <td>0.1080</td>\n",
              "      <td>0.0708</td>\n",
              "      <td>...</td>\n",
              "      <td>https://api.spotify.com/v1/audio-analysis/3cqW...</td>\n",
              "      <td>261401</td>\n",
              "      <td>4</td>\n",
              "      <td>Never Be Alone</td>\n",
              "      <td>NaN</td>\n",
              "      <td>NaN</td>\n",
              "      <td>https://api.spotify.com/v1/tracks/3cqWZkSohwFW...</td>\n",
              "      <td>28.0</td>\n",
              "      <td>Never Be Alone</td>\n",
              "      <td>T &amp; Sugah</td>\n",
              "    </tr>\n",
              "    <tr>\n",
              "      <th>3335</th>\n",
              "      <td>0.537</td>\n",
              "      <td>0.906</td>\n",
              "      <td>8</td>\n",
              "      <td>-1.167</td>\n",
              "      <td>0</td>\n",
              "      <td>0.0651</td>\n",
              "      <td>0.13300</td>\n",
              "      <td>0.018700</td>\n",
              "      <td>0.3190</td>\n",
              "      <td>0.5040</td>\n",
              "      <td>...</td>\n",
              "      <td>https://api.spotify.com/v1/audio-analysis/507U...</td>\n",
              "      <td>215172</td>\n",
              "      <td>4</td>\n",
              "      <td>Desire (with Dimension)</td>\n",
              "      <td>NaN</td>\n",
              "      <td>NaN</td>\n",
              "      <td>https://api.spotify.com/v1/tracks/507UUx311ghf...</td>\n",
              "      <td>62.0</td>\n",
              "      <td>Desire (with Dimension)</td>\n",
              "      <td>Sub Focus</td>\n",
              "    </tr>\n",
              "    <tr>\n",
              "      <th>16006</th>\n",
              "      <td>0.630</td>\n",
              "      <td>0.928</td>\n",
              "      <td>9</td>\n",
              "      <td>-2.787</td>\n",
              "      <td>0</td>\n",
              "      <td>0.0331</td>\n",
              "      <td>0.19900</td>\n",
              "      <td>0.124000</td>\n",
              "      <td>0.1480</td>\n",
              "      <td>0.4650</td>\n",
              "      <td>...</td>\n",
              "      <td>https://api.spotify.com/v1/audio-analysis/0azC...</td>\n",
              "      <td>222160</td>\n",
              "      <td>4</td>\n",
              "      <td>This Is What You Came For (feat. Rihanna)</td>\n",
              "      <td>NaN</td>\n",
              "      <td>NaN</td>\n",
              "      <td>https://api.spotify.com/v1/tracks/0azC730Exh71...</td>\n",
              "      <td>79.0</td>\n",
              "      <td>This Is What You Came For (feat. Rihanna)</td>\n",
              "      <td>Calvin Harris</td>\n",
              "    </tr>\n",
              "    <tr>\n",
              "      <th>16060</th>\n",
              "      <td>0.572</td>\n",
              "      <td>0.802</td>\n",
              "      <td>5</td>\n",
              "      <td>-5.286</td>\n",
              "      <td>0</td>\n",
              "      <td>0.0412</td>\n",
              "      <td>0.01250</td>\n",
              "      <td>0.000101</td>\n",
              "      <td>0.1350</td>\n",
              "      <td>0.5550</td>\n",
              "      <td>...</td>\n",
              "      <td>https://api.spotify.com/v1/audio-analysis/3oeB...</td>\n",
              "      <td>193103</td>\n",
              "      <td>4</td>\n",
              "      <td>Out of My Head</td>\n",
              "      <td>NaN</td>\n",
              "      <td>NaN</td>\n",
              "      <td>https://api.spotify.com/v1/tracks/3oeBaOmuWeNP...</td>\n",
              "      <td>39.0</td>\n",
              "      <td>Out of My Head</td>\n",
              "      <td>Prefekt</td>\n",
              "    </tr>\n",
              "    <tr>\n",
              "      <th>16063</th>\n",
              "      <td>0.520</td>\n",
              "      <td>0.789</td>\n",
              "      <td>0</td>\n",
              "      <td>-7.717</td>\n",
              "      <td>1</td>\n",
              "      <td>0.0433</td>\n",
              "      <td>0.00491</td>\n",
              "      <td>0.000013</td>\n",
              "      <td>0.0816</td>\n",
              "      <td>0.4160</td>\n",
              "      <td>...</td>\n",
              "      <td>https://api.spotify.com/v1/audio-analysis/697M...</td>\n",
              "      <td>216347</td>\n",
              "      <td>4</td>\n",
              "      <td>I Miss You</td>\n",
              "      <td>NaN</td>\n",
              "      <td>NaN</td>\n",
              "      <td>https://api.spotify.com/v1/tracks/697MjF1454XK...</td>\n",
              "      <td>24.0</td>\n",
              "      <td>I Miss You</td>\n",
              "      <td>Jeff Slaugh</td>\n",
              "    </tr>\n",
              "  </tbody>\n",
              "</table>\n",
              "<p>5 rows × 25 columns</p>\n",
              "</div>\n",
              "      <button class=\"colab-df-convert\" onclick=\"convertToInteractive('df-3422362f-4c6b-4b46-8fb4-23cc25f4f4c5')\"\n",
              "              title=\"Convert this dataframe to an interactive table.\"\n",
              "              style=\"display:none;\">\n",
              "        \n",
              "  <svg xmlns=\"http://www.w3.org/2000/svg\" height=\"24px\"viewBox=\"0 0 24 24\"\n",
              "       width=\"24px\">\n",
              "    <path d=\"M0 0h24v24H0V0z\" fill=\"none\"/>\n",
              "    <path d=\"M18.56 5.44l.94 2.06.94-2.06 2.06-.94-2.06-.94-.94-2.06-.94 2.06-2.06.94zm-11 1L8.5 8.5l.94-2.06 2.06-.94-2.06-.94L8.5 2.5l-.94 2.06-2.06.94zm10 10l.94 2.06.94-2.06 2.06-.94-2.06-.94-.94-2.06-.94 2.06-2.06.94z\"/><path d=\"M17.41 7.96l-1.37-1.37c-.4-.4-.92-.59-1.43-.59-.52 0-1.04.2-1.43.59L10.3 9.45l-7.72 7.72c-.78.78-.78 2.05 0 2.83L4 21.41c.39.39.9.59 1.41.59.51 0 1.02-.2 1.41-.59l7.78-7.78 2.81-2.81c.8-.78.8-2.07 0-2.86zM5.41 20L4 18.59l7.72-7.72 1.47 1.35L5.41 20z\"/>\n",
              "  </svg>\n",
              "      </button>\n",
              "      \n",
              "  <style>\n",
              "    .colab-df-container {\n",
              "      display:flex;\n",
              "      flex-wrap:wrap;\n",
              "      gap: 12px;\n",
              "    }\n",
              "\n",
              "    .colab-df-convert {\n",
              "      background-color: #E8F0FE;\n",
              "      border: none;\n",
              "      border-radius: 50%;\n",
              "      cursor: pointer;\n",
              "      display: none;\n",
              "      fill: #1967D2;\n",
              "      height: 32px;\n",
              "      padding: 0 0 0 0;\n",
              "      width: 32px;\n",
              "    }\n",
              "\n",
              "    .colab-df-convert:hover {\n",
              "      background-color: #E2EBFA;\n",
              "      box-shadow: 0px 1px 2px rgba(60, 64, 67, 0.3), 0px 1px 3px 1px rgba(60, 64, 67, 0.15);\n",
              "      fill: #174EA6;\n",
              "    }\n",
              "\n",
              "    [theme=dark] .colab-df-convert {\n",
              "      background-color: #3B4455;\n",
              "      fill: #D2E3FC;\n",
              "    }\n",
              "\n",
              "    [theme=dark] .colab-df-convert:hover {\n",
              "      background-color: #434B5C;\n",
              "      box-shadow: 0px 1px 3px 1px rgba(0, 0, 0, 0.15);\n",
              "      filter: drop-shadow(0px 1px 2px rgba(0, 0, 0, 0.3));\n",
              "      fill: #FFFFFF;\n",
              "    }\n",
              "  </style>\n",
              "\n",
              "      <script>\n",
              "        const buttonEl =\n",
              "          document.querySelector('#df-3422362f-4c6b-4b46-8fb4-23cc25f4f4c5 button.colab-df-convert');\n",
              "        buttonEl.style.display =\n",
              "          google.colab.kernel.accessAllowed ? 'block' : 'none';\n",
              "\n",
              "        async function convertToInteractive(key) {\n",
              "          const element = document.querySelector('#df-3422362f-4c6b-4b46-8fb4-23cc25f4f4c5');\n",
              "          const dataTable =\n",
              "            await google.colab.kernel.invokeFunction('convertToInteractive',\n",
              "                                                     [key], {});\n",
              "          if (!dataTable) return;\n",
              "\n",
              "          const docLinkHtml = 'Like what you see? Visit the ' +\n",
              "            '<a target=\"_blank\" href=https://colab.research.google.com/notebooks/data_table.ipynb>data table notebook</a>'\n",
              "            + ' to learn more about interactive tables.';\n",
              "          element.innerHTML = '';\n",
              "          dataTable['output_type'] = 'display_data';\n",
              "          await google.colab.output.renderOutput(dataTable, element);\n",
              "          const docLink = document.createElement('div');\n",
              "          docLink.innerHTML = docLinkHtml;\n",
              "          element.appendChild(docLink);\n",
              "        }\n",
              "      </script>\n",
              "    </div>\n",
              "  </div>\n",
              "  "
            ]
          },
          "metadata": {},
          "execution_count": 108
        }
      ]
    },
    {
      "cell_type": "code",
      "source": [
        "def parse_lyrics(df):\n",
        "  empty = []\n",
        "  for row, artist in df.first_artist.iteritems():\n",
        "    song_title = df['name'].loc[row]\n",
        "    lyrics_return = ''\n",
        "    try:\n",
        "      lyrics_return =  genius.search_song(song_title, artist).lyrics\n",
        "    except:\n",
        "      lyrics_return = ''\n",
        "    empty.append(lyrics_return)\n",
        "  return empty\n",
        "\n",
        "parse_artist(genres_joined_electro.head())"
      ],
      "metadata": {
        "colab": {
          "base_uri": "https://localhost:8080/"
        },
        "id": "i199XxmFXHff",
        "outputId": "2c1fa902-01a1-4e6e-d071-ca444c6551b8"
      },
      "execution_count": null,
      "outputs": [
        {
          "output_type": "stream",
          "name": "stdout",
          "text": [
            "Searching for \"Never Be Alone\" by T & Sugah...\n",
            "Specified song does not contain lyrics. Rejecting.\n",
            "Searching for \"Desire (with Dimension)\" by Sub Focus...\n",
            "Done.\n",
            "Searching for \"This Is What You Came For (feat. Rihanna)\" by Calvin Harris...\n",
            "Done.\n",
            "Searching for \"Out of My Head\" by Prefekt...\n",
            "Done.\n",
            "Searching for \"I Miss You\" by Jeff Slaugh...\n",
            "Done.\n"
          ]
        },
        {
          "output_type": "execute_result",
          "data": {
            "text/plain": [
              "[[], [], [], [], []]"
            ]
          },
          "metadata": {},
          "execution_count": 116
        }
      ]
    },
    {
      "cell_type": "code",
      "source": [
        "genius.remove_section_headers = True # Remove section headers (e.g. [Chorus]) from lyrics when searching\n",
        "genius.skip_non_songs = False # Include hits thought to be non-songs (e.g. track lists)\n",
        "\n",
        "song = genius.search_song('I Miss You', 'Jeff Slaugh')\n",
        "\n",
        "song.lyrics"
      ],
      "metadata": {
        "colab": {
          "base_uri": "https://localhost:8080/",
          "height": 132
        },
        "id": "S9Yg218ZXR-t",
        "outputId": "ac1fffb2-7691-4bfd-bc06-ea1851821c44"
      },
      "execution_count": null,
      "outputs": [
        {
          "output_type": "stream",
          "name": "stdout",
          "text": [
            "Searching for \"I Miss You\" by Jeff Slaugh...\n",
            "Done.\n"
          ]
        },
        {
          "output_type": "execute_result",
          "data": {
            "text/plain": [
              "\"Rap on Rappers Lyrics\\nSo I walked into a store with a couple BUCKs from the BANK,\\nSaw a pack of M&Ms asked how much? 50 CENTs? Thanks,\\nGrabbed a box of Ike & MIKEs JONES to wash it down,\\nA bag of ICE CUBEs cuz I like my drinks COLD now,\\nSaw a LIL REESE man those get me goin' MEEK,\\nBut I was TOO SHORT of change so it looked MEMPHIS BLEEK,\\nJust then a SCHOOLBOY walks in ABSOLutely cool 2 CHAINZ on,\\nAsks for a 2 PACK of NOTORIOUSly BIG candies I'm like GAME on,\\nI creep in like a TIGER hiding behind WALL-A,\\nTry looking COMMON not to PUSH him Away,\\nHe SIGHs HIGH like a PRINCE, FRENCH hat from MONTANA,\\nThis BIG BOI must be an OUTCAST cuz he looks like a DUMBFOUNDED banana,\\nSo now I'm stepping up to him and just BUST A RHYME,\\nSaying I'm a DOCTOR slash SOULJA BOY who has no time,\\nAnd that I'd appreciate some change so I can be free like a BIRD MAN,\\nThis KID KID thinks I'm LUDICROUS gives mE 40 cents I'm like word man,\\nThat scene was a FIASCO but I feel FABULOUS,\\nWalk into the next store a SLAUGHTERHOUSE smells like CANNIBUS,\\nPlace looked sketchy prolly sells SNOOPed DOGs,\\nAll I wanted to do was use their LITTLE JON,\\nThe owner looked like he was from WAYNE's world,\\nI start to get DIZZY RIGHT then and hurl,\\nThat man's screaming you LIL CHUCKee the food on my floor,\\nI'm like EASY E LIL B it's this NAUSeating smell but he kicked me out the door,\\nI'm thinking DID HE just do that as a girl walks by,\\nHer CURRENCY seemed foreign I WILLed myself to say hi,\\nHello miss you look JUICY and yo behind is FAT JOE,\\nYou think I can JADE A KISS I lied all I said was yo,\\nWhere you from she replies whattup from FLORIDA,\\nMy name's KIM who are you? I wanna get to know more of ya,\\nI replied I'm BOB no SEAN no JIM JONES DRAKE nah I'm Jeff,\\nThat was ASTROnomically bad I'mma leave I say outta breath,\\nShe laughs it off and says lemme give you a TIP,\\nPick a name ASAP before you try again kid,\\nIt's an IMMORTAL TECHNIQUE that'll help your CHITTY CHITTY BANG BANG pass,\\nOtherwise you just some RIFF RAFF tryna be BADASS,\\nI'm thinking MANN I'm a MAC I should continue to MILL HER,\\nMy STYLES are smooth she called me KID like I'm CUDI winner,\\nBut I feel CHILDISH I should've thrown on some GUCCI MAN,\\nTaken off this HOODIE & SWEATSHIRT damn this ain't gunna last,\\nExcept she said I was a DIME in a DOZEN now my FUTURE seemed bright,\\nI went from an UNDERACHIEVER to a KID INKing her number alright,\\nShe was just boasting this WIZ I didn't mind if it meant ACTION,\\nHer JEWELS shining bright filling this CHIEF with passion,\\nWe really hit it off talked for about XV minutes,\\nThis whole day had no LOGIC but I was glad I did it,\\nUp until the point I saw a PITBULL charging our way,\\nI never did go to the washroom so I peed my pants..hooray.\\nOh and they call me SPITFIRE cuz my mouth gets hot,\\nThere's 84 rapper names see if you can count em all or not.Embed\""
            ],
            "application/vnd.google.colaboratory.intrinsic+json": {
              "type": "string"
            }
          },
          "metadata": {},
          "execution_count": 122
        }
      ]
    },
    {
      "cell_type": "code",
      "source": [
        ""
      ],
      "metadata": {
        "id": "XFhaGGO3X6ah"
      },
      "execution_count": null,
      "outputs": []
    }
  ],
  "metadata": {
    "kernelspec": {
      "display_name": "Python 3",
      "language": "python",
      "name": "python3"
    },
    "language_info": {
      "codemirror_mode": {
        "name": "ipython",
        "version": 3
      },
      "file_extension": ".py",
      "mimetype": "text/x-python",
      "name": "python",
      "nbconvert_exporter": "python",
      "pygments_lexer": "ipython3",
      "version": "3.7.6"
    },
    "colab": {
      "name": "Kaggle Spotify Data Review.ipynb",
      "provenance": [],
      "collapsed_sections": []
    }
  },
  "nbformat": 4,
  "nbformat_minor": 0
}
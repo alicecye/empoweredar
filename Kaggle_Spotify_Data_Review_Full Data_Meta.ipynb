{
  "cells": [
    {
      "cell_type": "markdown",
      "metadata": {
        "id": "Q1k_CVj5Dn7I"
      },
      "source": [
        "## MIDS - Spotify Base Data Review"
      ]
    },
    {
      "cell_type": "code",
      "source": [
        "## to mount GoogleDrive\n",
        "from google.colab import drive\n",
        "import os \n",
        "drive.mount('/content/drive')\n",
        "os.chdir('/content/drive/MyDrive/to_mount')"
      ],
      "metadata": {
        "colab": {
          "base_uri": "https://localhost:8080/"
        },
        "id": "cfshJY2zi48w",
        "outputId": "f08e0742-729e-4aa4-ce69-4dc7c178b44f"
      },
      "execution_count": 1,
      "outputs": [
        {
          "output_type": "stream",
          "name": "stdout",
          "text": [
            "Drive already mounted at /content/drive; to attempt to forcibly remount, call drive.mount(\"/content/drive\", force_remount=True).\n"
          ]
        }
      ]
    },
    {
      "cell_type": "code",
      "execution_count": 2,
      "metadata": {
        "id": "1PbO5mRYDn7K"
      },
      "outputs": [],
      "source": [
        "# base modules\n",
        "import pandas as pd\n",
        "import matplotlib.pyplot as plt\n",
        "import numpy as np\n",
        "import sklearn.model_selection\n",
        "import sklearn.metrics\n",
        "\n",
        "# non-base no import\n",
        "from pathlib import Path\n",
        "from bs4 import BeautifulSoup\n",
        "#from lyricsgenius import Genius\n",
        "import requests\n",
        "import seaborn as sns\n",
        "import json\n",
        "import xgboost as xgb\n",
        "import re"
      ]
    },
    {
      "cell_type": "code",
      "source": [
        "#!pip install spotipy\n",
        "#!pip install pymusixmatch"
      ],
      "metadata": {
        "id": "N7Ln36-pKp--"
      },
      "execution_count": 3,
      "outputs": []
    },
    {
      "cell_type": "code",
      "source": [
        "# import packages\n",
        "import spotipy\n",
        "from spotipy.oauth2 import SpotifyClientCredentials\n",
        "from musixmatch import Musixmatch\n",
        "from nltk.sentiment import SentimentIntensityAnalyzer\n",
        "import nltk"
      ],
      "metadata": {
        "id": "2J_lT7AtybIP"
      },
      "execution_count": 4,
      "outputs": []
    },
    {
      "cell_type": "code",
      "source": [
        "nltk.download([\"names\",\"stopwords\",\"state_union\",\"twitter_samples\",\"movie_reviews\", \"averaged_perceptron_tagger\",\"vader_lexicon\",\"punkt\"])"
      ],
      "metadata": {
        "colab": {
          "base_uri": "https://localhost:8080/"
        },
        "id": "eE_8OV3eX175",
        "outputId": "956cdada-7585-4407-9174-0d7eac6d18d4"
      },
      "execution_count": 5,
      "outputs": [
        {
          "output_type": "stream",
          "name": "stderr",
          "text": [
            "[nltk_data] Downloading package names to /root/nltk_data...\n",
            "[nltk_data]   Unzipping corpora/names.zip.\n",
            "[nltk_data] Downloading package stopwords to /root/nltk_data...\n",
            "[nltk_data]   Unzipping corpora/stopwords.zip.\n",
            "[nltk_data] Downloading package state_union to /root/nltk_data...\n",
            "[nltk_data]   Unzipping corpora/state_union.zip.\n",
            "[nltk_data] Downloading package twitter_samples to /root/nltk_data...\n",
            "[nltk_data]   Unzipping corpora/twitter_samples.zip.\n",
            "[nltk_data] Downloading package movie_reviews to /root/nltk_data...\n",
            "[nltk_data]   Unzipping corpora/movie_reviews.zip.\n",
            "[nltk_data] Downloading package averaged_perceptron_tagger to\n",
            "[nltk_data]     /root/nltk_data...\n",
            "[nltk_data]   Unzipping taggers/averaged_perceptron_tagger.zip.\n",
            "[nltk_data] Downloading package vader_lexicon to /root/nltk_data...\n",
            "[nltk_data] Downloading package punkt to /root/nltk_data...\n",
            "[nltk_data]   Unzipping tokenizers/punkt.zip.\n"
          ]
        },
        {
          "output_type": "execute_result",
          "data": {
            "text/plain": [
              "True"
            ]
          },
          "metadata": {},
          "execution_count": 5
        }
      ]
    },
    {
      "cell_type": "code",
      "source": [
        "#Spotify creds\n",
        "cid = Path('_keys/cid.txt').read_text()\n",
        "secret = Path('_keys/secret.txt').read_text()\n",
        "\n",
        "#Genius creds\n",
        "# genius_cid = Path('_keys/genius_cid.txt').read_text()\n",
        "# genius_secret = Path('_keys/genius_secret.txt').read_text()\n",
        "\n",
        "#Musixmatch creds\n",
        "musix_cid = Path('_keys/musix_id.txt').read_text()"
      ],
      "metadata": {
        "id": "iHRT9kCuEdmc"
      },
      "execution_count": 6,
      "outputs": []
    },
    {
      "cell_type": "code",
      "source": [
        "client_credentials_manager = SpotifyClientCredentials(client_id=cid, client_secret=secret)\n",
        "sp = spotipy.Spotify(client_credentials_manager=client_credentials_manager)\n",
        "\n",
        "# genius = Genius(genius_cid)"
      ],
      "metadata": {
        "id": "geY7HaBUEOev"
      },
      "execution_count": 7,
      "outputs": []
    },
    {
      "cell_type": "code",
      "execution_count": 8,
      "metadata": {
        "id": "r2UqxQZpDn7N"
      },
      "outputs": [],
      "source": [
        "data = pd.read_csv('_data/charts.csv')"
      ]
    },
    {
      "cell_type": "code",
      "source": [
        "data.head()"
      ],
      "metadata": {
        "colab": {
          "base_uri": "https://localhost:8080/",
          "height": 201
        },
        "id": "smoXWE2OmXgw",
        "outputId": "4ebd7b4f-ff6a-4e6b-be61-471983b451d6"
      },
      "execution_count": 9,
      "outputs": [
        {
          "output_type": "execute_result",
          "data": {
            "text/plain": [
              "                         title  rank        date  \\\n",
              "0      Chantaje (feat. Maluma)     1  2017-01-01   \n",
              "1  Vente Pa' Ca (feat. Maluma)     2  2017-01-01   \n",
              "2   Reggaetón Lento (Bailemos)     3  2017-01-01   \n",
              "3                       Safari     4  2017-01-01   \n",
              "4                  Shaky Shaky     5  2017-01-01   \n",
              "\n",
              "                                  artist  \\\n",
              "0                                Shakira   \n",
              "1                           Ricky Martin   \n",
              "2                                   CNCO   \n",
              "3  J Balvin, Pharrell Williams, BIA, Sky   \n",
              "4                           Daddy Yankee   \n",
              "\n",
              "                                                 url     region   chart  \\\n",
              "0  https://open.spotify.com/track/6mICuAdrwEjh6Y6...  Argentina  top200   \n",
              "1  https://open.spotify.com/track/7DM4BPaS7uofFul...  Argentina  top200   \n",
              "2  https://open.spotify.com/track/3AEZUABDXNtecAO...  Argentina  top200   \n",
              "3  https://open.spotify.com/track/6rQSrBHf7HlZjtc...  Argentina  top200   \n",
              "4  https://open.spotify.com/track/58IL315gMSTD37D...  Argentina  top200   \n",
              "\n",
              "           trend   streams  \n",
              "0  SAME_POSITION  253019.0  \n",
              "1        MOVE_UP  223988.0  \n",
              "2      MOVE_DOWN  210943.0  \n",
              "3  SAME_POSITION  173865.0  \n",
              "4        MOVE_UP  153956.0  "
            ],
            "text/html": [
              "\n",
              "  <div id=\"df-2cb81bfa-e577-47e7-ad68-153b5c33c232\">\n",
              "    <div class=\"colab-df-container\">\n",
              "      <div>\n",
              "<style scoped>\n",
              "    .dataframe tbody tr th:only-of-type {\n",
              "        vertical-align: middle;\n",
              "    }\n",
              "\n",
              "    .dataframe tbody tr th {\n",
              "        vertical-align: top;\n",
              "    }\n",
              "\n",
              "    .dataframe thead th {\n",
              "        text-align: right;\n",
              "    }\n",
              "</style>\n",
              "<table border=\"1\" class=\"dataframe\">\n",
              "  <thead>\n",
              "    <tr style=\"text-align: right;\">\n",
              "      <th></th>\n",
              "      <th>title</th>\n",
              "      <th>rank</th>\n",
              "      <th>date</th>\n",
              "      <th>artist</th>\n",
              "      <th>url</th>\n",
              "      <th>region</th>\n",
              "      <th>chart</th>\n",
              "      <th>trend</th>\n",
              "      <th>streams</th>\n",
              "    </tr>\n",
              "  </thead>\n",
              "  <tbody>\n",
              "    <tr>\n",
              "      <th>0</th>\n",
              "      <td>Chantaje (feat. Maluma)</td>\n",
              "      <td>1</td>\n",
              "      <td>2017-01-01</td>\n",
              "      <td>Shakira</td>\n",
              "      <td>https://open.spotify.com/track/6mICuAdrwEjh6Y6...</td>\n",
              "      <td>Argentina</td>\n",
              "      <td>top200</td>\n",
              "      <td>SAME_POSITION</td>\n",
              "      <td>253019.0</td>\n",
              "    </tr>\n",
              "    <tr>\n",
              "      <th>1</th>\n",
              "      <td>Vente Pa' Ca (feat. Maluma)</td>\n",
              "      <td>2</td>\n",
              "      <td>2017-01-01</td>\n",
              "      <td>Ricky Martin</td>\n",
              "      <td>https://open.spotify.com/track/7DM4BPaS7uofFul...</td>\n",
              "      <td>Argentina</td>\n",
              "      <td>top200</td>\n",
              "      <td>MOVE_UP</td>\n",
              "      <td>223988.0</td>\n",
              "    </tr>\n",
              "    <tr>\n",
              "      <th>2</th>\n",
              "      <td>Reggaetón Lento (Bailemos)</td>\n",
              "      <td>3</td>\n",
              "      <td>2017-01-01</td>\n",
              "      <td>CNCO</td>\n",
              "      <td>https://open.spotify.com/track/3AEZUABDXNtecAO...</td>\n",
              "      <td>Argentina</td>\n",
              "      <td>top200</td>\n",
              "      <td>MOVE_DOWN</td>\n",
              "      <td>210943.0</td>\n",
              "    </tr>\n",
              "    <tr>\n",
              "      <th>3</th>\n",
              "      <td>Safari</td>\n",
              "      <td>4</td>\n",
              "      <td>2017-01-01</td>\n",
              "      <td>J Balvin, Pharrell Williams, BIA, Sky</td>\n",
              "      <td>https://open.spotify.com/track/6rQSrBHf7HlZjtc...</td>\n",
              "      <td>Argentina</td>\n",
              "      <td>top200</td>\n",
              "      <td>SAME_POSITION</td>\n",
              "      <td>173865.0</td>\n",
              "    </tr>\n",
              "    <tr>\n",
              "      <th>4</th>\n",
              "      <td>Shaky Shaky</td>\n",
              "      <td>5</td>\n",
              "      <td>2017-01-01</td>\n",
              "      <td>Daddy Yankee</td>\n",
              "      <td>https://open.spotify.com/track/58IL315gMSTD37D...</td>\n",
              "      <td>Argentina</td>\n",
              "      <td>top200</td>\n",
              "      <td>MOVE_UP</td>\n",
              "      <td>153956.0</td>\n",
              "    </tr>\n",
              "  </tbody>\n",
              "</table>\n",
              "</div>\n",
              "      <button class=\"colab-df-convert\" onclick=\"convertToInteractive('df-2cb81bfa-e577-47e7-ad68-153b5c33c232')\"\n",
              "              title=\"Convert this dataframe to an interactive table.\"\n",
              "              style=\"display:none;\">\n",
              "        \n",
              "  <svg xmlns=\"http://www.w3.org/2000/svg\" height=\"24px\"viewBox=\"0 0 24 24\"\n",
              "       width=\"24px\">\n",
              "    <path d=\"M0 0h24v24H0V0z\" fill=\"none\"/>\n",
              "    <path d=\"M18.56 5.44l.94 2.06.94-2.06 2.06-.94-2.06-.94-.94-2.06-.94 2.06-2.06.94zm-11 1L8.5 8.5l.94-2.06 2.06-.94-2.06-.94L8.5 2.5l-.94 2.06-2.06.94zm10 10l.94 2.06.94-2.06 2.06-.94-2.06-.94-.94-2.06-.94 2.06-2.06.94z\"/><path d=\"M17.41 7.96l-1.37-1.37c-.4-.4-.92-.59-1.43-.59-.52 0-1.04.2-1.43.59L10.3 9.45l-7.72 7.72c-.78.78-.78 2.05 0 2.83L4 21.41c.39.39.9.59 1.41.59.51 0 1.02-.2 1.41-.59l7.78-7.78 2.81-2.81c.8-.78.8-2.07 0-2.86zM5.41 20L4 18.59l7.72-7.72 1.47 1.35L5.41 20z\"/>\n",
              "  </svg>\n",
              "      </button>\n",
              "      \n",
              "  <style>\n",
              "    .colab-df-container {\n",
              "      display:flex;\n",
              "      flex-wrap:wrap;\n",
              "      gap: 12px;\n",
              "    }\n",
              "\n",
              "    .colab-df-convert {\n",
              "      background-color: #E8F0FE;\n",
              "      border: none;\n",
              "      border-radius: 50%;\n",
              "      cursor: pointer;\n",
              "      display: none;\n",
              "      fill: #1967D2;\n",
              "      height: 32px;\n",
              "      padding: 0 0 0 0;\n",
              "      width: 32px;\n",
              "    }\n",
              "\n",
              "    .colab-df-convert:hover {\n",
              "      background-color: #E2EBFA;\n",
              "      box-shadow: 0px 1px 2px rgba(60, 64, 67, 0.3), 0px 1px 3px 1px rgba(60, 64, 67, 0.15);\n",
              "      fill: #174EA6;\n",
              "    }\n",
              "\n",
              "    [theme=dark] .colab-df-convert {\n",
              "      background-color: #3B4455;\n",
              "      fill: #D2E3FC;\n",
              "    }\n",
              "\n",
              "    [theme=dark] .colab-df-convert:hover {\n",
              "      background-color: #434B5C;\n",
              "      box-shadow: 0px 1px 3px 1px rgba(0, 0, 0, 0.15);\n",
              "      filter: drop-shadow(0px 1px 2px rgba(0, 0, 0, 0.3));\n",
              "      fill: #FFFFFF;\n",
              "    }\n",
              "  </style>\n",
              "\n",
              "      <script>\n",
              "        const buttonEl =\n",
              "          document.querySelector('#df-2cb81bfa-e577-47e7-ad68-153b5c33c232 button.colab-df-convert');\n",
              "        buttonEl.style.display =\n",
              "          google.colab.kernel.accessAllowed ? 'block' : 'none';\n",
              "\n",
              "        async function convertToInteractive(key) {\n",
              "          const element = document.querySelector('#df-2cb81bfa-e577-47e7-ad68-153b5c33c232');\n",
              "          const dataTable =\n",
              "            await google.colab.kernel.invokeFunction('convertToInteractive',\n",
              "                                                     [key], {});\n",
              "          if (!dataTable) return;\n",
              "\n",
              "          const docLinkHtml = 'Like what you see? Visit the ' +\n",
              "            '<a target=\"_blank\" href=https://colab.research.google.com/notebooks/data_table.ipynb>data table notebook</a>'\n",
              "            + ' to learn more about interactive tables.';\n",
              "          element.innerHTML = '';\n",
              "          dataTable['output_type'] = 'display_data';\n",
              "          await google.colab.output.renderOutput(dataTable, element);\n",
              "          const docLink = document.createElement('div');\n",
              "          docLink.innerHTML = docLinkHtml;\n",
              "          element.appendChild(docLink);\n",
              "        }\n",
              "      </script>\n",
              "    </div>\n",
              "  </div>\n",
              "  "
            ]
          },
          "metadata": {},
          "execution_count": 9
        }
      ]
    },
    {
      "cell_type": "code",
      "execution_count": 10,
      "metadata": {
        "colab": {
          "base_uri": "https://localhost:8080/"
        },
        "id": "m5KEMzuXDn7O",
        "outputId": "68c1465c-7ecd-4526-c3a2-a2b29d8cfa8b"
      },
      "outputs": [
        {
          "output_type": "stream",
          "name": "stdout",
          "text": [
            "top200     20321904\n",
            "viral50     5851610\n",
            "Name: chart, dtype: int64\n",
            "Argentina        455308\n",
            "United States    455057\n",
            "Austria          454593\n",
            "Brazil           454439\n",
            "Australia        453103\n",
            "                  ...  \n",
            "Ukraine          127544\n",
            "Russia           126837\n",
            "Luxembourg        98053\n",
            "Andorra           79592\n",
            "South Korea       76276\n",
            "Name: region, Length: 70, dtype: int64\n"
          ]
        }
      ],
      "source": [
        "print(data['chart'].value_counts())\n",
        "print(data['region'].value_counts())\n",
        "\n",
        "## suggest narrowing scope to just viral50 in US"
      ]
    },
    {
      "cell_type": "code",
      "execution_count": 47,
      "metadata": {
        "id": "tf52-6GADn7P"
      },
      "outputs": [],
      "source": [
        "use_songs = data.loc[(data.chart == 'viral50') & \n",
        "                     (data.region == 'United States')]"
      ]
    },
    {
      "cell_type": "code",
      "source": [
        "print(\"number of unique songs: \", len(use_songs.url.unique()))\n",
        "print(\"number of unique artists: \", len(use_songs.artist.unique()))"
      ],
      "metadata": {
        "id": "sYvyIgnpm31K",
        "colab": {
          "base_uri": "https://localhost:8080/"
        },
        "outputId": "c40fbdfd-e3a4-4fe5-d58d-d26dfc6debeb"
      },
      "execution_count": 12,
      "outputs": [
        {
          "output_type": "stream",
          "name": "stdout",
          "text": [
            "number of unique songs:  7974\n",
            "number of unique artists:  4380\n"
          ]
        }
      ]
    },
    {
      "cell_type": "code",
      "source": [
        "unique_url = use_songs['url'].unique()"
      ],
      "metadata": {
        "id": "Cv-5DAjFNgWE"
      },
      "execution_count": 48,
      "outputs": []
    },
    {
      "cell_type": "code",
      "execution_count": null,
      "metadata": {
        "id": "glaNqFQ_Dn7P"
      },
      "outputs": [],
      "source": [
        "## get spotify data popularity\n",
        "def popularity(df):\n",
        "    empty = []\n",
        "    use_keys = ['danceability', 'energy', 'key', 'loudness', 'speechiness', 'acousticness', 'instrumentalness',\n",
        "                'liveness', 'valence', 'tempo']\n",
        "    for i in df:\n",
        "      #print(i)\n",
        "      series_track = pd.Series(sp.track(i))\n",
        "\n",
        "      series_analysis_base = pd.Series(sp.audio_features(i)[0])\n",
        "      series_analysis = pd.Series({k: v for k, v in series_analysis_base.items() if k in use_keys})\n",
        "\n",
        "      series_track_full = pd.concat([series_track, series_analysis])\n",
        "      empty.append(series_track_full)\n",
        "\n",
        "    df2 = pd.DataFrame(empty)\n",
        "    return df2\n",
        "\n",
        "spotify_pull = popularity(unique_url)"
      ]
    },
    {
      "cell_type": "code",
      "execution_count": 61,
      "metadata": {
        "id": "UeidMkdeDn7P",
        "colab": {
          "base_uri": "https://localhost:8080/",
          "height": 540
        },
        "outputId": "25f30f99-e0e8-40ce-d46a-36f3a78770ae"
      },
      "outputs": [
        {
          "output_type": "execute_result",
          "data": {
            "text/plain": [
              "                                               album  \\\n",
              "0  {'album_type': 'single', 'artists': [{'externa...   \n",
              "1  {'album_type': 'single', 'artists': [{'externa...   \n",
              "2  {'album_type': 'single', 'artists': [{'externa...   \n",
              "3  {'album_type': 'single', 'artists': [{'externa...   \n",
              "4  {'album_type': 'single', 'artists': [{'externa...   \n",
              "\n",
              "                                             artists  \\\n",
              "0  [{'external_urls': {'spotify': 'https://open.s...   \n",
              "1  [{'external_urls': {'spotify': 'https://open.s...   \n",
              "2  [{'external_urls': {'spotify': 'https://open.s...   \n",
              "3  [{'external_urls': {'spotify': 'https://open.s...   \n",
              "4  [{'external_urls': {'spotify': 'https://open.s...   \n",
              "\n",
              "                                   available_markets  disc_number  \\\n",
              "0  [AD, AE, AG, AM, AO, AR, AT, AU, AZ, BB, BD, B...            1   \n",
              "1  [AD, AE, AG, AL, AM, AO, AR, AT, AU, AZ, BA, B...            1   \n",
              "2                                                 []            1   \n",
              "3  [AD, AE, AG, AL, AM, AO, AR, AT, AU, AZ, BA, B...            1   \n",
              "4  [AD, AG, AL, AM, AO, AR, AT, AU, AZ, BA, BB, B...            1   \n",
              "\n",
              "   duration_ms  explicit              external_ids  \\\n",
              "0       199741      True  {'isrc': 'TCADD1721892'}   \n",
              "1       234285     False  {'isrc': 'USAT21702382'}   \n",
              "2       261614      True  {'isrc': 'QZ8TY1700008'}   \n",
              "3       162585     False  {'isrc': 'GBAHS1700564'}   \n",
              "4       190427      True  {'isrc': 'GBHMU1700037'}   \n",
              "\n",
              "                                       external_urls  \\\n",
              "0  {'spotify': 'https://open.spotify.com/track/2A...   \n",
              "1  {'spotify': 'https://open.spotify.com/track/57...   \n",
              "2  {'spotify': 'https://open.spotify.com/track/0R...   \n",
              "3  {'spotify': 'https://open.spotify.com/track/5o...   \n",
              "4  {'spotify': 'https://open.spotify.com/track/7F...   \n",
              "\n",
              "                                                href                      id  \\\n",
              "0  https://api.spotify.com/v1/tracks/2AEzMPR01sg1...  2AEzMPR01sg1wsXurYrgDx   \n",
              "1  https://api.spotify.com/v1/tracks/57p8CBvPOxrv...  57p8CBvPOxrvyCbn6ttl5r   \n",
              "2  https://api.spotify.com/v1/tracks/0RYXEibxMami...  0RYXEibxMami3QuT8kn4Iz   \n",
              "3  https://api.spotify.com/v1/tracks/5o4yGlG0PfeV...  5o4yGlG0PfeVUa6ClIyOxq   \n",
              "4  https://api.spotify.com/v1/tracks/7F9vK8hNFMml...  7F9vK8hNFMml4GtHsaXui6   \n",
              "\n",
              "   ...  danceability energy   key loudness  speechiness acousticness  \\\n",
              "0  ...         0.810  0.342   1.0   -8.801       0.0892       0.7020   \n",
              "1  ...         0.653  0.910  10.0   -3.360       0.0566       0.0079   \n",
              "2  ...         0.922  0.583   5.0   -4.982       0.0753       0.0098   \n",
              "3  ...         0.867  0.545   2.0   -5.192       0.0625       0.0646   \n",
              "4  ...         0.683  0.530   5.0   -4.918       0.1420       0.2070   \n",
              "\n",
              "  instrumentalness  liveness  valence    tempo  \n",
              "0         0.027400    0.1100   0.0881   77.515  \n",
              "1         0.000000    0.3180   0.0921  126.047  \n",
              "2         0.000000    0.0962   0.4940  136.043  \n",
              "3         0.000289    0.0505   0.5250  139.943  \n",
              "4         0.000000    0.3940   0.6450   75.016  \n",
              "\n",
              "[5 rows x 27 columns]"
            ],
            "text/html": [
              "\n",
              "  <div id=\"df-7f556dcd-0c48-4401-b883-ebc3bb5adf68\">\n",
              "    <div class=\"colab-df-container\">\n",
              "      <div>\n",
              "<style scoped>\n",
              "    .dataframe tbody tr th:only-of-type {\n",
              "        vertical-align: middle;\n",
              "    }\n",
              "\n",
              "    .dataframe tbody tr th {\n",
              "        vertical-align: top;\n",
              "    }\n",
              "\n",
              "    .dataframe thead th {\n",
              "        text-align: right;\n",
              "    }\n",
              "</style>\n",
              "<table border=\"1\" class=\"dataframe\">\n",
              "  <thead>\n",
              "    <tr style=\"text-align: right;\">\n",
              "      <th></th>\n",
              "      <th>album</th>\n",
              "      <th>artists</th>\n",
              "      <th>available_markets</th>\n",
              "      <th>disc_number</th>\n",
              "      <th>duration_ms</th>\n",
              "      <th>explicit</th>\n",
              "      <th>external_ids</th>\n",
              "      <th>external_urls</th>\n",
              "      <th>href</th>\n",
              "      <th>id</th>\n",
              "      <th>...</th>\n",
              "      <th>danceability</th>\n",
              "      <th>energy</th>\n",
              "      <th>key</th>\n",
              "      <th>loudness</th>\n",
              "      <th>speechiness</th>\n",
              "      <th>acousticness</th>\n",
              "      <th>instrumentalness</th>\n",
              "      <th>liveness</th>\n",
              "      <th>valence</th>\n",
              "      <th>tempo</th>\n",
              "    </tr>\n",
              "  </thead>\n",
              "  <tbody>\n",
              "    <tr>\n",
              "      <th>0</th>\n",
              "      <td>{'album_type': 'single', 'artists': [{'externa...</td>\n",
              "      <td>[{'external_urls': {'spotify': 'https://open.s...</td>\n",
              "      <td>[AD, AE, AG, AM, AO, AR, AT, AU, AZ, BB, BD, B...</td>\n",
              "      <td>1</td>\n",
              "      <td>199741</td>\n",
              "      <td>True</td>\n",
              "      <td>{'isrc': 'TCADD1721892'}</td>\n",
              "      <td>{'spotify': 'https://open.spotify.com/track/2A...</td>\n",
              "      <td>https://api.spotify.com/v1/tracks/2AEzMPR01sg1...</td>\n",
              "      <td>2AEzMPR01sg1wsXurYrgDx</td>\n",
              "      <td>...</td>\n",
              "      <td>0.810</td>\n",
              "      <td>0.342</td>\n",
              "      <td>1.0</td>\n",
              "      <td>-8.801</td>\n",
              "      <td>0.0892</td>\n",
              "      <td>0.7020</td>\n",
              "      <td>0.027400</td>\n",
              "      <td>0.1100</td>\n",
              "      <td>0.0881</td>\n",
              "      <td>77.515</td>\n",
              "    </tr>\n",
              "    <tr>\n",
              "      <th>1</th>\n",
              "      <td>{'album_type': 'single', 'artists': [{'externa...</td>\n",
              "      <td>[{'external_urls': {'spotify': 'https://open.s...</td>\n",
              "      <td>[AD, AE, AG, AL, AM, AO, AR, AT, AU, AZ, BA, B...</td>\n",
              "      <td>1</td>\n",
              "      <td>234285</td>\n",
              "      <td>False</td>\n",
              "      <td>{'isrc': 'USAT21702382'}</td>\n",
              "      <td>{'spotify': 'https://open.spotify.com/track/57...</td>\n",
              "      <td>https://api.spotify.com/v1/tracks/57p8CBvPOxrv...</td>\n",
              "      <td>57p8CBvPOxrvyCbn6ttl5r</td>\n",
              "      <td>...</td>\n",
              "      <td>0.653</td>\n",
              "      <td>0.910</td>\n",
              "      <td>10.0</td>\n",
              "      <td>-3.360</td>\n",
              "      <td>0.0566</td>\n",
              "      <td>0.0079</td>\n",
              "      <td>0.000000</td>\n",
              "      <td>0.3180</td>\n",
              "      <td>0.0921</td>\n",
              "      <td>126.047</td>\n",
              "    </tr>\n",
              "    <tr>\n",
              "      <th>2</th>\n",
              "      <td>{'album_type': 'single', 'artists': [{'externa...</td>\n",
              "      <td>[{'external_urls': {'spotify': 'https://open.s...</td>\n",
              "      <td>[]</td>\n",
              "      <td>1</td>\n",
              "      <td>261614</td>\n",
              "      <td>True</td>\n",
              "      <td>{'isrc': 'QZ8TY1700008'}</td>\n",
              "      <td>{'spotify': 'https://open.spotify.com/track/0R...</td>\n",
              "      <td>https://api.spotify.com/v1/tracks/0RYXEibxMami...</td>\n",
              "      <td>0RYXEibxMami3QuT8kn4Iz</td>\n",
              "      <td>...</td>\n",
              "      <td>0.922</td>\n",
              "      <td>0.583</td>\n",
              "      <td>5.0</td>\n",
              "      <td>-4.982</td>\n",
              "      <td>0.0753</td>\n",
              "      <td>0.0098</td>\n",
              "      <td>0.000000</td>\n",
              "      <td>0.0962</td>\n",
              "      <td>0.4940</td>\n",
              "      <td>136.043</td>\n",
              "    </tr>\n",
              "    <tr>\n",
              "      <th>3</th>\n",
              "      <td>{'album_type': 'single', 'artists': [{'externa...</td>\n",
              "      <td>[{'external_urls': {'spotify': 'https://open.s...</td>\n",
              "      <td>[AD, AE, AG, AL, AM, AO, AR, AT, AU, AZ, BA, B...</td>\n",
              "      <td>1</td>\n",
              "      <td>162585</td>\n",
              "      <td>False</td>\n",
              "      <td>{'isrc': 'GBAHS1700564'}</td>\n",
              "      <td>{'spotify': 'https://open.spotify.com/track/5o...</td>\n",
              "      <td>https://api.spotify.com/v1/tracks/5o4yGlG0PfeV...</td>\n",
              "      <td>5o4yGlG0PfeVUa6ClIyOxq</td>\n",
              "      <td>...</td>\n",
              "      <td>0.867</td>\n",
              "      <td>0.545</td>\n",
              "      <td>2.0</td>\n",
              "      <td>-5.192</td>\n",
              "      <td>0.0625</td>\n",
              "      <td>0.0646</td>\n",
              "      <td>0.000289</td>\n",
              "      <td>0.0505</td>\n",
              "      <td>0.5250</td>\n",
              "      <td>139.943</td>\n",
              "    </tr>\n",
              "    <tr>\n",
              "      <th>4</th>\n",
              "      <td>{'album_type': 'single', 'artists': [{'externa...</td>\n",
              "      <td>[{'external_urls': {'spotify': 'https://open.s...</td>\n",
              "      <td>[AD, AG, AL, AM, AO, AR, AT, AU, AZ, BA, BB, B...</td>\n",
              "      <td>1</td>\n",
              "      <td>190427</td>\n",
              "      <td>True</td>\n",
              "      <td>{'isrc': 'GBHMU1700037'}</td>\n",
              "      <td>{'spotify': 'https://open.spotify.com/track/7F...</td>\n",
              "      <td>https://api.spotify.com/v1/tracks/7F9vK8hNFMml...</td>\n",
              "      <td>7F9vK8hNFMml4GtHsaXui6</td>\n",
              "      <td>...</td>\n",
              "      <td>0.683</td>\n",
              "      <td>0.530</td>\n",
              "      <td>5.0</td>\n",
              "      <td>-4.918</td>\n",
              "      <td>0.1420</td>\n",
              "      <td>0.2070</td>\n",
              "      <td>0.000000</td>\n",
              "      <td>0.3940</td>\n",
              "      <td>0.6450</td>\n",
              "      <td>75.016</td>\n",
              "    </tr>\n",
              "  </tbody>\n",
              "</table>\n",
              "<p>5 rows × 27 columns</p>\n",
              "</div>\n",
              "      <button class=\"colab-df-convert\" onclick=\"convertToInteractive('df-7f556dcd-0c48-4401-b883-ebc3bb5adf68')\"\n",
              "              title=\"Convert this dataframe to an interactive table.\"\n",
              "              style=\"display:none;\">\n",
              "        \n",
              "  <svg xmlns=\"http://www.w3.org/2000/svg\" height=\"24px\"viewBox=\"0 0 24 24\"\n",
              "       width=\"24px\">\n",
              "    <path d=\"M0 0h24v24H0V0z\" fill=\"none\"/>\n",
              "    <path d=\"M18.56 5.44l.94 2.06.94-2.06 2.06-.94-2.06-.94-.94-2.06-.94 2.06-2.06.94zm-11 1L8.5 8.5l.94-2.06 2.06-.94-2.06-.94L8.5 2.5l-.94 2.06-2.06.94zm10 10l.94 2.06.94-2.06 2.06-.94-2.06-.94-.94-2.06-.94 2.06-2.06.94z\"/><path d=\"M17.41 7.96l-1.37-1.37c-.4-.4-.92-.59-1.43-.59-.52 0-1.04.2-1.43.59L10.3 9.45l-7.72 7.72c-.78.78-.78 2.05 0 2.83L4 21.41c.39.39.9.59 1.41.59.51 0 1.02-.2 1.41-.59l7.78-7.78 2.81-2.81c.8-.78.8-2.07 0-2.86zM5.41 20L4 18.59l7.72-7.72 1.47 1.35L5.41 20z\"/>\n",
              "  </svg>\n",
              "      </button>\n",
              "      \n",
              "  <style>\n",
              "    .colab-df-container {\n",
              "      display:flex;\n",
              "      flex-wrap:wrap;\n",
              "      gap: 12px;\n",
              "    }\n",
              "\n",
              "    .colab-df-convert {\n",
              "      background-color: #E8F0FE;\n",
              "      border: none;\n",
              "      border-radius: 50%;\n",
              "      cursor: pointer;\n",
              "      display: none;\n",
              "      fill: #1967D2;\n",
              "      height: 32px;\n",
              "      padding: 0 0 0 0;\n",
              "      width: 32px;\n",
              "    }\n",
              "\n",
              "    .colab-df-convert:hover {\n",
              "      background-color: #E2EBFA;\n",
              "      box-shadow: 0px 1px 2px rgba(60, 64, 67, 0.3), 0px 1px 3px 1px rgba(60, 64, 67, 0.15);\n",
              "      fill: #174EA6;\n",
              "    }\n",
              "\n",
              "    [theme=dark] .colab-df-convert {\n",
              "      background-color: #3B4455;\n",
              "      fill: #D2E3FC;\n",
              "    }\n",
              "\n",
              "    [theme=dark] .colab-df-convert:hover {\n",
              "      background-color: #434B5C;\n",
              "      box-shadow: 0px 1px 3px 1px rgba(0, 0, 0, 0.15);\n",
              "      filter: drop-shadow(0px 1px 2px rgba(0, 0, 0, 0.3));\n",
              "      fill: #FFFFFF;\n",
              "    }\n",
              "  </style>\n",
              "\n",
              "      <script>\n",
              "        const buttonEl =\n",
              "          document.querySelector('#df-7f556dcd-0c48-4401-b883-ebc3bb5adf68 button.colab-df-convert');\n",
              "        buttonEl.style.display =\n",
              "          google.colab.kernel.accessAllowed ? 'block' : 'none';\n",
              "\n",
              "        async function convertToInteractive(key) {\n",
              "          const element = document.querySelector('#df-7f556dcd-0c48-4401-b883-ebc3bb5adf68');\n",
              "          const dataTable =\n",
              "            await google.colab.kernel.invokeFunction('convertToInteractive',\n",
              "                                                     [key], {});\n",
              "          if (!dataTable) return;\n",
              "\n",
              "          const docLinkHtml = 'Like what you see? Visit the ' +\n",
              "            '<a target=\"_blank\" href=https://colab.research.google.com/notebooks/data_table.ipynb>data table notebook</a>'\n",
              "            + ' to learn more about interactive tables.';\n",
              "          element.innerHTML = '';\n",
              "          dataTable['output_type'] = 'display_data';\n",
              "          await google.colab.output.renderOutput(dataTable, element);\n",
              "          const docLink = document.createElement('div');\n",
              "          docLink.innerHTML = docLinkHtml;\n",
              "          element.appendChild(docLink);\n",
              "        }\n",
              "      </script>\n",
              "    </div>\n",
              "  </div>\n",
              "  "
            ]
          },
          "metadata": {},
          "execution_count": 61
        }
      ],
      "source": [
        "spotify_pull.head()"
      ]
    },
    {
      "cell_type": "code",
      "source": [
        "spotify_pull.to_csv('viral50_use.csv')"
      ],
      "metadata": {
        "id": "szp83vtxotc4"
      },
      "execution_count": 30,
      "outputs": []
    },
    {
      "cell_type": "code",
      "source": [
        "spotify_pull = pd.read_csv('viral50_use.csv')"
      ],
      "metadata": {
        "id": "GBDMuSI9tKSG"
      },
      "execution_count": 31,
      "outputs": []
    },
    {
      "cell_type": "code",
      "source": [
        "# parse url from JSON response\n",
        "def parse_url(df):\n",
        "  empty = []\n",
        "  for i in df['external_urls']:\n",
        "    line_artists = []\n",
        "    try:\n",
        "      artist_lists = json.loads(i.replace(\"\\'\", \"\\\"\"))\n",
        "    except:\n",
        "      artists_lists = []\n",
        "    line_artists.append(artist_lists['spotify'])\n",
        "    empty.append(line_artists)\n",
        "  return empty\n",
        "\n",
        "\n",
        "spotify_pull['full_url'] = parse_url(spotify_pull)\n",
        "spotify_pull['url'] = spotify_pull.apply(lambda row: row.full_url[0], axis=1)"
      ],
      "metadata": {
        "id": "pAF2dbYw_6Js"
      },
      "execution_count": 32,
      "outputs": []
    },
    {
      "cell_type": "code",
      "source": [
        "spotify_pull.head()"
      ],
      "metadata": {
        "colab": {
          "base_uri": "https://localhost:8080/",
          "height": 556
        },
        "id": "ogtx61rFAgXx",
        "outputId": "66ae9031-63a0-43b5-e23b-cc25947c8c21"
      },
      "execution_count": 33,
      "outputs": [
        {
          "output_type": "execute_result",
          "data": {
            "text/plain": [
              "   Unnamed: 0                                              album  \\\n",
              "0           0  {'album_type': 'single', 'artists': [{'externa...   \n",
              "1           1  {'album_type': 'single', 'artists': [{'externa...   \n",
              "2           2  {'album_type': 'single', 'artists': [{'externa...   \n",
              "3           3  {'album_type': 'single', 'artists': [{'externa...   \n",
              "4           4  {'album_type': 'single', 'artists': [{'externa...   \n",
              "\n",
              "                                             artists  \\\n",
              "0  [{'external_urls': {'spotify': 'https://open.s...   \n",
              "1  [{'external_urls': {'spotify': 'https://open.s...   \n",
              "2  [{'external_urls': {'spotify': 'https://open.s...   \n",
              "3  [{'external_urls': {'spotify': 'https://open.s...   \n",
              "4  [{'external_urls': {'spotify': 'https://open.s...   \n",
              "\n",
              "                                   available_markets  disc_number  \\\n",
              "0  ['AD', 'AE', 'AG', 'AL', 'AM', 'AO', 'AR', 'AT...            1   \n",
              "1  ['AD', 'AE', 'AG', 'AM', 'AO', 'AR', 'AT', 'AU...            1   \n",
              "2  ['AD', 'AE', 'AG', 'AL', 'AM', 'AO', 'AR', 'AT...            1   \n",
              "3                                                 []            1   \n",
              "4  ['AD', 'AE', 'AG', 'AL', 'AM', 'AO', 'AR', 'AT...            1   \n",
              "\n",
              "   duration_ms  explicit              external_ids  \\\n",
              "0       218319     False  {'isrc': 'GBBPW1700118'}   \n",
              "1       199741      True  {'isrc': 'TCADD1721892'}   \n",
              "2       234285     False  {'isrc': 'USAT21702382'}   \n",
              "3       261614      True  {'isrc': 'QZ8TY1700008'}   \n",
              "4       162585     False  {'isrc': 'GBAHS1700564'}   \n",
              "\n",
              "                                       external_urls  \\\n",
              "0  {'spotify': 'https://open.spotify.com/track/6X...   \n",
              "1  {'spotify': 'https://open.spotify.com/track/2A...   \n",
              "2  {'spotify': 'https://open.spotify.com/track/57...   \n",
              "3  {'spotify': 'https://open.spotify.com/track/0R...   \n",
              "4  {'spotify': 'https://open.spotify.com/track/5o...   \n",
              "\n",
              "                                                href  ...  \\\n",
              "0  https://api.spotify.com/v1/tracks/6XgtAeRYmbr4...  ...   \n",
              "1  https://api.spotify.com/v1/tracks/2AEzMPR01sg1...  ...   \n",
              "2  https://api.spotify.com/v1/tracks/57p8CBvPOxrv...  ...   \n",
              "3  https://api.spotify.com/v1/tracks/0RYXEibxMami...  ...   \n",
              "4  https://api.spotify.com/v1/tracks/5o4yGlG0PfeV...  ...   \n",
              "\n",
              "                                          codestring  code_version  \\\n",
              "0  eJxNmomR7TYMBFNRCLyP_BNz9_Btfduu8pJPEkkcgwHAu-...          3.15   \n",
              "1  eJxdmlmi5CgMBK_iI7Av97_YRAj8yj0_3Q9sg9CSSolaae...          3.15   \n",
              "2  eJxdmwuW7CgORLeSSwDMd_8bm3sDv8rsOT3TXcY2FkIKhS...          3.15   \n",
              "3  eJxdnAmS7agORLdylwBi3v_GOk8Ku_z6d8SPB9cDCA2plF...          3.15   \n",
              "4  eJxVmgeWJLuRBK-SR4AW97_YmjlqPnvJx2EDlQII4eHhyD...          3.15   \n",
              "\n",
              "                                     echoprintstring  echoprint_version  \\\n",
              "0  eJzlnQuSBDeOZK8U_JPH4ff-R9jnyB6lWqtg7WytrMdsZT...               4.12   \n",
              "1  eJztnQnS3DaSha9E7MBxsN7_CPNllkdUK8Ss1pRk2R5Hd7...               4.12   \n",
              "2  eJzlnQm65LiRpK9E7MBxsN7_CPObh5RRlV8TbzQpzdbdkk...               4.12   \n",
              "3  eJztnQuW5LiRbLdEAsRvOfjufwnvmkerWJVHRKgmKqXWzJ...               4.12   \n",
              "4  eJztnQuWJDeObLfk_JPL4Xf_S5hrCHWFukbBHJ2cnNZ552...               4.12   \n",
              "\n",
              "                                         synchstring  synch_version  \\\n",
              "0  eJyNWIdxJDkMTGVCIEGff2LXBpzV6u6rviStxpAwjYbhRp...            1.0   \n",
              "1  eJxdlomVIzkMQ1NRCCVSZ_6JLT6onunZZ79yWaJ4ASQV8c...            1.0   \n",
              "2  eJxtWgmW5DoIu0qOEIO33P9iP0gCp3r-m57uSuIFswhByu...            1.0   \n",
              "3  eJyFWAm25aYO3ApLQCAG739jUVVJvv7pn-T0bT-MGYSGUo...            1.0   \n",
              "4  eJxtWgm2JCEIu4pHKHGt-19sJAlq9Z8387trcUGEELDNnv...            1.0   \n",
              "\n",
              "                                        rhythmstring rhythm_version  \\\n",
              "0  eJxdnFuW5LiuQ6eSQ9D7Mf-JXQEbjupzP3JVdmTYligSBE...            1.0   \n",
              "1  eJx1WwmSYzsKvIqPoAVt97_YkItk1_RMxP_RVfZbJARJkl...            1.0   \n",
              "2  eJy1XFmW5DYOvEoegfty_4sNYiGlrK4e-2PmPbedzpQoLk...            1.0   \n",
              "3  eJx9XAly5DgO_Eo9gffx_48N8wClst0TsbNtlyUKBHEkEl...            1.0   \n",
              "4  eJxtWgly5DgM-4qfoJvS_z82BEDK7tRU7WySbh8SDxAEVW...            1.0   \n",
              "\n",
              "                                            full_url  \\\n",
              "0  [https://open.spotify.com/track/6XgtAeRYmbr4Of...   \n",
              "1  [https://open.spotify.com/track/2AEzMPR01sg1ws...   \n",
              "2  [https://open.spotify.com/track/57p8CBvPOxrvyC...   \n",
              "3  [https://open.spotify.com/track/0RYXEibxMami3Q...   \n",
              "4  [https://open.spotify.com/track/5o4yGlG0PfeVUa...   \n",
              "\n",
              "                                                 url  \n",
              "0  https://open.spotify.com/track/6XgtAeRYmbr4OfE...  \n",
              "1  https://open.spotify.com/track/2AEzMPR01sg1wsX...  \n",
              "2  https://open.spotify.com/track/57p8CBvPOxrvyCb...  \n",
              "3  https://open.spotify.com/track/0RYXEibxMami3Qu...  \n",
              "4  https://open.spotify.com/track/5o4yGlG0PfeVUa6...  \n",
              "\n",
              "[5 rows x 46 columns]"
            ],
            "text/html": [
              "\n",
              "  <div id=\"df-5ba5474e-d7b2-4b9e-b06e-a76c78a9076d\">\n",
              "    <div class=\"colab-df-container\">\n",
              "      <div>\n",
              "<style scoped>\n",
              "    .dataframe tbody tr th:only-of-type {\n",
              "        vertical-align: middle;\n",
              "    }\n",
              "\n",
              "    .dataframe tbody tr th {\n",
              "        vertical-align: top;\n",
              "    }\n",
              "\n",
              "    .dataframe thead th {\n",
              "        text-align: right;\n",
              "    }\n",
              "</style>\n",
              "<table border=\"1\" class=\"dataframe\">\n",
              "  <thead>\n",
              "    <tr style=\"text-align: right;\">\n",
              "      <th></th>\n",
              "      <th>Unnamed: 0</th>\n",
              "      <th>album</th>\n",
              "      <th>artists</th>\n",
              "      <th>available_markets</th>\n",
              "      <th>disc_number</th>\n",
              "      <th>duration_ms</th>\n",
              "      <th>explicit</th>\n",
              "      <th>external_ids</th>\n",
              "      <th>external_urls</th>\n",
              "      <th>href</th>\n",
              "      <th>...</th>\n",
              "      <th>codestring</th>\n",
              "      <th>code_version</th>\n",
              "      <th>echoprintstring</th>\n",
              "      <th>echoprint_version</th>\n",
              "      <th>synchstring</th>\n",
              "      <th>synch_version</th>\n",
              "      <th>rhythmstring</th>\n",
              "      <th>rhythm_version</th>\n",
              "      <th>full_url</th>\n",
              "      <th>url</th>\n",
              "    </tr>\n",
              "  </thead>\n",
              "  <tbody>\n",
              "    <tr>\n",
              "      <th>0</th>\n",
              "      <td>0</td>\n",
              "      <td>{'album_type': 'single', 'artists': [{'externa...</td>\n",
              "      <td>[{'external_urls': {'spotify': 'https://open.s...</td>\n",
              "      <td>['AD', 'AE', 'AG', 'AL', 'AM', 'AO', 'AR', 'AT...</td>\n",
              "      <td>1</td>\n",
              "      <td>218319</td>\n",
              "      <td>False</td>\n",
              "      <td>{'isrc': 'GBBPW1700118'}</td>\n",
              "      <td>{'spotify': 'https://open.spotify.com/track/6X...</td>\n",
              "      <td>https://api.spotify.com/v1/tracks/6XgtAeRYmbr4...</td>\n",
              "      <td>...</td>\n",
              "      <td>eJxNmomR7TYMBFNRCLyP_BNz9_Btfduu8pJPEkkcgwHAu-...</td>\n",
              "      <td>3.15</td>\n",
              "      <td>eJzlnQuSBDeOZK8U_JPH4ff-R9jnyB6lWqtg7WytrMdsZT...</td>\n",
              "      <td>4.12</td>\n",
              "      <td>eJyNWIdxJDkMTGVCIEGff2LXBpzV6u6rviStxpAwjYbhRp...</td>\n",
              "      <td>1.0</td>\n",
              "      <td>eJxdnFuW5LiuQ6eSQ9D7Mf-JXQEbjupzP3JVdmTYligSBE...</td>\n",
              "      <td>1.0</td>\n",
              "      <td>[https://open.spotify.com/track/6XgtAeRYmbr4Of...</td>\n",
              "      <td>https://open.spotify.com/track/6XgtAeRYmbr4OfE...</td>\n",
              "    </tr>\n",
              "    <tr>\n",
              "      <th>1</th>\n",
              "      <td>1</td>\n",
              "      <td>{'album_type': 'single', 'artists': [{'externa...</td>\n",
              "      <td>[{'external_urls': {'spotify': 'https://open.s...</td>\n",
              "      <td>['AD', 'AE', 'AG', 'AM', 'AO', 'AR', 'AT', 'AU...</td>\n",
              "      <td>1</td>\n",
              "      <td>199741</td>\n",
              "      <td>True</td>\n",
              "      <td>{'isrc': 'TCADD1721892'}</td>\n",
              "      <td>{'spotify': 'https://open.spotify.com/track/2A...</td>\n",
              "      <td>https://api.spotify.com/v1/tracks/2AEzMPR01sg1...</td>\n",
              "      <td>...</td>\n",
              "      <td>eJxdmlmi5CgMBK_iI7Av97_YRAj8yj0_3Q9sg9CSSolaae...</td>\n",
              "      <td>3.15</td>\n",
              "      <td>eJztnQnS3DaSha9E7MBxsN7_CPNllkdUK8Ss1pRk2R5Hd7...</td>\n",
              "      <td>4.12</td>\n",
              "      <td>eJxdlomVIzkMQ1NRCCVSZ_6JLT6onunZZ79yWaJ4ASQV8c...</td>\n",
              "      <td>1.0</td>\n",
              "      <td>eJx1WwmSYzsKvIqPoAVt97_YkItk1_RMxP_RVfZbJARJkl...</td>\n",
              "      <td>1.0</td>\n",
              "      <td>[https://open.spotify.com/track/2AEzMPR01sg1ws...</td>\n",
              "      <td>https://open.spotify.com/track/2AEzMPR01sg1wsX...</td>\n",
              "    </tr>\n",
              "    <tr>\n",
              "      <th>2</th>\n",
              "      <td>2</td>\n",
              "      <td>{'album_type': 'single', 'artists': [{'externa...</td>\n",
              "      <td>[{'external_urls': {'spotify': 'https://open.s...</td>\n",
              "      <td>['AD', 'AE', 'AG', 'AL', 'AM', 'AO', 'AR', 'AT...</td>\n",
              "      <td>1</td>\n",
              "      <td>234285</td>\n",
              "      <td>False</td>\n",
              "      <td>{'isrc': 'USAT21702382'}</td>\n",
              "      <td>{'spotify': 'https://open.spotify.com/track/57...</td>\n",
              "      <td>https://api.spotify.com/v1/tracks/57p8CBvPOxrv...</td>\n",
              "      <td>...</td>\n",
              "      <td>eJxdmwuW7CgORLeSSwDMd_8bm3sDv8rsOT3TXcY2FkIKhS...</td>\n",
              "      <td>3.15</td>\n",
              "      <td>eJzlnQm65LiRpK9E7MBxsN7_CPObh5RRlV8TbzQpzdbdkk...</td>\n",
              "      <td>4.12</td>\n",
              "      <td>eJxtWgmW5DoIu0qOEIO33P9iP0gCp3r-m57uSuIFswhByu...</td>\n",
              "      <td>1.0</td>\n",
              "      <td>eJy1XFmW5DYOvEoegfty_4sNYiGlrK4e-2PmPbedzpQoLk...</td>\n",
              "      <td>1.0</td>\n",
              "      <td>[https://open.spotify.com/track/57p8CBvPOxrvyC...</td>\n",
              "      <td>https://open.spotify.com/track/57p8CBvPOxrvyCb...</td>\n",
              "    </tr>\n",
              "    <tr>\n",
              "      <th>3</th>\n",
              "      <td>3</td>\n",
              "      <td>{'album_type': 'single', 'artists': [{'externa...</td>\n",
              "      <td>[{'external_urls': {'spotify': 'https://open.s...</td>\n",
              "      <td>[]</td>\n",
              "      <td>1</td>\n",
              "      <td>261614</td>\n",
              "      <td>True</td>\n",
              "      <td>{'isrc': 'QZ8TY1700008'}</td>\n",
              "      <td>{'spotify': 'https://open.spotify.com/track/0R...</td>\n",
              "      <td>https://api.spotify.com/v1/tracks/0RYXEibxMami...</td>\n",
              "      <td>...</td>\n",
              "      <td>eJxdnAmS7agORLdylwBi3v_GOk8Ku_z6d8SPB9cDCA2plF...</td>\n",
              "      <td>3.15</td>\n",
              "      <td>eJztnQuW5LiRbLdEAsRvOfjufwnvmkerWJVHRKgmKqXWzJ...</td>\n",
              "      <td>4.12</td>\n",
              "      <td>eJyFWAm25aYO3ApLQCAG739jUVVJvv7pn-T0bT-MGYSGUo...</td>\n",
              "      <td>1.0</td>\n",
              "      <td>eJx9XAly5DgO_Eo9gffx_48N8wClst0TsbNtlyUKBHEkEl...</td>\n",
              "      <td>1.0</td>\n",
              "      <td>[https://open.spotify.com/track/0RYXEibxMami3Q...</td>\n",
              "      <td>https://open.spotify.com/track/0RYXEibxMami3Qu...</td>\n",
              "    </tr>\n",
              "    <tr>\n",
              "      <th>4</th>\n",
              "      <td>4</td>\n",
              "      <td>{'album_type': 'single', 'artists': [{'externa...</td>\n",
              "      <td>[{'external_urls': {'spotify': 'https://open.s...</td>\n",
              "      <td>['AD', 'AE', 'AG', 'AL', 'AM', 'AO', 'AR', 'AT...</td>\n",
              "      <td>1</td>\n",
              "      <td>162585</td>\n",
              "      <td>False</td>\n",
              "      <td>{'isrc': 'GBAHS1700564'}</td>\n",
              "      <td>{'spotify': 'https://open.spotify.com/track/5o...</td>\n",
              "      <td>https://api.spotify.com/v1/tracks/5o4yGlG0PfeV...</td>\n",
              "      <td>...</td>\n",
              "      <td>eJxVmgeWJLuRBK-SR4AW97_YmjlqPnvJx2EDlQII4eHhyD...</td>\n",
              "      <td>3.15</td>\n",
              "      <td>eJztnQuWJDeObLfk_JPL4Xf_S5hrCHWFukbBHJ2cnNZ552...</td>\n",
              "      <td>4.12</td>\n",
              "      <td>eJxtWgm2JCEIu4pHKHGt-19sJAlq9Z8387trcUGEELDNnv...</td>\n",
              "      <td>1.0</td>\n",
              "      <td>eJxtWgly5DgM-4qfoJvS_z82BEDK7tRU7WySbh8SDxAEVW...</td>\n",
              "      <td>1.0</td>\n",
              "      <td>[https://open.spotify.com/track/5o4yGlG0PfeVUa...</td>\n",
              "      <td>https://open.spotify.com/track/5o4yGlG0PfeVUa6...</td>\n",
              "    </tr>\n",
              "  </tbody>\n",
              "</table>\n",
              "<p>5 rows × 46 columns</p>\n",
              "</div>\n",
              "      <button class=\"colab-df-convert\" onclick=\"convertToInteractive('df-5ba5474e-d7b2-4b9e-b06e-a76c78a9076d')\"\n",
              "              title=\"Convert this dataframe to an interactive table.\"\n",
              "              style=\"display:none;\">\n",
              "        \n",
              "  <svg xmlns=\"http://www.w3.org/2000/svg\" height=\"24px\"viewBox=\"0 0 24 24\"\n",
              "       width=\"24px\">\n",
              "    <path d=\"M0 0h24v24H0V0z\" fill=\"none\"/>\n",
              "    <path d=\"M18.56 5.44l.94 2.06.94-2.06 2.06-.94-2.06-.94-.94-2.06-.94 2.06-2.06.94zm-11 1L8.5 8.5l.94-2.06 2.06-.94-2.06-.94L8.5 2.5l-.94 2.06-2.06.94zm10 10l.94 2.06.94-2.06 2.06-.94-2.06-.94-.94-2.06-.94 2.06-2.06.94z\"/><path d=\"M17.41 7.96l-1.37-1.37c-.4-.4-.92-.59-1.43-.59-.52 0-1.04.2-1.43.59L10.3 9.45l-7.72 7.72c-.78.78-.78 2.05 0 2.83L4 21.41c.39.39.9.59 1.41.59.51 0 1.02-.2 1.41-.59l7.78-7.78 2.81-2.81c.8-.78.8-2.07 0-2.86zM5.41 20L4 18.59l7.72-7.72 1.47 1.35L5.41 20z\"/>\n",
              "  </svg>\n",
              "      </button>\n",
              "      \n",
              "  <style>\n",
              "    .colab-df-container {\n",
              "      display:flex;\n",
              "      flex-wrap:wrap;\n",
              "      gap: 12px;\n",
              "    }\n",
              "\n",
              "    .colab-df-convert {\n",
              "      background-color: #E8F0FE;\n",
              "      border: none;\n",
              "      border-radius: 50%;\n",
              "      cursor: pointer;\n",
              "      display: none;\n",
              "      fill: #1967D2;\n",
              "      height: 32px;\n",
              "      padding: 0 0 0 0;\n",
              "      width: 32px;\n",
              "    }\n",
              "\n",
              "    .colab-df-convert:hover {\n",
              "      background-color: #E2EBFA;\n",
              "      box-shadow: 0px 1px 2px rgba(60, 64, 67, 0.3), 0px 1px 3px 1px rgba(60, 64, 67, 0.15);\n",
              "      fill: #174EA6;\n",
              "    }\n",
              "\n",
              "    [theme=dark] .colab-df-convert {\n",
              "      background-color: #3B4455;\n",
              "      fill: #D2E3FC;\n",
              "    }\n",
              "\n",
              "    [theme=dark] .colab-df-convert:hover {\n",
              "      background-color: #434B5C;\n",
              "      box-shadow: 0px 1px 3px 1px rgba(0, 0, 0, 0.15);\n",
              "      filter: drop-shadow(0px 1px 2px rgba(0, 0, 0, 0.3));\n",
              "      fill: #FFFFFF;\n",
              "    }\n",
              "  </style>\n",
              "\n",
              "      <script>\n",
              "        const buttonEl =\n",
              "          document.querySelector('#df-5ba5474e-d7b2-4b9e-b06e-a76c78a9076d button.colab-df-convert');\n",
              "        buttonEl.style.display =\n",
              "          google.colab.kernel.accessAllowed ? 'block' : 'none';\n",
              "\n",
              "        async function convertToInteractive(key) {\n",
              "          const element = document.querySelector('#df-5ba5474e-d7b2-4b9e-b06e-a76c78a9076d');\n",
              "          const dataTable =\n",
              "            await google.colab.kernel.invokeFunction('convertToInteractive',\n",
              "                                                     [key], {});\n",
              "          if (!dataTable) return;\n",
              "\n",
              "          const docLinkHtml = 'Like what you see? Visit the ' +\n",
              "            '<a target=\"_blank\" href=https://colab.research.google.com/notebooks/data_table.ipynb>data table notebook</a>'\n",
              "            + ' to learn more about interactive tables.';\n",
              "          element.innerHTML = '';\n",
              "          dataTable['output_type'] = 'display_data';\n",
              "          await google.colab.output.renderOutput(dataTable, element);\n",
              "          const docLink = document.createElement('div');\n",
              "          docLink.innerHTML = docLinkHtml;\n",
              "          element.appendChild(docLink);\n",
              "        }\n",
              "      </script>\n",
              "    </div>\n",
              "  </div>\n",
              "  "
            ]
          },
          "metadata": {},
          "execution_count": 33
        }
      ]
    },
    {
      "cell_type": "code",
      "source": [
        "max_position = use_songs.groupby('url').agg({'rank': 'min'})\n",
        "max_position.reset_index()\n",
        "\n",
        "spotify_pull_join = pd.merge(spotify_pull.reset_index(),\n",
        "                            max_position.reset_index(),\n",
        "                            how='left', \n",
        "                            on='url')"
      ],
      "metadata": {
        "id": "3eM1TT1P_UXW"
      },
      "execution_count": 34,
      "outputs": []
    },
    {
      "cell_type": "markdown",
      "source": [
        "Plot distribution of popularity score."
      ],
      "metadata": {
        "id": "C3StKy8Y4L5j"
      }
    },
    {
      "cell_type": "code",
      "source": [
        "sns.histplot(data = spotify_pull_join\n",
        "            ,x = 'rank'\n",
        "            ).set(title='Total Popularity Distribution')"
      ],
      "metadata": {
        "colab": {
          "base_uri": "https://localhost:8080/",
          "height": 310
        },
        "id": "QTvVuwnquE1i",
        "outputId": "554810f2-c0fa-4a8c-ce7f-966dcd34c148"
      },
      "execution_count": null,
      "outputs": [
        {
          "output_type": "execute_result",
          "data": {
            "text/plain": [
              "[Text(0.5, 1.0, 'Total Popularity Distribution')]"
            ]
          },
          "metadata": {},
          "execution_count": 19
        },
        {
          "output_type": "display_data",
          "data": {
            "text/plain": [
              "<Figure size 432x288 with 1 Axes>"
            ],
            "image/png": "[encoded data removed]"
          },
          "metadata": {
            "needs_background": "light"
          }
        }
      ]
    },
    {
      "cell_type": "code",
      "source": [
        "# parse artist names from JSON response\n",
        "def parse_artist(df):\n",
        "  empty = []\n",
        "  for i in df['artists']:\n",
        "    line_artists = []\n",
        "    try:\n",
        "      artist_lists = json.loads(i.replace(\"\\'\", \"\\\"\"))\n",
        "    except:\n",
        "      #print(i)\n",
        "      artists_lists = []\n",
        "    for j in artist_lists:\n",
        "      line_artists.append(j['name'])\n",
        "    empty.append(line_artists)\n",
        "  return empty\n",
        "\n",
        "\n",
        "spotify_pull_join['artist_names'] = parse_artist(spotify_pull_join)\n",
        "spotify_pull_join['first_artist'] = spotify_pull_join.apply(lambda row: row.artist_names[0], axis=1)"
      ],
      "metadata": {
        "id": "rGQiHvLt3mBa"
      },
      "execution_count": 35,
      "outputs": []
    },
    {
      "cell_type": "code",
      "source": [
        "out = pd.DataFrame(spotify_pull_join.first_artist.value_counts())\n",
        "out.head(10)"
      ],
      "metadata": {
        "colab": {
          "base_uri": "https://localhost:8080/",
          "height": 352
        },
        "id": "5sepedCE2rNu",
        "outputId": "fd2534a4-c649-4511-b772-a1b0091c9d16"
      },
      "execution_count": 36,
      "outputs": [
        {
          "output_type": "execute_result",
          "data": {
            "text/plain": [
              "                 first_artist\n",
              "Drake                      63\n",
              "Logic                      34\n",
              "Prince                     32\n",
              "DMX                        29\n",
              "Ed Sheeran                 28\n",
              "Juice WRLD                 26\n",
              "Post Malone                25\n",
              "Billie Eilish              25\n",
              "Chris Stapleton            23\n",
              "Mac Miller                 23"
            ],
            "text/html": [
              "\n",
              "  <div id=\"df-4a37e58c-d473-499d-9290-621817fdef73\">\n",
              "    <div class=\"colab-df-container\">\n",
              "      <div>\n",
              "<style scoped>\n",
              "    .dataframe tbody tr th:only-of-type {\n",
              "        vertical-align: middle;\n",
              "    }\n",
              "\n",
              "    .dataframe tbody tr th {\n",
              "        vertical-align: top;\n",
              "    }\n",
              "\n",
              "    .dataframe thead th {\n",
              "        text-align: right;\n",
              "    }\n",
              "</style>\n",
              "<table border=\"1\" class=\"dataframe\">\n",
              "  <thead>\n",
              "    <tr style=\"text-align: right;\">\n",
              "      <th></th>\n",
              "      <th>first_artist</th>\n",
              "    </tr>\n",
              "  </thead>\n",
              "  <tbody>\n",
              "    <tr>\n",
              "      <th>Drake</th>\n",
              "      <td>63</td>\n",
              "    </tr>\n",
              "    <tr>\n",
              "      <th>Logic</th>\n",
              "      <td>34</td>\n",
              "    </tr>\n",
              "    <tr>\n",
              "      <th>Prince</th>\n",
              "      <td>32</td>\n",
              "    </tr>\n",
              "    <tr>\n",
              "      <th>DMX</th>\n",
              "      <td>29</td>\n",
              "    </tr>\n",
              "    <tr>\n",
              "      <th>Ed Sheeran</th>\n",
              "      <td>28</td>\n",
              "    </tr>\n",
              "    <tr>\n",
              "      <th>Juice WRLD</th>\n",
              "      <td>26</td>\n",
              "    </tr>\n",
              "    <tr>\n",
              "      <th>Post Malone</th>\n",
              "      <td>25</td>\n",
              "    </tr>\n",
              "    <tr>\n",
              "      <th>Billie Eilish</th>\n",
              "      <td>25</td>\n",
              "    </tr>\n",
              "    <tr>\n",
              "      <th>Chris Stapleton</th>\n",
              "      <td>23</td>\n",
              "    </tr>\n",
              "    <tr>\n",
              "      <th>Mac Miller</th>\n",
              "      <td>23</td>\n",
              "    </tr>\n",
              "  </tbody>\n",
              "</table>\n",
              "</div>\n",
              "      <button class=\"colab-df-convert\" onclick=\"convertToInteractive('df-4a37e58c-d473-499d-9290-621817fdef73')\"\n",
              "              title=\"Convert this dataframe to an interactive table.\"\n",
              "              style=\"display:none;\">\n",
              "        \n",
              "  <svg xmlns=\"http://www.w3.org/2000/svg\" height=\"24px\"viewBox=\"0 0 24 24\"\n",
              "       width=\"24px\">\n",
              "    <path d=\"M0 0h24v24H0V0z\" fill=\"none\"/>\n",
              "    <path d=\"M18.56 5.44l.94 2.06.94-2.06 2.06-.94-2.06-.94-.94-2.06-.94 2.06-2.06.94zm-11 1L8.5 8.5l.94-2.06 2.06-.94-2.06-.94L8.5 2.5l-.94 2.06-2.06.94zm10 10l.94 2.06.94-2.06 2.06-.94-2.06-.94-.94-2.06-.94 2.06-2.06.94z\"/><path d=\"M17.41 7.96l-1.37-1.37c-.4-.4-.92-.59-1.43-.59-.52 0-1.04.2-1.43.59L10.3 9.45l-7.72 7.72c-.78.78-.78 2.05 0 2.83L4 21.41c.39.39.9.59 1.41.59.51 0 1.02-.2 1.41-.59l7.78-7.78 2.81-2.81c.8-.78.8-2.07 0-2.86zM5.41 20L4 18.59l7.72-7.72 1.47 1.35L5.41 20z\"/>\n",
              "  </svg>\n",
              "      </button>\n",
              "      \n",
              "  <style>\n",
              "    .colab-df-container {\n",
              "      display:flex;\n",
              "      flex-wrap:wrap;\n",
              "      gap: 12px;\n",
              "    }\n",
              "\n",
              "    .colab-df-convert {\n",
              "      background-color: #E8F0FE;\n",
              "      border: none;\n",
              "      border-radius: 50%;\n",
              "      cursor: pointer;\n",
              "      display: none;\n",
              "      fill: #1967D2;\n",
              "      height: 32px;\n",
              "      padding: 0 0 0 0;\n",
              "      width: 32px;\n",
              "    }\n",
              "\n",
              "    .colab-df-convert:hover {\n",
              "      background-color: #E2EBFA;\n",
              "      box-shadow: 0px 1px 2px rgba(60, 64, 67, 0.3), 0px 1px 3px 1px rgba(60, 64, 67, 0.15);\n",
              "      fill: #174EA6;\n",
              "    }\n",
              "\n",
              "    [theme=dark] .colab-df-convert {\n",
              "      background-color: #3B4455;\n",
              "      fill: #D2E3FC;\n",
              "    }\n",
              "\n",
              "    [theme=dark] .colab-df-convert:hover {\n",
              "      background-color: #434B5C;\n",
              "      box-shadow: 0px 1px 3px 1px rgba(0, 0, 0, 0.15);\n",
              "      filter: drop-shadow(0px 1px 2px rgba(0, 0, 0, 0.3));\n",
              "      fill: #FFFFFF;\n",
              "    }\n",
              "  </style>\n",
              "\n",
              "      <script>\n",
              "        const buttonEl =\n",
              "          document.querySelector('#df-4a37e58c-d473-499d-9290-621817fdef73 button.colab-df-convert');\n",
              "        buttonEl.style.display =\n",
              "          google.colab.kernel.accessAllowed ? 'block' : 'none';\n",
              "\n",
              "        async function convertToInteractive(key) {\n",
              "          const element = document.querySelector('#df-4a37e58c-d473-499d-9290-621817fdef73');\n",
              "          const dataTable =\n",
              "            await google.colab.kernel.invokeFunction('convertToInteractive',\n",
              "                                                     [key], {});\n",
              "          if (!dataTable) return;\n",
              "\n",
              "          const docLinkHtml = 'Like what you see? Visit the ' +\n",
              "            '<a target=\"_blank\" href=https://colab.research.google.com/notebooks/data_table.ipynb>data table notebook</a>'\n",
              "            + ' to learn more about interactive tables.';\n",
              "          element.innerHTML = '';\n",
              "          dataTable['output_type'] = 'display_data';\n",
              "          await google.colab.output.renderOutput(dataTable, element);\n",
              "          const docLink = document.createElement('div');\n",
              "          docLink.innerHTML = docLinkHtml;\n",
              "          element.appendChild(docLink);\n",
              "        }\n",
              "      </script>\n",
              "    </div>\n",
              "  </div>\n",
              "  "
            ]
          },
          "metadata": {},
          "execution_count": 36
        }
      ]
    },
    {
      "cell_type": "code",
      "source": [
        "sns.histplot(data = out.loc[out['first_artist'] < 40]\n",
        "            ,x = 'first_artist'\n",
        "            ).set(title='Arist Song Count')"
      ],
      "metadata": {
        "colab": {
          "base_uri": "https://localhost:8080/",
          "height": 311
        },
        "id": "m5vywzZS5yNY",
        "outputId": "7105c41c-1ba7-4a0e-d10b-abc77471fac2"
      },
      "execution_count": null,
      "outputs": [
        {
          "output_type": "execute_result",
          "data": {
            "text/plain": [
              "[Text(0.5, 1.0, 'Arist Song Count')]"
            ]
          },
          "metadata": {},
          "execution_count": 20
        },
        {
          "output_type": "display_data",
          "data": {
            "text/plain": [
              "<Figure size 432x288 with 1 Axes>"
            ],
            "image/png": "[encoded data removed]"
          },
          "metadata": {
            "needs_background": "light"
          }
        }
      ]
    },
    {
      "cell_type": "code",
      "source": [
        "use_cols = ['href', 'rank', 'name', 'first_artist', 'tempo', 'loudness', '']\n",
        "electro_short_join = spotify_pull_join[use_cols]"
      ],
      "metadata": {
        "id": "YgWUh9YwuxZg"
      },
      "execution_count": 37,
      "outputs": []
    },
    {
      "cell_type": "code",
      "source": [
        "electro_short_join.head()"
      ],
      "metadata": {
        "id": "pvSrXA50QT2A",
        "colab": {
          "base_uri": "https://localhost:8080/",
          "height": 201
        },
        "outputId": "12ffcaa3-219b-43c0-eddf-b53858d1d459"
      },
      "execution_count": 38,
      "outputs": [
        {
          "output_type": "execute_result",
          "data": {
            "text/plain": [
              "                                                href  rank  \\\n",
              "0  https://api.spotify.com/v1/tracks/6XgtAeRYmbr4...    32   \n",
              "1  https://api.spotify.com/v1/tracks/2AEzMPR01sg1...     1   \n",
              "2  https://api.spotify.com/v1/tracks/57p8CBvPOxrv...     2   \n",
              "3  https://api.spotify.com/v1/tracks/0RYXEibxMami...     3   \n",
              "4  https://api.spotify.com/v1/tracks/5o4yGlG0PfeV...     4   \n",
              "\n",
              "                           name first_artist  \n",
              "0                           LMK       Kelela  \n",
              "1        Turn Up On the Weekend     Branchez  \n",
              "2                Would You Ever     Skrillex  \n",
              "3  Marmalade (feat. Lil Yachty)   Macklemore  \n",
              "4                          Boys   Charli XCX  "
            ],
            "text/html": [
              "\n",
              "  <div id=\"df-5e3ccd9f-43a8-47e5-a286-813d3815cd3a\">\n",
              "    <div class=\"colab-df-container\">\n",
              "      <div>\n",
              "<style scoped>\n",
              "    .dataframe tbody tr th:only-of-type {\n",
              "        vertical-align: middle;\n",
              "    }\n",
              "\n",
              "    .dataframe tbody tr th {\n",
              "        vertical-align: top;\n",
              "    }\n",
              "\n",
              "    .dataframe thead th {\n",
              "        text-align: right;\n",
              "    }\n",
              "</style>\n",
              "<table border=\"1\" class=\"dataframe\">\n",
              "  <thead>\n",
              "    <tr style=\"text-align: right;\">\n",
              "      <th></th>\n",
              "      <th>href</th>\n",
              "      <th>rank</th>\n",
              "      <th>name</th>\n",
              "      <th>first_artist</th>\n",
              "    </tr>\n",
              "  </thead>\n",
              "  <tbody>\n",
              "    <tr>\n",
              "      <th>0</th>\n",
              "      <td>https://api.spotify.com/v1/tracks/6XgtAeRYmbr4...</td>\n",
              "      <td>32</td>\n",
              "      <td>LMK</td>\n",
              "      <td>Kelela</td>\n",
              "    </tr>\n",
              "    <tr>\n",
              "      <th>1</th>\n",
              "      <td>https://api.spotify.com/v1/tracks/2AEzMPR01sg1...</td>\n",
              "      <td>1</td>\n",
              "      <td>Turn Up On the Weekend</td>\n",
              "      <td>Branchez</td>\n",
              "    </tr>\n",
              "    <tr>\n",
              "      <th>2</th>\n",
              "      <td>https://api.spotify.com/v1/tracks/57p8CBvPOxrv...</td>\n",
              "      <td>2</td>\n",
              "      <td>Would You Ever</td>\n",
              "      <td>Skrillex</td>\n",
              "    </tr>\n",
              "    <tr>\n",
              "      <th>3</th>\n",
              "      <td>https://api.spotify.com/v1/tracks/0RYXEibxMami...</td>\n",
              "      <td>3</td>\n",
              "      <td>Marmalade (feat. Lil Yachty)</td>\n",
              "      <td>Macklemore</td>\n",
              "    </tr>\n",
              "    <tr>\n",
              "      <th>4</th>\n",
              "      <td>https://api.spotify.com/v1/tracks/5o4yGlG0PfeV...</td>\n",
              "      <td>4</td>\n",
              "      <td>Boys</td>\n",
              "      <td>Charli XCX</td>\n",
              "    </tr>\n",
              "  </tbody>\n",
              "</table>\n",
              "</div>\n",
              "      <button class=\"colab-df-convert\" onclick=\"convertToInteractive('df-5e3ccd9f-43a8-47e5-a286-813d3815cd3a')\"\n",
              "              title=\"Convert this dataframe to an interactive table.\"\n",
              "              style=\"display:none;\">\n",
              "        \n",
              "  <svg xmlns=\"http://www.w3.org/2000/svg\" height=\"24px\"viewBox=\"0 0 24 24\"\n",
              "       width=\"24px\">\n",
              "    <path d=\"M0 0h24v24H0V0z\" fill=\"none\"/>\n",
              "    <path d=\"M18.56 5.44l.94 2.06.94-2.06 2.06-.94-2.06-.94-.94-2.06-.94 2.06-2.06.94zm-11 1L8.5 8.5l.94-2.06 2.06-.94-2.06-.94L8.5 2.5l-.94 2.06-2.06.94zm10 10l.94 2.06.94-2.06 2.06-.94-2.06-.94-.94-2.06-.94 2.06-2.06.94z\"/><path d=\"M17.41 7.96l-1.37-1.37c-.4-.4-.92-.59-1.43-.59-.52 0-1.04.2-1.43.59L10.3 9.45l-7.72 7.72c-.78.78-.78 2.05 0 2.83L4 21.41c.39.39.9.59 1.41.59.51 0 1.02-.2 1.41-.59l7.78-7.78 2.81-2.81c.8-.78.8-2.07 0-2.86zM5.41 20L4 18.59l7.72-7.72 1.47 1.35L5.41 20z\"/>\n",
              "  </svg>\n",
              "      </button>\n",
              "      \n",
              "  <style>\n",
              "    .colab-df-container {\n",
              "      display:flex;\n",
              "      flex-wrap:wrap;\n",
              "      gap: 12px;\n",
              "    }\n",
              "\n",
              "    .colab-df-convert {\n",
              "      background-color: #E8F0FE;\n",
              "      border: none;\n",
              "      border-radius: 50%;\n",
              "      cursor: pointer;\n",
              "      display: none;\n",
              "      fill: #1967D2;\n",
              "      height: 32px;\n",
              "      padding: 0 0 0 0;\n",
              "      width: 32px;\n",
              "    }\n",
              "\n",
              "    .colab-df-convert:hover {\n",
              "      background-color: #E2EBFA;\n",
              "      box-shadow: 0px 1px 2px rgba(60, 64, 67, 0.3), 0px 1px 3px 1px rgba(60, 64, 67, 0.15);\n",
              "      fill: #174EA6;\n",
              "    }\n",
              "\n",
              "    [theme=dark] .colab-df-convert {\n",
              "      background-color: #3B4455;\n",
              "      fill: #D2E3FC;\n",
              "    }\n",
              "\n",
              "    [theme=dark] .colab-df-convert:hover {\n",
              "      background-color: #434B5C;\n",
              "      box-shadow: 0px 1px 3px 1px rgba(0, 0, 0, 0.15);\n",
              "      filter: drop-shadow(0px 1px 2px rgba(0, 0, 0, 0.3));\n",
              "      fill: #FFFFFF;\n",
              "    }\n",
              "  </style>\n",
              "\n",
              "      <script>\n",
              "        const buttonEl =\n",
              "          document.querySelector('#df-5e3ccd9f-43a8-47e5-a286-813d3815cd3a button.colab-df-convert');\n",
              "        buttonEl.style.display =\n",
              "          google.colab.kernel.accessAllowed ? 'block' : 'none';\n",
              "\n",
              "        async function convertToInteractive(key) {\n",
              "          const element = document.querySelector('#df-5e3ccd9f-43a8-47e5-a286-813d3815cd3a');\n",
              "          const dataTable =\n",
              "            await google.colab.kernel.invokeFunction('convertToInteractive',\n",
              "                                                     [key], {});\n",
              "          if (!dataTable) return;\n",
              "\n",
              "          const docLinkHtml = 'Like what you see? Visit the ' +\n",
              "            '<a target=\"_blank\" href=https://colab.research.google.com/notebooks/data_table.ipynb>data table notebook</a>'\n",
              "            + ' to learn more about interactive tables.';\n",
              "          element.innerHTML = '';\n",
              "          dataTable['output_type'] = 'display_data';\n",
              "          await google.colab.output.renderOutput(dataTable, element);\n",
              "          const docLink = document.createElement('div');\n",
              "          docLink.innerHTML = docLinkHtml;\n",
              "          element.appendChild(docLink);\n",
              "        }\n",
              "      </script>\n",
              "    </div>\n",
              "  </div>\n",
              "  "
            ]
          },
          "metadata": {},
          "execution_count": 38
        }
      ]
    },
    {
      "cell_type": "code",
      "source": [
        "list(spotify_pull_join.columns)"
      ],
      "metadata": {
        "colab": {
          "base_uri": "https://localhost:8080/"
        },
        "id": "f31ZD2_ZG_Ny",
        "outputId": "efe9890c-59c2-4e3c-8af0-4fe76beca9fe"
      },
      "execution_count": 44,
      "outputs": [
        {
          "output_type": "execute_result",
          "data": {
            "text/plain": [
              "['index',\n",
              " 'Unnamed: 0',\n",
              " 'album',\n",
              " 'artists',\n",
              " 'available_markets',\n",
              " 'disc_number',\n",
              " 'duration_ms',\n",
              " 'explicit',\n",
              " 'external_ids',\n",
              " 'external_urls',\n",
              " 'href',\n",
              " 'id',\n",
              " 'is_local',\n",
              " 'name',\n",
              " 'popularity',\n",
              " 'preview_url',\n",
              " 'track_number',\n",
              " 'type',\n",
              " 'uri',\n",
              " 'num_samples',\n",
              " 'duration',\n",
              " 'sample_md5',\n",
              " 'offset_seconds',\n",
              " 'window_seconds',\n",
              " 'analysis_sample_rate',\n",
              " 'analysis_channels',\n",
              " 'end_of_fade_in',\n",
              " 'start_of_fade_out',\n",
              " 'loudness',\n",
              " 'tempo',\n",
              " 'tempo_confidence',\n",
              " 'time_signature',\n",
              " 'time_signature_confidence',\n",
              " 'key',\n",
              " 'key_confidence',\n",
              " 'mode',\n",
              " 'mode_confidence',\n",
              " 'codestring',\n",
              " 'code_version',\n",
              " 'echoprintstring',\n",
              " 'echoprint_version',\n",
              " 'synchstring',\n",
              " 'synch_version',\n",
              " 'rhythmstring',\n",
              " 'rhythm_version',\n",
              " 'full_url',\n",
              " 'url',\n",
              " 'rank',\n",
              " 'artist_names',\n",
              " 'first_artist']"
            ]
          },
          "metadata": {},
          "execution_count": 44
        }
      ]
    },
    {
      "cell_type": "code",
      "source": [
        "## Create dictionary to track model results\n",
        "#results = {}\n",
        "#\n",
        "#def add_results(y_pred, model_name):\n",
        "#    ## Add results of test data to tracker, with user input to ensure data is overwritten on purpose\n",
        "#    if model_name in results.keys():\n",
        "#        userIn = input(\"Model already in dictionary. Add? \").lower()\n",
        "#        if userIn == 'yes':\n",
        "#            results[model_name] = round(sklearn.metrics.roc_auc_score(y_test, y_pred), 4)\n",
        "#        else:\n",
        "#            pass\n",
        "#    else:\n",
        "#        results[model_name] = round(sklearn.metrics.roc_auc_score(y_test, y_pred), 4)\n",
        "#    print(results)\n",
        "\n",
        "\n",
        "## Create dictionary to track model results\n",
        "results = {}\n",
        "\n",
        "def add_results(y_pred, model_name):\n",
        "    ## Add results of test data to tracker, with user input to ensure data is overwritten on purpose\n",
        "    if model_name in results.keys():\n",
        "        userIn = input(\"Model already in dictionary. Add? \").lower()\n",
        "        if userIn == 'yes':\n",
        "            results[model_name] = round(sklearn.metrics.mean_squared_error(y_test, y_pred), 2)**.5\n",
        "        else:\n",
        "            pass\n",
        "    else:\n",
        "        results[model_name] = round(sklearn.metrics.mean_squared_error(y_test, y_pred), 2)**.5\n",
        "    print(results)"
      ],
      "metadata": {
        "id": "YlRZResVRNxQ"
      },
      "execution_count": 39,
      "outputs": []
    },
    {
      "cell_type": "markdown",
      "source": [
        "## pull from MusixMatch"
      ],
      "metadata": {
        "id": "j2HWLS8xUWGc"
      }
    },
    {
      "cell_type": "code",
      "source": [
        "musixmatch = Musixmatch(musix_cid)\n",
        "\n",
        "def parse_lyrics(df):\n",
        "  empty = []\n",
        "  for row, artist in df.first_artist.iteritems():\n",
        "    song_title = df['name'].loc[row]\n",
        "    lyrics_return = ''\n",
        "    #print(song_title)\n",
        "    #print(artist)\n",
        "    try:\n",
        "      track_return = musixmatch.matcher_track_get(song_title, artist)\n",
        "      if track_return['message']['body']['track']['has_lyrics'] == 1:\n",
        "        lyrics_return = musixmatch.track_lyrics_get(track_return['message']['body']['track']['track_id'])['message']['body']['lyrics']['lyrics_body']\n",
        "    except:\n",
        "      lyrics_return = ''\n",
        "    empty.append(lyrics_return)\n",
        "  return empty\n",
        "\n",
        "full_lyrics = parse_lyrics(electro_short_join)"
      ],
      "metadata": {
        "id": "i199XxmFXHff"
      },
      "execution_count": null,
      "outputs": []
    },
    {
      "cell_type": "code",
      "source": [
        "electro_short_join['lyrics'] = full_lyrics"
      ],
      "metadata": {
        "id": "9pIuUkeYFzWU",
        "colab": {
          "base_uri": "https://localhost:8080/"
        },
        "outputId": "5432135c-dd7d-40d2-d7ad-a37a4de06bbe"
      },
      "execution_count": null,
      "outputs": [
        {
          "output_type": "stream",
          "name": "stderr",
          "text": [
            "/usr/local/lib/python3.7/dist-packages/ipykernel_launcher.py:1: SettingWithCopyWarning: \n",
            "A value is trying to be set on a copy of a slice from a DataFrame.\n",
            "Try using .loc[row_indexer,col_indexer] = value instead\n",
            "\n",
            "See the caveats in the documentation: https://pandas.pydata.org/pandas-docs/stable/user_guide/indexing.html#returning-a-view-versus-a-copy\n",
            "  \"\"\"Entry point for launching an IPython kernel.\n"
          ]
        }
      ]
    },
    {
      "cell_type": "code",
      "source": [
        "## clean lyrics\n",
        "electro_short_join['lyrics_clean'] = electro_short_join['lyrics'].str.replace('******* This Lyrics is NOT for Commercial use *******\\n(1409622602394)', '',regex=False).str.replace('\\n', ' ', regex=False)\n",
        "electro_short_join['char_len'] = electro_short_join['lyrics_clean'].str.len()"
      ],
      "metadata": {
        "id": "fMNPbv9YOQXL"
      },
      "execution_count": null,
      "outputs": []
    },
    {
      "cell_type": "code",
      "source": [
        "electro_short_join.to_csv('rank_viral_w_lyrics.csv')"
      ],
      "metadata": {
        "id": "IcR4u3wRO-BE"
      },
      "execution_count": null,
      "outputs": []
    },
    {
      "cell_type": "code",
      "source": [
        "electro_short_join = pd.read_csv('rank_viral_w_lyrics.csv')"
      ],
      "metadata": {
        "id": "nN2ugQqQcqPj"
      },
      "execution_count": null,
      "outputs": []
    },
    {
      "cell_type": "code",
      "source": [
        "# prep sentiment analysis\n",
        "sia = SentimentIntensityAnalyzer()"
      ],
      "metadata": {
        "id": "6MmaqMucTfIr"
      },
      "execution_count": null,
      "outputs": []
    },
    {
      "cell_type": "code",
      "source": [
        "def get_sentiment(df):\n",
        "  empty = []\n",
        "\n",
        "  for lyrics in df.lyrics_clean:\n",
        "\n",
        "    if pd.isna(lyrics):\n",
        "      lyrics = ''\n",
        "\n",
        "    #print(lyrics)\n",
        "    output = sia.polarity_scores(lyrics)\n",
        "    empty.append(output)\n",
        "    \n",
        "  return empty\n",
        "\n",
        "sentiment_scores = pd.DataFrame(get_sentiment(electro_short_join))\n",
        "final_sentiment = pd.concat([electro_short_join.reset_index(), sentiment_scores.reset_index()], axis=1)"
      ],
      "metadata": {
        "id": "X-TlX9y3Tli_"
      },
      "execution_count": null,
      "outputs": []
    },
    {
      "cell_type": "code",
      "source": [
        "## bring in GloVe\n",
        "from gensim.scripts.glove2word2vec import glove2word2vec\n",
        "from gensim.models import KeyedVectors\n",
        "\n",
        "glove_filename = 'glove.twitter.27B.100d.txt'\n",
        "\n",
        "word2vec_output_file = glove_filename+'.word2vec'\n",
        "glove2word2vec('glove.twitter.27B.100d.txt', word2vec_output_file)\n",
        "\n",
        "# load the Stanford GloVe model\n",
        "word2vec_output_file = glove_filename+'.word2vec'\n",
        "model = KeyedVectors.load_word2vec_format(word2vec_output_file, binary=False)"
      ],
      "metadata": {
        "id": "5ZkqFHnbfBpg"
      },
      "execution_count": null,
      "outputs": []
    },
    {
      "cell_type": "code",
      "source": [
        "v = model.get_vector('king')\n",
        "D = v.shape[0]\n",
        "\n",
        "X = np.zeros((len(final_sentiment.lyrics_clean), D))\n",
        "n = 0\n",
        "emptycount = 0\n",
        "\n",
        "for sentence in final_sentiment.lyrics_clean:\n",
        "  \n",
        "  if pd.isna(sentence):\n",
        "    sentence = ''\n",
        "  \n",
        "  tokens = sentence.split()\n",
        "  vecs = []\n",
        "  m = 0\n",
        "  \n",
        "  for word in tokens:\n",
        "    word = word.lower()\n",
        "    try:\n",
        "      # throws KeyError if word not found\n",
        "      vec = model.get_vector(word)\n",
        "      vecs = np.append(vecs, vec)\n",
        "      m += 1\n",
        "    except KeyError:\n",
        "      pass\n",
        "    \n",
        "  if len(vecs) > 0:\n",
        "    vecs = np.array(vecs)\n",
        "    X[n] = vecs.mean(axis=0)\n",
        "  else:\n",
        "    emptycount += 1  \n",
        "  n += 1\n",
        "\n",
        "print(emptycount)\n",
        "print(n)"
      ],
      "metadata": {
        "colab": {
          "base_uri": "https://localhost:8080/"
        },
        "id": "hSXWheREf81h",
        "outputId": "87b106a5-3760-4128-820f-5e4c0bcd580d"
      },
      "execution_count": null,
      "outputs": [
        {
          "output_type": "stream",
          "name": "stdout",
          "text": [
            "1063\n",
            "7974\n"
          ]
        }
      ]
    },
    {
      "cell_type": "code",
      "source": [
        "GloVe_cols = ['GloVe' + str(x) for x in range(D)]\n",
        "\n",
        "df_GloVe = pd.DataFrame(X)\n",
        "df_GloVe.columns = GloVe_cols\n",
        "\n",
        "final_sentiment2 = pd.concat([final_sentiment.reset_index(), df_GloVe.reset_index()], axis=1)\n",
        "final_sentiment2['target'] = np.where(final_sentiment2['rank'] <= 10, 1, 0)"
      ],
      "metadata": {
        "id": "6gdDDb23iClH"
      },
      "execution_count": null,
      "outputs": []
    },
    {
      "cell_type": "code",
      "source": [
        "use_cols = ['neg', 'neu', 'pos', 'compound', 'target']\n",
        "use_cols = use_cols + GloVe_cols"
      ],
      "metadata": {
        "id": "7eQluaNkM--U"
      },
      "execution_count": null,
      "outputs": []
    },
    {
      "cell_type": "code",
      "source": [
        "electro_agg_metrics = final_sentiment2[use_cols]"
      ],
      "metadata": {
        "id": "hMD0DdJMNvDG"
      },
      "execution_count": null,
      "outputs": []
    },
    {
      "cell_type": "code",
      "source": [
        "agg_cols = {'neg':'mean','neu':'mean','pos':'mean','compound':'mean',\n",
        "            'GloVe0': 'mean','GloVe1': 'mean','GloVe2': 'mean','GloVe3': 'mean','GloVe4': 'mean',\n",
        "            'GloVe5': 'mean','GloVe6': 'mean','GloVe7': 'mean','GloVe8': 'mean','GloVe9': 'mean',\n",
        "            'GloVe10': 'mean','GloVe11': 'mean','GloVe12': 'mean','GloVe13': 'mean','GloVe14': 'mean',\n",
        "            'GloVe15': 'mean','GloVe16': 'mean','GloVe17': 'mean','GloVe18': 'mean','GloVe19': 'mean',\n",
        "            'GloVe20': 'mean','GloVe21': 'mean','GloVe22': 'mean','GloVe23': 'mean','GloVe24': 'mean',\n",
        "            'GloVe25': 'mean','GloVe26': 'mean','GloVe27': 'mean','GloVe28': 'mean','GloVe29': 'mean',\n",
        "            'GloVe30': 'mean','GloVe31': 'mean','GloVe32': 'mean','GloVe33': 'mean','GloVe34': 'mean',\n",
        "            'GloVe35': 'mean','GloVe36': 'mean','GloVe37': 'mean','GloVe38': 'mean','GloVe39': 'mean',\n",
        "            'GloVe40': 'mean','GloVe41': 'mean','GloVe42': 'mean','GloVe43': 'mean','GloVe44': 'mean',\n",
        "            'GloVe45': 'mean','GloVe46': 'mean','GloVe47': 'mean','GloVe48': 'mean','GloVe49': 'mean',\n",
        "            'GloVe50': 'mean','GloVe51': 'mean','GloVe52': 'mean','GloVe53': 'mean','GloVe54': 'mean',\n",
        "            'GloVe55': 'mean','GloVe56': 'mean','GloVe57': 'mean','GloVe58': 'mean','GloVe59': 'mean',\n",
        "            'GloVe60': 'mean','GloVe61': 'mean','GloVe62': 'mean','GloVe63': 'mean','GloVe64': 'mean',\n",
        "            'GloVe65': 'mean','GloVe66': 'mean','GloVe67': 'mean','GloVe68': 'mean','GloVe69': 'mean',\n",
        "            'GloVe70': 'mean','GloVe71': 'mean','GloVe72': 'mean','GloVe73': 'mean','GloVe74': 'mean',\n",
        "            'GloVe75': 'mean','GloVe76': 'mean','GloVe77': 'mean','GloVe78': 'mean','GloVe79': 'mean',\n",
        "            'GloVe80': 'mean','GloVe81': 'mean','GloVe82': 'mean','GloVe83': 'mean','GloVe84': 'mean',\n",
        "            'GloVe85': 'mean','GloVe86': 'mean','GloVe87': 'mean','GloVe88': 'mean','GloVe89': 'mean',\n",
        "            'GloVe90': 'mean','GloVe91': 'mean','GloVe92': 'mean','GloVe93': 'mean','GloVe94': 'mean',\n",
        "            'GloVe95': 'mean','GloVe96': 'mean','GloVe97': 'mean','GloVe98': 'mean','GloVe99': 'mean',\n",
        "            'target': 'sum'}\n",
        "\n",
        "electro_agg_metrics = final_sentiment2.groupby('first_artist').agg(agg_cols)\n"
      ],
      "metadata": {
        "id": "IdBZmroVWCbF"
      },
      "execution_count": null,
      "outputs": []
    },
    {
      "cell_type": "code",
      "source": [
        "X_train, X_test, y_train, y_test = sklearn.model_selection.train_test_split(electro_agg_metrics.drop('target', axis = 1), \n",
        "                                                                            electro_agg_metrics.target,\n",
        "                                                    random_state = 1111,\n",
        "                                                    test_size = 0.3)"
      ],
      "metadata": {
        "id": "rQ63b4p1Ve4c"
      },
      "execution_count": null,
      "outputs": []
    },
    {
      "cell_type": "code",
      "source": [
        "XGB_MVP = xgb.XGBRegressor(objective='reg:squarederror',\n",
        "                                seed=100).fit(X_train, y_train)\n",
        "add_results(XGB_MVP.predict(X_test), \"XGB_Base_lyrics\")"
      ],
      "metadata": {
        "colab": {
          "base_uri": "https://localhost:8080/"
        },
        "id": "QAA4GC2rVn8y",
        "outputId": "010b5d78-3484-4064-cc9b-c83dc5012392"
      },
      "execution_count": null,
      "outputs": [
        {
          "output_type": "stream",
          "name": "stdout",
          "text": [
            "{'XGB_Base_lyrics': 1.0}\n"
          ]
        }
      ]
    },
    {
      "cell_type": "code",
      "source": [
        "## Run GridSearchCV on max_depth, min_child_weight, n_estimators, and subsample\n",
        "\n",
        "param_test = {\n",
        " 'max_depth':range(2,5,1),\n",
        " 'min_child_weight':range(3,10,2),\n",
        " 'subsample':[i/100.0 for i in range(70,90,5)],\n",
        " 'n_estimator':range(150,300,50)\n",
        "}\n",
        "\n",
        "gsearch1 = sklearn.model_selection.GridSearchCV(estimator=xgb.XGBRegressor(objective='reg:squarederror', eta=0.05,\n",
        "                                                                           seed=100),param_grid=param_test, \n",
        "                                                                           cv=4)\n",
        "gsearch1.fit(X_train, y_train)\n",
        "gsearch1.best_estimator_"
      ],
      "metadata": {
        "colab": {
          "base_uri": "https://localhost:8080/"
        },
        "id": "JrhkIuqMVqBQ",
        "outputId": "cc283302-2680-4c5d-d92e-7770de70b6b6"
      },
      "execution_count": null,
      "outputs": [
        {
          "output_type": "execute_result",
          "data": {
            "text/plain": [
              "XGBRegressor(eta=0.05, max_depth=4, min_child_weight=3, n_estimator=150,\n",
              "             objective='reg:squarederror', seed=100, subsample=0.85)"
            ]
          },
          "metadata": {},
          "execution_count": 29
        }
      ]
    },
    {
      "cell_type": "code",
      "source": [
        "## Select final number of estimators\n",
        "params = {'eta':0.05, 'seed':100, \n",
        "         'max_depth':4, 'min_child_weight':3, 'subsample':0.85, 'objective':'reg:squarederror'}\n",
        "\n",
        "## Run CV to determine the number of round\n",
        "CVRun = xgb.cv(\n",
        "            params=params,\n",
        "            dtrain=xgb.DMatrix(X_train, label=y_train),\n",
        "            num_boost_round=500,\n",
        "            nfold=4,\n",
        "            metrics='rmse',\n",
        "            seed=100)\n",
        "\n",
        "CVRun.drop(['train-rmse-std', 'test-rmse-std'], axis=1, inplace=True)\n",
        "CVRun.plot(figsize = (10,5), grid = True)"
      ],
      "metadata": {
        "colab": {
          "base_uri": "https://localhost:8080/",
          "height": 336
        },
        "id": "MG8GfsD3Vs1H",
        "outputId": "33df1377-edd5-47bb-f960-575688f5f319"
      },
      "execution_count": null,
      "outputs": [
        {
          "output_type": "execute_result",
          "data": {
            "text/plain": [
              "<matplotlib.axes._subplots.AxesSubplot at 0x7f472b142a10>"
            ]
          },
          "metadata": {},
          "execution_count": 34
        },
        {
          "output_type": "display_data",
          "data": {
            "text/plain": [
              "<Figure size 720x360 with 1 Axes>"
            ],
            "image/png": "[encoded data removed]"
          },
          "metadata": {
            "needs_background": "light"
          }
        }
      ]
    },
    {
      "cell_type": "code",
      "source": [
        "## Selected 300 as the number of rounds to avoid over fitting\n",
        "\n",
        "XGB_hyperparam = xgb.train(params, xgb.DMatrix(X_train, label=y_train), 120)\n",
        "add_results(XGB_hyperparam.predict(xgb.DMatrix(X_test)), \"XGB_Hyperparam_lyrics\")"
      ],
      "metadata": {
        "colab": {
          "base_uri": "https://localhost:8080/"
        },
        "id": "LbV6WU63Vxzg",
        "outputId": "c67ca1c0-84f5-4393-edca-5e80396236ad"
      },
      "execution_count": null,
      "outputs": [
        {
          "output_type": "stream",
          "name": "stdout",
          "text": [
            "Model already in dictionary. Add? Yes\n",
            "{'XGB_Base_lyrics': 1.0, 'XGB_Hyperparam_lyrics': 0.99498743710662}\n"
          ]
        }
      ]
    },
    {
      "cell_type": "code",
      "source": [
        "### add in artist meta data\n",
        "artist_meta = pd.read_csv('viral50_dataset_artist_metadata.csv')\n",
        "\n",
        "select_artist = ['first_artist', 'artist_popularity', 'genres', 'followers', 'avg_related_artist_pop']\n",
        "#artist_meta.head()"
      ],
      "metadata": {
        "id": "PtY0tzsNw0Jc"
      },
      "execution_count": null,
      "outputs": []
    },
    {
      "cell_type": "code",
      "source": [
        "sentiment_meta = pd.merge(final_sentiment2, artist_meta[select_artist].drop_duplicates(subset='first_artist'), \n",
        "                          how = 'left', on = 'first_artist')"
      ],
      "metadata": {
        "id": "5FonAR8fbWXP"
      },
      "execution_count": null,
      "outputs": []
    },
    {
      "cell_type": "code",
      "source": [
        "electro_agg_metrics = sentiment_meta[use_cols + ['avg_related_artist_pop', 'artist_popularity', 'followers']]\n",
        "\n",
        "## clean up col types\n",
        "sentiment_meta['avg_related_artist_pop'] = pd.to_numeric(sentiment_meta['avg_related_artist_pop'], errors='coerce')\n",
        "sentiment_meta['artist_popularity'] = pd.to_numeric(sentiment_meta['artist_popularity'], errors='coerce')\n",
        "sentiment_meta['followers'] = pd.to_numeric(sentiment_meta['followers'], errors='coerce')"
      ],
      "metadata": {
        "id": "Yqd3gbAChtJo"
      },
      "execution_count": null,
      "outputs": []
    },
    {
      "cell_type": "code",
      "source": [
        "agg_cols = {'neg':'mean','neu':'mean','pos':'mean','compound':'mean',\n",
        "            'GloVe0': 'mean','GloVe1': 'mean','GloVe2': 'mean','GloVe3': 'mean','GloVe4': 'mean',\n",
        "            'GloVe5': 'mean','GloVe6': 'mean','GloVe7': 'mean','GloVe8': 'mean','GloVe9': 'mean',\n",
        "            'GloVe10': 'mean','GloVe11': 'mean','GloVe12': 'mean','GloVe13': 'mean','GloVe14': 'mean',\n",
        "            'GloVe15': 'mean','GloVe16': 'mean','GloVe17': 'mean','GloVe18': 'mean','GloVe19': 'mean',\n",
        "            'GloVe20': 'mean','GloVe21': 'mean','GloVe22': 'mean','GloVe23': 'mean','GloVe24': 'mean',\n",
        "            'GloVe25': 'mean','GloVe26': 'mean','GloVe27': 'mean','GloVe28': 'mean','GloVe29': 'mean',\n",
        "            'GloVe30': 'mean','GloVe31': 'mean','GloVe32': 'mean','GloVe33': 'mean','GloVe34': 'mean',\n",
        "            'GloVe35': 'mean','GloVe36': 'mean','GloVe37': 'mean','GloVe38': 'mean','GloVe39': 'mean',\n",
        "            'GloVe40': 'mean','GloVe41': 'mean','GloVe42': 'mean','GloVe43': 'mean','GloVe44': 'mean',\n",
        "            'GloVe45': 'mean','GloVe46': 'mean','GloVe47': 'mean','GloVe48': 'mean','GloVe49': 'mean',\n",
        "            'GloVe50': 'mean','GloVe51': 'mean','GloVe52': 'mean','GloVe53': 'mean','GloVe54': 'mean',\n",
        "            'GloVe55': 'mean','GloVe56': 'mean','GloVe57': 'mean','GloVe58': 'mean','GloVe59': 'mean',\n",
        "            'GloVe60': 'mean','GloVe61': 'mean','GloVe62': 'mean','GloVe63': 'mean','GloVe64': 'mean',\n",
        "            'GloVe65': 'mean','GloVe66': 'mean','GloVe67': 'mean','GloVe68': 'mean','GloVe69': 'mean',\n",
        "            'GloVe70': 'mean','GloVe71': 'mean','GloVe72': 'mean','GloVe73': 'mean','GloVe74': 'mean',\n",
        "            'GloVe75': 'mean','GloVe76': 'mean','GloVe77': 'mean','GloVe78': 'mean','GloVe79': 'mean',\n",
        "            'GloVe80': 'mean','GloVe81': 'mean','GloVe82': 'mean','GloVe83': 'mean','GloVe84': 'mean',\n",
        "            'GloVe85': 'mean','GloVe86': 'mean','GloVe87': 'mean','GloVe88': 'mean','GloVe89': 'mean',\n",
        "            'GloVe90': 'mean','GloVe91': 'mean','GloVe92': 'mean','GloVe93': 'mean','GloVe94': 'mean',\n",
        "            'GloVe95': 'mean','GloVe96': 'mean','GloVe97': 'mean','GloVe98': 'mean','GloVe99': 'mean',\n",
        "            'followers': 'mean','artist_popularity': 'mean', 'avg_related_artist_pop': 'mean',\n",
        "            'target': 'sum'}\n",
        "\n",
        "electro_agg_metrics = sentiment_meta.groupby('first_artist').agg(agg_cols)\n"
      ],
      "metadata": {
        "id": "ubnzCqAqb38n"
      },
      "execution_count": null,
      "outputs": []
    },
    {
      "cell_type": "code",
      "source": [
        "X_train, X_test, y_train, y_test = sklearn.model_selection.train_test_split(electro_agg_metrics.drop('target', axis = 1), \n",
        "                                                                            electro_agg_metrics.target,\n",
        "                                                    random_state = 1111,\n",
        "                                                    test_size = 0.3)"
      ],
      "metadata": {
        "id": "sRZCXKaujpUn"
      },
      "execution_count": null,
      "outputs": []
    },
    {
      "cell_type": "code",
      "source": [
        "XGB_MVP = xgb.XGBRegressor(objective='reg:squarederror',\n",
        "                                seed=100).fit(X_train, y_train)\n",
        "add_results(XGB_MVP.predict(X_test), \"XGB_Base_lyrics_meta\")"
      ],
      "metadata": {
        "colab": {
          "base_uri": "https://localhost:8080/"
        },
        "id": "TYnWFg4dj0AO",
        "outputId": "addce7c9-336e-49d4-d873-b7d3795300aa"
      },
      "execution_count": null,
      "outputs": [
        {
          "output_type": "stream",
          "name": "stdout",
          "text": [
            "{'XGB_Base_lyrics_meta': 0.8888194417315589}\n"
          ]
        }
      ]
    },
    {
      "cell_type": "code",
      "source": [
        "## Run GridSearchCV on max_depth, min_child_weight, n_estimators, and subsample\n",
        "\n",
        "param_test = {\n",
        " 'max_depth':range(2,5,1),\n",
        " 'min_child_weight':range(3,10,2),\n",
        " 'subsample':[i/100.0 for i in range(70,90,5)],\n",
        " 'n_estimator':range(150,300,50)\n",
        "}\n",
        "\n",
        "gsearch1 = sklearn.model_selection.GridSearchCV(estimator=xgb.XGBRegressor(objective='reg:squarederror', eta=0.05,\n",
        "                                                                           seed=100),param_grid=param_test, \n",
        "                                                                           cv=4)\n",
        "gsearch1.fit(X_train, y_train)\n",
        "gsearch1.best_estimator_"
      ],
      "metadata": {
        "colab": {
          "base_uri": "https://localhost:8080/"
        },
        "id": "mfkiuiWgj5w8",
        "outputId": "55bb05de-7c05-485d-d52a-f5281a21fba6"
      },
      "execution_count": null,
      "outputs": [
        {
          "output_type": "execute_result",
          "data": {
            "text/plain": [
              "XGBRegressor(eta=0.05, min_child_weight=3, n_estimator=150,\n",
              "             objective='reg:squarederror', seed=100, subsample=0.85)"
            ]
          },
          "metadata": {},
          "execution_count": 33
        }
      ]
    },
    {
      "cell_type": "code",
      "source": [
        "## Select final number of estimators\n",
        "params = {'eta':0.01, 'seed':100, \n",
        "         'max_depth':3, 'min_child_weight':3, 'subsample':0.85, 'objective':'reg:squarederror'}\n",
        "\n",
        "## Run CV to determine the number of round\n",
        "CVRun = xgb.cv(\n",
        "            params=params,\n",
        "            dtrain=xgb.DMatrix(X_train, label=y_train),\n",
        "            num_boost_round=200,\n",
        "            nfold=4,\n",
        "            metrics='rmse',\n",
        "            seed=100)\n",
        "\n",
        "CVRun.drop(['train-rmse-std', 'test-rmse-std'], axis=1, inplace=True)\n",
        "CVRun.plot(figsize = (10,5), grid = True)"
      ],
      "metadata": {
        "colab": {
          "base_uri": "https://localhost:8080/",
          "height": 336
        },
        "id": "uxR7FGdglZBn",
        "outputId": "0ebbc456-d2ca-4121-fd9b-d6d36d597036"
      },
      "execution_count": null,
      "outputs": [
        {
          "output_type": "execute_result",
          "data": {
            "text/plain": [
              "<matplotlib.axes._subplots.AxesSubplot at 0x7f2dbe7d39d0>"
            ]
          },
          "metadata": {},
          "execution_count": 37
        },
        {
          "output_type": "display_data",
          "data": {
            "text/plain": [
              "<Figure size 720x360 with 1 Axes>"
            ],
            "image/png": "[encoded data removed]"
          },
          "metadata": {
            "needs_background": "light"
          }
        }
      ]
    },
    {
      "cell_type": "code",
      "source": [
        "## Selected 300 as the number of rounds to avoid over fitting\n",
        "\n",
        "XGB_hyperparam = xgb.train(params, xgb.DMatrix(X_train, label=y_train), 130)\n",
        "add_results(XGB_hyperparam.predict(xgb.DMatrix(X_test)), \"XGB_Hyperparam_lyrics_meta\")"
      ],
      "metadata": {
        "colab": {
          "base_uri": "https://localhost:8080/"
        },
        "id": "VUM5aWsjldhB",
        "outputId": "f3f6c7aa-5a2f-4be3-d0da-ef57081ad083"
      },
      "execution_count": null,
      "outputs": [
        {
          "output_type": "stream",
          "name": "stdout",
          "text": [
            "Model already in dictionary. Add? Yes\n",
            "{'XGB_Base_lyrics_meta': 0.8888194417315589, 'XGB_Hyperparam_lyrics_meta': 0.9219544457292888}\n"
          ]
        }
      ]
    },
    {
      "cell_type": "code",
      "source": [
        "feature_important = XGB_hyperparam.get_score(importance_type='weight')\n",
        "keys = list(feature_important.keys())\n",
        "values = list(feature_important.values())\n",
        "\n",
        "data = pd.DataFrame(data=values, index=keys, columns=[\"score\"]).sort_values(by = \"score\", ascending=False)\n",
        "data.nlargest(40, columns=\"score\").plot(kind='barh', figsize = (20,10)) ## plot top 40 features"
      ],
      "metadata": {
        "colab": {
          "base_uri": "https://localhost:8080/",
          "height": 608
        },
        "id": "RDRIZOd_Rsy6",
        "outputId": "93927a0b-c9a9-46d1-c18e-61d027a236dd"
      },
      "execution_count": null,
      "outputs": [
        {
          "output_type": "execute_result",
          "data": {
            "text/plain": [
              "<matplotlib.axes._subplots.AxesSubplot at 0x7f2dbe70e310>"
            ]
          },
          "metadata": {},
          "execution_count": 40
        },
        {
          "output_type": "display_data",
          "data": {
            "text/plain": [
              "<Figure size 1440x720 with 1 Axes>"
            ],
            "image/png": "[encoded data removed]"
          },
          "metadata": {
            "needs_background": "light"
          }
        }
      ]
    },
    {
      "cell_type": "code",
      "source": [
        "XGB_MVP.save_model('final_model.json')"
      ],
      "metadata": {
        "id": "BJFuUgPumdau"
      },
      "execution_count": null,
      "outputs": []
    },
    {
      "cell_type": "code",
      "source": [
        "full_pred = XGB_hyperparam.predict((xgb.DMatrix(electro_agg_metrics.drop('target', axis = 1))))\n",
        "electro_agg_metrics['pred'] = full_pred\n",
        "electro_agg_metrics.to_csv('full_plus_pred.csv')"
      ],
      "metadata": {
        "id": "Pkwwr8RE-Gq0"
      },
      "execution_count": null,
      "outputs": []
    },
    {
      "cell_type": "code",
      "source": [
        ""
      ],
      "metadata": {
        "id": "rtS_ghsn87ru"
      },
      "execution_count": null,
      "outputs": []
    }
  ],
  "metadata": {
    "kernelspec": {
      "display_name": "Python 3",
      "language": "python",
      "name": "python3"
    },
    "language_info": {
      "codemirror_mode": {
        "name": "ipython",
        "version": 3
      },
      "file_extension": ".py",
      "mimetype": "text/x-python",
      "name": "python",
      "nbconvert_exporter": "python",
      "pygments_lexer": "ipython3",
      "version": "3.7.6"
    },
    "colab": {
      "name": "Kaggle Spotify Data Review.ipynb",
      "provenance": [],
      "collapsed_sections": []
    }
  },
  "nbformat": 4,
  "nbformat_minor": 0
}